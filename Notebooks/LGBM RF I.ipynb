{
 "cells": [
  {
   "cell_type": "markdown",
   "metadata": {},
   "source": [
    "# Light GBM Random Forest - Low Depth\n",
    "As part of the overall stacking model, I will develop two Random Forest (RF) models: one with a relative low depth, and one with a high depth. I define low depth as `max_depth = 5` and high depth as `max_depth = 15`. With the depth defined, I tune the remaining parameters sequentially.  \n",
    "  \n",
    "In this notebook, I set out to optimise a **low depth RF model** using the LightGBM package. The optimisation sequence was as follows:  \n",
    "  \n",
    "1. No. of Trees\n",
    "2. RFECV\n",
    "3. Max Features\n",
    "4. Min Samples in Leaf\n",
    "5. L1 Regularisation\n",
    "6. L2 Regularisation\n",
    "7. Subsampling\n",
    "  \n"
   ]
  },
  {
   "cell_type": "code",
   "execution_count": 1,
   "metadata": {},
   "outputs": [
    {
     "name": "stderr",
     "output_type": "stream",
     "text": [
      "C:\\Users\\user\\Anaconda3\\lib\\site-packages\\sklearn\\ensemble\\weight_boosting.py:29: DeprecationWarning: numpy.core.umath_tests is an internal NumPy module and should not be imported. It will be removed in a future NumPy release.\n",
      "  from numpy.core.umath_tests import inner1d\n"
     ]
    }
   ],
   "source": [
    "# Import modules\n",
    "import datetime\n",
    "import pandas as pd\n",
    "import numpy as np\n",
    "import matplotlib.pyplot as plt\n",
    "import matplotlib\n",
    "import seaborn as sns\n",
    "from sklearn.decomposition import PCA\n",
    "from sklearn.ensemble import RandomForestClassifier\n",
    "from sklearn.feature_selection import RFECV\n",
    "from sklearn.manifold import Isomap\n",
    "from sklearn.metrics import accuracy_score, auc, make_scorer, mean_squared_error, r2_score\n",
    "from sklearn.model_selection import cross_val_score, train_test_split, GridSearchCV, RepeatedKFold, KFold, RepeatedStratifiedKFold\n",
    "from sklearn.preprocessing import StandardScaler, MinMaxScaler, MaxAbsScaler, Normalizer, RobustScaler\n",
    "from lightgbm import LGBMClassifier\n",
    "import warnings\n",
    "\n",
    "# Settings\n",
    "%matplotlib inline\n",
    "matplotlib.style.use('ggplot')\n",
    "warnings.filterwarnings('ignore')"
   ]
  },
  {
   "cell_type": "markdown",
   "metadata": {},
   "source": [
    "## Prepare Data"
   ]
  },
  {
   "cell_type": "code",
   "execution_count": 2,
   "metadata": {},
   "outputs": [],
   "source": [
    "# Import data\n",
    "df = pd.read_csv('train_clean.csv')\n",
    "\n",
    "# Data and labels\n",
    "X = df.drop('Survived', axis = 1)\n",
    "X = pd.get_dummies(X)\n",
    "y = df['Survived']"
   ]
  },
  {
   "cell_type": "markdown",
   "metadata": {},
   "source": [
    "## Global Settings and Functions"
   ]
  },
  {
   "cell_type": "code",
   "execution_count": 3,
   "metadata": {},
   "outputs": [],
   "source": [
    "# Repeated 5-fold validation\n",
    "rkf = RepeatedStratifiedKFold(n_repeats=5, n_splits=5, random_state=123)\n",
    "\n",
    "# Function to extract CV test results\n",
    "def gaia_get_test(cv_object, params, title = 'Test Scores vs. Parameter'):\n",
    "    \n",
    "    # Extract test scores\n",
    "    temp_test = cv_object.cv_results_['mean_test_score']\n",
    "    \n",
    "    # Plot\n",
    "    plt.plot(params, temp_test)\n",
    "    plt.title(title)\n",
    "    plt.show()"
   ]
  },
  {
   "cell_type": "markdown",
   "metadata": {},
   "source": [
    "## Iteration 1: Optimise No. of Trees\n",
    "With `max_depth = 5`, the optimal number of trees was 1,000. Although accuracy was increasing from 2500 to 3000, this would be computationally too intensive."
   ]
  },
  {
   "cell_type": "code",
   "execution_count": 4,
   "metadata": {},
   "outputs": [],
   "source": [
    "# Define parameters\n",
    "param_n_estimators = [100, 250, 500, 1000, 1500, 2000, 2500, 3000, 4000, 5000]\n",
    "params = {\n",
    "    'n_estimators': param_n_estimators\n",
    "}"
   ]
  },
  {
   "cell_type": "code",
   "execution_count": 9,
   "metadata": {},
   "outputs": [
    {
     "name": "stdout",
     "output_type": "stream",
     "text": [
      "Fitting 25 folds for each of 10 candidates, totalling 250 fits\n"
     ]
    },
    {
     "name": "stderr",
     "output_type": "stream",
     "text": [
      "[Parallel(n_jobs=3)]: Done  26 tasks      | elapsed:    4.4s\n",
      "[Parallel(n_jobs=3)]: Done 122 tasks      | elapsed:   36.9s\n",
      "[Parallel(n_jobs=3)]: Done 250 out of 250 | elapsed:  3.7min finished\n"
     ]
    },
    {
     "data": {
      "text/plain": [
       "GridSearchCV(cv=<sklearn.model_selection._split.RepeatedStratifiedKFold object at 0x000002328CAF8D68>,\n",
       "       error_score='raise',\n",
       "       estimator=LGBMClassifier(boosting_type='rf', class_weight=None, colsample_bytree=0.5,\n",
       "        learning_rate=0.1, max_depth=5, min_child_samples=20,\n",
       "        min_child_weight=0.001, min_split_gain=0.0, n_estimators=100,\n",
       "        n_jobs=3, num_leaves=31, objective='binary', random_state=123,\n",
       "        reg_alpha=0.0, reg_lambda=0.0, silent=True, subsample=0.632,\n",
       "        subsample_for_bin=200000, subsample_freq=1),\n",
       "       fit_params=None, iid=True, n_jobs=3,\n",
       "       param_grid={'n_estimators': [100, 250, 500, 1000, 1500, 2000, 2500, 3000, 4000, 5000]},\n",
       "       pre_dispatch='2*n_jobs', refit=True, return_train_score='warn',\n",
       "       scoring=None, verbose=3)"
      ]
     },
     "execution_count": 9,
     "metadata": {},
     "output_type": "execute_result"
    }
   ],
   "source": [
    "# Create RF model\n",
    "rf_low = GridSearchCV(\n",
    "    estimator = LGBMClassifier(\n",
    "        boosting_type = 'rf',\n",
    "        objective = 'binary',\n",
    "        subsample = 0.632,\n",
    "        subsample_freq = 1,\n",
    "        max_depth = 5,\n",
    "        # n_estimators = ,\n",
    "        colsample_bytree = 0.5,\n",
    "        # min_child_samples = ,\n",
    "        # reg_alpha = ,\n",
    "        # reg_lambda = ,\n",
    "        random_state = 123,\n",
    "        n_jobs = 3\n",
    "    ),\n",
    "    param_grid = params,\n",
    "    n_jobs = 3,\n",
    "    cv = rkf,\n",
    "    verbose = 1\n",
    ")\n",
    "\n",
    "# Train model\n",
    "rf_low.fit(X, y)"
   ]
  },
  {
   "cell_type": "code",
   "execution_count": 10,
   "metadata": {},
   "outputs": [
    {
     "name": "stdout",
     "output_type": "stream",
     "text": [
      "Best Score: 0.8184062850729518\n",
      "Best Params: {'n_estimators': 2500}\n"
     ]
    }
   ],
   "source": [
    "# Print results\n",
    "print('Best Score: ' + str(rf_low.best_score_))\n",
    "print('Best Params: ' + str(rf_low.best_params_))"
   ]
  },
  {
   "cell_type": "code",
   "execution_count": 11,
   "metadata": {},
   "outputs": [
    {
     "data": {
      "image/png": "[encoded data removed]",
      "text/plain": [
       "<matplotlib.figure.Figure at 0x2328cb302e8>"
      ]
     },
     "metadata": {},
     "output_type": "display_data"
    }
   ],
   "source": [
    "# Plot results\n",
    "gaia_get_test(rf_low, param_n_estimators, 'No. of Trees')"
   ]
  },
  {
   "cell_type": "markdown",
   "metadata": {},
   "source": [
    "## Iteration 2: Run RFECV"
   ]
  },
  {
   "cell_type": "code",
   "execution_count": 13,
   "metadata": {},
   "outputs": [
    {
     "data": {
      "text/plain": [
       "RFECV(cv=<sklearn.model_selection._split.RepeatedStratifiedKFold object at 0x000002328CAF8D68>,\n",
       "   estimator=LGBMClassifier(boosting_type='rf', class_weight=None, colsample_bytree=0.5,\n",
       "        learning_rate=0.1, max_depth=5, min_child_samples=20,\n",
       "        min_child_weight=0.001, min_split_gain=0, n_estimators=2500,\n",
       "        n_jobs=3, num_leaves=31, objective='binary', random_state=123,\n",
       "        reg_alpha=0.0, reg_lambda=0.0, silent=True, subsample=0.632,\n",
       "        subsample_for_bin=200000, subsample_freq=1),\n",
       "   n_jobs=3, scoring=None, step=1, verbose=2)"
      ]
     },
     "execution_count": 13,
     "metadata": {},
     "output_type": "execute_result"
    }
   ],
   "source": [
    "# Create model\n",
    "rf_low = RFECV(\n",
    "    estimator = LGBMClassifier(\n",
    "        boosting_type = 'rf',\n",
    "        objective = 'binary',\n",
    "        subsample = 0.632,\n",
    "        subsample_freq = 1,\n",
    "        min_split_gain = 0,\n",
    "        max_depth = 5,\n",
    "        n_estimators = 2500,\n",
    "        colsample_bytree = 0.5,\n",
    "        # min_child_samples = ,\n",
    "        # reg_alpha = ,\n",
    "        # reg_lambda = ,\n",
    "        random_state = 123,\n",
    "        n_jobs = 3\n",
    "    ),\n",
    "    cv = rkf,\n",
    "    verbose = 1,\n",
    "    n_jobs = 1\n",
    ")\n",
    "\n",
    "# Fit model\n",
    "rf_low.fit(X, y)"
   ]
  },
  {
   "cell_type": "code",
   "execution_count": 14,
   "metadata": {},
   "outputs": [
    {
     "name": "stdout",
     "output_type": "stream",
     "text": [
      "No. of Features: 26\n",
      "Feature Ranking:\n"
     ]
    },
    {
     "data": {
      "text/html": [
       "<div>\n",
       "<table border=\"1\" class=\"dataframe\">\n",
       "  <thead>\n",
       "    <tr style=\"text-align: right;\">\n",
       "      <th></th>\n",
       "      <th>rank</th>\n",
       "      <th>feature</th>\n",
       "    </tr>\n",
       "  </thead>\n",
       "  <tbody>\n",
       "    <tr>\n",
       "      <th>0</th>\n",
       "      <td>1</td>\n",
       "      <td>pclass_OC</td>\n",
       "    </tr>\n",
       "    <tr>\n",
       "      <th>49</th>\n",
       "      <td>1</td>\n",
       "      <td>cabno_OH_C1</td>\n",
       "    </tr>\n",
       "    <tr>\n",
       "      <th>41</th>\n",
       "      <td>1</td>\n",
       "      <td>ticlen_OH_L6</td>\n",
       "    </tr>\n",
       "    <tr>\n",
       "      <th>40</th>\n",
       "      <td>1</td>\n",
       "      <td>ticlen_OH_L5</td>\n",
       "    </tr>\n",
       "    <tr>\n",
       "      <th>32</th>\n",
       "      <td>1</td>\n",
       "      <td>age_OH_A3</td>\n",
       "    </tr>\n",
       "    <tr>\n",
       "      <th>31</th>\n",
       "      <td>1</td>\n",
       "      <td>age_OH_A2</td>\n",
       "    </tr>\n",
       "    <tr>\n",
       "      <th>28</th>\n",
       "      <td>1</td>\n",
       "      <td>sex_OH_female</td>\n",
       "    </tr>\n",
       "    <tr>\n",
       "      <th>25</th>\n",
       "      <td>1</td>\n",
       "      <td>title_OH_Mr.</td>\n",
       "    </tr>\n",
       "    <tr>\n",
       "      <th>22</th>\n",
       "      <td>1</td>\n",
       "      <td>pclass_OH_CLASS3</td>\n",
       "    </tr>\n",
       "    <tr>\n",
       "      <th>19</th>\n",
       "      <td>1</td>\n",
       "      <td>embarked_ME</td>\n",
       "    </tr>\n",
       "    <tr>\n",
       "      <th>18</th>\n",
       "      <td>1</td>\n",
       "      <td>cabno_ME</td>\n",
       "    </tr>\n",
       "    <tr>\n",
       "      <th>17</th>\n",
       "      <td>1</td>\n",
       "      <td>cabletter_ME</td>\n",
       "    </tr>\n",
       "    <tr>\n",
       "      <th>16</th>\n",
       "      <td>1</td>\n",
       "      <td>fare_ME</td>\n",
       "    </tr>\n",
       "    <tr>\n",
       "      <th>15</th>\n",
       "      <td>1</td>\n",
       "      <td>fare_OC</td>\n",
       "    </tr>\n",
       "    <tr>\n",
       "      <th>54</th>\n",
       "      <td>1</td>\n",
       "      <td>embarked_OH_S</td>\n",
       "    </tr>\n",
       "    <tr>\n",
       "      <th>13</th>\n",
       "      <td>1</td>\n",
       "      <td>ticlen_ME</td>\n",
       "    </tr>\n",
       "    <tr>\n",
       "      <th>14</th>\n",
       "      <td>1</td>\n",
       "      <td>fare_NM</td>\n",
       "    </tr>\n",
       "    <tr>\n",
       "      <th>4</th>\n",
       "      <td>1</td>\n",
       "      <td>age_OC</td>\n",
       "    </tr>\n",
       "    <tr>\n",
       "      <th>5</th>\n",
       "      <td>1</td>\n",
       "      <td>age_NM</td>\n",
       "    </tr>\n",
       "    <tr>\n",
       "      <th>1</th>\n",
       "      <td>1</td>\n",
       "      <td>pclass_ME</td>\n",
       "    </tr>\n",
       "    <tr>\n",
       "      <th>6</th>\n",
       "      <td>1</td>\n",
       "      <td>age_ME</td>\n",
       "    </tr>\n",
       "    <tr>\n",
       "      <th>8</th>\n",
       "      <td>1</td>\n",
       "      <td>sibsp_OC</td>\n",
       "    </tr>\n",
       "    <tr>\n",
       "      <th>7</th>\n",
       "      <td>1</td>\n",
       "      <td>sibsp_NM</td>\n",
       "    </tr>\n",
       "    <tr>\n",
       "      <th>10</th>\n",
       "      <td>1</td>\n",
       "      <td>parch_NM</td>\n",
       "    </tr>\n",
       "    <tr>\n",
       "      <th>3</th>\n",
       "      <td>1</td>\n",
       "      <td>sex_BN</td>\n",
       "    </tr>\n",
       "    <tr>\n",
       "      <th>2</th>\n",
       "      <td>1</td>\n",
       "      <td>title_ME</td>\n",
       "    </tr>\n",
       "    <tr>\n",
       "      <th>9</th>\n",
       "      <td>2</td>\n",
       "      <td>sibsp_ME</td>\n",
       "    </tr>\n",
       "    <tr>\n",
       "      <th>24</th>\n",
       "      <td>3</td>\n",
       "      <td>title_OH_Miss.</td>\n",
       "    </tr>\n",
       "    <tr>\n",
       "      <th>42</th>\n",
       "      <td>4</td>\n",
       "      <td>ticlen_OH_LO</td>\n",
       "    </tr>\n",
       "    <tr>\n",
       "      <th>39</th>\n",
       "      <td>5</td>\n",
       "      <td>ticlen_OH_L4</td>\n",
       "    </tr>\n",
       "    <tr>\n",
       "      <th>51</th>\n",
       "      <td>6</td>\n",
       "      <td>cabno_OH_NIL</td>\n",
       "    </tr>\n",
       "    <tr>\n",
       "      <th>46</th>\n",
       "      <td>7</td>\n",
       "      <td>cabletter_OH_B/D/E</td>\n",
       "    </tr>\n",
       "    <tr>\n",
       "      <th>44</th>\n",
       "      <td>8</td>\n",
       "      <td>fare_OH_G2</td>\n",
       "    </tr>\n",
       "    <tr>\n",
       "      <th>33</th>\n",
       "      <td>9</td>\n",
       "      <td>sibsp_OH_None</td>\n",
       "    </tr>\n",
       "    <tr>\n",
       "      <th>21</th>\n",
       "      <td>10</td>\n",
       "      <td>pclass_OH_CLASS2</td>\n",
       "    </tr>\n",
       "    <tr>\n",
       "      <th>23</th>\n",
       "      <td>11</td>\n",
       "      <td>title_OH_Master.</td>\n",
       "    </tr>\n",
       "    <tr>\n",
       "      <th>48</th>\n",
       "      <td>12</td>\n",
       "      <td>cabletter_OH_Others</td>\n",
       "    </tr>\n",
       "    <tr>\n",
       "      <th>29</th>\n",
       "      <td>13</td>\n",
       "      <td>sex_OH_male</td>\n",
       "    </tr>\n",
       "    <tr>\n",
       "      <th>11</th>\n",
       "      <td>14</td>\n",
       "      <td>parch_OC</td>\n",
       "    </tr>\n",
       "    <tr>\n",
       "      <th>52</th>\n",
       "      <td>15</td>\n",
       "      <td>embarked_OH_C</td>\n",
       "    </tr>\n",
       "    <tr>\n",
       "      <th>43</th>\n",
       "      <td>16</td>\n",
       "      <td>fare_OH_G1</td>\n",
       "    </tr>\n",
       "    <tr>\n",
       "      <th>20</th>\n",
       "      <td>17</td>\n",
       "      <td>pclass_OH_CLASS1</td>\n",
       "    </tr>\n",
       "    <tr>\n",
       "      <th>26</th>\n",
       "      <td>18</td>\n",
       "      <td>title_OH_Mrs.</td>\n",
       "    </tr>\n",
       "    <tr>\n",
       "      <th>47</th>\n",
       "      <td>19</td>\n",
       "      <td>cabletter_OH_NIL</td>\n",
       "    </tr>\n",
       "    <tr>\n",
       "      <th>34</th>\n",
       "      <td>20</td>\n",
       "      <td>sibsp_OH_One</td>\n",
       "    </tr>\n",
       "    <tr>\n",
       "      <th>30</th>\n",
       "      <td>21</td>\n",
       "      <td>age_OH_A1</td>\n",
       "    </tr>\n",
       "    <tr>\n",
       "      <th>12</th>\n",
       "      <td>22</td>\n",
       "      <td>parch_ME</td>\n",
       "    </tr>\n",
       "    <tr>\n",
       "      <th>53</th>\n",
       "      <td>23</td>\n",
       "      <td>embarked_OH_Q</td>\n",
       "    </tr>\n",
       "    <tr>\n",
       "      <th>45</th>\n",
       "      <td>24</td>\n",
       "      <td>fare_OH_G3</td>\n",
       "    </tr>\n",
       "    <tr>\n",
       "      <th>36</th>\n",
       "      <td>25</td>\n",
       "      <td>parch_OH_None</td>\n",
       "    </tr>\n",
       "    <tr>\n",
       "      <th>35</th>\n",
       "      <td>26</td>\n",
       "      <td>sibsp_OH_Two or More</td>\n",
       "    </tr>\n",
       "    <tr>\n",
       "      <th>50</th>\n",
       "      <td>27</td>\n",
       "      <td>cabno_OH_C2</td>\n",
       "    </tr>\n",
       "    <tr>\n",
       "      <th>38</th>\n",
       "      <td>28</td>\n",
       "      <td>parch_OH_Two or More</td>\n",
       "    </tr>\n",
       "    <tr>\n",
       "      <th>27</th>\n",
       "      <td>29</td>\n",
       "      <td>title_OH_Other</td>\n",
       "    </tr>\n",
       "    <tr>\n",
       "      <th>37</th>\n",
       "      <td>30</td>\n",
       "      <td>parch_OH_One</td>\n",
       "    </tr>\n",
       "  </tbody>\n",
       "</table>\n",
       "</div>"
      ],
      "text/plain": [
       "    rank               feature\n",
       "0      1             pclass_OC\n",
       "49     1           cabno_OH_C1\n",
       "41     1          ticlen_OH_L6\n",
       "40     1          ticlen_OH_L5\n",
       "32     1             age_OH_A3\n",
       "31     1             age_OH_A2\n",
       "28     1         sex_OH_female\n",
       "25     1          title_OH_Mr.\n",
       "22     1      pclass_OH_CLASS3\n",
       "19     1           embarked_ME\n",
       "18     1              cabno_ME\n",
       "17     1          cabletter_ME\n",
       "16     1               fare_ME\n",
       "15     1               fare_OC\n",
       "54     1         embarked_OH_S\n",
       "13     1             ticlen_ME\n",
       "14     1               fare_NM\n",
       "4      1                age_OC\n",
       "5      1                age_NM\n",
       "1      1             pclass_ME\n",
       "6      1                age_ME\n",
       "8      1              sibsp_OC\n",
       "7      1              sibsp_NM\n",
       "10     1              parch_NM\n",
       "3      1                sex_BN\n",
       "2      1              title_ME\n",
       "9      2              sibsp_ME\n",
       "24     3        title_OH_Miss.\n",
       "42     4          ticlen_OH_LO\n",
       "39     5          ticlen_OH_L4\n",
       "51     6          cabno_OH_NIL\n",
       "46     7    cabletter_OH_B/D/E\n",
       "44     8            fare_OH_G2\n",
       "33     9         sibsp_OH_None\n",
       "21    10      pclass_OH_CLASS2\n",
       "23    11      title_OH_Master.\n",
       "48    12   cabletter_OH_Others\n",
       "29    13           sex_OH_male\n",
       "11    14              parch_OC\n",
       "52    15         embarked_OH_C\n",
       "43    16            fare_OH_G1\n",
       "20    17      pclass_OH_CLASS1\n",
       "26    18         title_OH_Mrs.\n",
       "47    19      cabletter_OH_NIL\n",
       "34    20          sibsp_OH_One\n",
       "30    21             age_OH_A1\n",
       "12    22              parch_ME\n",
       "53    23         embarked_OH_Q\n",
       "45    24            fare_OH_G3\n",
       "36    25         parch_OH_None\n",
       "35    26  sibsp_OH_Two or More\n",
       "50    27           cabno_OH_C2\n",
       "38    28  parch_OH_Two or More\n",
       "27    29        title_OH_Other\n",
       "37    30          parch_OH_One"
      ]
     },
     "execution_count": 14,
     "metadata": {},
     "output_type": "execute_result"
    }
   ],
   "source": [
    "# Results of RFE\n",
    "print('No. of Features: ' + str(rf_low.n_features_))\n",
    "print('Feature Ranking:')\n",
    "rfe_feats = pd.DataFrame(rf_low.ranking_, columns = ['rank'])\n",
    "rfe_feats['feature'] = X.columns\n",
    "rfe_feats.sort_values(by = 'rank')"
   ]
  },
  {
   "cell_type": "code",
   "execution_count": 15,
   "metadata": {},
   "outputs": [
    {
     "data": {
      "image/png": "[encoded data removed]",
      "text/plain": [
       "<matplotlib.figure.Figure at 0x2328ceb1588>"
      ]
     },
     "metadata": {},
     "output_type": "display_data"
    }
   ],
   "source": [
    "# Plots\n",
    "plt.figure()\n",
    "plt.title('CV Scores vs. No. of Features')\n",
    "plt.xlabel(\"No. of Features Selected\")\n",
    "plt.ylabel(\"CV Score\")\n",
    "plt.plot(range(1, len(rf_low.grid_scores_) + 1), rf_low.grid_scores_)\n",
    "plt.show()"
   ]
  },
  {
   "cell_type": "markdown",
   "metadata": {},
   "source": [
    "## Subset Features"
   ]
  },
  {
   "cell_type": "code",
   "execution_count": 16,
   "metadata": {},
   "outputs": [],
   "source": [
    "# Subset features\n",
    "X_sub = X.iloc[:, (rf_low.ranking_ == 1)]"
   ]
  },
  {
   "cell_type": "markdown",
   "metadata": {},
   "source": [
    "## Iteration 3: Optimise Max Features"
   ]
  },
  {
   "cell_type": "code",
   "execution_count": 24,
   "metadata": {},
   "outputs": [],
   "source": [
    "# Define parameters\n",
    "param_max_feat = np.arange(2/X_sub.shape[1], 1, 1/X_sub.shape[1])\n",
    "params = {\n",
    "    'colsample_bytree': param_max_feat\n",
    "}"
   ]
  },
  {
   "cell_type": "code",
   "execution_count": 25,
   "metadata": {},
   "outputs": [
    {
     "name": "stdout",
     "output_type": "stream",
     "text": [
      "Fitting 25 folds for each of 24 candidates, totalling 600 fits\n"
     ]
    },
    {
     "name": "stderr",
     "output_type": "stream",
     "text": [
      "[Parallel(n_jobs=3)]: Done  44 tasks      | elapsed:   34.5s\n",
      "[Parallel(n_jobs=3)]: Done 194 tasks      | elapsed:  3.0min\n",
      "[Parallel(n_jobs=3)]: Done 444 tasks      | elapsed:  7.7min\n",
      "[Parallel(n_jobs=3)]: Done 600 out of 600 | elapsed: 10.7min finished\n"
     ]
    },
    {
     "data": {
      "text/plain": [
       "GridSearchCV(cv=<sklearn.model_selection._split.RepeatedStratifiedKFold object at 0x000002328CAF8D68>,\n",
       "       error_score='raise',\n",
       "       estimator=LGBMClassifier(boosting_type='rf', class_weight=None, colsample_bytree=1.0,\n",
       "        learning_rate=0.1, max_depth=5, min_child_samples=20,\n",
       "        min_child_weight=0.001, min_split_gain=0.0, n_estimators=2500,\n",
       "        n_jobs=3, num_leaves=31, objective='binary', random_state=123,\n",
       "        reg_alpha=0.0, reg_lambda=0.0, silent=True, subsample=0.632,\n",
       "        subsample_for_bin=200000, subsample_freq=1),\n",
       "       fit_params=None, iid=True, n_jobs=3,\n",
       "       param_grid={'colsample_bytree': array([0.07692, 0.11538, 0.15385, 0.19231, 0.23077, 0.26923, 0.30769,\n",
       "       0.34615, 0.38462, 0.42308, 0.46154, 0.5    , 0.53846, 0.57692,\n",
       "       0.61538, 0.65385, 0.69231, 0.73077, 0.76923, 0.80769, 0.84615,\n",
       "       0.88462, 0.92308, 0.96154])},\n",
       "       pre_dispatch='2*n_jobs', refit=True, return_train_score='warn',\n",
       "       scoring=None, verbose=1)"
      ]
     },
     "execution_count": 25,
     "metadata": {},
     "output_type": "execute_result"
    }
   ],
   "source": [
    "# Create RF model\n",
    "rf_low = GridSearchCV(\n",
    "    estimator = LGBMClassifier(\n",
    "        boosting_type = 'rf',\n",
    "        objective = 'binary',\n",
    "        subsample = 0.632,\n",
    "        subsample_freq = 1,\n",
    "        max_depth = 5,\n",
    "        n_estimators = 2500,\n",
    "        # min_child_samples = ,\n",
    "        # reg_alpha = ,\n",
    "        # reg_lambda = ,\n",
    "        random_state = 123,\n",
    "        n_jobs = 3\n",
    "    ),\n",
    "    param_grid = params,\n",
    "    n_jobs = 3,\n",
    "    cv = rkf,\n",
    "    verbose = 1\n",
    ")\n",
    "\n",
    "# Train model\n",
    "rf_low.fit(X_sub, y)"
   ]
  },
  {
   "cell_type": "code",
   "execution_count": 26,
   "metadata": {},
   "outputs": [
    {
     "name": "stdout",
     "output_type": "stream",
     "text": [
      "Best Score: 0.8224466891133558\n",
      "Best Params: {'colsample_bytree': 0.2692307692307693}\n"
     ]
    }
   ],
   "source": [
    "# Print results\n",
    "print('Best Score: ' + str(rf_low.best_score_))\n",
    "print('Best Params: ' + str(rf_low.best_params_))"
   ]
  },
  {
   "cell_type": "code",
   "execution_count": 27,
   "metadata": {},
   "outputs": [
    {
     "data": {
      "image/png": "[encoded data removed]",
      "text/plain": [
       "<matplotlib.figure.Figure at 0x2328ce531d0>"
      ]
     },
     "metadata": {},
     "output_type": "display_data"
    }
   ],
   "source": [
    "# Plot results\n",
    "gaia_get_test(rf_low, param_max_feat, 'Max Features')"
   ]
  },
  {
   "cell_type": "markdown",
   "metadata": {},
   "source": [
    "### Iteration 4: Optimise Minimum Samples in Terminal Nodes"
   ]
  },
  {
   "cell_type": "code",
   "execution_count": 33,
   "metadata": {},
   "outputs": [],
   "source": [
    "# Define parameters\n",
    "param_min_leaf = [1,5,10,20,30,40,50]\n",
    "params = {\n",
    "    'min_child_samples': param_min_leaf\n",
    "}"
   ]
  },
  {
   "cell_type": "code",
   "execution_count": 32,
   "metadata": {},
   "outputs": [
    {
     "data": {
      "text/plain": [
       "0.2692307692307692"
      ]
     },
     "execution_count": 32,
     "metadata": {},
     "output_type": "execute_result"
    }
   ],
   "source": [
    "7/X_sub.shape[1]"
   ]
  },
  {
   "cell_type": "code",
   "execution_count": 34,
   "metadata": {},
   "outputs": [
    {
     "name": "stdout",
     "output_type": "stream",
     "text": [
      "Fitting 25 folds for each of 7 candidates, totalling 175 fits\n"
     ]
    },
    {
     "name": "stderr",
     "output_type": "stream",
     "text": [
      "[Parallel(n_jobs=3)]: Done  44 tasks      | elapsed:  1.1min\n",
      "[Parallel(n_jobs=3)]: Done 175 out of 175 | elapsed:  3.2min finished\n"
     ]
    },
    {
     "data": {
      "text/plain": [
       "GridSearchCV(cv=<sklearn.model_selection._split.RepeatedStratifiedKFold object at 0x000002328CAF8D68>,\n",
       "       error_score='raise',\n",
       "       estimator=LGBMClassifier(boosting_type='rf', class_weight=None,\n",
       "        colsample_bytree=0.2692307692307692, learning_rate=0.1,\n",
       "        max_depth=5, min_child_samples=20, min_child_weight=0.001,\n",
       "        min_split_gain=0.0, n_estimators=2500, n_jobs=3, num_leaves=31,\n",
       "        objective='binary', random_state=123, reg_alpha=0.0,\n",
       "        reg_lambda=0.0, silent=True, subsample=0.632,\n",
       "        subsample_for_bin=200000, subsample_freq=1),\n",
       "       fit_params=None, iid=True, n_jobs=3,\n",
       "       param_grid={'min_child_samples': [1, 5, 10, 20, 30, 40, 50]},\n",
       "       pre_dispatch='2*n_jobs', refit=True, return_train_score='warn',\n",
       "       scoring=None, verbose=1)"
      ]
     },
     "execution_count": 34,
     "metadata": {},
     "output_type": "execute_result"
    }
   ],
   "source": [
    "# Create RF model\n",
    "rf_low = GridSearchCV(\n",
    "    estimator = LGBMClassifier(\n",
    "        boosting_type = 'rf',\n",
    "        objective = 'binary',\n",
    "        subsample = 0.632,\n",
    "        subsample_freq = 1,\n",
    "        max_depth = 5,\n",
    "        n_estimators = 2500,\n",
    "        colsample_bytree = 7/X_sub.shape[1],\n",
    "        # min_child_samples = ,\n",
    "        # reg_alpha = ,\n",
    "        # reg_lambda = ,\n",
    "        random_state = 123,\n",
    "        n_jobs = 3\n",
    "    ),\n",
    "    param_grid = params,\n",
    "    n_jobs = 3,\n",
    "    cv = rkf,\n",
    "    verbose = 1\n",
    ")\n",
    "\n",
    "# Train model\n",
    "rf_low.fit(X_sub, y)"
   ]
  },
  {
   "cell_type": "code",
   "execution_count": 35,
   "metadata": {},
   "outputs": [
    {
     "name": "stdout",
     "output_type": "stream",
     "text": [
      "Best Score: 0.8316498316498316\n",
      "Best Params: {'min_child_samples': 1}\n"
     ]
    }
   ],
   "source": [
    "# Print results\n",
    "print('Best Score: ' + str(rf_low.best_score_))\n",
    "print('Best Params: ' + str(rf_low.best_params_))"
   ]
  },
  {
   "cell_type": "code",
   "execution_count": 36,
   "metadata": {},
   "outputs": [
    {
     "data": {
      "image/png": "[encoded data removed]",
      "text/plain": [
       "<matplotlib.figure.Figure at 0x2328ceef198>"
      ]
     },
     "metadata": {},
     "output_type": "display_data"
    }
   ],
   "source": [
    "# Plot results\n",
    "gaia_get_test(rf_low, param_min_leaf, 'Min. Samples in Leaf')"
   ]
  },
  {
   "cell_type": "markdown",
   "metadata": {},
   "source": [
    "### Iteration 5: Optimise L1 Regularisation"
   ]
  },
  {
   "cell_type": "code",
   "execution_count": 47,
   "metadata": {},
   "outputs": [],
   "source": [
    "# Define parameters\n",
    "param_alpha = [0, 0.1, 0.2, 0.3, 0.4, 0.5, 0.6, 0.7, 0.8, 0.9]\n",
    "params = {\n",
    "    'reg_alpha': param_alpha\n",
    "}"
   ]
  },
  {
   "cell_type": "code",
   "execution_count": 48,
   "metadata": {},
   "outputs": [
    {
     "name": "stdout",
     "output_type": "stream",
     "text": [
      "Fitting 25 folds for each of 10 candidates, totalling 250 fits\n"
     ]
    },
    {
     "name": "stderr",
     "output_type": "stream",
     "text": [
      "[Parallel(n_jobs=3)]: Done  44 tasks      | elapsed:   53.3s\n",
      "[Parallel(n_jobs=3)]: Done 194 tasks      | elapsed:  3.6min\n",
      "[Parallel(n_jobs=3)]: Done 250 out of 250 | elapsed:  4.3min finished\n"
     ]
    },
    {
     "data": {
      "text/plain": [
       "GridSearchCV(cv=<sklearn.model_selection._split.RepeatedStratifiedKFold object at 0x000002328CAF8D68>,\n",
       "       error_score='raise',\n",
       "       estimator=LGBMClassifier(boosting_type='rf', class_weight=None,\n",
       "        colsample_bytree=0.2692307692307692, learning_rate=0.1,\n",
       "        max_depth=5, min_child_samples=1, min_child_weight=0.001,\n",
       "        min_split_gain=0.0, n_estimators=2500, n_jobs=3, num_leaves=31,\n",
       "        objective='binary', random_state=123, reg_alpha=0.0,\n",
       "        reg_lambda=0.0, silent=True, subsample=0.632,\n",
       "        subsample_for_bin=200000, subsample_freq=1),\n",
       "       fit_params=None, iid=True, n_jobs=3,\n",
       "       param_grid={'reg_alpha': [0, 0.1, 0.2, 0.3, 0.4, 0.5, 0.6, 0.7, 0.8, 0.9]},\n",
       "       pre_dispatch='2*n_jobs', refit=True, return_train_score='warn',\n",
       "       scoring=None, verbose=1)"
      ]
     },
     "execution_count": 48,
     "metadata": {},
     "output_type": "execute_result"
    }
   ],
   "source": [
    "# Create RF model\n",
    "rf_low = GridSearchCV(\n",
    "    estimator = LGBMClassifier(\n",
    "        boosting_type = 'rf',\n",
    "        objective = 'binary',\n",
    "        subsample = 0.632,\n",
    "        subsample_freq = 1,\n",
    "        max_depth = 5,\n",
    "        n_estimators = 2500,\n",
    "        colsample_bytree = 7/X_sub.shape[1],\n",
    "        min_child_samples = 1,\n",
    "        # reg_alpha = ,\n",
    "        # reg_lambda = ,\n",
    "        random_state = 123,\n",
    "        n_jobs = 3\n",
    "    ),\n",
    "    param_grid = params,\n",
    "    n_jobs = 3,\n",
    "    cv = rkf,\n",
    "    verbose = 1\n",
    ")\n",
    "\n",
    "# Train model\n",
    "rf_low.fit(X_sub, y)"
   ]
  },
  {
   "cell_type": "code",
   "execution_count": 49,
   "metadata": {},
   "outputs": [
    {
     "name": "stdout",
     "output_type": "stream",
     "text": [
      "Best Score: 0.8318742985409652\n",
      "Best Params: {'reg_alpha': 0.1}\n"
     ]
    }
   ],
   "source": [
    "# Print results\n",
    "print('Best Score: ' + str(rf_low.best_score_))\n",
    "print('Best Params: ' + str(rf_low.best_params_))"
   ]
  },
  {
   "cell_type": "code",
   "execution_count": 50,
   "metadata": {},
   "outputs": [
    {
     "data": {
      "image/png": "[encoded data removed]",
      "text/plain": [
       "<matplotlib.figure.Figure at 0x2328cb304e0>"
      ]
     },
     "metadata": {},
     "output_type": "display_data"
    }
   ],
   "source": [
    "# Plot results\n",
    "gaia_get_test(rf_low, param_alpha, 'Alpha')"
   ]
  },
  {
   "cell_type": "markdown",
   "metadata": {},
   "source": [
    "### Iteration 6: Optimise L2 Regularisation"
   ]
  },
  {
   "cell_type": "code",
   "execution_count": 51,
   "metadata": {},
   "outputs": [],
   "source": [
    "# Define parameters\n",
    "param_lambda = [0, 0.1, 0.2, 0.3, 0.4, 0.5, 0.6, 0.7, 0.8, 0.9]\n",
    "params = {\n",
    "    'reg_lambda': param_lambda\n",
    "}"
   ]
  },
  {
   "cell_type": "code",
   "execution_count": 52,
   "metadata": {},
   "outputs": [
    {
     "name": "stdout",
     "output_type": "stream",
     "text": [
      "Fitting 25 folds for each of 10 candidates, totalling 250 fits\n"
     ]
    },
    {
     "name": "stderr",
     "output_type": "stream",
     "text": [
      "[Parallel(n_jobs=3)]: Done  44 tasks      | elapsed:   48.8s\n",
      "[Parallel(n_jobs=3)]: Done 194 tasks      | elapsed:  3.6min\n",
      "[Parallel(n_jobs=3)]: Done 250 out of 250 | elapsed:  4.5min finished\n"
     ]
    },
    {
     "data": {
      "text/plain": [
       "GridSearchCV(cv=<sklearn.model_selection._split.RepeatedStratifiedKFold object at 0x000002328CAF8D68>,\n",
       "       error_score='raise',\n",
       "       estimator=LGBMClassifier(boosting_type='rf', class_weight=None,\n",
       "        colsample_bytree=0.2692307692307692, learning_rate=0.1,\n",
       "        max_depth=5, min_child_samples=1, min_child_weight=0.001,\n",
       "        min_split_gain=0.0, n_estimators=2500, n_jobs=3, num_leaves=31,\n",
       "        objective='binary', random_state=123, reg_alpha=0.1,\n",
       "        reg_lambda=0.0, silent=True, subsample=0.632,\n",
       "        subsample_for_bin=200000, subsample_freq=1),\n",
       "       fit_params=None, iid=True, n_jobs=3,\n",
       "       param_grid={'reg_lambda': [0, 0.1, 0.2, 0.3, 0.4, 0.5, 0.6, 0.7, 0.8, 0.9]},\n",
       "       pre_dispatch='2*n_jobs', refit=True, return_train_score='warn',\n",
       "       scoring=None, verbose=1)"
      ]
     },
     "execution_count": 52,
     "metadata": {},
     "output_type": "execute_result"
    }
   ],
   "source": [
    "# Create RF model\n",
    "rf_low = GridSearchCV(\n",
    "    estimator = LGBMClassifier(\n",
    "        boosting_type = 'rf',\n",
    "        objective = 'binary',\n",
    "        subsample = 0.632,\n",
    "        subsample_freq = 1,\n",
    "        max_depth = 5,\n",
    "        n_estimators = 2500,\n",
    "        colsample_bytree = 7/X_sub.shape[1],\n",
    "        min_child_samples = 1,\n",
    "        reg_alpha = 0.1,\n",
    "        # reg_lambda = ,\n",
    "        random_state = 123,\n",
    "        n_jobs = 3\n",
    "    ),\n",
    "    param_grid = params,\n",
    "    n_jobs = 3,\n",
    "    cv = rkf,\n",
    "    verbose = 1\n",
    ")\n",
    "\n",
    "# Train model\n",
    "rf_low.fit(X_sub, y)"
   ]
  },
  {
   "cell_type": "code",
   "execution_count": 53,
   "metadata": {},
   "outputs": [
    {
     "name": "stdout",
     "output_type": "stream",
     "text": [
      "Best Score: 0.8318742985409652\n",
      "Best Params: {'reg_lambda': 0}\n"
     ]
    }
   ],
   "source": [
    "# Print results\n",
    "print('Best Score: ' + str(rf_low.best_score_))\n",
    "print('Best Params: ' + str(rf_low.best_params_))"
   ]
  },
  {
   "cell_type": "code",
   "execution_count": 54,
   "metadata": {},
   "outputs": [
    {
     "data": {
      "image/png": "[encoded data removed]",
      "text/plain": [
       "<matplotlib.figure.Figure at 0x2328cf40940>"
      ]
     },
     "metadata": {},
     "output_type": "display_data"
    }
   ],
   "source": [
    "# Plot results\n",
    "gaia_get_test(rf_low, param_lambda, 'Lambda')"
   ]
  },
  {
   "cell_type": "markdown",
   "metadata": {},
   "source": [
    "### Iteration 7: Optimise Subsampling"
   ]
  },
  {
   "cell_type": "code",
   "execution_count": 55,
   "metadata": {},
   "outputs": [],
   "source": [
    "# Define parameters\n",
    "param_subsample = [0.3, 0.4, 0.5, 0.6, 0.7, 0.8, 0.9, 0.99]\n",
    "params = {\n",
    "    'subsample': param_subsample\n",
    "}"
   ]
  },
  {
   "cell_type": "code",
   "execution_count": 57,
   "metadata": {},
   "outputs": [
    {
     "name": "stdout",
     "output_type": "stream",
     "text": [
      "Fitting 25 folds for each of 8 candidates, totalling 200 fits\n"
     ]
    },
    {
     "name": "stderr",
     "output_type": "stream",
     "text": [
      "[Parallel(n_jobs=3)]: Done  44 tasks      | elapsed:   48.0s\n",
      "[Parallel(n_jobs=3)]: Done 194 tasks      | elapsed:  3.8min\n",
      "[Parallel(n_jobs=3)]: Done 200 out of 200 | elapsed:  4.0min finished\n"
     ]
    },
    {
     "data": {
      "text/plain": [
       "GridSearchCV(cv=<sklearn.model_selection._split.RepeatedStratifiedKFold object at 0x000002328CAF8D68>,\n",
       "       error_score='raise',\n",
       "       estimator=LGBMClassifier(boosting_type='rf', class_weight=None,\n",
       "        colsample_bytree=0.2692307692307692, learning_rate=0.1,\n",
       "        max_depth=5, min_child_samples=1, min_child_weight=0.001,\n",
       "        min_split_gain=0.0, n_estimators=2500, n_jobs=3, num_leaves=31,\n",
       "        objective='binary', random_state=123, reg_alpha=0.1, reg_lambda=0,\n",
       "        silent=True, subsample=1.0, subsample_for_bin=200000,\n",
       "        subsample_freq=1),\n",
       "       fit_params=None, iid=True, n_jobs=3,\n",
       "       param_grid={'subsample': [0.3, 0.4, 0.5, 0.6, 0.7, 0.8, 0.9, 0.99]},\n",
       "       pre_dispatch='2*n_jobs', refit=True, return_train_score='warn',\n",
       "       scoring=None, verbose=1)"
      ]
     },
     "execution_count": 57,
     "metadata": {},
     "output_type": "execute_result"
    }
   ],
   "source": [
    "# Create RF model\n",
    "rf_low = GridSearchCV(\n",
    "    estimator = LGBMClassifier(\n",
    "        boosting_type = 'rf',\n",
    "        objective = 'binary',\n",
    "        subsample = 0.9,\n",
    "        subsample_freq = 1,\n",
    "        max_depth = 5,\n",
    "        n_estimators = 2500,\n",
    "        colsample_bytree = 7/X_sub.shape[1],\n",
    "        min_child_samples = 1,\n",
    "        reg_alpha = 0.1,\n",
    "        reg_lambda = 0,\n",
    "        random_state = 123,\n",
    "        n_jobs = 3\n",
    "    ),\n",
    "    param_grid = params,\n",
    "    n_jobs = 3,\n",
    "    cv = rkf,\n",
    "    verbose = 1\n",
    ")\n",
    "\n",
    "# Train model\n",
    "rf_low.fit(X_sub, y)"
   ]
  },
  {
   "cell_type": "code",
   "execution_count": 58,
   "metadata": {},
   "outputs": [
    {
     "name": "stdout",
     "output_type": "stream",
     "text": [
      "Best Score: 0.8332210998877666\n",
      "Best Params: {'subsample': 0.9}\n"
     ]
    }
   ],
   "source": [
    "# Print results\n",
    "print('Best Score: ' + str(rf_low.best_score_))\n",
    "print('Best Params: ' + str(rf_low.best_params_))"
   ]
  },
  {
   "cell_type": "code",
   "execution_count": 59,
   "metadata": {},
   "outputs": [
    {
     "data": {
      "image/png": "[encoded data removed]",
      "text/plain": [
       "<matplotlib.figure.Figure at 0x2328cdc40f0>"
      ]
     },
     "metadata": {},
     "output_type": "display_data"
    }
   ],
   "source": [
    "# Plot results\n",
    "gaia_get_test(rf_low, param_subsample, 'Subsample Proportion')"
   ]
  }
 ],
 "metadata": {
  "kernelspec": {
   "display_name": "Python 3",
   "language": "python",
   "name": "python3"
  },
  "language_info": {
   "codemirror_mode": {
    "name": "ipython",
    "version": 3
   },
   "file_extension": ".py",
   "mimetype": "text/x-python",
   "name": "python",
   "nbconvert_exporter": "python",
   "pygments_lexer": "ipython3",
   "version": "3.6.6"
  }
 },
 "nbformat": 4,
 "nbformat_minor": 2
}
