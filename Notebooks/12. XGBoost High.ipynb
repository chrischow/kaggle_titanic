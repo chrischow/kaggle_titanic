{
 "cells": [
  {
   "cell_type": "markdown",
   "metadata": {},
   "source": [
    "# XGBoost High Depth\n",
    "As part of the overall stacking model, I will develop four gradient boosting models (GBMs): one low depth and one high depth GBM each using LightGBM and XGBoost.\n",
    "  \n",
    "In this notebook, I set out to optimise the high depth XGBoost model. The optimisation sequence was as follows:  \n",
    "  \n",
    "1. No. of Trees (100)\n",
    "2. RFECV (22)\n",
    "3. Max Features (0.2727272727272727 or 6)\n",
    "4. Subsampling (0.3)\n",
    "5. Learning Rate (0.1)\n",
    "6. Min Child Weight (0.3)\n",
    "7. L2 Regularisation (0.1)\n",
    "8. L1 Regularisation (0.9)\n",
    "  \n",
    "The final CV score was **83.70%**."
   ]
  },
  {
   "cell_type": "code",
   "execution_count": 1,
   "metadata": {},
   "outputs": [
    {
     "name": "stderr",
     "output_type": "stream",
     "text": [
      "C:\\Users\\user\\Anaconda3\\lib\\site-packages\\sklearn\\ensemble\\weight_boosting.py:29: DeprecationWarning: numpy.core.umath_tests is an internal NumPy module and should not be imported. It will be removed in a future NumPy release.\n",
      "  from numpy.core.umath_tests import inner1d\n"
     ]
    }
   ],
   "source": [
    "# Import modules\n",
    "import datetime\n",
    "import pandas as pd\n",
    "import numpy as np\n",
    "import matplotlib.pyplot as plt\n",
    "import matplotlib\n",
    "import seaborn as sns\n",
    "from sklearn.decomposition import PCA\n",
    "from sklearn.ensemble import RandomForestClassifier\n",
    "from sklearn.feature_selection import RFECV, RFE\n",
    "from sklearn.manifold import Isomap\n",
    "from sklearn.metrics import accuracy_score, auc, make_scorer, mean_squared_error, r2_score\n",
    "from sklearn.model_selection import cross_val_score, train_test_split, GridSearchCV, RepeatedKFold, KFold, RepeatedStratifiedKFold, StratifiedKFold\n",
    "from sklearn.preprocessing import StandardScaler, MinMaxScaler, MaxAbsScaler, Normalizer, RobustScaler\n",
    "from xgboost import XGBClassifier\n",
    "import kaggle_titanic as kt\n",
    "import warnings\n",
    "\n",
    "# Settings\n",
    "%matplotlib inline\n",
    "matplotlib.style.use('ggplot')\n",
    "warnings.filterwarnings('ignore')"
   ]
  },
  {
   "cell_type": "markdown",
   "metadata": {},
   "source": [
    "## Prepare Data"
   ]
  },
  {
   "cell_type": "code",
   "execution_count": 2,
   "metadata": {},
   "outputs": [],
   "source": [
    "# Import data\n",
    "df = pd.read_csv('train.csv')\n",
    "\n",
    "# Clean data\n",
    "df = kt.clean_all(df)\n",
    "\n",
    "# Encode data (only for RFECV purposes)\n",
    "df_encoded, _ = kt.encode_train(df)"
   ]
  },
  {
   "cell_type": "markdown",
   "metadata": {},
   "source": [
    "## Global Settings"
   ]
  },
  {
   "cell_type": "code",
   "execution_count": 3,
   "metadata": {},
   "outputs": [],
   "source": [
    "# Create fold indices\n",
    "folds = kt.get_folds(df=df, random_state=123)\n",
    "\n",
    "# Get all datasets\n",
    "all_sets = kt.prep_sets(df, folds)"
   ]
  },
  {
   "cell_type": "markdown",
   "metadata": {},
   "source": [
    "## Iteration 1: Optimise No. of Trees"
   ]
  },
  {
   "cell_type": "code",
   "execution_count": 4,
   "metadata": {
    "scrolled": false
   },
   "outputs": [
    {
     "name": "stdout",
     "output_type": "stream",
     "text": [
      "Computing test scores for n_estimators = 100...Done!\n",
      "Computing test scores for n_estimators = 250...Done!\n",
      "Computing test scores for n_estimators = 500...Done!\n",
      "Computing test scores for n_estimators = 1000...Done!\n",
      "Computing test scores for n_estimators = 1500...Done!\n",
      "Computing test scores for n_estimators = 2000...Done!\n",
      "Computing test scores for n_estimators = 2500...Done!\n",
      "Computing test scores for n_estimators = 3000...Done!\n",
      "Computing test scores for n_estimators = 4000...Done!\n",
      "Computing test scores for n_estimators = 5000...Done!\n",
      "\n",
      "\n",
      "[ RESULTS ]\n",
      "   Best Score: 0.8101100898755828\n",
      "Optimal Value: 100\n"
     ]
    },
    {
     "data": {
      "image/png": "[encoded data removed]",
      "text/plain": [
       "<matplotlib.figure.Figure at 0x26cddf9f7b8>"
      ]
     },
     "metadata": {},
     "output_type": "display_data"
    }
   ],
   "source": [
    "# Define parameters\n",
    "param_n_estimators = [100, 250, 500, 1000, 1500, 2000, 2500, 3000, 4000, 5000]\n",
    "params = {\n",
    "    'n_estimators': param_n_estimators\n",
    "}\n",
    "\n",
    "# Grid Search with CV\n",
    "cv_res, best_n_estimators = kt.score_grid(\n",
    "    estimator = XGBClassifier(\n",
    "        booster = 'gbtree',\n",
    "        # objective = 'binary',\n",
    "        random_state = 123,\n",
    "        n_jobs = 3,\n",
    "        max_depth = 15,\n",
    "        # n_estimators = ,\n",
    "        # colsample_bytree = ,\n",
    "        # subsample = ,\n",
    "        # learning_rate = ,\n",
    "        # min_child_weight = ,\n",
    "        # reg_lambda = ,\n",
    "        # reg_alpha = \n",
    "    ),\n",
    "    params = params,\n",
    "    all_sets = all_sets,\n",
    "    n_jobs = 3,\n",
    "    verbose = True\n",
    ")"
   ]
  },
  {
   "cell_type": "markdown",
   "metadata": {},
   "source": [
    "## Iteration 2: RFECV for Feature Selection"
   ]
  },
  {
   "cell_type": "code",
   "execution_count": 5,
   "metadata": {
    "scrolled": false
   },
   "outputs": [
    {
     "name": "stderr",
     "output_type": "stream",
     "text": [
      "[Parallel(n_jobs=3)]: Using backend LokyBackend with 3 concurrent workers.\n",
      "[Parallel(n_jobs=3)]: Done  25 out of  25 | elapsed:  8.0min finished\n"
     ]
    },
    {
     "name": "stdout",
     "output_type": "stream",
     "text": [
      "   Best Score: 0.8154845170929577\n",
      "Optimal Value: 22\n"
     ]
    },
    {
     "data": {
      "image/png": "[encoded data removed]",
      "text/plain": [
       "<matplotlib.figure.Figure at 0x26cde0a9278>"
      ]
     },
     "metadata": {},
     "output_type": "display_data"
    }
   ],
   "source": [
    "# Run RFECV\n",
    "cv_res, best_n_features, opt_feats = kt.custom_rfecv(\n",
    "    estimator = XGBClassifier(\n",
    "        booster = 'gbtree',\n",
    "        # objective = 'binary',\n",
    "        random_state = 123,\n",
    "        n_jobs = 3,\n",
    "        max_depth = 15,\n",
    "        n_estimators = best_n_estimators,\n",
    "        # colsample_bytree = ,\n",
    "        # subsample = ,\n",
    "        # learning_rate = ,\n",
    "        # min_child_weight = ,\n",
    "        # reg_lambda = ,\n",
    "        # reg_alpha = \n",
    "    ),\n",
    "    sub_sets = all_sets,\n",
    "    df = df_encoded,\n",
    "    step = 1,\n",
    "    n_jobs = 3,\n",
    "    xg = True,\n",
    "    verbose = True\n",
    ")"
   ]
  },
  {
   "cell_type": "markdown",
   "metadata": {},
   "source": [
    "### Subset Features"
   ]
  },
  {
   "cell_type": "code",
   "execution_count": 6,
   "metadata": {},
   "outputs": [
    {
     "name": "stdout",
     "output_type": "stream",
     "text": [
      "['pclass_OC', 'sex_BN', 'age_OC', 'age_NM', 'sibsp_NM', 'parch_NM', 'fare_NM', 'title_ME', 'age_ME', 'sibsp_ME', 'ticlen_ME', 'fare_ME', 'cabletter_ME', 'cabno_ME', 'embarked_ME', 'pclass_OH_CLASS2', 'age_OH_A4', 'age_OH_A5', 'ticlen_OH_L4', 'ticlen_OH_L6', 'fare_OH_G2', 'fare_OH_G4']\n"
     ]
    }
   ],
   "source": [
    "# Separate features\n",
    "final_feats = list(opt_feats)\n",
    "print(final_feats)"
   ]
  },
  {
   "cell_type": "code",
   "execution_count": 7,
   "metadata": {
    "scrolled": false
   },
   "outputs": [],
   "source": [
    "# Re-generate sets\n",
    "new_sets = kt.prep_sets(df = df, folds = folds, feats = final_feats)"
   ]
  },
  {
   "cell_type": "markdown",
   "metadata": {},
   "source": [
    "## Iteration 3: Tune Maximum Features"
   ]
  },
  {
   "cell_type": "code",
   "execution_count": 8,
   "metadata": {},
   "outputs": [],
   "source": [
    "# Get max features\n",
    "n_feat = np.min([new_sets[i][0].shape[1] for i in range(len(new_sets))])"
   ]
  },
  {
   "cell_type": "code",
   "execution_count": 9,
   "metadata": {
    "scrolled": false
   },
   "outputs": [
    {
     "name": "stdout",
     "output_type": "stream",
     "text": [
      "Computing test scores for colsample_bytree = 0.09090909090909091...Done!\n",
      "Computing test scores for colsample_bytree = 0.13636363636363635...Done!\n",
      "Computing test scores for colsample_bytree = 0.1818181818181818...Done!\n",
      "Computing test scores for colsample_bytree = 0.22727272727272724...Done!\n",
      "Computing test scores for colsample_bytree = 0.2727272727272727...Done!\n",
      "Computing test scores for colsample_bytree = 0.3181818181818181...Done!\n",
      "Computing test scores for colsample_bytree = 0.36363636363636354...Done!\n",
      "Computing test scores for colsample_bytree = 0.40909090909090906...Done!\n",
      "Computing test scores for colsample_bytree = 0.4545454545454545...Done!\n",
      "Computing test scores for colsample_bytree = 0.4999999999999999...Done!\n",
      "Computing test scores for colsample_bytree = 0.5454545454545453...Done!\n",
      "Computing test scores for colsample_bytree = 0.5909090909090908...Done!\n",
      "Computing test scores for colsample_bytree = 0.6363636363636362...Done!\n",
      "Computing test scores for colsample_bytree = 0.6818181818181817...Done!\n",
      "Computing test scores for colsample_bytree = 0.7272727272727272...Done!\n",
      "Computing test scores for colsample_bytree = 0.7727272727272726...Done!\n",
      "Computing test scores for colsample_bytree = 0.818181818181818...Done!\n",
      "Computing test scores for colsample_bytree = 0.8636363636363634...Done!\n",
      "Computing test scores for colsample_bytree = 0.9090909090909088...Done!\n",
      "Computing test scores for colsample_bytree = 0.9545454545454544...Done!\n",
      "\n",
      "\n",
      "[ RESULTS ]\n",
      "   Best Score: 0.8262384641109418\n",
      "Optimal Value: 0.2727272727272727\n"
     ]
    },
    {
     "data": {
      "image/png": "[encoded data removed]",
      "text/plain": [
       "<matplotlib.figure.Figure at 0x26cde55ccc0>"
      ]
     },
     "metadata": {},
     "output_type": "display_data"
    }
   ],
   "source": [
    "# Define parameters\n",
    "param_max_feat = np.arange(2/n_feat, 1, 1/n_feat)\n",
    "params = {\n",
    "    'colsample_bytree': param_max_feat\n",
    "}\n",
    "\n",
    "# Grid Search with CV\n",
    "cv_res, best_colsample_bytree = kt.score_grid(\n",
    "    estimator = XGBClassifier(\n",
    "        booster = 'gbtree',\n",
    "        # objective = 'binary',\n",
    "        random_state = 123,\n",
    "        n_jobs = 3,\n",
    "        max_depth = 15,\n",
    "        n_estimators = best_n_estimators,\n",
    "        # colsample_bytree = ,\n",
    "        # subsample = ,\n",
    "        # learning_rate = ,\n",
    "        # min_child_weight = ,\n",
    "        # reg_lambda = ,\n",
    "        # reg_alpha = \n",
    "    ),\n",
    "    params = params,\n",
    "    all_sets = new_sets,\n",
    "    n_jobs = 3,\n",
    "    verbose = True\n",
    ")"
   ]
  },
  {
   "cell_type": "code",
   "execution_count": 10,
   "metadata": {},
   "outputs": [
    {
     "name": "stdout",
     "output_type": "stream",
     "text": [
      "0.2727272727272727\n"
     ]
    }
   ],
   "source": [
    "# best_colsample_bytree = 0.8333333333333335\n",
    "print(best_colsample_bytree)"
   ]
  },
  {
   "cell_type": "markdown",
   "metadata": {},
   "source": [
    "## Iteration 4: Tune Subsampling Proportion"
   ]
  },
  {
   "cell_type": "code",
   "execution_count": 11,
   "metadata": {},
   "outputs": [
    {
     "name": "stdout",
     "output_type": "stream",
     "text": [
      "Computing test scores for subsample = 0.3...Done!\n",
      "Computing test scores for subsample = 0.4...Done!\n",
      "Computing test scores for subsample = 0.5...Done!\n",
      "Computing test scores for subsample = 0.6...Done!\n",
      "Computing test scores for subsample = 0.7...Done!\n",
      "Computing test scores for subsample = 0.8...Done!\n",
      "Computing test scores for subsample = 0.9...Done!\n",
      "Computing test scores for subsample = 0.99...Done!\n",
      "\n",
      "\n",
      "[ RESULTS ]\n",
      "   Best Score: 0.8365833163994302\n",
      "Optimal Value: 0.3\n"
     ]
    },
    {
     "data": {
      "image/png": "[encoded data removed]",
      "text/plain": [
       "<matplotlib.figure.Figure at 0x26cde419be0>"
      ]
     },
     "metadata": {},
     "output_type": "display_data"
    }
   ],
   "source": [
    "# Define parameters\n",
    "param_subsample = [0.3, 0.4, 0.5, 0.6, 0.7, 0.8, 0.9, 0.99]\n",
    "params = {\n",
    "    'subsample': param_subsample\n",
    "}\n",
    "\n",
    "# Grid Search with CV\n",
    "cv_res, best_subsample = kt.score_grid(\n",
    "    estimator = XGBClassifier(\n",
    "        booster = 'gbtree',\n",
    "        # objective = 'binary',\n",
    "        random_state = 123,\n",
    "        n_jobs = 3,\n",
    "        max_depth = 15,\n",
    "        n_estimators = best_n_estimators,\n",
    "        colsample_bytree = best_colsample_bytree,\n",
    "        # subsample = ,\n",
    "        # learning_rate = ,\n",
    "        # min_child_weight = ,\n",
    "        # reg_lambda = ,\n",
    "        # reg_alpha = \n",
    "    ),\n",
    "    params = params,\n",
    "    all_sets = new_sets,\n",
    "    n_jobs = 3,\n",
    "    verbose = True\n",
    ")"
   ]
  },
  {
   "cell_type": "code",
   "execution_count": 12,
   "metadata": {},
   "outputs": [],
   "source": [
    "# Override\n",
    "# best_subsample = 0.6"
   ]
  },
  {
   "cell_type": "markdown",
   "metadata": {},
   "source": [
    "## Iteration 5: Tune Learning Rate"
   ]
  },
  {
   "cell_type": "code",
   "execution_count": 13,
   "metadata": {},
   "outputs": [
    {
     "name": "stdout",
     "output_type": "stream",
     "text": [
      "Computing test scores for learning_rate = 0.001...Done!\n",
      "Computing test scores for learning_rate = 0.005...Done!\n",
      "Computing test scores for learning_rate = 0.01...Done!\n",
      "Computing test scores for learning_rate = 0.05...Done!\n",
      "Computing test scores for learning_rate = 0.1...Done!\n",
      "Computing test scores for learning_rate = 0.2...Done!\n",
      "Computing test scores for learning_rate = 0.3...Done!\n",
      "\n",
      "\n",
      "[ RESULTS ]\n",
      "   Best Score: 0.8365833163994302\n",
      "Optimal Value: 0.1\n"
     ]
    },
    {
     "data": {
      "image/png": "[encoded data removed]",
      "text/plain": [
       "<matplotlib.figure.Figure at 0x26cde695748>"
      ]
     },
     "metadata": {},
     "output_type": "display_data"
    }
   ],
   "source": [
    "# Define parameters\n",
    "param_learning_rate = [0.001,0.005,0.01,0.05,0.1,0.2,0.3]\n",
    "params = {\n",
    "    'learning_rate': param_learning_rate\n",
    "}\n",
    "\n",
    "# Grid Search with CV\n",
    "cv_res, best_learn_rate = kt.score_grid(\n",
    "    estimator = XGBClassifier(\n",
    "        booster = 'gbtree',\n",
    "        # objective = 'binary',\n",
    "        random_state = 123,\n",
    "        n_jobs = 3,\n",
    "        max_depth = 15,\n",
    "        n_estimators = best_n_estimators,\n",
    "        colsample_bytree = best_colsample_bytree,\n",
    "        subsample = best_subsample,\n",
    "        # learning_rate = ,\n",
    "        # min_child_weight = ,\n",
    "        # reg_lambda = ,\n",
    "        # reg_alpha = \n",
    "    ),\n",
    "    params = params,\n",
    "    all_sets = new_sets,\n",
    "    n_jobs = 3,\n",
    "    verbose = True\n",
    ")"
   ]
  },
  {
   "cell_type": "markdown",
   "metadata": {},
   "source": [
    "## Iteration 6: Tune Min. Child Weight"
   ]
  },
  {
   "cell_type": "code",
   "execution_count": 14,
   "metadata": {},
   "outputs": [
    {
     "name": "stdout",
     "output_type": "stream",
     "text": [
      "Computing test scores for min_child_weight = 0.001...Done!\n",
      "Computing test scores for min_child_weight = 0.005...Done!\n",
      "Computing test scores for min_child_weight = 0.01...Done!\n",
      "Computing test scores for min_child_weight = 0.05...Done!\n",
      "Computing test scores for min_child_weight = 0.1...Done!\n",
      "Computing test scores for min_child_weight = 0.2...Done!\n",
      "Computing test scores for min_child_weight = 0.3...Done!\n",
      "\n",
      "\n",
      "[ RESULTS ]\n",
      "   Best Score: 0.8363623777256934\n",
      "Optimal Value: 0.3\n"
     ]
    },
    {
     "data": {
      "image/png": "[encoded data removed]",
      "text/plain": [
       "<matplotlib.figure.Figure at 0x26cddfbbac8>"
      ]
     },
     "metadata": {},
     "output_type": "display_data"
    }
   ],
   "source": [
    "# Define parameters\n",
    "param_min_child_weight = [0.001,0.005,0.01,0.05,0.1,0.2,0.3]\n",
    "params = {\n",
    "    'min_child_weight': param_min_child_weight\n",
    "}\n",
    "\n",
    "# Grid Search with CV\n",
    "cv_res, best_min_child = kt.score_grid(\n",
    "    estimator = XGBClassifier(\n",
    "        booster = 'gbtree',\n",
    "        # objective = 'binary',\n",
    "        random_state = 123,\n",
    "        n_jobs = 3,\n",
    "        max_depth = 15,\n",
    "        n_estimators = best_n_estimators,\n",
    "        colsample_bytree = best_colsample_bytree,\n",
    "        subsample = best_subsample,\n",
    "        learning_rate = best_learn_rate,\n",
    "        # min_child_weight = ,\n",
    "        # reg_lambda = ,\n",
    "        # reg_alpha = \n",
    "    ),\n",
    "    params = params,\n",
    "    all_sets = new_sets,\n",
    "    n_jobs = 3,\n",
    "    verbose = True\n",
    ")"
   ]
  },
  {
   "cell_type": "markdown",
   "metadata": {},
   "source": [
    "## Iteration 7: Tune L2 Regularisation (Lambda)"
   ]
  },
  {
   "cell_type": "code",
   "execution_count": 15,
   "metadata": {},
   "outputs": [
    {
     "name": "stdout",
     "output_type": "stream",
     "text": [
      "Computing test scores for reg_lambda = 0...Done!\n",
      "Computing test scores for reg_lambda = 0.1...Done!\n",
      "Computing test scores for reg_lambda = 0.2...Done!\n",
      "Computing test scores for reg_lambda = 0.3...Done!\n",
      "Computing test scores for reg_lambda = 0.4...Done!\n",
      "Computing test scores for reg_lambda = 0.5...Done!\n",
      "Computing test scores for reg_lambda = 0.6...Done!\n",
      "Computing test scores for reg_lambda = 0.7...Done!\n",
      "Computing test scores for reg_lambda = 0.8...Done!\n",
      "Computing test scores for reg_lambda = 0.9...Done!\n",
      "\n",
      "\n",
      "[ RESULTS ]\n",
      "   Best Score: 0.836133878197183\n",
      "Optimal Value: 0.9\n"
     ]
    },
    {
     "data": {
      "image/png": "[encoded data removed]",
      "text/plain": [
       "<matplotlib.figure.Figure at 0x26cde6a47b8>"
      ]
     },
     "metadata": {},
     "output_type": "display_data"
    }
   ],
   "source": [
    "# Define parameters\n",
    "param_lambda = [0, 0.1, 0.2, 0.3, 0.4, 0.5, 0.6, 0.7, 0.8, 0.9]\n",
    "params = {\n",
    "    'reg_lambda': param_lambda\n",
    "}\n",
    "\n",
    "# Grid Search with CV\n",
    "cv_res, best_lambda = kt.score_grid(\n",
    "    estimator = XGBClassifier(\n",
    "        booster = 'gbtree',\n",
    "        # objective = 'binary',\n",
    "        random_state = 123,\n",
    "        n_jobs = 3,\n",
    "        max_depth = 15,\n",
    "        n_estimators = best_n_estimators,\n",
    "        colsample_bytree = best_colsample_bytree,\n",
    "        subsample = best_subsample,\n",
    "        learning_rate = best_learn_rate,\n",
    "        min_child_weight = best_min_child,\n",
    "        # reg_lambda = ,\n",
    "        # reg_alpha = \n",
    "    ),\n",
    "    params = params,\n",
    "    all_sets = new_sets,\n",
    "    n_jobs = 3,\n",
    "    verbose = True\n",
    ")"
   ]
  },
  {
   "cell_type": "markdown",
   "metadata": {},
   "source": [
    "## Iteration 8: Tune L1 Regularisation (Alpha)"
   ]
  },
  {
   "cell_type": "code",
   "execution_count": 16,
   "metadata": {},
   "outputs": [
    {
     "name": "stdout",
     "output_type": "stream",
     "text": [
      "Computing test scores for reg_alpha = 0...Done!\n",
      "Computing test scores for reg_alpha = 0.1...Done!\n",
      "Computing test scores for reg_alpha = 0.2...Done!\n",
      "Computing test scores for reg_alpha = 0.3...Done!\n",
      "Computing test scores for reg_alpha = 0.4...Done!\n",
      "Computing test scores for reg_alpha = 0.5...Done!\n",
      "Computing test scores for reg_alpha = 0.6...Done!\n",
      "Computing test scores for reg_alpha = 0.7...Done!\n",
      "Computing test scores for reg_alpha = 0.8...Done!\n",
      "Computing test scores for reg_alpha = 0.9...Done!\n",
      "\n",
      "\n",
      "[ RESULTS ]\n",
      "   Best Score: 0.8370390884134156\n",
      "Optimal Value: 0.1\n"
     ]
    },
    {
     "data": {
      "image/png": "[encoded data removed]",
      "text/plain": [
       "<matplotlib.figure.Figure at 0x26cde7287b8>"
      ]
     },
     "metadata": {},
     "output_type": "display_data"
    }
   ],
   "source": [
    "# Define parameters\n",
    "param_alpha = [0, 0.1, 0.2, 0.3, 0.4, 0.5, 0.6, 0.7, 0.8, 0.9]\n",
    "params = {\n",
    "    'reg_alpha': param_alpha\n",
    "}\n",
    "\n",
    "# Grid Search with CV\n",
    "cv_res, best_alpha = kt.score_grid(\n",
    "    estimator = XGBClassifier(\n",
    "        booster = 'gbtree',\n",
    "        # objective = 'binary',\n",
    "        random_state = 123,\n",
    "        n_jobs = 3,\n",
    "        max_depth = 15,\n",
    "        n_estimators = best_n_estimators,\n",
    "        colsample_bytree = best_colsample_bytree,\n",
    "        subsample = best_subsample,\n",
    "        learning_rate = best_learn_rate,\n",
    "        min_child_weight = best_min_child,\n",
    "        reg_lambda = best_lambda,\n",
    "        # reg_alpha = \n",
    "    ),\n",
    "    params = params,\n",
    "    all_sets = new_sets,\n",
    "    n_jobs = 3,\n",
    "    verbose = True\n",
    ")"
   ]
  },
  {
   "cell_type": "code",
   "execution_count": 17,
   "metadata": {},
   "outputs": [
    {
     "name": "stdout",
     "output_type": "stream",
     "text": [
      "Trees: 100\n",
      "Features: 22\n",
      "Feature Proportions: 0.2727272727272727\n",
      "Subsample: 0.3\n",
      "Learning Rate: 0.1\n",
      "Min Child Weight: 0.3\n",
      "Alpha: 0.1\n",
      "Lambda: 0.9\n"
     ]
    }
   ],
   "source": [
    "# Print\n",
    "print('Trees: ' + str(best_n_estimators))\n",
    "print('Features: ' + str(len(final_feats)))\n",
    "print('Feature Proportions: ' + str(best_colsample_bytree))\n",
    "print('Subsample: ' + str(best_subsample))\n",
    "print('Learning Rate: ' + str(best_learn_rate))\n",
    "print('Min Child Weight: ' + str(best_min_child))\n",
    "print('Alpha: ' + str(best_alpha))\n",
    "print('Lambda: ' + str(best_lambda))"
   ]
  }
 ],
 "metadata": {
  "kernelspec": {
   "display_name": "Python 3",
   "language": "python",
   "name": "python3"
  },
  "language_info": {
   "codemirror_mode": {
    "name": "ipython",
    "version": 3
   },
   "file_extension": ".py",
   "mimetype": "text/x-python",
   "name": "python",
   "nbconvert_exporter": "python",
   "pygments_lexer": "ipython3",
   "version": "3.6.6"
  }
 },
 "nbformat": 4,
 "nbformat_minor": 2
}
