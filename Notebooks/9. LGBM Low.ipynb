{
 "cells": [
  {
   "cell_type": "markdown",
   "metadata": {},
   "source": [
    "# Light GBM - Low Depth\n",
    "As part of the overall stacking model, I will develop four gradient boosting models (GBMs): one low depth and one high depth GBM each using LightGBM and XGBoost.\n",
    "  \n",
    "In this notebook, I set out to optimise the low depth lightGBM model. The optimisation sequence was as follows:  \n",
    "  \n",
    "1. No. of Trees (100)\n",
    "2. RFECV (53)\n",
    "3. Max Features (0.150 or 8)\n",
    "5. Subsampling (0.9)\n",
    "6. Learning Rate (0.1)\n",
    "6. Min Samples in Leaf (20)\n",
    "7. L1 Regularisation (0.2)\n",
    "8. L2 Regularisation (0)\n",
    "  \n",
    "The final CV score was **83.88%**."
   ]
  },
  {
   "cell_type": "code",
   "execution_count": 1,
   "metadata": {},
   "outputs": [
    {
     "name": "stderr",
     "output_type": "stream",
     "text": [
      "C:\\Users\\user\\Anaconda3\\lib\\site-packages\\sklearn\\ensemble\\weight_boosting.py:29: DeprecationWarning: numpy.core.umath_tests is an internal NumPy module and should not be imported. It will be removed in a future NumPy release.\n",
      "  from numpy.core.umath_tests import inner1d\n"
     ]
    }
   ],
   "source": [
    "# Import modules\n",
    "import datetime\n",
    "import pandas as pd\n",
    "import numpy as np\n",
    "import matplotlib.pyplot as plt\n",
    "import matplotlib\n",
    "import seaborn as sns\n",
    "from sklearn.decomposition import PCA\n",
    "from sklearn.ensemble import RandomForestClassifier\n",
    "from sklearn.feature_selection import RFECV, RFE\n",
    "from sklearn.manifold import Isomap\n",
    "from sklearn.metrics import accuracy_score, auc, make_scorer, mean_squared_error, r2_score\n",
    "from sklearn.model_selection import cross_val_score, train_test_split, GridSearchCV, RepeatedKFold, KFold, RepeatedStratifiedKFold, StratifiedKFold\n",
    "from sklearn.preprocessing import StandardScaler, MinMaxScaler, MaxAbsScaler, Normalizer, RobustScaler\n",
    "from lightgbm import LGBMClassifier\n",
    "import kaggle_titanic as kt\n",
    "import warnings\n",
    "\n",
    "# Settings\n",
    "%matplotlib inline\n",
    "matplotlib.style.use('ggplot')\n",
    "warnings.filterwarnings('ignore')"
   ]
  },
  {
   "cell_type": "markdown",
   "metadata": {},
   "source": [
    "## Prepare Data"
   ]
  },
  {
   "cell_type": "code",
   "execution_count": 2,
   "metadata": {},
   "outputs": [],
   "source": [
    "# Import data\n",
    "df = pd.read_csv('train.csv')\n",
    "\n",
    "# Clean data\n",
    "df = kt.clean_all(df)\n",
    "\n",
    "# Encode data (only for RFECV purposes)\n",
    "df_encoded, _ = kt.encode_train(df)"
   ]
  },
  {
   "cell_type": "markdown",
   "metadata": {},
   "source": [
    "## Global Settings"
   ]
  },
  {
   "cell_type": "code",
   "execution_count": 3,
   "metadata": {},
   "outputs": [],
   "source": [
    "# Create fold indices\n",
    "folds = kt.get_folds(df=df, random_state=123)\n",
    "\n",
    "# Get all datasets\n",
    "all_sets = kt.prep_sets(df, folds)"
   ]
  },
  {
   "cell_type": "markdown",
   "metadata": {},
   "source": [
    "## Iteration 1: Optimise No. of Trees"
   ]
  },
  {
   "cell_type": "code",
   "execution_count": 4,
   "metadata": {
    "scrolled": false
   },
   "outputs": [
    {
     "name": "stdout",
     "output_type": "stream",
     "text": [
      "Computing test scores for n_estimators = 100...Done!\n",
      "Computing test scores for n_estimators = 250...Done!\n",
      "Computing test scores for n_estimators = 500...Done!\n",
      "Computing test scores for n_estimators = 1000...Done!\n",
      "Computing test scores for n_estimators = 1500...Done!\n",
      "Computing test scores for n_estimators = 2000...Done!\n",
      "Computing test scores for n_estimators = 2500...Done!\n",
      "Computing test scores for n_estimators = 3000...Done!\n",
      "Computing test scores for n_estimators = 4000...Done!\n",
      "Computing test scores for n_estimators = 5000...Done!\n",
      "Computing test scores for n_estimators = 6000...Done!\n",
      "\n",
      "\n",
      "[ RESULTS ]\n",
      "   Best Score: 0.8341076258596837\n",
      "Optimal Value: 100\n"
     ]
    },
    {
     "data": {
      "image/png": "[encoded data removed]",
      "text/plain": [
       "<matplotlib.figure.Figure at 0x1f1114e9be0>"
      ]
     },
     "metadata": {},
     "output_type": "display_data"
    }
   ],
   "source": [
    "# Define parameters\n",
    "param_n_estimators = [100, 250, 500, 1000, 1500, 2000, 2500, 3000, 4000, 5000, 6000]\n",
    "params = {\n",
    "    'n_estimators': param_n_estimators\n",
    "}\n",
    "\n",
    "# Grid Search with CV\n",
    "cv_res, best_n_estimators = kt.score_grid(\n",
    "    estimator = LGBMClassifier(\n",
    "        boosting_type = 'gbdt',\n",
    "        objective = 'binary',\n",
    "        subsample_freq = 1,\n",
    "        max_depth = 5,\n",
    "        # n_estimators = ,\n",
    "        colsample_bytree = 0.5,\n",
    "        subsample = 0.75,\n",
    "        # learning_rate = ,\n",
    "        # min_child_samples = ,\n",
    "        # reg_alpha = ,\n",
    "        # reg_lambda = ,\n",
    "        random_state = 123,\n",
    "        n_jobs = 3\n",
    "    ),\n",
    "    params = params,\n",
    "    all_sets = all_sets,\n",
    "    n_jobs = 3,\n",
    "    verbose = True\n",
    ")"
   ]
  },
  {
   "cell_type": "markdown",
   "metadata": {},
   "source": [
    "## Iteration 2: RFECV for Feature Selection"
   ]
  },
  {
   "cell_type": "code",
   "execution_count": 5,
   "metadata": {},
   "outputs": [
    {
     "name": "stderr",
     "output_type": "stream",
     "text": [
      "[Parallel(n_jobs=3)]: Using backend LokyBackend with 3 concurrent workers.\n",
      "[Parallel(n_jobs=3)]: Done  25 out of  25 | elapsed:  1.4min finished\n"
     ]
    },
    {
     "name": "stdout",
     "output_type": "stream",
     "text": [
      "   Best Score: 0.8359003853837186\n",
      "Optimal Value: 53\n"
     ]
    },
    {
     "data": {
      "image/png": "[encoded data removed]",
      "text/plain": [
       "<matplotlib.figure.Figure at 0x1f1114fa400>"
      ]
     },
     "metadata": {},
     "output_type": "display_data"
    }
   ],
   "source": [
    "# Run RFECV\n",
    "cv_res, best_n_features, opt_feats = kt.custom_rfecv(\n",
    "    estimator = LGBMClassifier(\n",
    "        boosting_type = 'gbdt',\n",
    "        objective = 'binary',\n",
    "        subsample_freq = 1,\n",
    "        max_depth = 5,\n",
    "        n_estimators = best_n_estimators,\n",
    "        colsample_bytree = 0.5,\n",
    "        subsample = 0.75,\n",
    "        # learning_rate = ,\n",
    "        # min_child_samples = ,\n",
    "        # reg_alpha = ,\n",
    "        # reg_lambda = ,\n",
    "        random_state = 123,\n",
    "        n_jobs = 3\n",
    "    ),\n",
    "    sub_sets = all_sets,\n",
    "    df = df_encoded,\n",
    "    step = 1,\n",
    "    n_jobs = 3,\n",
    "    verbose = True\n",
    ")"
   ]
  },
  {
   "cell_type": "markdown",
   "metadata": {},
   "source": [
    "### Subset Features"
   ]
  },
  {
   "cell_type": "code",
   "execution_count": 6,
   "metadata": {},
   "outputs": [
    {
     "name": "stdout",
     "output_type": "stream",
     "text": [
      "['pclass_OC', 'sex_BN', 'age_OC', 'age_NM', 'sibsp_NM', 'sibsp_OC', 'parch_NM', 'parch_OC', 'fare_NM', 'fare_OC', 'pclass_ME', 'title_ME', 'age_ME', 'sibsp_ME', 'parch_ME', 'ticlen_ME', 'fare_ME', 'cabletter_ME', 'cabno_ME', 'embarked_ME', 'pclass_OH_CLASS2', 'pclass_OH_CLASS3', 'title_OH_Master.', 'title_OH_Miss.', 'title_OH_Mr.', 'title_OH_Mrs.', 'sex_OH_female', 'sex_OH_male', 'age_OH_A3', 'age_OH_A4', 'age_OH_A5', 'age_OH_A6', 'age_OH_A7', 'age_OH_A8', 'sibsp_OH_None', 'sibsp_OH_One', 'parch_OH_None', 'ticlen_OH_L4', 'ticlen_OH_L5', 'ticlen_OH_L6', 'ticlen_OH_LO', 'fare_OH_G0', 'fare_OH_G2', 'fare_OH_G3', 'fare_OH_G4', 'cabletter_OH_B/D/E', 'cabletter_OH_NIL', 'cabletter_OH_Others', 'cabno_OH_C1', 'cabno_OH_C2', 'embarked_OH_C', 'embarked_OH_Q', 'embarked_OH_S']\n"
     ]
    }
   ],
   "source": [
    "# Separate features\n",
    "final_feats = list(opt_feats)\n",
    "print(final_feats)"
   ]
  },
  {
   "cell_type": "code",
   "execution_count": 7,
   "metadata": {
    "scrolled": false
   },
   "outputs": [],
   "source": [
    "# Re-generate sets\n",
    "new_sets = kt.prep_sets(df = df, folds = folds, feats = final_feats)"
   ]
  },
  {
   "cell_type": "markdown",
   "metadata": {},
   "source": [
    "## Iteration 3: Tune Maximum Features"
   ]
  },
  {
   "cell_type": "code",
   "execution_count": 8,
   "metadata": {},
   "outputs": [],
   "source": [
    "# Get max features\n",
    "n_feat = np.min([new_sets[i][0].shape[1] for i in range(len(new_sets))])"
   ]
  },
  {
   "cell_type": "code",
   "execution_count": 9,
   "metadata": {
    "scrolled": false
   },
   "outputs": [
    {
     "name": "stdout",
     "output_type": "stream",
     "text": [
      "Computing test scores for colsample_bytree = 0.03773584905660377...Done!\n",
      "Computing test scores for colsample_bytree = 0.05660377358490566...Done!\n",
      "Computing test scores for colsample_bytree = 0.07547169811320756...Done!\n",
      "Computing test scores for colsample_bytree = 0.09433962264150944...Done!\n",
      "Computing test scores for colsample_bytree = 0.11320754716981132...Done!\n",
      "Computing test scores for colsample_bytree = 0.1320754716981132...Done!\n",
      "Computing test scores for colsample_bytree = 0.15094339622641512...Done!\n",
      "Computing test scores for colsample_bytree = 0.169811320754717...Done!\n",
      "Computing test scores for colsample_bytree = 0.18867924528301888...Done!\n",
      "Computing test scores for colsample_bytree = 0.20754716981132076...Done!\n",
      "Computing test scores for colsample_bytree = 0.22641509433962265...Done!\n",
      "Computing test scores for colsample_bytree = 0.24528301886792456...Done!\n",
      "Computing test scores for colsample_bytree = 0.26415094339622647...Done!\n",
      "Computing test scores for colsample_bytree = 0.28301886792452835...Done!\n",
      "Computing test scores for colsample_bytree = 0.30188679245283023...Done!\n",
      "Computing test scores for colsample_bytree = 0.3207547169811321...Done!\n",
      "Computing test scores for colsample_bytree = 0.339622641509434...Done!\n",
      "Computing test scores for colsample_bytree = 0.3584905660377359...Done!\n",
      "Computing test scores for colsample_bytree = 0.37735849056603776...Done!\n",
      "Computing test scores for colsample_bytree = 0.39622641509433965...Done!\n",
      "Computing test scores for colsample_bytree = 0.41509433962264153...Done!\n",
      "Computing test scores for colsample_bytree = 0.43396226415094347...Done!\n",
      "Computing test scores for colsample_bytree = 0.45283018867924535...Done!\n",
      "Computing test scores for colsample_bytree = 0.47169811320754723...Done!\n",
      "Computing test scores for colsample_bytree = 0.4905660377358491...Done!\n",
      "Computing test scores for colsample_bytree = 0.509433962264151...Done!\n",
      "Computing test scores for colsample_bytree = 0.5283018867924529...Done!\n",
      "Computing test scores for colsample_bytree = 0.5471698113207548...Done!\n",
      "Computing test scores for colsample_bytree = 0.5660377358490567...Done!\n",
      "Computing test scores for colsample_bytree = 0.5849056603773586...Done!\n",
      "Computing test scores for colsample_bytree = 0.6037735849056605...Done!\n",
      "Computing test scores for colsample_bytree = 0.6226415094339623...Done!\n",
      "Computing test scores for colsample_bytree = 0.6415094339622642...Done!\n",
      "Computing test scores for colsample_bytree = 0.6603773584905661...Done!\n",
      "Computing test scores for colsample_bytree = 0.679245283018868...Done!\n",
      "Computing test scores for colsample_bytree = 0.6981132075471699...Done!\n",
      "Computing test scores for colsample_bytree = 0.7169811320754718...Done!\n",
      "Computing test scores for colsample_bytree = 0.7358490566037736...Done!\n",
      "Computing test scores for colsample_bytree = 0.7547169811320755...Done!\n",
      "Computing test scores for colsample_bytree = 0.7735849056603774...Done!\n",
      "Computing test scores for colsample_bytree = 0.7924528301886793...Done!\n",
      "Computing test scores for colsample_bytree = 0.8113207547169813...Done!\n",
      "Computing test scores for colsample_bytree = 0.8301886792452832...Done!\n",
      "Computing test scores for colsample_bytree = 0.849056603773585...Done!\n",
      "Computing test scores for colsample_bytree = 0.8679245283018869...Done!\n",
      "Computing test scores for colsample_bytree = 0.8867924528301888...Done!\n",
      "Computing test scores for colsample_bytree = 0.9056603773584907...Done!\n",
      "Computing test scores for colsample_bytree = 0.9245283018867926...Done!\n",
      "Computing test scores for colsample_bytree = 0.9433962264150945...Done!\n",
      "Computing test scores for colsample_bytree = 0.9622641509433963...Done!\n",
      "Computing test scores for colsample_bytree = 0.9811320754716982...Done!\n",
      "\n",
      "\n",
      "[ RESULTS ]\n",
      "   Best Score: 0.8365820751709259\n",
      "Optimal Value: 0.15094339622641512\n"
     ]
    },
    {
     "data": {
      "image/png": "[encoded data removed]",
      "text/plain": [
       "<matplotlib.figure.Figure at 0x1f1118d4320>"
      ]
     },
     "metadata": {},
     "output_type": "display_data"
    }
   ],
   "source": [
    "# Define parameters\n",
    "param_max_feat = np.arange(2/n_feat, 1, 1/n_feat)\n",
    "params = {\n",
    "    'colsample_bytree': param_max_feat\n",
    "}\n",
    "\n",
    "# Grid Search with CV\n",
    "cv_res, best_colsample_bytree = kt.score_grid(\n",
    "    estimator = LGBMClassifier(\n",
    "        boosting_type = 'gbdt',\n",
    "        objective = 'binary',\n",
    "        subsample_freq = 1,\n",
    "        max_depth = 5,\n",
    "        n_estimators = best_n_estimators,\n",
    "        colsample_bytree = 0.5,\n",
    "        subsample = 0.75,\n",
    "        # learning_rate = ,\n",
    "        # min_child_samples = ,\n",
    "        # reg_alpha = ,\n",
    "        # reg_lambda = ,\n",
    "        random_state = 123,\n",
    "        n_jobs = 3\n",
    "    ),\n",
    "    params = params,\n",
    "    all_sets = new_sets,\n",
    "    n_jobs = 3,\n",
    "    verbose = True\n",
    ")"
   ]
  },
  {
   "cell_type": "code",
   "execution_count": 10,
   "metadata": {},
   "outputs": [
    {
     "name": "stdout",
     "output_type": "stream",
     "text": [
      "0.15094339622641512\n"
     ]
    }
   ],
   "source": [
    "print(best_colsample_bytree)"
   ]
  },
  {
   "cell_type": "markdown",
   "metadata": {},
   "source": [
    "## Iteration 4: Tune Subsampling Proportion"
   ]
  },
  {
   "cell_type": "code",
   "execution_count": 11,
   "metadata": {},
   "outputs": [
    {
     "name": "stdout",
     "output_type": "stream",
     "text": [
      "Computing test scores for subsample = 0.3...Done!\n",
      "Computing test scores for subsample = 0.4...Done!\n",
      "Computing test scores for subsample = 0.5...Done!\n",
      "Computing test scores for subsample = 0.6...Done!\n",
      "Computing test scores for subsample = 0.7...Done!\n",
      "Computing test scores for subsample = 0.8...Done!\n",
      "Computing test scores for subsample = 0.9...Done!\n",
      "Computing test scores for subsample = 0.99...Done!\n",
      "\n",
      "\n",
      "[ RESULTS ]\n",
      "   Best Score: 0.8370277471312549\n",
      "Optimal Value: 0.9\n"
     ]
    },
    {
     "data": {
      "image/png": "[encoded data removed]",
      "text/plain": [
       "<matplotlib.figure.Figure at 0x1f111a8aa90>"
      ]
     },
     "metadata": {},
     "output_type": "display_data"
    }
   ],
   "source": [
    "# Define parameters\n",
    "param_subsample = [0.3, 0.4, 0.5, 0.6, 0.7, 0.8, 0.9, 0.99]\n",
    "params = {\n",
    "    'subsample': param_subsample\n",
    "}\n",
    "\n",
    "# Grid Search with CV\n",
    "cv_res, best_subsample = kt.score_grid(\n",
    "    estimator = LGBMClassifier(\n",
    "        boosting_type = 'gbdt',\n",
    "        objective = 'binary',\n",
    "        subsample_freq = 1,\n",
    "        max_depth = 5,\n",
    "        n_estimators = best_n_estimators,\n",
    "        colsample_bytree = best_colsample_bytree,\n",
    "        # subsample = 0.75,\n",
    "        # learning_rate = ,\n",
    "        # min_child_samples = ,\n",
    "        # reg_alpha = ,\n",
    "        # reg_lambda = ,\n",
    "        random_state = 123,\n",
    "        n_jobs = 3\n",
    "    ),\n",
    "    params = params,\n",
    "    all_sets = new_sets,\n",
    "    n_jobs = 3,\n",
    "    verbose = True\n",
    ")"
   ]
  },
  {
   "cell_type": "markdown",
   "metadata": {},
   "source": [
    "## Iteration 5: Tune Learning Rate"
   ]
  },
  {
   "cell_type": "code",
   "execution_count": 12,
   "metadata": {},
   "outputs": [
    {
     "name": "stdout",
     "output_type": "stream",
     "text": [
      "Computing test scores for learning_rate = 0.001...Done!\n",
      "Computing test scores for learning_rate = 0.005...Done!\n",
      "Computing test scores for learning_rate = 0.01...Done!\n",
      "Computing test scores for learning_rate = 0.05...Done!\n",
      "Computing test scores for learning_rate = 0.1...Done!\n",
      "Computing test scores for learning_rate = 0.2...Done!\n",
      "Computing test scores for learning_rate = 0.3...Done!\n",
      "\n",
      "\n",
      "[ RESULTS ]\n",
      "   Best Score: 0.8370277471312549\n",
      "Optimal Value: 0.1\n"
     ]
    },
    {
     "data": {
      "image/png": "[encoded data removed]",
      "text/plain": [
       "<matplotlib.figure.Figure at 0x1f111bcbdd8>"
      ]
     },
     "metadata": {},
     "output_type": "display_data"
    }
   ],
   "source": [
    "# Define parameters\n",
    "param_learning_rate = [0.001,0.005,0.01,0.05,0.1,0.2,0.3]\n",
    "params = {\n",
    "    'learning_rate': param_learning_rate\n",
    "}\n",
    "\n",
    "# Grid Search with CV\n",
    "cv_res, best_learn_rate = kt.score_grid(\n",
    "    estimator = LGBMClassifier(\n",
    "        boosting_type = 'gbdt',\n",
    "        objective = 'binary',\n",
    "        subsample_freq = 1,\n",
    "        max_depth = 5,\n",
    "        n_estimators = best_n_estimators,\n",
    "        colsample_bytree = best_colsample_bytree,\n",
    "        subsample = best_subsample,\n",
    "        # learning_rate = ,\n",
    "        # min_child_samples = ,\n",
    "        # reg_alpha = ,\n",
    "        # reg_lambda = ,\n",
    "        random_state = 123,\n",
    "        n_jobs = 3\n",
    "    ),\n",
    "    params = params,\n",
    "    all_sets = new_sets,\n",
    "    n_jobs = 3,\n",
    "    verbose = True\n",
    ")"
   ]
  },
  {
   "cell_type": "markdown",
   "metadata": {},
   "source": [
    "## Iteration 5: Tune Min. Samples in Leaf"
   ]
  },
  {
   "cell_type": "code",
   "execution_count": 13,
   "metadata": {},
   "outputs": [
    {
     "name": "stdout",
     "output_type": "stream",
     "text": [
      "Computing test scores for min_child_samples = 1...Done!\n",
      "Computing test scores for min_child_samples = 5...Done!\n",
      "Computing test scores for min_child_samples = 10...Done!\n",
      "Computing test scores for min_child_samples = 20...Done!\n",
      "Computing test scores for min_child_samples = 30...Done!\n",
      "Computing test scores for min_child_samples = 40...Done!\n",
      "Computing test scores for min_child_samples = 50...Done!\n",
      "\n",
      "\n",
      "[ RESULTS ]\n",
      "   Best Score: 0.8370277471312549\n",
      "Optimal Value: 20\n"
     ]
    },
    {
     "data": {
      "image/png": "[encoded data removed]",
      "text/plain": [
       "<matplotlib.figure.Figure at 0x1f1114fb048>"
      ]
     },
     "metadata": {},
     "output_type": "display_data"
    }
   ],
   "source": [
    "# Define parameters\n",
    "param_min_leaf = [1,5,10,20,30,40,50]\n",
    "params = {\n",
    "    'min_child_samples': param_min_leaf\n",
    "}\n",
    "\n",
    "# Grid Search with CV\n",
    "cv_res, best_min_leaf = kt.score_grid(\n",
    "    estimator = LGBMClassifier(\n",
    "        boosting_type = 'gbdt',\n",
    "        objective = 'binary',\n",
    "        subsample_freq = 1,\n",
    "        max_depth = 5,\n",
    "        n_estimators = best_n_estimators,\n",
    "        colsample_bytree = best_colsample_bytree,\n",
    "        subsample = best_subsample,\n",
    "        learning_rate = best_learn_rate,\n",
    "        # min_child_samples = ,\n",
    "        # reg_alpha = ,\n",
    "        # reg_lambda = ,\n",
    "        random_state = 123,\n",
    "        n_jobs = 3\n",
    "    ),\n",
    "    params = params,\n",
    "    all_sets = new_sets,\n",
    "    n_jobs = 3,\n",
    "    verbose = True\n",
    ")"
   ]
  },
  {
   "cell_type": "markdown",
   "metadata": {},
   "source": [
    "## Iteration 6: Tune L1 Regularisation (Alpha)"
   ]
  },
  {
   "cell_type": "code",
   "execution_count": 14,
   "metadata": {},
   "outputs": [
    {
     "name": "stdout",
     "output_type": "stream",
     "text": [
      "Computing test scores for reg_alpha = 0...Done!\n",
      "Computing test scores for reg_alpha = 0.1...Done!\n",
      "Computing test scores for reg_alpha = 0.2...Done!\n",
      "Computing test scores for reg_alpha = 0.3...Done!\n",
      "Computing test scores for reg_alpha = 0.4...Done!\n",
      "Computing test scores for reg_alpha = 0.5...Done!\n",
      "Computing test scores for reg_alpha = 0.6...Done!\n",
      "Computing test scores for reg_alpha = 0.7...Done!\n",
      "Computing test scores for reg_alpha = 0.8...Done!\n",
      "Computing test scores for reg_alpha = 0.9...Done!\n",
      "\n",
      "\n",
      "[ RESULTS ]\n",
      "   Best Score: 0.8388356283648375\n",
      "Optimal Value: 0.2\n"
     ]
    },
    {
     "data": {
      "image/png": "[encoded data removed]",
      "text/plain": [
       "<matplotlib.figure.Figure at 0x1f111b70d30>"
      ]
     },
     "metadata": {},
     "output_type": "display_data"
    }
   ],
   "source": [
    "# Define parameters\n",
    "param_alpha = [0, 0.1, 0.2, 0.3, 0.4, 0.5, 0.6, 0.7, 0.8, 0.9]\n",
    "params = {\n",
    "    'reg_alpha': param_alpha\n",
    "}\n",
    "\n",
    "# Grid Search with CV\n",
    "cv_res, best_alpha = kt.score_grid(\n",
    "    estimator = LGBMClassifier(\n",
    "        boosting_type = 'gbdt',\n",
    "        objective = 'binary',\n",
    "        subsample_freq = 1,\n",
    "        max_depth = 5,\n",
    "        n_estimators = best_n_estimators,\n",
    "        colsample_bytree = best_colsample_bytree,\n",
    "        subsample = best_subsample,\n",
    "        learning_rate = best_learn_rate,\n",
    "        min_child_samples = best_min_leaf,\n",
    "        # reg_alpha = ,\n",
    "        # reg_lambda = ,\n",
    "        random_state = 123,\n",
    "        n_jobs = 3\n",
    "    ),\n",
    "    params = params,\n",
    "    all_sets = new_sets,\n",
    "    n_jobs = 3,\n",
    "    verbose = True\n",
    ")"
   ]
  },
  {
   "cell_type": "markdown",
   "metadata": {},
   "source": [
    "## Iteration 7: Tune L2 Regularisation (Lambda)"
   ]
  },
  {
   "cell_type": "code",
   "execution_count": 15,
   "metadata": {},
   "outputs": [
    {
     "name": "stdout",
     "output_type": "stream",
     "text": [
      "Computing test scores for reg_lambda = 0...Done!\n",
      "Computing test scores for reg_lambda = 0.1...Done!\n",
      "Computing test scores for reg_lambda = 0.2...Done!\n",
      "Computing test scores for reg_lambda = 0.3...Done!\n",
      "Computing test scores for reg_lambda = 0.4...Done!\n",
      "Computing test scores for reg_lambda = 0.5...Done!\n",
      "Computing test scores for reg_lambda = 0.6...Done!\n",
      "Computing test scores for reg_lambda = 0.7...Done!\n",
      "Computing test scores for reg_lambda = 0.8...Done!\n",
      "Computing test scores for reg_lambda = 0.9...Done!\n",
      "\n",
      "\n",
      "[ RESULTS ]\n",
      "   Best Score: 0.8388356283648375\n",
      "Optimal Value: 0\n"
     ]
    },
    {
     "data": {
      "image/png": "[encoded data removed]",
      "text/plain": [
       "<matplotlib.figure.Figure at 0x1f112c50780>"
      ]
     },
     "metadata": {},
     "output_type": "display_data"
    }
   ],
   "source": [
    "# Define parameters\n",
    "param_lambda = [0, 0.1, 0.2, 0.3, 0.4, 0.5, 0.6, 0.7, 0.8, 0.9]\n",
    "params = {\n",
    "    'reg_lambda': param_lambda\n",
    "}\n",
    "\n",
    "# Grid Search with CV\n",
    "cv_res, best_lambda = kt.score_grid(\n",
    "    estimator = LGBMClassifier(\n",
    "        boosting_type = 'gbdt',\n",
    "        objective = 'binary',\n",
    "        subsample_freq = 1,\n",
    "        max_depth = 5,\n",
    "        n_estimators = best_n_estimators,\n",
    "        colsample_bytree = best_colsample_bytree,\n",
    "        subsample = best_subsample,\n",
    "        learning_rate = best_learn_rate,\n",
    "        min_child_samples = best_min_leaf,\n",
    "        reg_alpha = best_alpha,\n",
    "        # reg_lambda = ,\n",
    "        random_state = 123,\n",
    "        n_jobs = 3\n",
    "    ),\n",
    "    params = params,\n",
    "    all_sets = new_sets,\n",
    "    n_jobs = 3,\n",
    "    verbose = True\n",
    ")"
   ]
  },
  {
   "cell_type": "markdown",
   "metadata": {},
   "source": [
    "## Results"
   ]
  },
  {
   "cell_type": "code",
   "execution_count": 16,
   "metadata": {},
   "outputs": [
    {
     "name": "stdout",
     "output_type": "stream",
     "text": [
      "Trees: 100\n",
      "Features: 53\n",
      "Feature Proportions: 0.15094339622641512\n",
      "Subsample: 0.9\n",
      "Learning Rate: 0.1\n",
      "Min Child Leaf: 20\n",
      "Alpha: 0.2\n",
      "Lambda: 0\n"
     ]
    }
   ],
   "source": [
    "# Print\n",
    "print('Trees: ' + str(best_n_estimators))\n",
    "print('Features: ' + str(len(final_feats)))\n",
    "print('Feature Proportions: ' + str(best_colsample_bytree))\n",
    "print('Subsample: ' + str(best_subsample))\n",
    "print('Learning Rate: ' + str(best_learn_rate))\n",
    "print('Min Child Leaf: ' + str(best_min_leaf))\n",
    "print('Alpha: ' + str(best_alpha))\n",
    "print('Lambda: ' + str(best_lambda))"
   ]
  }
 ],
 "metadata": {
  "kernelspec": {
   "display_name": "Python 3",
   "language": "python",
   "name": "python3"
  },
  "language_info": {
   "codemirror_mode": {
    "name": "ipython",
    "version": 3
   },
   "file_extension": ".py",
   "mimetype": "text/x-python",
   "name": "python",
   "nbconvert_exporter": "python",
   "pygments_lexer": "ipython3",
   "version": "3.6.6"
  }
 },
 "nbformat": 4,
 "nbformat_minor": 2
}
