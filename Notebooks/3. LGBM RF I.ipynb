{
 "cells": [
  {
   "cell_type": "markdown",
   "metadata": {},
   "source": [
    "# Light GBM Random Forest - Low Depth; Approach I\n",
    "As part of the overall stacking model, I will develop two Random Forest (RF) models: one with a relative low depth, and one with a high depth. I define low depth as `max_depth = 5` and high depth as `max_depth = 15`. With the depth defined, I tune the remaining parameters sequentially.  \n",
    "  \n",
    "In this notebook, I set out to optimise a **low depth RF model** using the LightGBM package. The optimisation sequence was as follows:  \n",
    "  \n",
    "1. No. of Trees (1,000)\n",
    "2. RFECV (27)\n",
    "3. Max Features (8/27)\n",
    "4. Min Samples in Leaf (5)\n",
    "5. L1 Regularisation (0)\n",
    "6. L2 Regularisation (0)\n",
    "7. Subsampling (0.7)\n",
    "  \n",
    "The final CV score was **83.3895%**."
   ]
  },
  {
   "cell_type": "code",
   "execution_count": 1,
   "metadata": {},
   "outputs": [
    {
     "name": "stderr",
     "output_type": "stream",
     "text": [
      "C:\\Users\\user\\Anaconda3\\lib\\site-packages\\sklearn\\ensemble\\weight_boosting.py:29: DeprecationWarning: numpy.core.umath_tests is an internal NumPy module and should not be imported. It will be removed in a future NumPy release.\n",
      "  from numpy.core.umath_tests import inner1d\n"
     ]
    }
   ],
   "source": [
    "# Import modules\n",
    "import datetime\n",
    "import pandas as pd\n",
    "import numpy as np\n",
    "import matplotlib.pyplot as plt\n",
    "import matplotlib\n",
    "import seaborn as sns\n",
    "from sklearn.decomposition import PCA\n",
    "from sklearn.ensemble import RandomForestClassifier\n",
    "from sklearn.feature_selection import RFECV\n",
    "from sklearn.manifold import Isomap\n",
    "from sklearn.metrics import accuracy_score, auc, make_scorer, mean_squared_error, r2_score\n",
    "from sklearn.model_selection import cross_val_score, train_test_split, GridSearchCV, RepeatedKFold, KFold, RepeatedStratifiedKFold\n",
    "from sklearn.preprocessing import StandardScaler, MinMaxScaler, MaxAbsScaler, Normalizer, RobustScaler\n",
    "from lightgbm import LGBMClassifier\n",
    "import warnings\n",
    "\n",
    "# Settings\n",
    "%matplotlib inline\n",
    "matplotlib.style.use('ggplot')\n",
    "warnings.filterwarnings('ignore')"
   ]
  },
  {
   "cell_type": "markdown",
   "metadata": {},
   "source": [
    "## Prepare Data"
   ]
  },
  {
   "cell_type": "code",
   "execution_count": 2,
   "metadata": {},
   "outputs": [],
   "source": [
    "# Import data\n",
    "df = pd.read_csv('train_clean.csv')\n",
    "\n",
    "# Data and labels\n",
    "X = df.drop('Survived', axis = 1)\n",
    "X = pd.get_dummies(X)\n",
    "y = df['Survived']"
   ]
  },
  {
   "cell_type": "markdown",
   "metadata": {},
   "source": [
    "## Global Settings and Functions"
   ]
  },
  {
   "cell_type": "code",
   "execution_count": 3,
   "metadata": {},
   "outputs": [],
   "source": [
    "# Repeated 5-fold validation\n",
    "rkf = RepeatedStratifiedKFold(n_repeats=5, n_splits=5, random_state=123)\n",
    "\n",
    "# Function to extract CV test results\n",
    "def gaia_get_test(cv_object, params, title = 'Test Scores vs. Parameter'):\n",
    "    \n",
    "    # Extract test scores\n",
    "    temp_test = cv_object.cv_results_['mean_test_score']\n",
    "    \n",
    "    # Plot\n",
    "    plt.plot(params, temp_test)\n",
    "    plt.title(title)\n",
    "    plt.show()"
   ]
  },
  {
   "cell_type": "markdown",
   "metadata": {},
   "source": [
    "## Iteration 1: Optimise No. of Trees\n",
    "With `max_depth = 5`, the optimal number of trees was 1,000. Although accuracy was increasing from 2500 to 3000, this would be computationally too intensive."
   ]
  },
  {
   "cell_type": "code",
   "execution_count": 4,
   "metadata": {},
   "outputs": [],
   "source": [
    "# Define parameters\n",
    "param_n_estimators = [100, 250, 500, 1000, 1500, 2000, 2500, 3000, 4000, 5000]\n",
    "params = {\n",
    "    'n_estimators': param_n_estimators\n",
    "}"
   ]
  },
  {
   "cell_type": "code",
   "execution_count": 5,
   "metadata": {},
   "outputs": [
    {
     "name": "stdout",
     "output_type": "stream",
     "text": [
      "Fitting 25 folds for each of 10 candidates, totalling 250 fits\n"
     ]
    },
    {
     "name": "stderr",
     "output_type": "stream",
     "text": [
      "[Parallel(n_jobs=3)]: Done  44 tasks      | elapsed:    8.1s\n",
      "[Parallel(n_jobs=3)]: Done 194 tasks      | elapsed:  3.4min\n",
      "[Parallel(n_jobs=3)]: Done 250 out of 250 | elapsed:  6.6min finished\n"
     ]
    },
    {
     "data": {
      "text/plain": [
       "GridSearchCV(cv=<sklearn.model_selection._split.RepeatedStratifiedKFold object at 0x000002102AF28DD8>,\n",
       "       error_score='raise',\n",
       "       estimator=LGBMClassifier(boosting_type='rf', class_weight=None, colsample_bytree=0.5,\n",
       "        learning_rate=0.1, max_depth=5, min_child_samples=20,\n",
       "        min_child_weight=0.001, min_split_gain=0.0, n_estimators=100,\n",
       "        n_jobs=3, num_leaves=31, objective='binary', random_state=123,\n",
       "        reg_alpha=0.0, reg_lambda=0.0, silent=True, subsample=0.75,\n",
       "        subsample_for_bin=200000, subsample_freq=1),\n",
       "       fit_params=None, iid=True, n_jobs=3,\n",
       "       param_grid={'n_estimators': [100, 250, 500, 1000, 1500, 2000, 2500, 3000, 4000, 5000]},\n",
       "       pre_dispatch='2*n_jobs', refit=True, return_train_score='warn',\n",
       "       scoring=None, verbose=1)"
      ]
     },
     "execution_count": 5,
     "metadata": {},
     "output_type": "execute_result"
    }
   ],
   "source": [
    "# Create RF model\n",
    "rf_low = GridSearchCV(\n",
    "    estimator = LGBMClassifier(\n",
    "        boosting_type = 'rf',\n",
    "        objective = 'binary',\n",
    "        subsample = 0.75,\n",
    "        subsample_freq = 1,\n",
    "        max_depth = 5,\n",
    "        # n_estimators = ,\n",
    "        colsample_bytree = 0.5,\n",
    "        # min_child_samples = ,\n",
    "        # reg_alpha = ,\n",
    "        # reg_lambda = ,\n",
    "        random_state = 123,\n",
    "        n_jobs = 3\n",
    "    ),\n",
    "    param_grid = params,\n",
    "    n_jobs = 3,\n",
    "    cv = rkf,\n",
    "    verbose = 1\n",
    ")\n",
    "\n",
    "# Train model\n",
    "rf_low.fit(X, y)"
   ]
  },
  {
   "cell_type": "code",
   "execution_count": 6,
   "metadata": {},
   "outputs": [
    {
     "name": "stdout",
     "output_type": "stream",
     "text": [
      "Best Score: 0.8246913580246914\n",
      "Best Params: {'n_estimators': 1000}\n"
     ]
    },
    {
     "data": {
      "image/png": "[encoded data removed]",
      "text/plain": [
       "<matplotlib.figure.Figure at 0x2102af6be10>"
      ]
     },
     "metadata": {},
     "output_type": "display_data"
    }
   ],
   "source": [
    "# Save results\n",
    "best_n_estimators = rf_low.best_params_['n_estimators']\n",
    "\n",
    "# Print results\n",
    "print('Best Score: ' + str(rf_low.best_score_))\n",
    "print('Best Params: ' + str(rf_low.best_params_))\n",
    "\n",
    "# Plot results\n",
    "gaia_get_test(rf_low, param_n_estimators, 'No. of Trees')"
   ]
  },
  {
   "cell_type": "markdown",
   "metadata": {},
   "source": [
    "## Iteration 2: Run RFECV"
   ]
  },
  {
   "cell_type": "code",
   "execution_count": 7,
   "metadata": {},
   "outputs": [
    {
     "name": "stdout",
     "output_type": "stream",
     "text": [
      "Fitting estimator with 55 features.\n",
      "Fitting estimator with 54 features.\n",
      "Fitting estimator with 53 features.\n",
      "Fitting estimator with 52 features.\n",
      "Fitting estimator with 51 features.\n",
      "Fitting estimator with 50 features.\n",
      "Fitting estimator with 49 features.\n",
      "Fitting estimator with 48 features.\n",
      "Fitting estimator with 47 features.\n",
      "Fitting estimator with 46 features.\n",
      "Fitting estimator with 45 features.\n",
      "Fitting estimator with 44 features.\n",
      "Fitting estimator with 43 features.\n",
      "Fitting estimator with 42 features.\n",
      "Fitting estimator with 41 features.\n",
      "Fitting estimator with 40 features.\n",
      "Fitting estimator with 39 features.\n",
      "Fitting estimator with 38 features.\n",
      "Fitting estimator with 37 features.\n",
      "Fitting estimator with 36 features.\n",
      "Fitting estimator with 35 features.\n",
      "Fitting estimator with 34 features.\n",
      "Fitting estimator with 33 features.\n",
      "Fitting estimator with 32 features.\n",
      "Fitting estimator with 31 features.\n",
      "Fitting estimator with 30 features.\n",
      "Fitting estimator with 29 features.\n",
      "Fitting estimator with 28 features.\n",
      "Fitting estimator with 27 features.\n",
      "Fitting estimator with 26 features.\n",
      "Fitting estimator with 25 features.\n",
      "Fitting estimator with 24 features.\n",
      "Fitting estimator with 23 features.\n",
      "Fitting estimator with 22 features.\n",
      "Fitting estimator with 21 features.\n",
      "Fitting estimator with 20 features.\n",
      "Fitting estimator with 19 features.\n",
      "Fitting estimator with 18 features.\n",
      "Fitting estimator with 17 features.\n",
      "Fitting estimator with 16 features.\n",
      "Fitting estimator with 15 features.\n",
      "Fitting estimator with 14 features.\n",
      "Fitting estimator with 13 features.\n",
      "Fitting estimator with 12 features.\n",
      "Fitting estimator with 11 features.\n",
      "Fitting estimator with 10 features.\n",
      "Fitting estimator with 9 features.\n",
      "Fitting estimator with 8 features.\n",
      "Fitting estimator with 7 features.\n",
      "Fitting estimator with 6 features.\n",
      "Fitting estimator with 5 features.\n",
      "Fitting estimator with 4 features.\n",
      "Fitting estimator with 3 features.\n",
      "Fitting estimator with 2 features.\n",
      "Fitting estimator with 55 features.\n",
      "Fitting estimator with 54 features.\n",
      "Fitting estimator with 53 features.\n",
      "Fitting estimator with 52 features.\n",
      "Fitting estimator with 51 features.\n",
      "Fitting estimator with 50 features.\n",
      "Fitting estimator with 49 features.\n",
      "Fitting estimator with 48 features.\n",
      "Fitting estimator with 47 features.\n",
      "Fitting estimator with 46 features.\n",
      "Fitting estimator with 45 features.\n",
      "Fitting estimator with 44 features.\n",
      "Fitting estimator with 43 features.\n",
      "Fitting estimator with 42 features.\n",
      "Fitting estimator with 41 features.\n",
      "Fitting estimator with 40 features.\n",
      "Fitting estimator with 39 features.\n",
      "Fitting estimator with 38 features.\n",
      "Fitting estimator with 37 features.\n",
      "Fitting estimator with 36 features.\n",
      "Fitting estimator with 35 features.\n",
      "Fitting estimator with 34 features.\n",
      "Fitting estimator with 33 features.\n",
      "Fitting estimator with 32 features.\n",
      "Fitting estimator with 31 features.\n",
      "Fitting estimator with 30 features.\n",
      "Fitting estimator with 29 features.\n",
      "Fitting estimator with 28 features.\n",
      "Fitting estimator with 27 features.\n",
      "Fitting estimator with 26 features.\n",
      "Fitting estimator with 25 features.\n",
      "Fitting estimator with 24 features.\n",
      "Fitting estimator with 23 features.\n",
      "Fitting estimator with 22 features.\n",
      "Fitting estimator with 21 features.\n",
      "Fitting estimator with 20 features.\n",
      "Fitting estimator with 19 features.\n",
      "Fitting estimator with 18 features.\n",
      "Fitting estimator with 17 features.\n",
      "Fitting estimator with 16 features.\n",
      "Fitting estimator with 15 features.\n",
      "Fitting estimator with 14 features.\n",
      "Fitting estimator with 13 features.\n",
      "Fitting estimator with 12 features.\n",
      "Fitting estimator with 11 features.\n",
      "Fitting estimator with 10 features.\n",
      "Fitting estimator with 9 features.\n",
      "Fitting estimator with 8 features.\n",
      "Fitting estimator with 7 features.\n",
      "Fitting estimator with 6 features.\n",
      "Fitting estimator with 5 features.\n",
      "Fitting estimator with 4 features.\n",
      "Fitting estimator with 3 features.\n",
      "Fitting estimator with 2 features.\n",
      "Fitting estimator with 55 features.\n",
      "Fitting estimator with 54 features.\n",
      "Fitting estimator with 53 features.\n",
      "Fitting estimator with 52 features.\n",
      "Fitting estimator with 51 features.\n",
      "Fitting estimator with 50 features.\n",
      "Fitting estimator with 49 features.\n",
      "Fitting estimator with 48 features.\n",
      "Fitting estimator with 47 features.\n",
      "Fitting estimator with 46 features.\n",
      "Fitting estimator with 45 features.\n",
      "Fitting estimator with 44 features.\n",
      "Fitting estimator with 43 features.\n",
      "Fitting estimator with 42 features.\n",
      "Fitting estimator with 41 features.\n",
      "Fitting estimator with 40 features.\n",
      "Fitting estimator with 39 features.\n",
      "Fitting estimator with 38 features.\n",
      "Fitting estimator with 37 features.\n",
      "Fitting estimator with 36 features.\n",
      "Fitting estimator with 35 features.\n",
      "Fitting estimator with 34 features.\n",
      "Fitting estimator with 33 features.\n",
      "Fitting estimator with 32 features.\n",
      "Fitting estimator with 31 features.\n",
      "Fitting estimator with 30 features.\n",
      "Fitting estimator with 29 features.\n",
      "Fitting estimator with 28 features.\n",
      "Fitting estimator with 27 features.\n",
      "Fitting estimator with 26 features.\n",
      "Fitting estimator with 25 features.\n",
      "Fitting estimator with 24 features.\n",
      "Fitting estimator with 23 features.\n",
      "Fitting estimator with 22 features.\n",
      "Fitting estimator with 21 features.\n",
      "Fitting estimator with 20 features.\n",
      "Fitting estimator with 19 features.\n",
      "Fitting estimator with 18 features.\n",
      "Fitting estimator with 17 features.\n",
      "Fitting estimator with 16 features.\n",
      "Fitting estimator with 15 features.\n",
      "Fitting estimator with 14 features.\n",
      "Fitting estimator with 13 features.\n",
      "Fitting estimator with 12 features.\n",
      "Fitting estimator with 11 features.\n",
      "Fitting estimator with 10 features.\n",
      "Fitting estimator with 9 features.\n",
      "Fitting estimator with 8 features.\n",
      "Fitting estimator with 7 features.\n",
      "Fitting estimator with 6 features.\n",
      "Fitting estimator with 5 features.\n",
      "Fitting estimator with 4 features.\n",
      "Fitting estimator with 3 features.\n",
      "Fitting estimator with 2 features.\n",
      "Fitting estimator with 55 features.\n",
      "Fitting estimator with 54 features.\n",
      "Fitting estimator with 53 features.\n",
      "Fitting estimator with 52 features.\n",
      "Fitting estimator with 51 features.\n",
      "Fitting estimator with 50 features.\n",
      "Fitting estimator with 49 features.\n",
      "Fitting estimator with 48 features.\n",
      "Fitting estimator with 47 features.\n",
      "Fitting estimator with 46 features.\n",
      "Fitting estimator with 45 features.\n",
      "Fitting estimator with 44 features.\n",
      "Fitting estimator with 43 features.\n",
      "Fitting estimator with 42 features.\n",
      "Fitting estimator with 41 features.\n",
      "Fitting estimator with 40 features.\n",
      "Fitting estimator with 39 features.\n",
      "Fitting estimator with 38 features.\n",
      "Fitting estimator with 37 features.\n",
      "Fitting estimator with 36 features.\n",
      "Fitting estimator with 35 features.\n",
      "Fitting estimator with 34 features.\n",
      "Fitting estimator with 33 features.\n",
      "Fitting estimator with 32 features.\n",
      "Fitting estimator with 31 features.\n",
      "Fitting estimator with 30 features.\n",
      "Fitting estimator with 29 features.\n",
      "Fitting estimator with 28 features.\n",
      "Fitting estimator with 27 features.\n",
      "Fitting estimator with 26 features.\n",
      "Fitting estimator with 25 features.\n",
      "Fitting estimator with 24 features.\n",
      "Fitting estimator with 23 features.\n",
      "Fitting estimator with 22 features.\n",
      "Fitting estimator with 21 features.\n",
      "Fitting estimator with 20 features.\n",
      "Fitting estimator with 19 features.\n",
      "Fitting estimator with 18 features.\n",
      "Fitting estimator with 17 features.\n",
      "Fitting estimator with 16 features.\n",
      "Fitting estimator with 15 features.\n",
      "Fitting estimator with 14 features.\n",
      "Fitting estimator with 13 features.\n",
      "Fitting estimator with 12 features.\n",
      "Fitting estimator with 11 features.\n",
      "Fitting estimator with 10 features.\n",
      "Fitting estimator with 9 features.\n",
      "Fitting estimator with 8 features.\n",
      "Fitting estimator with 7 features.\n",
      "Fitting estimator with 6 features.\n",
      "Fitting estimator with 5 features.\n",
      "Fitting estimator with 4 features.\n",
      "Fitting estimator with 3 features.\n",
      "Fitting estimator with 2 features.\n",
      "Fitting estimator with 55 features.\n",
      "Fitting estimator with 54 features.\n",
      "Fitting estimator with 53 features.\n",
      "Fitting estimator with 52 features.\n",
      "Fitting estimator with 51 features.\n",
      "Fitting estimator with 50 features.\n",
      "Fitting estimator with 49 features.\n",
      "Fitting estimator with 48 features.\n",
      "Fitting estimator with 47 features.\n",
      "Fitting estimator with 46 features.\n",
      "Fitting estimator with 45 features.\n",
      "Fitting estimator with 44 features.\n",
      "Fitting estimator with 43 features.\n"
     ]
    },
    {
     "name": "stdout",
     "output_type": "stream",
     "text": [
      "Fitting estimator with 42 features.\n",
      "Fitting estimator with 41 features.\n",
      "Fitting estimator with 40 features.\n",
      "Fitting estimator with 39 features.\n",
      "Fitting estimator with 38 features.\n",
      "Fitting estimator with 37 features.\n",
      "Fitting estimator with 36 features.\n",
      "Fitting estimator with 35 features.\n",
      "Fitting estimator with 34 features.\n",
      "Fitting estimator with 33 features.\n",
      "Fitting estimator with 32 features.\n",
      "Fitting estimator with 31 features.\n",
      "Fitting estimator with 30 features.\n",
      "Fitting estimator with 29 features.\n",
      "Fitting estimator with 28 features.\n",
      "Fitting estimator with 27 features.\n",
      "Fitting estimator with 26 features.\n",
      "Fitting estimator with 25 features.\n",
      "Fitting estimator with 24 features.\n",
      "Fitting estimator with 23 features.\n",
      "Fitting estimator with 22 features.\n",
      "Fitting estimator with 21 features.\n",
      "Fitting estimator with 20 features.\n",
      "Fitting estimator with 19 features.\n",
      "Fitting estimator with 18 features.\n",
      "Fitting estimator with 17 features.\n",
      "Fitting estimator with 16 features.\n",
      "Fitting estimator with 15 features.\n",
      "Fitting estimator with 14 features.\n",
      "Fitting estimator with 13 features.\n",
      "Fitting estimator with 12 features.\n",
      "Fitting estimator with 11 features.\n",
      "Fitting estimator with 10 features.\n",
      "Fitting estimator with 9 features.\n",
      "Fitting estimator with 8 features.\n",
      "Fitting estimator with 7 features.\n",
      "Fitting estimator with 6 features.\n",
      "Fitting estimator with 5 features.\n",
      "Fitting estimator with 4 features.\n",
      "Fitting estimator with 3 features.\n",
      "Fitting estimator with 2 features.\n"
     ]
    },
    {
     "data": {
      "text/plain": [
       "RFECV(cv=<sklearn.model_selection._split.RepeatedStratifiedKFold object at 0x000002102B2AABA8>,\n",
       "   estimator=LGBMClassifier(boosting_type='rf', class_weight=None, colsample_bytree=0.5,\n",
       "        learning_rate=0.1, max_depth=5, min_child_samples=20,\n",
       "        min_child_weight=0.001, min_split_gain=0, n_estimators=1000,\n",
       "        n_jobs=3, num_leaves=31, objective='binary', random_state=123,\n",
       "        reg_alpha=0.0, reg_lambda=0.0, silent=True, subsample=0.75,\n",
       "        subsample_for_bin=200000, subsample_freq=1),\n",
       "   n_jobs=1, scoring=None, step=1, verbose=1)"
      ]
     },
     "execution_count": 7,
     "metadata": {},
     "output_type": "execute_result"
    }
   ],
   "source": [
    "# Create model\n",
    "rf_low = RFECV(\n",
    "    estimator = LGBMClassifier(\n",
    "        boosting_type = 'rf',\n",
    "        objective = 'binary',\n",
    "        subsample = 0.75,\n",
    "        subsample_freq = 1,\n",
    "        min_split_gain = 0,\n",
    "        max_depth = 5,\n",
    "        n_estimators = best_n_estimators,\n",
    "        colsample_bytree = 0.5,\n",
    "        # min_child_samples = ,\n",
    "        # reg_alpha = ,\n",
    "        # reg_lambda = ,\n",
    "        random_state = 123,\n",
    "        n_jobs = 3\n",
    "    ),\n",
    "    cv = RepeatedStratifiedKFold(n_repeats=1, n_splits=5, random_state=123),\n",
    "    verbose = 1,\n",
    "    n_jobs = 1\n",
    ")\n",
    "\n",
    "# Fit model\n",
    "rf_low.fit(X, y)"
   ]
  },
  {
   "cell_type": "code",
   "execution_count": 8,
   "metadata": {},
   "outputs": [
    {
     "name": "stdout",
     "output_type": "stream",
     "text": [
      "No. of Features: 27\n",
      "Feature Ranking:\n"
     ]
    },
    {
     "data": {
      "text/html": [
       "<div>\n",
       "<table border=\"1\" class=\"dataframe\">\n",
       "  <thead>\n",
       "    <tr style=\"text-align: right;\">\n",
       "      <th></th>\n",
       "      <th>rank</th>\n",
       "      <th>feature</th>\n",
       "    </tr>\n",
       "  </thead>\n",
       "  <tbody>\n",
       "    <tr>\n",
       "      <th>0</th>\n",
       "      <td>1</td>\n",
       "      <td>pclass_OC</td>\n",
       "    </tr>\n",
       "    <tr>\n",
       "      <th>49</th>\n",
       "      <td>1</td>\n",
       "      <td>cabno_OH_C1</td>\n",
       "    </tr>\n",
       "    <tr>\n",
       "      <th>46</th>\n",
       "      <td>1</td>\n",
       "      <td>cabletter_OH_B/D/E</td>\n",
       "    </tr>\n",
       "    <tr>\n",
       "      <th>42</th>\n",
       "      <td>1</td>\n",
       "      <td>ticlen_OH_LO</td>\n",
       "    </tr>\n",
       "    <tr>\n",
       "      <th>41</th>\n",
       "      <td>1</td>\n",
       "      <td>ticlen_OH_L6</td>\n",
       "    </tr>\n",
       "    <tr>\n",
       "      <th>40</th>\n",
       "      <td>1</td>\n",
       "      <td>ticlen_OH_L5</td>\n",
       "    </tr>\n",
       "    <tr>\n",
       "      <th>32</th>\n",
       "      <td>1</td>\n",
       "      <td>age_OH_A3</td>\n",
       "    </tr>\n",
       "    <tr>\n",
       "      <th>31</th>\n",
       "      <td>1</td>\n",
       "      <td>age_OH_A2</td>\n",
       "    </tr>\n",
       "    <tr>\n",
       "      <th>25</th>\n",
       "      <td>1</td>\n",
       "      <td>title_OH_Mr.</td>\n",
       "    </tr>\n",
       "    <tr>\n",
       "      <th>22</th>\n",
       "      <td>1</td>\n",
       "      <td>pclass_OH_CLASS3</td>\n",
       "    </tr>\n",
       "    <tr>\n",
       "      <th>19</th>\n",
       "      <td>1</td>\n",
       "      <td>embarked_ME</td>\n",
       "    </tr>\n",
       "    <tr>\n",
       "      <th>18</th>\n",
       "      <td>1</td>\n",
       "      <td>cabno_ME</td>\n",
       "    </tr>\n",
       "    <tr>\n",
       "      <th>17</th>\n",
       "      <td>1</td>\n",
       "      <td>cabletter_ME</td>\n",
       "    </tr>\n",
       "    <tr>\n",
       "      <th>16</th>\n",
       "      <td>1</td>\n",
       "      <td>fare_ME</td>\n",
       "    </tr>\n",
       "    <tr>\n",
       "      <th>15</th>\n",
       "      <td>1</td>\n",
       "      <td>fare_OC</td>\n",
       "    </tr>\n",
       "    <tr>\n",
       "      <th>54</th>\n",
       "      <td>1</td>\n",
       "      <td>embarked_OH_S</td>\n",
       "    </tr>\n",
       "    <tr>\n",
       "      <th>13</th>\n",
       "      <td>1</td>\n",
       "      <td>ticlen_ME</td>\n",
       "    </tr>\n",
       "    <tr>\n",
       "      <th>5</th>\n",
       "      <td>1</td>\n",
       "      <td>age_NM</td>\n",
       "    </tr>\n",
       "    <tr>\n",
       "      <th>2</th>\n",
       "      <td>1</td>\n",
       "      <td>title_ME</td>\n",
       "    </tr>\n",
       "    <tr>\n",
       "      <th>14</th>\n",
       "      <td>1</td>\n",
       "      <td>fare_NM</td>\n",
       "    </tr>\n",
       "    <tr>\n",
       "      <th>6</th>\n",
       "      <td>1</td>\n",
       "      <td>age_ME</td>\n",
       "    </tr>\n",
       "    <tr>\n",
       "      <th>7</th>\n",
       "      <td>1</td>\n",
       "      <td>sibsp_NM</td>\n",
       "    </tr>\n",
       "    <tr>\n",
       "      <th>1</th>\n",
       "      <td>1</td>\n",
       "      <td>pclass_ME</td>\n",
       "    </tr>\n",
       "    <tr>\n",
       "      <th>4</th>\n",
       "      <td>1</td>\n",
       "      <td>age_OC</td>\n",
       "    </tr>\n",
       "    <tr>\n",
       "      <th>8</th>\n",
       "      <td>1</td>\n",
       "      <td>sibsp_OC</td>\n",
       "    </tr>\n",
       "    <tr>\n",
       "      <th>3</th>\n",
       "      <td>1</td>\n",
       "      <td>sex_BN</td>\n",
       "    </tr>\n",
       "    <tr>\n",
       "      <th>10</th>\n",
       "      <td>1</td>\n",
       "      <td>parch_NM</td>\n",
       "    </tr>\n",
       "    <tr>\n",
       "      <th>28</th>\n",
       "      <td>2</td>\n",
       "      <td>sex_OH_female</td>\n",
       "    </tr>\n",
       "    <tr>\n",
       "      <th>9</th>\n",
       "      <td>3</td>\n",
       "      <td>sibsp_ME</td>\n",
       "    </tr>\n",
       "    <tr>\n",
       "      <th>24</th>\n",
       "      <td>4</td>\n",
       "      <td>title_OH_Miss.</td>\n",
       "    </tr>\n",
       "    <tr>\n",
       "      <th>51</th>\n",
       "      <td>5</td>\n",
       "      <td>cabno_OH_NIL</td>\n",
       "    </tr>\n",
       "    <tr>\n",
       "      <th>48</th>\n",
       "      <td>6</td>\n",
       "      <td>cabletter_OH_Others</td>\n",
       "    </tr>\n",
       "    <tr>\n",
       "      <th>39</th>\n",
       "      <td>7</td>\n",
       "      <td>ticlen_OH_L4</td>\n",
       "    </tr>\n",
       "    <tr>\n",
       "      <th>44</th>\n",
       "      <td>8</td>\n",
       "      <td>fare_OH_G2</td>\n",
       "    </tr>\n",
       "    <tr>\n",
       "      <th>11</th>\n",
       "      <td>9</td>\n",
       "      <td>parch_OC</td>\n",
       "    </tr>\n",
       "    <tr>\n",
       "      <th>23</th>\n",
       "      <td>10</td>\n",
       "      <td>title_OH_Master.</td>\n",
       "    </tr>\n",
       "    <tr>\n",
       "      <th>52</th>\n",
       "      <td>11</td>\n",
       "      <td>embarked_OH_C</td>\n",
       "    </tr>\n",
       "    <tr>\n",
       "      <th>29</th>\n",
       "      <td>12</td>\n",
       "      <td>sex_OH_male</td>\n",
       "    </tr>\n",
       "    <tr>\n",
       "      <th>33</th>\n",
       "      <td>13</td>\n",
       "      <td>sibsp_OH_None</td>\n",
       "    </tr>\n",
       "    <tr>\n",
       "      <th>21</th>\n",
       "      <td>14</td>\n",
       "      <td>pclass_OH_CLASS2</td>\n",
       "    </tr>\n",
       "    <tr>\n",
       "      <th>20</th>\n",
       "      <td>15</td>\n",
       "      <td>pclass_OH_CLASS1</td>\n",
       "    </tr>\n",
       "    <tr>\n",
       "      <th>53</th>\n",
       "      <td>16</td>\n",
       "      <td>embarked_OH_Q</td>\n",
       "    </tr>\n",
       "    <tr>\n",
       "      <th>43</th>\n",
       "      <td>17</td>\n",
       "      <td>fare_OH_G1</td>\n",
       "    </tr>\n",
       "    <tr>\n",
       "      <th>27</th>\n",
       "      <td>18</td>\n",
       "      <td>title_OH_Other</td>\n",
       "    </tr>\n",
       "    <tr>\n",
       "      <th>26</th>\n",
       "      <td>19</td>\n",
       "      <td>title_OH_Mrs.</td>\n",
       "    </tr>\n",
       "    <tr>\n",
       "      <th>30</th>\n",
       "      <td>20</td>\n",
       "      <td>age_OH_A1</td>\n",
       "    </tr>\n",
       "    <tr>\n",
       "      <th>47</th>\n",
       "      <td>21</td>\n",
       "      <td>cabletter_OH_NIL</td>\n",
       "    </tr>\n",
       "    <tr>\n",
       "      <th>12</th>\n",
       "      <td>22</td>\n",
       "      <td>parch_ME</td>\n",
       "    </tr>\n",
       "    <tr>\n",
       "      <th>45</th>\n",
       "      <td>23</td>\n",
       "      <td>fare_OH_G3</td>\n",
       "    </tr>\n",
       "    <tr>\n",
       "      <th>34</th>\n",
       "      <td>24</td>\n",
       "      <td>sibsp_OH_One</td>\n",
       "    </tr>\n",
       "    <tr>\n",
       "      <th>36</th>\n",
       "      <td>25</td>\n",
       "      <td>parch_OH_None</td>\n",
       "    </tr>\n",
       "    <tr>\n",
       "      <th>50</th>\n",
       "      <td>26</td>\n",
       "      <td>cabno_OH_C2</td>\n",
       "    </tr>\n",
       "    <tr>\n",
       "      <th>38</th>\n",
       "      <td>27</td>\n",
       "      <td>parch_OH_Two or More</td>\n",
       "    </tr>\n",
       "    <tr>\n",
       "      <th>35</th>\n",
       "      <td>28</td>\n",
       "      <td>sibsp_OH_Two or More</td>\n",
       "    </tr>\n",
       "    <tr>\n",
       "      <th>37</th>\n",
       "      <td>29</td>\n",
       "      <td>parch_OH_One</td>\n",
       "    </tr>\n",
       "  </tbody>\n",
       "</table>\n",
       "</div>"
      ],
      "text/plain": [
       "    rank               feature\n",
       "0      1             pclass_OC\n",
       "49     1           cabno_OH_C1\n",
       "46     1    cabletter_OH_B/D/E\n",
       "42     1          ticlen_OH_LO\n",
       "41     1          ticlen_OH_L6\n",
       "40     1          ticlen_OH_L5\n",
       "32     1             age_OH_A3\n",
       "31     1             age_OH_A2\n",
       "25     1          title_OH_Mr.\n",
       "22     1      pclass_OH_CLASS3\n",
       "19     1           embarked_ME\n",
       "18     1              cabno_ME\n",
       "17     1          cabletter_ME\n",
       "16     1               fare_ME\n",
       "15     1               fare_OC\n",
       "54     1         embarked_OH_S\n",
       "13     1             ticlen_ME\n",
       "5      1                age_NM\n",
       "2      1              title_ME\n",
       "14     1               fare_NM\n",
       "6      1                age_ME\n",
       "7      1              sibsp_NM\n",
       "1      1             pclass_ME\n",
       "4      1                age_OC\n",
       "8      1              sibsp_OC\n",
       "3      1                sex_BN\n",
       "10     1              parch_NM\n",
       "28     2         sex_OH_female\n",
       "9      3              sibsp_ME\n",
       "24     4        title_OH_Miss.\n",
       "51     5          cabno_OH_NIL\n",
       "48     6   cabletter_OH_Others\n",
       "39     7          ticlen_OH_L4\n",
       "44     8            fare_OH_G2\n",
       "11     9              parch_OC\n",
       "23    10      title_OH_Master.\n",
       "52    11         embarked_OH_C\n",
       "29    12           sex_OH_male\n",
       "33    13         sibsp_OH_None\n",
       "21    14      pclass_OH_CLASS2\n",
       "20    15      pclass_OH_CLASS1\n",
       "53    16         embarked_OH_Q\n",
       "43    17            fare_OH_G1\n",
       "27    18        title_OH_Other\n",
       "26    19         title_OH_Mrs.\n",
       "30    20             age_OH_A1\n",
       "47    21      cabletter_OH_NIL\n",
       "12    22              parch_ME\n",
       "45    23            fare_OH_G3\n",
       "34    24          sibsp_OH_One\n",
       "36    25         parch_OH_None\n",
       "50    26           cabno_OH_C2\n",
       "38    27  parch_OH_Two or More\n",
       "35    28  sibsp_OH_Two or More\n",
       "37    29          parch_OH_One"
      ]
     },
     "execution_count": 8,
     "metadata": {},
     "output_type": "execute_result"
    }
   ],
   "source": [
    "# Results of RFE\n",
    "print('No. of Features: ' + str(rf_low.n_features_))\n",
    "print('Feature Ranking:')\n",
    "rfe_feats = pd.DataFrame(rf_low.ranking_, columns = ['rank'])\n",
    "rfe_feats['feature'] = X.columns\n",
    "rfe_feats.sort_values(by = 'rank')"
   ]
  },
  {
   "cell_type": "code",
   "execution_count": 9,
   "metadata": {},
   "outputs": [
    {
     "data": {
      "image/png": "[encoded data removed]",
      "text/plain": [
       "<matplotlib.figure.Figure at 0x2102b2fada0>"
      ]
     },
     "metadata": {},
     "output_type": "display_data"
    }
   ],
   "source": [
    "# Plots\n",
    "plt.figure()\n",
    "plt.title('CV Scores vs. No. of Features')\n",
    "plt.xlabel(\"No. of Features Selected\")\n",
    "plt.ylabel(\"CV Score\")\n",
    "plt.plot(range(1, len(rf_low.grid_scores_) + 1), rf_low.grid_scores_)\n",
    "plt.show()"
   ]
  },
  {
   "cell_type": "markdown",
   "metadata": {},
   "source": [
    "## Subset Features"
   ]
  },
  {
   "cell_type": "code",
   "execution_count": 10,
   "metadata": {},
   "outputs": [],
   "source": [
    "# Subset features\n",
    "X_sub = X.iloc[:, (rf_low.ranking_ == 1)]"
   ]
  },
  {
   "cell_type": "markdown",
   "metadata": {},
   "source": [
    "## Iteration 3: Optimise Max Features"
   ]
  },
  {
   "cell_type": "code",
   "execution_count": 11,
   "metadata": {},
   "outputs": [],
   "source": [
    "# Define parameters\n",
    "param_max_feat = np.arange(2/X_sub.shape[1], 1, 1/X_sub.shape[1])\n",
    "params = {\n",
    "    'colsample_bytree': param_max_feat\n",
    "}"
   ]
  },
  {
   "cell_type": "code",
   "execution_count": 12,
   "metadata": {},
   "outputs": [
    {
     "name": "stdout",
     "output_type": "stream",
     "text": [
      "Fitting 25 folds for each of 25 candidates, totalling 625 fits\n"
     ]
    },
    {
     "name": "stderr",
     "output_type": "stream",
     "text": [
      "[Parallel(n_jobs=3)]: Done  44 tasks      | elapsed:   25.2s\n",
      "[Parallel(n_jobs=3)]: Done 194 tasks      | elapsed:  2.2min\n",
      "[Parallel(n_jobs=3)]: Done 444 tasks      | elapsed:  4.6min\n",
      "[Parallel(n_jobs=3)]: Done 625 out of 625 | elapsed:  6.1min finished\n"
     ]
    },
    {
     "data": {
      "text/plain": [
       "GridSearchCV(cv=<sklearn.model_selection._split.RepeatedStratifiedKFold object at 0x000002102AF28DD8>,\n",
       "       error_score='raise',\n",
       "       estimator=LGBMClassifier(boosting_type='rf', class_weight=None, colsample_bytree=1.0,\n",
       "        learning_rate=0.1, max_depth=5, min_child_samples=20,\n",
       "        min_child_weight=0.001, min_split_gain=0.0, n_estimators=1000,\n",
       "        n_jobs=3, num_leaves=31, objective='binary', random_state=123,\n",
       "        reg_alpha=0.0, reg_lambda=0.0, silent=True, subsample=0.75,\n",
       "        subsample_for_bin=200000, subsample_freq=1),\n",
       "       fit_params=None, iid=True, n_jobs=3,\n",
       "       param_grid={'colsample_bytree': array([0.07407, 0.11111, 0.14815, 0.18519, 0.22222, 0.25926, 0.2963 ,\n",
       "       0.33333, 0.37037, 0.40741, 0.44444, 0.48148, 0.51852, 0.55556,\n",
       "       0.59259, 0.62963, 0.66667, 0.7037 , 0.74074, 0.77778, 0.81481,\n",
       "       0.85185, 0.88889, 0.92593, 0.96296])},\n",
       "       pre_dispatch='2*n_jobs', refit=True, return_train_score='warn',\n",
       "       scoring=None, verbose=1)"
      ]
     },
     "execution_count": 12,
     "metadata": {},
     "output_type": "execute_result"
    }
   ],
   "source": [
    "# Create RF model\n",
    "rf_low = GridSearchCV(\n",
    "    estimator = LGBMClassifier(\n",
    "        boosting_type = 'rf',\n",
    "        objective = 'binary',\n",
    "        subsample = 0.75,\n",
    "        subsample_freq = 1,\n",
    "        max_depth = 5,\n",
    "        n_estimators = best_n_estimators,\n",
    "        # min_child_samples = ,\n",
    "        # reg_alpha = ,\n",
    "        # reg_lambda = ,\n",
    "        random_state = 123,\n",
    "        n_jobs = 3\n",
    "    ),\n",
    "    param_grid = params,\n",
    "    n_jobs = 3,\n",
    "    cv = rkf,\n",
    "    verbose = 1\n",
    ")\n",
    "\n",
    "# Train model\n",
    "rf_low.fit(X_sub, y)"
   ]
  },
  {
   "cell_type": "code",
   "execution_count": 13,
   "metadata": {},
   "outputs": [
    {
     "name": "stdout",
     "output_type": "stream",
     "text": [
      "Best Score: 0.8291806958473625\n",
      "Best Params: {'colsample_bytree': 0.2962962962962963}\n"
     ]
    },
    {
     "data": {
      "image/png": "[encoded data removed]",
      "text/plain": [
       "<matplotlib.figure.Figure at 0x2102b3784a8>"
      ]
     },
     "metadata": {},
     "output_type": "display_data"
    }
   ],
   "source": [
    "# Save results\n",
    "best_colsample_bytree = rf_low.best_params_['colsample_bytree']\n",
    "\n",
    "# Print results\n",
    "print('Best Score: ' + str(rf_low.best_score_))\n",
    "print('Best Params: ' + str(rf_low.best_params_))\n",
    "\n",
    "# Plot results\n",
    "gaia_get_test(rf_low, param_max_feat, 'Max Features')"
   ]
  },
  {
   "cell_type": "markdown",
   "metadata": {},
   "source": [
    "### Iteration 4: Optimise Minimum Samples in Terminal Nodes"
   ]
  },
  {
   "cell_type": "code",
   "execution_count": 14,
   "metadata": {},
   "outputs": [],
   "source": [
    "# Define parameters\n",
    "param_min_leaf = [1,5,10,20,30,40,50]\n",
    "params = {\n",
    "    'min_child_samples': param_min_leaf\n",
    "}"
   ]
  },
  {
   "cell_type": "code",
   "execution_count": 15,
   "metadata": {},
   "outputs": [
    {
     "name": "stdout",
     "output_type": "stream",
     "text": [
      "Fitting 25 folds for each of 7 candidates, totalling 175 fits\n"
     ]
    },
    {
     "name": "stderr",
     "output_type": "stream",
     "text": [
      "[Parallel(n_jobs=3)]: Done  44 tasks      | elapsed:   36.0s\n",
      "[Parallel(n_jobs=3)]: Done 175 out of 175 | elapsed:  2.0min finished\n"
     ]
    },
    {
     "data": {
      "text/plain": [
       "GridSearchCV(cv=<sklearn.model_selection._split.RepeatedStratifiedKFold object at 0x000002102AF28DD8>,\n",
       "       error_score='raise',\n",
       "       estimator=LGBMClassifier(boosting_type='rf', class_weight=None,\n",
       "        colsample_bytree=0.2962962962962963, learning_rate=0.1,\n",
       "        max_depth=5, min_child_samples=20, min_child_weight=0.001,\n",
       "        min_split_gain=0.0, n_estimators=1000, n_jobs=3, num_leaves=31,\n",
       "        objective='binary', random_state=123, reg_alpha=0.0,\n",
       "        reg_lambda=0.0, silent=True, subsample=0.75,\n",
       "        subsample_for_bin=200000, subsample_freq=1),\n",
       "       fit_params=None, iid=True, n_jobs=3,\n",
       "       param_grid={'min_child_samples': [1, 5, 10, 20, 30, 40, 50]},\n",
       "       pre_dispatch='2*n_jobs', refit=True, return_train_score='warn',\n",
       "       scoring=None, verbose=1)"
      ]
     },
     "execution_count": 15,
     "metadata": {},
     "output_type": "execute_result"
    }
   ],
   "source": [
    "# Create RF model\n",
    "rf_low = GridSearchCV(\n",
    "    estimator = LGBMClassifier(\n",
    "        boosting_type = 'rf',\n",
    "        objective = 'binary',\n",
    "        subsample = 0.75,\n",
    "        subsample_freq = 1,\n",
    "        max_depth = 5,\n",
    "        n_estimators = best_n_estimators,\n",
    "        colsample_bytree = best_colsample_bytree,\n",
    "        # min_child_samples = ,\n",
    "        # reg_alpha = ,\n",
    "        # reg_lambda = ,\n",
    "        random_state = 123,\n",
    "        n_jobs = 3\n",
    "    ),\n",
    "    param_grid = params,\n",
    "    n_jobs = 3,\n",
    "    cv = rkf,\n",
    "    verbose = 1\n",
    ")\n",
    "\n",
    "# Train model\n",
    "rf_low.fit(X_sub, y)"
   ]
  },
  {
   "cell_type": "code",
   "execution_count": 16,
   "metadata": {},
   "outputs": [
    {
     "name": "stdout",
     "output_type": "stream",
     "text": [
      "Best Score: 0.8334455667789001\n",
      "Best Params: {'min_child_samples': 5}\n"
     ]
    },
    {
     "data": {
      "image/png": "[encoded data removed]",
      "text/plain": [
       "<matplotlib.figure.Figure at 0x2102b23d390>"
      ]
     },
     "metadata": {},
     "output_type": "display_data"
    }
   ],
   "source": [
    "# Save results\n",
    "best_min_child_samples = rf_low.best_params_['min_child_samples']\n",
    "\n",
    "# Print results\n",
    "print('Best Score: ' + str(rf_low.best_score_))\n",
    "print('Best Params: ' + str(rf_low.best_params_))\n",
    "\n",
    "# Plot results\n",
    "gaia_get_test(rf_low, param_min_leaf, 'Min. Samples in Leaf')"
   ]
  },
  {
   "cell_type": "markdown",
   "metadata": {},
   "source": [
    "### Iteration 5: Optimise L1 Regularisation"
   ]
  },
  {
   "cell_type": "code",
   "execution_count": 17,
   "metadata": {},
   "outputs": [],
   "source": [
    "# Define parameters\n",
    "param_alpha = [0, 0.1, 0.2, 0.3, 0.4, 0.5, 0.6, 0.7, 0.8, 0.9]\n",
    "params = {\n",
    "    'reg_alpha': param_alpha\n",
    "}"
   ]
  },
  {
   "cell_type": "code",
   "execution_count": 18,
   "metadata": {},
   "outputs": [
    {
     "name": "stdout",
     "output_type": "stream",
     "text": [
      "Fitting 25 folds for each of 10 candidates, totalling 250 fits\n"
     ]
    },
    {
     "name": "stderr",
     "output_type": "stream",
     "text": [
      "[Parallel(n_jobs=3)]: Done  44 tasks      | elapsed:   45.0s\n",
      "[Parallel(n_jobs=3)]: Done 194 tasks      | elapsed:  2.5min\n",
      "[Parallel(n_jobs=3)]: Done 250 out of 250 | elapsed:  3.0min finished\n"
     ]
    },
    {
     "data": {
      "text/plain": [
       "GridSearchCV(cv=<sklearn.model_selection._split.RepeatedStratifiedKFold object at 0x000002102AF28DD8>,\n",
       "       error_score='raise',\n",
       "       estimator=LGBMClassifier(boosting_type='rf', class_weight=None,\n",
       "        colsample_bytree=0.2962962962962963, learning_rate=0.1,\n",
       "        max_depth=5, min_child_samples=5, min_child_weight=0.001,\n",
       "        min_split_gain=0.0, n_estimators=1000, n_jobs=3, num_leaves=31,\n",
       "        objective='binary', random_state=123, reg_alpha=0.0,\n",
       "        reg_lambda=0.0, silent=True, subsample=0.75,\n",
       "        subsample_for_bin=200000, subsample_freq=1),\n",
       "       fit_params=None, iid=True, n_jobs=3,\n",
       "       param_grid={'reg_alpha': [0, 0.1, 0.2, 0.3, 0.4, 0.5, 0.6, 0.7, 0.8, 0.9]},\n",
       "       pre_dispatch='2*n_jobs', refit=True, return_train_score='warn',\n",
       "       scoring=None, verbose=1)"
      ]
     },
     "execution_count": 18,
     "metadata": {},
     "output_type": "execute_result"
    }
   ],
   "source": [
    "# Create RF model\n",
    "rf_low = GridSearchCV(\n",
    "    estimator = LGBMClassifier(\n",
    "        boosting_type = 'rf',\n",
    "        objective = 'binary',\n",
    "        subsample = 0.75,\n",
    "        subsample_freq = 1,\n",
    "        max_depth = 5,\n",
    "        n_estimators = best_n_estimators,\n",
    "        colsample_bytree = best_colsample_bytree,\n",
    "        min_child_samples = best_min_child_samples,\n",
    "        # reg_alpha = ,\n",
    "        # reg_lambda = ,\n",
    "        random_state = 123,\n",
    "        n_jobs = 3\n",
    "    ),\n",
    "    param_grid = params,\n",
    "    n_jobs = 3,\n",
    "    cv = rkf,\n",
    "    verbose = 1\n",
    ")\n",
    "\n",
    "# Train model\n",
    "rf_low.fit(X_sub, y)"
   ]
  },
  {
   "cell_type": "code",
   "execution_count": 19,
   "metadata": {},
   "outputs": [
    {
     "name": "stdout",
     "output_type": "stream",
     "text": [
      "Best Score: 0.8334455667789001\n",
      "Best Params: {'reg_alpha': 0}\n"
     ]
    },
    {
     "data": {
      "image/png": "[encoded data removed]",
      "text/plain": [
       "<matplotlib.figure.Figure at 0x2102b2276a0>"
      ]
     },
     "metadata": {},
     "output_type": "display_data"
    }
   ],
   "source": [
    "# Save results\n",
    "best_reg_alpha = rf_low.best_params_['reg_alpha']\n",
    "\n",
    "# Print results\n",
    "print('Best Score: ' + str(rf_low.best_score_))\n",
    "print('Best Params: ' + str(rf_low.best_params_))\n",
    "\n",
    "# Plot results\n",
    "gaia_get_test(rf_low, param_alpha, 'Alpha')"
   ]
  },
  {
   "cell_type": "markdown",
   "metadata": {},
   "source": [
    "### Iteration 6: Optimise L2 Regularisation"
   ]
  },
  {
   "cell_type": "code",
   "execution_count": 20,
   "metadata": {},
   "outputs": [],
   "source": [
    "# Define parameters\n",
    "param_lambda = [0, 0.1, 0.2, 0.3, 0.4, 0.5, 0.6, 0.7, 0.8, 0.9]\n",
    "params = {\n",
    "    'reg_lambda': param_lambda\n",
    "}"
   ]
  },
  {
   "cell_type": "code",
   "execution_count": 21,
   "metadata": {},
   "outputs": [
    {
     "name": "stdout",
     "output_type": "stream",
     "text": [
      "Fitting 25 folds for each of 10 candidates, totalling 250 fits\n"
     ]
    },
    {
     "name": "stderr",
     "output_type": "stream",
     "text": [
      "[Parallel(n_jobs=3)]: Done  44 tasks      | elapsed:   41.3s\n",
      "[Parallel(n_jobs=3)]: Done 194 tasks      | elapsed:  2.4min\n",
      "[Parallel(n_jobs=3)]: Done 250 out of 250 | elapsed:  3.0min finished\n"
     ]
    },
    {
     "data": {
      "text/plain": [
       "GridSearchCV(cv=<sklearn.model_selection._split.RepeatedStratifiedKFold object at 0x000002102AF28DD8>,\n",
       "       error_score='raise',\n",
       "       estimator=LGBMClassifier(boosting_type='rf', class_weight=None,\n",
       "        colsample_bytree=0.2962962962962963, learning_rate=0.1,\n",
       "        max_depth=5, min_child_samples=5, min_child_weight=0.001,\n",
       "        min_split_gain=0.0, n_estimators=1000, n_jobs=3, num_leaves=31,\n",
       "        objective='binary', random_state=123, reg_alpha=0, reg_lambda=0.0,\n",
       "        silent=True, subsample=0.75, subsample_for_bin=200000,\n",
       "        subsample_freq=1),\n",
       "       fit_params=None, iid=True, n_jobs=3,\n",
       "       param_grid={'reg_lambda': [0, 0.1, 0.2, 0.3, 0.4, 0.5, 0.6, 0.7, 0.8, 0.9]},\n",
       "       pre_dispatch='2*n_jobs', refit=True, return_train_score='warn',\n",
       "       scoring=None, verbose=1)"
      ]
     },
     "execution_count": 21,
     "metadata": {},
     "output_type": "execute_result"
    }
   ],
   "source": [
    "# Create RF model\n",
    "rf_low = GridSearchCV(\n",
    "    estimator = LGBMClassifier(\n",
    "        boosting_type = 'rf',\n",
    "        objective = 'binary',\n",
    "        subsample = 0.75,\n",
    "        subsample_freq = 1,\n",
    "        max_depth = 5,\n",
    "        n_estimators = best_n_estimators,\n",
    "        colsample_bytree = best_colsample_bytree,\n",
    "        min_child_samples = best_min_child_samples,\n",
    "        reg_alpha = best_reg_alpha,\n",
    "        # reg_lambda = ,\n",
    "        random_state = 123,\n",
    "        n_jobs = 3\n",
    "    ),\n",
    "    param_grid = params,\n",
    "    n_jobs = 3,\n",
    "    cv = rkf,\n",
    "    verbose = 1\n",
    ")\n",
    "\n",
    "# Train model\n",
    "rf_low.fit(X_sub, y)"
   ]
  },
  {
   "cell_type": "code",
   "execution_count": 22,
   "metadata": {},
   "outputs": [
    {
     "name": "stdout",
     "output_type": "stream",
     "text": [
      "Best Score: 0.8334455667789001\n",
      "Best Params: {'reg_lambda': 0}\n"
     ]
    },
    {
     "data": {
      "image/png": "[encoded data removed]",
      "text/plain": [
       "<matplotlib.figure.Figure at 0x2102b2aaa20>"
      ]
     },
     "metadata": {},
     "output_type": "display_data"
    }
   ],
   "source": [
    "# Save results\n",
    "best_reg_lambda = rf_low.best_params_['reg_lambda']\n",
    "\n",
    "# Print results\n",
    "print('Best Score: ' + str(rf_low.best_score_))\n",
    "print('Best Params: ' + str(rf_low.best_params_))\n",
    "\n",
    "# Plot results\n",
    "gaia_get_test(rf_low, param_lambda, 'Lambda')"
   ]
  },
  {
   "cell_type": "markdown",
   "metadata": {},
   "source": [
    "### Iteration 7: Optimise Subsampling"
   ]
  },
  {
   "cell_type": "code",
   "execution_count": 23,
   "metadata": {},
   "outputs": [],
   "source": [
    "# Define parameters\n",
    "param_subsample = [0.3, 0.4, 0.5, 0.6, 0.7, 0.8, 0.9, 0.99]\n",
    "params = {\n",
    "    'subsample': param_subsample\n",
    "}"
   ]
  },
  {
   "cell_type": "code",
   "execution_count": 24,
   "metadata": {},
   "outputs": [
    {
     "name": "stdout",
     "output_type": "stream",
     "text": [
      "Fitting 25 folds for each of 8 candidates, totalling 200 fits\n"
     ]
    },
    {
     "name": "stderr",
     "output_type": "stream",
     "text": [
      "[Parallel(n_jobs=3)]: Done  44 tasks      | elapsed:   39.5s\n",
      "[Parallel(n_jobs=3)]: Done 194 tasks      | elapsed:  2.7min\n",
      "[Parallel(n_jobs=3)]: Done 200 out of 200 | elapsed:  2.8min finished\n"
     ]
    },
    {
     "data": {
      "text/plain": [
       "GridSearchCV(cv=<sklearn.model_selection._split.RepeatedStratifiedKFold object at 0x000002102AF28DD8>,\n",
       "       error_score='raise',\n",
       "       estimator=LGBMClassifier(boosting_type='rf', class_weight=None,\n",
       "        colsample_bytree=0.2962962962962963, learning_rate=0.1,\n",
       "        max_depth=5, min_child_samples=5, min_child_weight=0.001,\n",
       "        min_split_gain=0.0, n_estimators=1000, n_jobs=3, num_leaves=31,\n",
       "        objective='binary', random_state=123, reg_alpha=0, reg_lambda=0,\n",
       "        silent=True, subsample=0.75, subsample_for_bin=200000,\n",
       "        subsample_freq=1),\n",
       "       fit_params=None, iid=True, n_jobs=3,\n",
       "       param_grid={'subsample': [0.3, 0.4, 0.5, 0.6, 0.7, 0.8, 0.9, 0.99]},\n",
       "       pre_dispatch='2*n_jobs', refit=True, return_train_score='warn',\n",
       "       scoring=None, verbose=1)"
      ]
     },
     "execution_count": 24,
     "metadata": {},
     "output_type": "execute_result"
    }
   ],
   "source": [
    "# Create RF model\n",
    "rf_low = GridSearchCV(\n",
    "    estimator = LGBMClassifier(\n",
    "        boosting_type = 'rf',\n",
    "        objective = 'binary',\n",
    "        subsample = 0.75,\n",
    "        subsample_freq = 1,\n",
    "        max_depth = 5,\n",
    "        n_estimators = best_n_estimators,\n",
    "        colsample_bytree = best_colsample_bytree,\n",
    "        min_child_samples = best_min_child_samples,\n",
    "        reg_alpha = best_reg_alpha,\n",
    "        reg_lambda = best_reg_lambda,\n",
    "        random_state = 123,\n",
    "        n_jobs = 3\n",
    "    ),\n",
    "    param_grid = params,\n",
    "    n_jobs = 3,\n",
    "    cv = rkf,\n",
    "    verbose = 1\n",
    ")\n",
    "\n",
    "# Train model\n",
    "rf_low.fit(X_sub, y)"
   ]
  },
  {
   "cell_type": "code",
   "execution_count": 25,
   "metadata": {},
   "outputs": [
    {
     "name": "stdout",
     "output_type": "stream",
     "text": [
      "Best Score: 0.8338945005611672\n",
      "Best Params: {'subsample': 0.7}\n"
     ]
    },
    {
     "data": {
      "image/png": "[encoded data removed]",
      "text/plain": [
       "<matplotlib.figure.Figure at 0x2102b2f3a20>"
      ]
     },
     "metadata": {},
     "output_type": "display_data"
    }
   ],
   "source": [
    "# Save results\n",
    "best_subsample = rf_low.best_params_['subsample']\n",
    "\n",
    "# Print results\n",
    "print('Best Score: ' + str(rf_low.best_score_))\n",
    "print('Best Params: ' + str(rf_low.best_params_))\n",
    "\n",
    "# Plot results\n",
    "gaia_get_test(rf_low, param_subsample, 'Subsample Proportion')"
   ]
  },
  {
   "cell_type": "markdown",
   "metadata": {},
   "source": [
    "### Best Parameters"
   ]
  },
  {
   "cell_type": "code",
   "execution_count": 27,
   "metadata": {},
   "outputs": [
    {
     "name": "stdout",
     "output_type": "stream",
     "text": [
      "         No. of Trees : 1000\n",
      "         Max Features : 0.2962962962962963\n",
      " Min. Samples in Leaf : 5\n",
      "                Alpha : 0\n",
      "               Lambda : 0\n",
      "            Subsample : 0.7\n"
     ]
    }
   ],
   "source": [
    "# Print best parameters\n",
    "print('No. of Trees'.rjust(21) + ' : ' + str(best_n_estimators))\n",
    "print('Max Features'.rjust(21) + ' : ' + str(best_colsample_bytree))\n",
    "print('Min. Samples in Leaf'.rjust(21) + ' : ' + str(best_min_child_samples))\n",
    "print('Alpha'.rjust(21) + ' : ' + str(best_reg_alpha))\n",
    "print('Lambda'.rjust(21) + ' : ' + str(best_reg_lambda))\n",
    "print('Subsample'.rjust(21) + ' : ' + str(best_subsample))"
   ]
  },
  {
   "cell_type": "code",
   "execution_count": null,
   "metadata": {},
   "outputs": [],
   "source": []
  }
 ],
 "metadata": {
  "kernelspec": {
   "display_name": "Python 3",
   "language": "python",
   "name": "python3"
  },
  "language_info": {
   "codemirror_mode": {
    "name": "ipython",
    "version": 3
   },
   "file_extension": ".py",
   "mimetype": "text/x-python",
   "name": "python",
   "nbconvert_exporter": "python",
   "pygments_lexer": "ipython3",
   "version": "3.6.6"
  }
 },
 "nbformat": 4,
 "nbformat_minor": 2
}
