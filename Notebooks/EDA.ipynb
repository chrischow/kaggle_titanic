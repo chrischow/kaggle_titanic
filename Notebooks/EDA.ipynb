{
 "cells": [
  {
   "cell_type": "markdown",
   "metadata": {},
   "source": [
    "# EDA"
   ]
  },
  {
   "cell_type": "code",
   "execution_count": 1,
   "metadata": {},
   "outputs": [
    {
     "name": "stderr",
     "output_type": "stream",
     "text": [
      "C:\\Users\\user\\Anaconda3\\lib\\site-packages\\sklearn\\ensemble\\weight_boosting.py:29: DeprecationWarning: numpy.core.umath_tests is an internal NumPy module and should not be imported. It will be removed in a future NumPy release.\n",
      "  from numpy.core.umath_tests import inner1d\n"
     ]
    }
   ],
   "source": [
    "# Import modules\n",
    "import datetime\n",
    "import pandas as pd\n",
    "import numpy as np\n",
    "import matplotlib.pyplot as plt\n",
    "import matplotlib\n",
    "import seaborn as sns\n",
    "from sklearn.decomposition import PCA\n",
    "from sklearn.ensemble import RandomForestRegressor\n",
    "from sklearn.linear_model import LogisticRegression, LinearRegression, ElasticNet\n",
    "from sklearn.manifold import Isomap\n",
    "from sklearn.metrics import accuracy_score, auc, make_scorer, mean_squared_error, r2_score\n",
    "from sklearn.model_selection import cross_val_score, train_test_split, GridSearchCV, RepeatedKFold, KFold\n",
    "from sklearn.neighbors import KNeighborsRegressor, KNeighborsClassifier\n",
    "from sklearn.preprocessing import StandardScaler, MinMaxScaler, MaxAbsScaler, Normalizer, RobustScaler\n",
    "from sklearn.svm import SVC, NuSVC, SVR, LinearSVR\n",
    "import warnings\n",
    "from xgboost import XGBClassifier, XGBRegressor\n",
    "\n",
    "# Settings\n",
    "%matplotlib inline\n",
    "matplotlib.style.use('ggplot')\n",
    "warnings.filterwarnings('ignore')"
   ]
  },
  {
   "cell_type": "code",
   "execution_count": 2,
   "metadata": {},
   "outputs": [],
   "source": [
    "# Read data\n",
    "df = pd.read_csv('train.csv')"
   ]
  },
  {
   "cell_type": "code",
   "execution_count": 3,
   "metadata": {},
   "outputs": [
    {
     "data": {
      "text/html": [
       "<div>\n",
       "<table border=\"1\" class=\"dataframe\">\n",
       "  <thead>\n",
       "    <tr style=\"text-align: right;\">\n",
       "      <th></th>\n",
       "      <th>PassengerId</th>\n",
       "      <th>Survived</th>\n",
       "      <th>Pclass</th>\n",
       "      <th>Name</th>\n",
       "      <th>Sex</th>\n",
       "      <th>Age</th>\n",
       "      <th>SibSp</th>\n",
       "      <th>Parch</th>\n",
       "      <th>Ticket</th>\n",
       "      <th>Fare</th>\n",
       "      <th>Cabin</th>\n",
       "      <th>Embarked</th>\n",
       "    </tr>\n",
       "  </thead>\n",
       "  <tbody>\n",
       "    <tr>\n",
       "      <th>0</th>\n",
       "      <td>1</td>\n",
       "      <td>0</td>\n",
       "      <td>3</td>\n",
       "      <td>Braund, Mr. Owen Harris</td>\n",
       "      <td>male</td>\n",
       "      <td>22.0</td>\n",
       "      <td>1</td>\n",
       "      <td>0</td>\n",
       "      <td>A/5 21171</td>\n",
       "      <td>7.2500</td>\n",
       "      <td>NaN</td>\n",
       "      <td>S</td>\n",
       "    </tr>\n",
       "    <tr>\n",
       "      <th>1</th>\n",
       "      <td>2</td>\n",
       "      <td>1</td>\n",
       "      <td>1</td>\n",
       "      <td>Cumings, Mrs. John Bradley (Florence Briggs Th...</td>\n",
       "      <td>female</td>\n",
       "      <td>38.0</td>\n",
       "      <td>1</td>\n",
       "      <td>0</td>\n",
       "      <td>PC 17599</td>\n",
       "      <td>71.2833</td>\n",
       "      <td>C85</td>\n",
       "      <td>C</td>\n",
       "    </tr>\n",
       "    <tr>\n",
       "      <th>2</th>\n",
       "      <td>3</td>\n",
       "      <td>1</td>\n",
       "      <td>3</td>\n",
       "      <td>Heikkinen, Miss. Laina</td>\n",
       "      <td>female</td>\n",
       "      <td>26.0</td>\n",
       "      <td>0</td>\n",
       "      <td>0</td>\n",
       "      <td>STON/O2. 3101282</td>\n",
       "      <td>7.9250</td>\n",
       "      <td>NaN</td>\n",
       "      <td>S</td>\n",
       "    </tr>\n",
       "    <tr>\n",
       "      <th>3</th>\n",
       "      <td>4</td>\n",
       "      <td>1</td>\n",
       "      <td>1</td>\n",
       "      <td>Futrelle, Mrs. Jacques Heath (Lily May Peel)</td>\n",
       "      <td>female</td>\n",
       "      <td>35.0</td>\n",
       "      <td>1</td>\n",
       "      <td>0</td>\n",
       "      <td>113803</td>\n",
       "      <td>53.1000</td>\n",
       "      <td>C123</td>\n",
       "      <td>S</td>\n",
       "    </tr>\n",
       "    <tr>\n",
       "      <th>4</th>\n",
       "      <td>5</td>\n",
       "      <td>0</td>\n",
       "      <td>3</td>\n",
       "      <td>Allen, Mr. William Henry</td>\n",
       "      <td>male</td>\n",
       "      <td>35.0</td>\n",
       "      <td>0</td>\n",
       "      <td>0</td>\n",
       "      <td>373450</td>\n",
       "      <td>8.0500</td>\n",
       "      <td>NaN</td>\n",
       "      <td>S</td>\n",
       "    </tr>\n",
       "    <tr>\n",
       "      <th>5</th>\n",
       "      <td>6</td>\n",
       "      <td>0</td>\n",
       "      <td>3</td>\n",
       "      <td>Moran, Mr. James</td>\n",
       "      <td>male</td>\n",
       "      <td>NaN</td>\n",
       "      <td>0</td>\n",
       "      <td>0</td>\n",
       "      <td>330877</td>\n",
       "      <td>8.4583</td>\n",
       "      <td>NaN</td>\n",
       "      <td>Q</td>\n",
       "    </tr>\n",
       "    <tr>\n",
       "      <th>6</th>\n",
       "      <td>7</td>\n",
       "      <td>0</td>\n",
       "      <td>1</td>\n",
       "      <td>McCarthy, Mr. Timothy J</td>\n",
       "      <td>male</td>\n",
       "      <td>54.0</td>\n",
       "      <td>0</td>\n",
       "      <td>0</td>\n",
       "      <td>17463</td>\n",
       "      <td>51.8625</td>\n",
       "      <td>E46</td>\n",
       "      <td>S</td>\n",
       "    </tr>\n",
       "    <tr>\n",
       "      <th>7</th>\n",
       "      <td>8</td>\n",
       "      <td>0</td>\n",
       "      <td>3</td>\n",
       "      <td>Palsson, Master. Gosta Leonard</td>\n",
       "      <td>male</td>\n",
       "      <td>2.0</td>\n",
       "      <td>3</td>\n",
       "      <td>1</td>\n",
       "      <td>349909</td>\n",
       "      <td>21.0750</td>\n",
       "      <td>NaN</td>\n",
       "      <td>S</td>\n",
       "    </tr>\n",
       "    <tr>\n",
       "      <th>8</th>\n",
       "      <td>9</td>\n",
       "      <td>1</td>\n",
       "      <td>3</td>\n",
       "      <td>Johnson, Mrs. Oscar W (Elisabeth Vilhelmina Berg)</td>\n",
       "      <td>female</td>\n",
       "      <td>27.0</td>\n",
       "      <td>0</td>\n",
       "      <td>2</td>\n",
       "      <td>347742</td>\n",
       "      <td>11.1333</td>\n",
       "      <td>NaN</td>\n",
       "      <td>S</td>\n",
       "    </tr>\n",
       "    <tr>\n",
       "      <th>9</th>\n",
       "      <td>10</td>\n",
       "      <td>1</td>\n",
       "      <td>2</td>\n",
       "      <td>Nasser, Mrs. Nicholas (Adele Achem)</td>\n",
       "      <td>female</td>\n",
       "      <td>14.0</td>\n",
       "      <td>1</td>\n",
       "      <td>0</td>\n",
       "      <td>237736</td>\n",
       "      <td>30.0708</td>\n",
       "      <td>NaN</td>\n",
       "      <td>C</td>\n",
       "    </tr>\n",
       "    <tr>\n",
       "      <th>10</th>\n",
       "      <td>11</td>\n",
       "      <td>1</td>\n",
       "      <td>3</td>\n",
       "      <td>Sandstrom, Miss. Marguerite Rut</td>\n",
       "      <td>female</td>\n",
       "      <td>4.0</td>\n",
       "      <td>1</td>\n",
       "      <td>1</td>\n",
       "      <td>PP 9549</td>\n",
       "      <td>16.7000</td>\n",
       "      <td>G6</td>\n",
       "      <td>S</td>\n",
       "    </tr>\n",
       "    <tr>\n",
       "      <th>11</th>\n",
       "      <td>12</td>\n",
       "      <td>1</td>\n",
       "      <td>1</td>\n",
       "      <td>Bonnell, Miss. Elizabeth</td>\n",
       "      <td>female</td>\n",
       "      <td>58.0</td>\n",
       "      <td>0</td>\n",
       "      <td>0</td>\n",
       "      <td>113783</td>\n",
       "      <td>26.5500</td>\n",
       "      <td>C103</td>\n",
       "      <td>S</td>\n",
       "    </tr>\n",
       "    <tr>\n",
       "      <th>12</th>\n",
       "      <td>13</td>\n",
       "      <td>0</td>\n",
       "      <td>3</td>\n",
       "      <td>Saundercock, Mr. William Henry</td>\n",
       "      <td>male</td>\n",
       "      <td>20.0</td>\n",
       "      <td>0</td>\n",
       "      <td>0</td>\n",
       "      <td>A/5. 2151</td>\n",
       "      <td>8.0500</td>\n",
       "      <td>NaN</td>\n",
       "      <td>S</td>\n",
       "    </tr>\n",
       "    <tr>\n",
       "      <th>13</th>\n",
       "      <td>14</td>\n",
       "      <td>0</td>\n",
       "      <td>3</td>\n",
       "      <td>Andersson, Mr. Anders Johan</td>\n",
       "      <td>male</td>\n",
       "      <td>39.0</td>\n",
       "      <td>1</td>\n",
       "      <td>5</td>\n",
       "      <td>347082</td>\n",
       "      <td>31.2750</td>\n",
       "      <td>NaN</td>\n",
       "      <td>S</td>\n",
       "    </tr>\n",
       "    <tr>\n",
       "      <th>14</th>\n",
       "      <td>15</td>\n",
       "      <td>0</td>\n",
       "      <td>3</td>\n",
       "      <td>Vestrom, Miss. Hulda Amanda Adolfina</td>\n",
       "      <td>female</td>\n",
       "      <td>14.0</td>\n",
       "      <td>0</td>\n",
       "      <td>0</td>\n",
       "      <td>350406</td>\n",
       "      <td>7.8542</td>\n",
       "      <td>NaN</td>\n",
       "      <td>S</td>\n",
       "    </tr>\n",
       "    <tr>\n",
       "      <th>15</th>\n",
       "      <td>16</td>\n",
       "      <td>1</td>\n",
       "      <td>2</td>\n",
       "      <td>Hewlett, Mrs. (Mary D Kingcome)</td>\n",
       "      <td>female</td>\n",
       "      <td>55.0</td>\n",
       "      <td>0</td>\n",
       "      <td>0</td>\n",
       "      <td>248706</td>\n",
       "      <td>16.0000</td>\n",
       "      <td>NaN</td>\n",
       "      <td>S</td>\n",
       "    </tr>\n",
       "    <tr>\n",
       "      <th>16</th>\n",
       "      <td>17</td>\n",
       "      <td>0</td>\n",
       "      <td>3</td>\n",
       "      <td>Rice, Master. Eugene</td>\n",
       "      <td>male</td>\n",
       "      <td>2.0</td>\n",
       "      <td>4</td>\n",
       "      <td>1</td>\n",
       "      <td>382652</td>\n",
       "      <td>29.1250</td>\n",
       "      <td>NaN</td>\n",
       "      <td>Q</td>\n",
       "    </tr>\n",
       "    <tr>\n",
       "      <th>17</th>\n",
       "      <td>18</td>\n",
       "      <td>1</td>\n",
       "      <td>2</td>\n",
       "      <td>Williams, Mr. Charles Eugene</td>\n",
       "      <td>male</td>\n",
       "      <td>NaN</td>\n",
       "      <td>0</td>\n",
       "      <td>0</td>\n",
       "      <td>244373</td>\n",
       "      <td>13.0000</td>\n",
       "      <td>NaN</td>\n",
       "      <td>S</td>\n",
       "    </tr>\n",
       "    <tr>\n",
       "      <th>18</th>\n",
       "      <td>19</td>\n",
       "      <td>0</td>\n",
       "      <td>3</td>\n",
       "      <td>Vander Planke, Mrs. Julius (Emelia Maria Vande...</td>\n",
       "      <td>female</td>\n",
       "      <td>31.0</td>\n",
       "      <td>1</td>\n",
       "      <td>0</td>\n",
       "      <td>345763</td>\n",
       "      <td>18.0000</td>\n",
       "      <td>NaN</td>\n",
       "      <td>S</td>\n",
       "    </tr>\n",
       "    <tr>\n",
       "      <th>19</th>\n",
       "      <td>20</td>\n",
       "      <td>1</td>\n",
       "      <td>3</td>\n",
       "      <td>Masselmani, Mrs. Fatima</td>\n",
       "      <td>female</td>\n",
       "      <td>NaN</td>\n",
       "      <td>0</td>\n",
       "      <td>0</td>\n",
       "      <td>2649</td>\n",
       "      <td>7.2250</td>\n",
       "      <td>NaN</td>\n",
       "      <td>C</td>\n",
       "    </tr>\n",
       "  </tbody>\n",
       "</table>\n",
       "</div>"
      ],
      "text/plain": [
       "    PassengerId  Survived  Pclass  \\\n",
       "0             1         0       3   \n",
       "1             2         1       1   \n",
       "2             3         1       3   \n",
       "3             4         1       1   \n",
       "4             5         0       3   \n",
       "5             6         0       3   \n",
       "6             7         0       1   \n",
       "7             8         0       3   \n",
       "8             9         1       3   \n",
       "9            10         1       2   \n",
       "10           11         1       3   \n",
       "11           12         1       1   \n",
       "12           13         0       3   \n",
       "13           14         0       3   \n",
       "14           15         0       3   \n",
       "15           16         1       2   \n",
       "16           17         0       3   \n",
       "17           18         1       2   \n",
       "18           19         0       3   \n",
       "19           20         1       3   \n",
       "\n",
       "                                                 Name     Sex   Age  SibSp  \\\n",
       "0                             Braund, Mr. Owen Harris    male  22.0      1   \n",
       "1   Cumings, Mrs. John Bradley (Florence Briggs Th...  female  38.0      1   \n",
       "2                              Heikkinen, Miss. Laina  female  26.0      0   \n",
       "3        Futrelle, Mrs. Jacques Heath (Lily May Peel)  female  35.0      1   \n",
       "4                            Allen, Mr. William Henry    male  35.0      0   \n",
       "5                                    Moran, Mr. James    male   NaN      0   \n",
       "6                             McCarthy, Mr. Timothy J    male  54.0      0   \n",
       "7                      Palsson, Master. Gosta Leonard    male   2.0      3   \n",
       "8   Johnson, Mrs. Oscar W (Elisabeth Vilhelmina Berg)  female  27.0      0   \n",
       "9                 Nasser, Mrs. Nicholas (Adele Achem)  female  14.0      1   \n",
       "10                    Sandstrom, Miss. Marguerite Rut  female   4.0      1   \n",
       "11                           Bonnell, Miss. Elizabeth  female  58.0      0   \n",
       "12                     Saundercock, Mr. William Henry    male  20.0      0   \n",
       "13                        Andersson, Mr. Anders Johan    male  39.0      1   \n",
       "14               Vestrom, Miss. Hulda Amanda Adolfina  female  14.0      0   \n",
       "15                   Hewlett, Mrs. (Mary D Kingcome)   female  55.0      0   \n",
       "16                               Rice, Master. Eugene    male   2.0      4   \n",
       "17                       Williams, Mr. Charles Eugene    male   NaN      0   \n",
       "18  Vander Planke, Mrs. Julius (Emelia Maria Vande...  female  31.0      1   \n",
       "19                            Masselmani, Mrs. Fatima  female   NaN      0   \n",
       "\n",
       "    Parch            Ticket     Fare Cabin Embarked  \n",
       "0       0         A/5 21171   7.2500   NaN        S  \n",
       "1       0          PC 17599  71.2833   C85        C  \n",
       "2       0  STON/O2. 3101282   7.9250   NaN        S  \n",
       "3       0            113803  53.1000  C123        S  \n",
       "4       0            373450   8.0500   NaN        S  \n",
       "5       0            330877   8.4583   NaN        Q  \n",
       "6       0             17463  51.8625   E46        S  \n",
       "7       1            349909  21.0750   NaN        S  \n",
       "8       2            347742  11.1333   NaN        S  \n",
       "9       0            237736  30.0708   NaN        C  \n",
       "10      1           PP 9549  16.7000    G6        S  \n",
       "11      0            113783  26.5500  C103        S  \n",
       "12      0         A/5. 2151   8.0500   NaN        S  \n",
       "13      5            347082  31.2750   NaN        S  \n",
       "14      0            350406   7.8542   NaN        S  \n",
       "15      0            248706  16.0000   NaN        S  \n",
       "16      1            382652  29.1250   NaN        Q  \n",
       "17      0            244373  13.0000   NaN        S  \n",
       "18      0            345763  18.0000   NaN        S  \n",
       "19      0              2649   7.2250   NaN        C  "
      ]
     },
     "execution_count": 3,
     "metadata": {},
     "output_type": "execute_result"
    }
   ],
   "source": [
    "# View data\n",
    "df.head(20)"
   ]
  },
  {
   "cell_type": "markdown",
   "metadata": {},
   "source": [
    "## Target: Survived"
   ]
  },
  {
   "cell_type": "markdown",
   "metadata": {},
   "source": [
    "Approximately 61% of individuals survived."
   ]
  },
  {
   "cell_type": "code",
   "execution_count": 4,
   "metadata": {
    "scrolled": true
   },
   "outputs": [
    {
     "data": {
      "image/png": "[encoded data removed]",
      "text/plain": [
       "<matplotlib.figure.Figure at 0x23adddd72e8>"
      ]
     },
     "metadata": {},
     "output_type": "display_data"
    }
   ],
   "source": [
    "# Plot\n",
    "pd.DataFrame(df['Survived'].value_counts()/df.shape[0]).plot.bar()\n",
    "plt.title('Survived')\n",
    "plt.show()"
   ]
  },
  {
   "cell_type": "markdown",
   "metadata": {},
   "source": [
    "## Pclass"
   ]
  },
  {
   "cell_type": "markdown",
   "metadata": {},
   "source": [
    "Most passengers were in the third class. Strangely, there were more passengers in the first class than in the second."
   ]
  },
  {
   "cell_type": "code",
   "execution_count": 5,
   "metadata": {
    "scrolled": true
   },
   "outputs": [
    {
     "data": {
      "image/png": "[encoded data removed]",
      "text/plain": [
       "<matplotlib.figure.Figure at 0x23adf10e588>"
      ]
     },
     "metadata": {},
     "output_type": "display_data"
    }
   ],
   "source": [
    "# Plot\n",
    "pd.DataFrame(df['Pclass'].value_counts()/df.shape[0]).plot.bar()\n",
    "plt.title('Pclass')\n",
    "plt.show()"
   ]
  },
  {
   "cell_type": "markdown",
   "metadata": {},
   "source": [
    "1st class passengers tended to have a higher survival rate. The lower class passengers perished."
   ]
  },
  {
   "cell_type": "code",
   "execution_count": 6,
   "metadata": {
    "scrolled": true
   },
   "outputs": [
    {
     "data": {
      "image/png": "[encoded data removed]",
      "text/plain": [
       "<matplotlib.figure.Figure at 0x23adf1c0cf8>"
      ]
     },
     "metadata": {},
     "output_type": "display_data"
    }
   ],
   "source": [
    "# Means\n",
    "df.groupby('Pclass')['Survived'].mean().plot.bar()\n",
    "plt.title('%Survived by Pclass')\n",
    "plt.show()"
   ]
  },
  {
   "cell_type": "markdown",
   "metadata": {},
   "source": [
    "Although the rates were drastically different, the counts were relatively similar: lifeboats were allocated relatively evenly between the classes, though a disproportionately high number went to the 1st class passengers."
   ]
  },
  {
   "cell_type": "code",
   "execution_count": 7,
   "metadata": {},
   "outputs": [
    {
     "data": {
      "image/png": "[encoded data removed]",
      "text/plain": [
       "<matplotlib.figure.Figure at 0x23adf2832e8>"
      ]
     },
     "metadata": {},
     "output_type": "display_data"
    }
   ],
   "source": [
    "# Counts\n",
    "df.groupby('Pclass')['Survived'].value_counts().plot.bar()\n",
    "plt.title('Survivors and Deaths by Pclass')\n",
    "plt.show()"
   ]
  },
  {
   "cell_type": "markdown",
   "metadata": {},
   "source": [
    "### Verdict\n",
    "Pclass can be encoded as an ordinal categorical feature, dummies, or a mean-encoded numeric."
   ]
  },
  {
   "cell_type": "code",
   "execution_count": 8,
   "metadata": {
    "collapsed": true
   },
   "outputs": [],
   "source": [
    "# Initialise dictionary\n",
    "var_dict = dict()\n",
    "\n",
    "# Add transformation options\n",
    "var_dict['Pclass'] = ['Ordinal', 'One-hot', 'Mean']"
   ]
  },
  {
   "cell_type": "markdown",
   "metadata": {},
   "source": [
    "## Name\n",
    "Names are mostly unique. First, we'll examine their title. It is worth grouping all passengers with a title other than Mr., Miss., Mrs., Master, and Dr. together. The reasons are:  \n",
    "  \n",
    "1. Mr., Miss., and Mrs. are common titles.\n",
    "2. Master indicates privilege.\n",
    "3. Doctors might have been needed to treat passengers.\n",
    "  "
   ]
  },
  {
   "cell_type": "code",
   "execution_count": 9,
   "metadata": {},
   "outputs": [
    {
     "data": {
      "image/png": "[encoded data removed]",
      "text/plain": [
       "<matplotlib.figure.Figure at 0x23adf330eb8>"
      ]
     },
     "metadata": {},
     "output_type": "display_data"
    }
   ],
   "source": [
    "# Remove everything before \", \"\n",
    "df['title'] = df.Name.str.replace('.*, ', '').str.replace(' .*', '')\n",
    "\n",
    "# Plot\n",
    "pd.DataFrame(df.title.value_counts()).plot.bar()\n",
    "plt.title('Titles')\n",
    "plt.show()"
   ]
  },
  {
   "cell_type": "code",
   "execution_count": 10,
   "metadata": {},
   "outputs": [
    {
     "data": {
      "image/png": "[encoded data removed]",
      "text/plain": [
       "<matplotlib.figure.Figure at 0x23adf3bca20>"
      ]
     },
     "metadata": {},
     "output_type": "display_data"
    }
   ],
   "source": [
    "# Convert all other than Mr., Miss. and Mrs. to Other\n",
    "df['title_grouped'] = df.title.copy()\n",
    "df.title_grouped[(df.title != 'Mr.') & (df.title != 'Miss.') & (df.title != 'Mrs.') & (df.title != 'Master.') & (df.title != 'Dr.')] = 'Other'\n",
    "\n",
    "pd.DataFrame(df.title_grouped.value_counts()).plot.bar()\n",
    "plt.title('Titles (Grouped)')\n",
    "plt.show()"
   ]
  },
  {
   "cell_type": "markdown",
   "metadata": {},
   "source": [
    "The survival rates (below) were the highest for women and Masters, and lowest for Men. Doctors had a lower survival rate than the Others group. Hence, we will throw the doctors into the Others group."
   ]
  },
  {
   "cell_type": "code",
   "execution_count": 11,
   "metadata": {},
   "outputs": [
    {
     "data": {
      "image/png": "[encoded data removed]",
      "text/plain": [
       "<matplotlib.figure.Figure at 0x23adddbefd0>"
      ]
     },
     "metadata": {},
     "output_type": "display_data"
    }
   ],
   "source": [
    "# Plot\n",
    "df.groupby('title_grouped')['Survived'].mean().plot.bar()\n",
    "plt.title('%Survived by Title Group')\n",
    "plt.show()"
   ]
  },
  {
   "cell_type": "code",
   "execution_count": 12,
   "metadata": {
    "collapsed": true
   },
   "outputs": [],
   "source": [
    "# Remove everything before \", \"\n",
    "df['title'] = df.Name.str.replace('.*, ', '').str.replace(' .*', '')\n",
    "\n",
    "# Convert all other than Mr., Miss. and Mrs. to Other\n",
    "df['title_grouped'] = df.title.copy()\n",
    "df.title_grouped[(df.title != 'Mr.') & (df.title != 'Miss.') & (df.title != 'Mrs.') & (df.title != 'Master.')] = 'Other'\n",
    "\n",
    "# Configure order\n",
    "# title_order = ['Mr.', 'Other', 'Master.', 'Miss.', 'Mrs.']\n",
    "\n",
    "# Convert to ordinal\n",
    "# df.title_grouped = df.title_grouped.astype('category', ordered = True, categories = title_order).cat.codes"
   ]
  },
  {
   "cell_type": "markdown",
   "metadata": {},
   "source": [
    "### Verdict\n",
    "Title can be encoded as one-hot-encoded and mean-encoded features."
   ]
  },
  {
   "cell_type": "code",
   "execution_count": 13,
   "metadata": {
    "collapsed": true
   },
   "outputs": [],
   "source": [
    "# Add transformation options\n",
    "var_dict['title'] = ['One-hot', 'Mean']"
   ]
  },
  {
   "cell_type": "markdown",
   "metadata": {},
   "source": [
    "## Sex\n",
    "As expected, females had a higher survival rate than men, despite there being fewer women."
   ]
  },
  {
   "cell_type": "code",
   "execution_count": 14,
   "metadata": {},
   "outputs": [
    {
     "data": {
      "image/png": "[encoded data removed]",
      "text/plain": [
       "<matplotlib.figure.Figure at 0x23adf1df9b0>"
      ]
     },
     "metadata": {},
     "output_type": "display_data"
    }
   ],
   "source": [
    "# Plot\n",
    "df.groupby('Sex').Survived.mean().plot.bar()\n",
    "plt.title('%Survived by Sex')\n",
    "plt.show()"
   ]
  },
  {
   "cell_type": "code",
   "execution_count": 15,
   "metadata": {},
   "outputs": [
    {
     "data": {
      "image/png": "[encoded data removed]",
      "text/plain": [
       "<matplotlib.figure.Figure at 0x23adf283978>"
      ]
     },
     "metadata": {},
     "output_type": "display_data"
    }
   ],
   "source": [
    "# Plot\n",
    "pd.DataFrame(df.Sex.value_counts()).plot.bar()\n",
    "plt.title('Sex')\n",
    "plt.show()"
   ]
  },
  {
   "cell_type": "markdown",
   "metadata": {},
   "source": [
    "### Verdict\n",
    "Clearly, Sex is an important feature. It makes most sense to include this as a dummy."
   ]
  },
  {
   "cell_type": "code",
   "execution_count": 16,
   "metadata": {},
   "outputs": [],
   "source": [
    "# Add transformation options\n",
    "var_dict['Sex'] = ['Dummy: Male=1', 'Dummy: Female = 1']"
   ]
  },
  {
   "cell_type": "markdown",
   "metadata": {},
   "source": [
    "## Age\n",
    "First, note that there are many missing values in Age: a total of 177. In the feature engineering phase, we will need to impute the means using regression methods."
   ]
  },
  {
   "cell_type": "code",
   "execution_count": 17,
   "metadata": {},
   "outputs": [
    {
     "name": "stdout",
     "output_type": "stream",
     "text": [
      "Missing Values: 177\n"
     ]
    }
   ],
   "source": [
    "# Missing values\n",
    "print('Missing Values: ' + str(df.Age.isnull().sum()))"
   ]
  },
  {
   "cell_type": "code",
   "execution_count": 18,
   "metadata": {
    "scrolled": true
   },
   "outputs": [
    {
     "data": {
      "text/html": [
       "<div>\n",
       "<table border=\"1\" class=\"dataframe\">\n",
       "  <thead>\n",
       "    <tr style=\"text-align: right;\">\n",
       "      <th></th>\n",
       "      <th>PassengerId</th>\n",
       "      <th>Survived</th>\n",
       "      <th>Pclass</th>\n",
       "      <th>Name</th>\n",
       "      <th>Sex</th>\n",
       "      <th>Age</th>\n",
       "      <th>SibSp</th>\n",
       "      <th>Parch</th>\n",
       "      <th>Ticket</th>\n",
       "      <th>Fare</th>\n",
       "      <th>Cabin</th>\n",
       "      <th>Embarked</th>\n",
       "      <th>title</th>\n",
       "      <th>title_grouped</th>\n",
       "    </tr>\n",
       "  </thead>\n",
       "  <tbody>\n",
       "    <tr>\n",
       "      <th>0</th>\n",
       "      <td>1</td>\n",
       "      <td>0</td>\n",
       "      <td>3</td>\n",
       "      <td>Braund, Mr. Owen Harris</td>\n",
       "      <td>male</td>\n",
       "      <td>22.0</td>\n",
       "      <td>1</td>\n",
       "      <td>0</td>\n",
       "      <td>A/5 21171</td>\n",
       "      <td>7.2500</td>\n",
       "      <td>NaN</td>\n",
       "      <td>S</td>\n",
       "      <td>Mr.</td>\n",
       "      <td>Mr.</td>\n",
       "    </tr>\n",
       "    <tr>\n",
       "      <th>1</th>\n",
       "      <td>2</td>\n",
       "      <td>1</td>\n",
       "      <td>1</td>\n",
       "      <td>Cumings, Mrs. John Bradley (Florence Briggs Th...</td>\n",
       "      <td>female</td>\n",
       "      <td>38.0</td>\n",
       "      <td>1</td>\n",
       "      <td>0</td>\n",
       "      <td>PC 17599</td>\n",
       "      <td>71.2833</td>\n",
       "      <td>C85</td>\n",
       "      <td>C</td>\n",
       "      <td>Mrs.</td>\n",
       "      <td>Mrs.</td>\n",
       "    </tr>\n",
       "    <tr>\n",
       "      <th>2</th>\n",
       "      <td>3</td>\n",
       "      <td>1</td>\n",
       "      <td>3</td>\n",
       "      <td>Heikkinen, Miss. Laina</td>\n",
       "      <td>female</td>\n",
       "      <td>26.0</td>\n",
       "      <td>0</td>\n",
       "      <td>0</td>\n",
       "      <td>STON/O2. 3101282</td>\n",
       "      <td>7.9250</td>\n",
       "      <td>NaN</td>\n",
       "      <td>S</td>\n",
       "      <td>Miss.</td>\n",
       "      <td>Miss.</td>\n",
       "    </tr>\n",
       "    <tr>\n",
       "      <th>3</th>\n",
       "      <td>4</td>\n",
       "      <td>1</td>\n",
       "      <td>1</td>\n",
       "      <td>Futrelle, Mrs. Jacques Heath (Lily May Peel)</td>\n",
       "      <td>female</td>\n",
       "      <td>35.0</td>\n",
       "      <td>1</td>\n",
       "      <td>0</td>\n",
       "      <td>113803</td>\n",
       "      <td>53.1000</td>\n",
       "      <td>C123</td>\n",
       "      <td>S</td>\n",
       "      <td>Mrs.</td>\n",
       "      <td>Mrs.</td>\n",
       "    </tr>\n",
       "    <tr>\n",
       "      <th>4</th>\n",
       "      <td>5</td>\n",
       "      <td>0</td>\n",
       "      <td>3</td>\n",
       "      <td>Allen, Mr. William Henry</td>\n",
       "      <td>male</td>\n",
       "      <td>35.0</td>\n",
       "      <td>0</td>\n",
       "      <td>0</td>\n",
       "      <td>373450</td>\n",
       "      <td>8.0500</td>\n",
       "      <td>NaN</td>\n",
       "      <td>S</td>\n",
       "      <td>Mr.</td>\n",
       "      <td>Mr.</td>\n",
       "    </tr>\n",
       "  </tbody>\n",
       "</table>\n",
       "</div>"
      ],
      "text/plain": [
       "   PassengerId  Survived  Pclass  \\\n",
       "0            1         0       3   \n",
       "1            2         1       1   \n",
       "2            3         1       3   \n",
       "3            4         1       1   \n",
       "4            5         0       3   \n",
       "\n",
       "                                                Name     Sex   Age  SibSp  \\\n",
       "0                            Braund, Mr. Owen Harris    male  22.0      1   \n",
       "1  Cumings, Mrs. John Bradley (Florence Briggs Th...  female  38.0      1   \n",
       "2                             Heikkinen, Miss. Laina  female  26.0      0   \n",
       "3       Futrelle, Mrs. Jacques Heath (Lily May Peel)  female  35.0      1   \n",
       "4                           Allen, Mr. William Henry    male  35.0      0   \n",
       "\n",
       "   Parch            Ticket     Fare Cabin Embarked  title title_grouped  \n",
       "0      0         A/5 21171   7.2500   NaN        S    Mr.           Mr.  \n",
       "1      0          PC 17599  71.2833   C85        C   Mrs.          Mrs.  \n",
       "2      0  STON/O2. 3101282   7.9250   NaN        S  Miss.         Miss.  \n",
       "3      0            113803  53.1000  C123        S   Mrs.          Mrs.  \n",
       "4      0            373450   8.0500   NaN        S    Mr.           Mr.  "
      ]
     },
     "execution_count": 18,
     "metadata": {},
     "output_type": "execute_result"
    }
   ],
   "source": [
    "df.head()"
   ]
  },
  {
   "cell_type": "markdown",
   "metadata": {},
   "source": [
    "### Value Imputation\n",
    "Given the large number of missing values in age (about 200), value imputation might be required. A complex way to do this would be to estimate age using the other variables. We have quite a number of techniques to test out:  \n",
    "  \n",
    "1. Multiple scalers\n",
    "2. Multiple dimensionality reduction methods\n",
    "3. Multiple models  \n",
    "  a. Different parameters  \n",
    "  b. Cross-fold validation  \n",
    "  \n",
    "This may not work, depending on the RMSE of the models."
   ]
  },
  {
   "cell_type": "raw",
   "metadata": {
    "collapsed": true
   },
   "source": [
    "# Extract data\n",
    "age_df = df[['Age', 'SibSp', 'Parch', 'Fare', 'Pclass', 'Sex', 'title_grouped']].dropna(axis = 0).copy()\n",
    "age_df = age_df.reset_index(drop = True)\n",
    "\n",
    "# Split into X_num, X_bin, y\n",
    "X_num = age_df.drop(['Age', 'Pclass', 'Sex', 'title_grouped'], axis = 1)\n",
    "X_bin = age_df[['Pclass', 'Sex', 'title_grouped']].copy()\n",
    "X_bin['Pclass'] = 'class_' + X_bin.Pclass.astype('str')\n",
    "X_bin = pd.get_dummies(X_bin.copy())\n",
    "y = age_df['Age']"
   ]
  },
  {
   "cell_type": "markdown",
   "metadata": {},
   "source": [
    "#### Model Selection\n",
    "We attempt every combination above, which give us a total of 72 cross-validated models."
   ]
  },
  {
   "cell_type": "raw",
   "metadata": {},
   "source": [
    "# Configure repeated K-fold\n",
    "rkf = RepeatedKFold(n_repeats=5, n_splits=5)\n",
    "\n",
    "# Create scalers: StandardScaler, MinMaxScaler, MaxAbsScaler, Normalizer, RobustScaler\n",
    "scalers = [\n",
    "    ('None', 0),\n",
    "    ('Standard', StandardScaler()),\n",
    "    ('MinMax', MinMaxScaler()),\n",
    "    ('MaxAbs', MaxAbsScaler()),\n",
    "    ('Robust', RobustScaler()),\n",
    "    ('Normal', Normalizer()),\n",
    "]\n",
    "\n",
    "# Create decomposers\n",
    "decomps = [\n",
    "    ('None', 0),\n",
    "    ('PCA', PCA(n_components=2)),\n",
    "    ('Isomap', Isomap(n_components=2, n_neighbors=5, n_jobs=3))\n",
    "]\n",
    "\n",
    "# Create imputation models\n",
    "models = [\n",
    "    ('Linear Regression', LinearRegression(), {\n",
    "        'fit_intercept': [True]\n",
    "    }),\n",
    "    ('kNN', KNeighborsRegressor(), {\n",
    "        'n_neighbors': [3,5,7,9,11,13,15]\n",
    "    }),\n",
    "    ('SVR', SVR(), {\n",
    "        'C': [0.001, 0.01, 0.1, 1, 10, 100],\n",
    "        'epsilon': [0.001, 0.01, 0.1, 1, 10, 100],\n",
    "        'kernel': ['rbf']\n",
    "    }),\n",
    "    ('ElasticNet', ElasticNet(random_state = 123), {\n",
    "        'alpha': [0.1, 0.5, 1, 5, 10, 100, 1000],\n",
    "        'l1_ratio': [0, 0.1, 0.2, 0.3, 0.4, 0.5, 0.6, 0.7, 0.8, 0.9, 1]\n",
    "    })\n",
    "]"
   ]
  },
  {
   "cell_type": "raw",
   "metadata": {
    "scrolled": true
   },
   "source": [
    "# Initialise results\n",
    "imp_results = []\n",
    "    \n",
    "# Loop through scalers and models\n",
    "for s in scalers:\n",
    "    \n",
    "    # Extract name and scaler\n",
    "    name_scale = s[0]\n",
    "    scaler = s[1]\n",
    "    \n",
    "    # Update status\n",
    "    print('[Scaler: ' + str(name_scale) + ']')\n",
    "    \n",
    "    # Check for any scaling\n",
    "    if name_scale != 'None':\n",
    "    \n",
    "        # Scale data\n",
    "        X_s = scaler.fit_transform(X_num)\n",
    "        X_s = pd.DataFrame(X_s, columns = X_num.columns)\n",
    "    \n",
    "    else:\n",
    "        \n",
    "        # Copy data\n",
    "        X_s = X_num.copy()\n",
    "    \n",
    "    # Run through decomposers\n",
    "    for d in decomps:\n",
    "        \n",
    "        # Extract name and decomposer\n",
    "        name_decomp = d[0]\n",
    "        decomp = d[1]\n",
    "        \n",
    "        # Update status\n",
    "        print('  * Decomposer: ' + str(name_decomp))\n",
    "        \n",
    "        # Check for any decomposition\n",
    "        if name_decomp != 'None':\n",
    "        \n",
    "            # Transform data\n",
    "            X_sd = decomp.fit_transform(X_s)\n",
    "            \n",
    "            # Convert to data frame\n",
    "            X_sd = pd.DataFrame(X_sd, columns = ['c1', 'c2'])\n",
    "        \n",
    "        else:\n",
    "            \n",
    "            # Copy data\n",
    "            X_sd = X_s.copy()\n",
    "        \n",
    "        # Merge data\n",
    "        X_final = pd.concat([X_sd, X_bin], axis = 1)\n",
    "        \n",
    "        # Run through models and estimate\n",
    "        for m in models:\n",
    "\n",
    "            # Extract name and model\n",
    "            name_model = m[0]\n",
    "            model = m[1]\n",
    "            params = m[2]\n",
    "\n",
    "            # Run GridSearch with parameters\n",
    "            temp_model = GridSearchCV(\n",
    "                estimator = model,\n",
    "                cv = rkf,\n",
    "                param_grid = params,\n",
    "                scoring = {'MSE': make_scorer(mean_squared_error), 'R2': make_scorer(r2_score)},\n",
    "                refit = 'MSE',\n",
    "                n_jobs = 3\n",
    "            )\n",
    "\n",
    "            # Fit data\n",
    "            temp_model.fit(X_final, y)\n",
    "            \n",
    "            # Append results\n",
    "            imp_results.append(\n",
    "                [name_scale, name_decomp, name_model, np.mean(temp_model.cv_results_['mean_test_MSE']), np.mean(temp_model.cv_results_['mean_test_R2']),\n",
    "                temp_model.best_score_, str(temp_model.best_params_)]\n",
    "            )\n",
    "            \n",
    "            # Update status\n",
    "            print('    - Model: ' + str(name_model) + \" | \" + str(round(np.sqrt(temp_model.best_score_), 2)) + ' years')\n",
    "        \n",
    "        # Update status\n",
    "        print()\n",
    "    \n",
    "    # Update status\n",
    "    print()"
   ]
  },
  {
   "cell_type": "markdown",
   "metadata": {},
   "source": [
    "In general, the best linear model give us only an average error of **11 years**, which is extremely high. A passenger whose age was less than 11 would have his age over-estimated (or under-estimated) by over 100%. Thus, linear methods for imputing values are not good enough."
   ]
  },
  {
   "cell_type": "raw",
   "metadata": {},
   "source": [
    "# Convert to data frame\n",
    "imp_sorted = pd.DataFrame(imp_results, columns = ['scaler', 'DR', 'model', 'mean_MSE', 'mean_R2', 'best_score', 'best_params'])\n",
    "\n",
    "# Sort\n",
    "imp_sorted = imp_sorted.sort_values(by = 'best_score')\n",
    "\n",
    "# View\n",
    "imp_sorted"
   ]
  },
  {
   "cell_type": "markdown",
   "metadata": {},
   "source": [
    "Do the same for ensemble models: RF and XGBoost:"
   ]
  },
  {
   "cell_type": "raw",
   "metadata": {},
   "source": [
    "# Create ensemble imputation models\n",
    "models_en = [\n",
    "\n",
    "    ('Random Forest', RandomForestRegressor(random_state = 123, oob_score = True), {\n",
    "        'max_depth': [5, 7, 9, 11, 15],\n",
    "        'n_estimators': [10, 100],\n",
    "        'min_samples_leaf': [1, 5, 15, 30]\n",
    "    }),\n",
    "    ('Random Forest Vanilla', RandomForestRegressor(random_state=123), {\n",
    "        'oob_score': [True]\n",
    "    }),\n",
    "    ('XGBoost', XGBRegressor(random_state = 123), {\n",
    "        'booster': ('gbtree', 'gblinear'),\n",
    "        'max_depth': [3],\n",
    "        'learning_rate': [0.1]}),\n",
    "    ('XGB Vanilla', XGBRegressor(random_state = 123), {\n",
    "        'booster': ['gbtree']\n",
    "    })\n",
    "]"
   ]
  },
  {
   "cell_type": "raw",
   "metadata": {},
   "source": [
    "# Initialise results\n",
    "imp_results_en = []\n",
    "\n",
    "# Merge data\n",
    "X_final = pd.concat([X_num, X_bin], axis = 1)\n",
    "        \n",
    "# Run through models and estimate\n",
    "for m in models_en:\n",
    "\n",
    "    # Extract name and model\n",
    "    name_model = m[0]\n",
    "    model = m[1]\n",
    "    params = m[2]\n",
    "\n",
    "    # Run GridSearch with parameters\n",
    "    temp_model = GridSearchCV(\n",
    "        estimator = model,\n",
    "        cv = rkf,\n",
    "        param_grid = params,\n",
    "        scoring = {'MSE': make_scorer(mean_squared_error), 'R2': make_scorer(r2_score)},\n",
    "        refit = 'MSE',\n",
    "        n_jobs = 3\n",
    "    )\n",
    "\n",
    "    # Fit data\n",
    "    temp_model.fit(X_final, y)\n",
    "\n",
    "    # Append results\n",
    "    imp_results_en.append(\n",
    "        [name_model, temp_model.best_score_, str(temp_model.best_params_)]\n",
    "    )\n",
    "    \n",
    "    # Update status\n",
    "    print('Model: ' + str(name_model) + \" | \" + str(round(np.sqrt(temp_model.best_score_), 2)) + ' years')"
   ]
  },
  {
   "cell_type": "markdown",
   "metadata": {},
   "source": [
    "Even ensemble methods are unable to give us significantly better results. The other features in the dataset are clearly unable to help us in predicting age. Thus, we will impute the median age."
   ]
  },
  {
   "cell_type": "raw",
   "metadata": {},
   "source": [
    "# Convert to data frame\n",
    "imp_sorted_en = pd.DataFrame(imp_results_en, columns = ['model', 'best_score', 'best_params'])\n",
    "\n",
    "# Sort\n",
    "imp_sorted_en = imp_sorted_en.sort_values(by = 'best_score')\n",
    "\n",
    "# View\n",
    "imp_sorted_en"
   ]
  },
  {
   "cell_type": "markdown",
   "metadata": {},
   "source": [
    "First, we examine the median age of individuals with different titles. We find that passengers with the title Master were generally young men. Thus, we can use this to impute median ages for passengers with unknown ages."
   ]
  },
  {
   "cell_type": "code",
   "execution_count": 19,
   "metadata": {
    "scrolled": false
   },
   "outputs": [
    {
     "data": {
      "text/plain": [
       "title_grouped\n",
       "Master.     3.5\n",
       "Miss.      21.0\n",
       "Mr.        30.0\n",
       "Mrs.       35.0\n",
       "Other      44.5\n",
       "Name: Age, dtype: float64"
      ]
     },
     "execution_count": 19,
     "metadata": {},
     "output_type": "execute_result"
    }
   ],
   "source": [
    "# Check median age by title\n",
    "df.groupby('title_grouped').Age.median()"
   ]
  },
  {
   "cell_type": "markdown",
   "metadata": {},
   "source": [
    "Next, we calculate the standard deviations to add some randomness to the imputation."
   ]
  },
  {
   "cell_type": "code",
   "execution_count": 20,
   "metadata": {
    "scrolled": true
   },
   "outputs": [
    {
     "data": {
      "text/plain": [
       "title_grouped\n",
       "Master.     3.619872\n",
       "Miss.      12.990292\n",
       "Mr.        12.708793\n",
       "Mrs.       11.433628\n",
       "Other      13.200233\n",
       "Name: Age, dtype: float64"
      ]
     },
     "execution_count": 20,
     "metadata": {},
     "output_type": "execute_result"
    }
   ],
   "source": [
    "# Calculate SD of age by title\n",
    "df.groupby('title_grouped').Age.std()"
   ]
  },
  {
   "cell_type": "code",
   "execution_count": 21,
   "metadata": {},
   "outputs": [],
   "source": [
    "# Set seed\n",
    "seed = 123\n",
    "\n",
    "# Mask for missing ages\n",
    "miss_age = df.Age.isnull()\n",
    "\n",
    "# Masks for each title\n",
    "miss_master = df.title_grouped == 'Master.'\n",
    "miss_ms = df.title_grouped == 'Miss.'\n",
    "miss_mr = df.title_grouped == 'Mr.'\n",
    "miss_mrs = df.title_grouped == 'Mrs.'\n",
    "miss_other = df.title_grouped == 'Other'\n",
    "\n",
    "# Impute ages\n",
    "np.random.seed(seed)\n",
    "df['Age'][miss_age & miss_master] = np.random.normal(\n",
    "    df.groupby('title_grouped').Age.median()[0],\n",
    "    df.groupby('title_grouped').Age.std()[0] * 0.5,\n",
    "    df['Age'][miss_age & miss_master].shape[0]\n",
    ")\n",
    "\n",
    "df['Age'][miss_age & miss_ms] = np.random.normal(\n",
    "    df.groupby('title_grouped').Age.median()[1],\n",
    "    df.groupby('title_grouped').Age.std()[1] * 0.5,\n",
    "    df['Age'][miss_age & miss_ms].shape[0]\n",
    ")\n",
    "\n",
    "df['Age'][miss_age & miss_mr] = np.random.normal(\n",
    "    df.groupby('title_grouped').Age.median()[2],\n",
    "    df.groupby('title_grouped').Age.std()[2] * 0.5,\n",
    "    df['Age'][miss_age & miss_mr].shape[0]\n",
    ")\n",
    "\n",
    "df['Age'][miss_age & miss_mrs] = np.random.normal(\n",
    "    df.groupby('title_grouped').Age.median()[3],\n",
    "    df.groupby('title_grouped').Age.std()[3] * 0.5,\n",
    "    df['Age'][miss_age & miss_mrs].shape[0]\n",
    ")\n",
    "\n",
    "df['Age'][miss_age & miss_other] = np.random.normal(\n",
    "    df.groupby('title_grouped').Age.median()[4],\n",
    "    df.groupby('title_grouped').Age.std()[4] * 0.5,\n",
    "    df['Age'][miss_age & miss_other].shape[0]\n",
    ")"
   ]
  },
  {
   "cell_type": "code",
   "execution_count": 22,
   "metadata": {
    "scrolled": true
   },
   "outputs": [
    {
     "data": {
      "image/png": "[encoded data removed]",
      "text/plain": [
       "<matplotlib.figure.Figure at 0x23adf35a518>"
      ]
     },
     "metadata": {},
     "output_type": "display_data"
    }
   ],
   "source": [
    "# Plot histogram\n",
    "df.Age.plot.hist()\n",
    "plt.title('Distribution of Age')\n",
    "plt.show()"
   ]
  },
  {
   "cell_type": "markdown",
   "metadata": {},
   "source": [
    "The distribution of ages between survivors and perishers differed slightly. Specifically, more infants survived while fewer youngsters and old people survived."
   ]
  },
  {
   "cell_type": "code",
   "execution_count": 23,
   "metadata": {},
   "outputs": [
    {
     "data": {
      "image/png": "[encoded data removed]",
      "text/plain": [
       "<matplotlib.figure.Figure at 0x23adf1fce80>"
      ]
     },
     "metadata": {},
     "output_type": "display_data"
    }
   ],
   "source": [
    "# Density plot of survivors and perishers\n",
    "df.Age[df.Survived == 1].plot.density(c = 'green')\n",
    "df.Age[df.Survived == 0].plot.density(c = 'red')\n",
    "plt.title('Density Plot of Age for Survivors and Perishers')\n",
    "plt.show()"
   ]
  },
  {
   "cell_type": "code",
   "execution_count": 24,
   "metadata": {},
   "outputs": [
    {
     "data": {
      "image/png": "[encoded data removed]",
      "text/plain": [
       "<matplotlib.figure.Figure at 0x23adf254b38>"
      ]
     },
     "metadata": {},
     "output_type": "display_data"
    }
   ],
   "source": [
    "# Plot graphs\n",
    "df.Age[df.Survived == 0].plot.hist(alpha = 0.3, bins = 40)\n",
    "df.Age[df.Survived == 1].plot.hist(color = 'green', alpha = 0.3, bins = 40)\n",
    "plt.title('Distribution of Age for Survivors and Perishers')\n",
    "plt.show()"
   ]
  },
  {
   "cell_type": "markdown",
   "metadata": {},
   "source": [
    "We can instead analyse the survival rates by quantiles. As expected, the more quantiles there are, the greater in variation there is. However, the biggest jump is from 3-5 quantiles. Beyond that, the standard deviation increases at a much slower pace. Thus, we use the first big peak (10) after 5 quantiles to break age down into categories."
   ]
  },
  {
   "cell_type": "code",
   "execution_count": 25,
   "metadata": {
    "scrolled": true
   },
   "outputs": [
    {
     "data": {
      "image/png": "[encoded data removed]",
      "text/plain": [
       "<matplotlib.figure.Figure at 0x23adf33ceb8>"
      ]
     },
     "metadata": {},
     "output_type": "display_data"
    }
   ],
   "source": [
    "# Split into many quantiles\n",
    "qt = np.arange(3, 40, 1)\n",
    "\n",
    "# Initialise results\n",
    "qt_results = []\n",
    "\n",
    "for q in qt:\n",
    "    \n",
    "    # Copy df\n",
    "    temp_df = df.copy()\n",
    "    \n",
    "    # Cut by quantiles\n",
    "    temp_df['qt'] = pd.qcut(df.Age, q)\n",
    "    age_df = temp_df[['qt', 'Survived']].groupby('qt').count()\n",
    "    age_df['mean'] = temp_df.groupby('qt').Survived.mean()\n",
    "    qt_results.append([q, age_df['mean'].std(), df.shape[0]/q])\n",
    "\n",
    "# Print results\n",
    "qt_results = pd.DataFrame(qt_results, columns = ['Q', 'Std', 'N'])\n",
    "qt_results.plot(x = 'Q', y = 'Std')\n",
    "plt.title('Standard Deviation in %Survived vs. Quantiles')\n",
    "plt.show()"
   ]
  },
  {
   "cell_type": "markdown",
   "metadata": {},
   "source": [
    "Passengers below 15 years in age have a significiantly higher survival rate. Above 15 years of age, we have four groups with a survival rate of approximately 30%, and five groups with a survival rate of approximately 40%. The age groups are also sufficiently wide enough (at least 3 years)."
   ]
  },
  {
   "cell_type": "code",
   "execution_count": 26,
   "metadata": {
    "scrolled": true
   },
   "outputs": [
    {
     "data": {
      "image/png": "[encoded data removed]",
      "text/plain": [
       "<matplotlib.figure.Figure at 0x23adf4a48d0>"
      ]
     },
     "metadata": {},
     "output_type": "display_data"
    }
   ],
   "source": [
    "# Split into 10 quantiles\n",
    "df['age_qt'] = pd.qcut(df.Age, 10).astype('category')\n",
    "\n",
    "# Plot\n",
    "df.groupby('age_qt').Survived.mean().plot.bar()\n",
    "plt.title('%Survived by Age Quantiles (10)')\n",
    "plt.show()"
   ]
  },
  {
   "cell_type": "markdown",
   "metadata": {},
   "source": [
    "Grouping the quantiles further, we still maintain good variation in the survival rate across age groups."
   ]
  },
  {
   "cell_type": "code",
   "execution_count": 27,
   "metadata": {},
   "outputs": [
    {
     "data": {
      "image/png": "[encoded data removed]",
      "text/plain": [
       "<matplotlib.figure.Figure at 0x23adf63bc50>"
      ]
     },
     "metadata": {},
     "output_type": "display_data"
    }
   ],
   "source": [
    "# Second grouping\n",
    "df['age_qt2'] = 'A2'\n",
    "df['age_qt2'][(df.Age > 19) & (df.Age <= 28.5)] = 'A3'\n",
    "df['age_qt2'][(df.Age > 39.504) & (df.Age <= 47)] = 'A3'\n",
    "df['age_qt2'][(df.Age <= 15)] = 'A1'\n",
    "\n",
    "# Plot\n",
    "df.groupby('age_qt2').Survived.mean().plot.bar()\n",
    "plt.title('%Survived by Age Quantiles (10) [Grouped]')\n",
    "plt.show()"
   ]
  },
  {
   "cell_type": "markdown",
   "metadata": {},
   "source": [
    "### Verdict\n",
    "Age should be included in many forms:  \n",
    "  \n",
    "1. Numeric (as is)\n",
    "2. Ordinal categories\n",
    "3. One-hot encoding\n",
    "4. Mean-encoded numeric  \n",
    "  "
   ]
  },
  {
   "cell_type": "code",
   "execution_count": 28,
   "metadata": {},
   "outputs": [
    {
     "data": {
      "text/plain": [
       "{'Age': ['Numeric', 'Ordinal', 'One-hot', 'Mean'],\n",
       " 'Pclass': ['Ordinal', 'One-hot', 'Mean'],\n",
       " 'Sex': ['Dummy: Male=1', 'Dummy: Female = 1'],\n",
       " 'title': ['One-hot', 'Mean']}"
      ]
     },
     "execution_count": 28,
     "metadata": {},
     "output_type": "execute_result"
    }
   ],
   "source": [
    "# Add transformation options\n",
    "var_dict['Age'] = ['Numeric', 'Ordinal', 'One-hot', 'Mean']\n",
    "var_dict"
   ]
  },
  {
   "cell_type": "markdown",
   "metadata": {},
   "source": [
    "## SibSp"
   ]
  },
  {
   "cell_type": "markdown",
   "metadata": {},
   "source": [
    "We find that most passengers were travelling without siblings."
   ]
  },
  {
   "cell_type": "code",
   "execution_count": 29,
   "metadata": {
    "scrolled": false
   },
   "outputs": [
    {
     "data": {
      "image/png": "[encoded data removed]",
      "text/plain": [
       "<matplotlib.figure.Figure at 0x23adf591860>"
      ]
     },
     "metadata": {},
     "output_type": "display_data"
    }
   ],
   "source": [
    "# Check values\n",
    "pd.DataFrame(df.SibSp.value_counts()).plot.bar()\n",
    "plt.title('Siblings')\n",
    "plt.show()"
   ]
  },
  {
   "cell_type": "markdown",
   "metadata": {},
   "source": [
    "We also find reasonable variation in the survival rates for passengers with different numbers of siblings. However, small samples may skew the data."
   ]
  },
  {
   "cell_type": "code",
   "execution_count": 30,
   "metadata": {
    "scrolled": true
   },
   "outputs": [
    {
     "data": {
      "image/png": "[encoded data removed]",
      "text/plain": [
       "<matplotlib.figure.Figure at 0x23adf4d84a8>"
      ]
     },
     "metadata": {},
     "output_type": "display_data"
    }
   ],
   "source": [
    "# Plot survival rate\n",
    "df.groupby('SibSp').Survived.mean().plot.bar()\n",
    "plt.title('%Survived by SibSp')\n",
    "plt.show()"
   ]
  },
  {
   "cell_type": "markdown",
   "metadata": {},
   "source": [
    "Hence, we group passengers into 0, 1, and 2 or more siblings. This helps to reduce the inequality in group size while bringing out variation in survival rates."
   ]
  },
  {
   "cell_type": "code",
   "execution_count": 31,
   "metadata": {
    "scrolled": false
   },
   "outputs": [
    {
     "data": {
      "image/png": "[encoded data removed]",
      "text/plain": [
       "<matplotlib.figure.Figure at 0x23adf21fa58>"
      ]
     },
     "metadata": {},
     "output_type": "display_data"
    },
    {
     "data": {
      "image/png": "[encoded data removed]",
      "text/plain": [
       "<matplotlib.figure.Figure at 0x23adf3874e0>"
      ]
     },
     "metadata": {},
     "output_type": "display_data"
    }
   ],
   "source": [
    "# Re-group\n",
    "df['sib_grouped'] = 'None'\n",
    "df['sib_grouped'][df['SibSp'] == 1] = 'One'\n",
    "df['sib_grouped'][df['SibSp'] >= 2] = 'Two or More'\n",
    "\n",
    "# Check values\n",
    "pd.DataFrame(df.sib_grouped.value_counts()).plot.bar()\n",
    "plt.title('Siblings (Grouped)')\n",
    "plt.show()\n",
    "\n",
    "# Plot survival rate\n",
    "df.groupby('sib_grouped').Survived.mean().plot.bar()\n",
    "plt.title('%Survived by Siblings (Grouped)')\n",
    "plt.show()"
   ]
  },
  {
   "cell_type": "markdown",
   "metadata": {},
   "source": [
    "### Verdict\n",
    "Again, we should include siblings as numeric, ordinal, one-hot-encoded, and mean-encoded features."
   ]
  },
  {
   "cell_type": "code",
   "execution_count": 32,
   "metadata": {},
   "outputs": [
    {
     "data": {
      "text/plain": [
       "{'Age': ['Numeric', 'Ordinal', 'One-hot', 'Mean'],\n",
       " 'Pclass': ['Ordinal', 'One-hot', 'Mean'],\n",
       " 'Sex': ['Dummy: Male=1', 'Dummy: Female = 1'],\n",
       " 'SibSp': ['Numeric', 'Ordinal', 'One-hot', 'Mean'],\n",
       " 'title': ['One-hot', 'Mean']}"
      ]
     },
     "execution_count": 32,
     "metadata": {},
     "output_type": "execute_result"
    }
   ],
   "source": [
    "# Add transformation options\n",
    "var_dict['SibSp'] = ['Numeric', 'Ordinal', 'One-hot', 'Mean']\n",
    "var_dict"
   ]
  },
  {
   "cell_type": "markdown",
   "metadata": {},
   "source": [
    "## Parch"
   ]
  },
  {
   "cell_type": "markdown",
   "metadata": {},
   "source": [
    "Running a similar analysis as we did on SibSp, we find that the inequality in group sizes is even worse."
   ]
  },
  {
   "cell_type": "code",
   "execution_count": 33,
   "metadata": {},
   "outputs": [
    {
     "data": {
      "image/png": "[encoded data removed]",
      "text/plain": [
       "<matplotlib.figure.Figure at 0x23adf391fd0>"
      ]
     },
     "metadata": {},
     "output_type": "display_data"
    }
   ],
   "source": [
    "# Check values\n",
    "pd.DataFrame(df.Parch.value_counts()).plot.bar()\n",
    "plt.title('Parch')\n",
    "plt.show()"
   ]
  },
  {
   "cell_type": "code",
   "execution_count": 34,
   "metadata": {
    "scrolled": true
   },
   "outputs": [
    {
     "data": {
      "image/png": "[encoded data removed]",
      "text/plain": [
       "<matplotlib.figure.Figure at 0x23adf5fe518>"
      ]
     },
     "metadata": {},
     "output_type": "display_data"
    }
   ],
   "source": [
    "# Plot survival rate\n",
    "df.groupby('Parch').Survived.mean().plot.bar()\n",
    "plt.title('%Survived by Parch')\n",
    "plt.show()"
   ]
  },
  {
   "cell_type": "markdown",
   "metadata": {},
   "source": [
    "Re-grouping and re-plotting the graphs, the groups with one or two (or more) parents and children are much more balanced. These two groups also have a higher survival rate."
   ]
  },
  {
   "cell_type": "code",
   "execution_count": 35,
   "metadata": {},
   "outputs": [
    {
     "data": {
      "image/png": "[encoded data removed]",
      "text/plain": [
       "<matplotlib.figure.Figure at 0x23adf3c6908>"
      ]
     },
     "metadata": {},
     "output_type": "display_data"
    },
    {
     "data": {
      "image/png": "[encoded data removed]",
      "text/plain": [
       "<matplotlib.figure.Figure at 0x23adf635128>"
      ]
     },
     "metadata": {},
     "output_type": "display_data"
    }
   ],
   "source": [
    "# Re-group\n",
    "df['parch_grouped'] = 'None'\n",
    "df['parch_grouped'][df['Parch'] == 1] = 'One'\n",
    "df['parch_grouped'][df['Parch'] >= 2] = 'Two or More'\n",
    "\n",
    "# Check values\n",
    "pd.DataFrame(df.parch_grouped.value_counts()).plot.bar()\n",
    "plt.title('Parch (Grouped)')\n",
    "plt.show()\n",
    "\n",
    "# Plot survival rate\n",
    "df.groupby('parch_grouped').Survived.mean().plot.bar()\n",
    "plt.title('%Survived by Parch (Grouped)')\n",
    "plt.show()"
   ]
  },
  {
   "cell_type": "markdown",
   "metadata": {},
   "source": [
    "### Verdict\n",
    "Like SibSp, we should include siblings as numeric, ordinal, one-hot-encoded, and mean-encoded features."
   ]
  },
  {
   "cell_type": "code",
   "execution_count": 36,
   "metadata": {},
   "outputs": [
    {
     "data": {
      "text/plain": [
       "{'Age': ['Numeric', 'Ordinal', 'One-hot', 'Mean'],\n",
       " 'Parch': ['Numeric', 'Ordinal', 'One-hot', 'Mean'],\n",
       " 'Pclass': ['Ordinal', 'One-hot', 'Mean'],\n",
       " 'Sex': ['Dummy: Male=1', 'Dummy: Female = 1'],\n",
       " 'SibSp': ['Numeric', 'Ordinal', 'One-hot', 'Mean'],\n",
       " 'title': ['One-hot', 'Mean']}"
      ]
     },
     "execution_count": 36,
     "metadata": {},
     "output_type": "execute_result"
    }
   ],
   "source": [
    "# Add transformation options\n",
    "var_dict['Parch'] = ['Numeric', 'Ordinal', 'One-hot', 'Mean']\n",
    "var_dict"
   ]
  },
  {
   "cell_type": "markdown",
   "metadata": {},
   "source": [
    "## Ticket"
   ]
  },
  {
   "cell_type": "markdown",
   "metadata": {},
   "source": [
    "Looking at the string entries of Ticket, we notice that there sometimes are strings at the beginning of the entry. Some prefixes are \"A/5\", \"PC\", or generically, \"[Location]/[Location]\" like \"SOTON\", which we infer as Southampton. The common factor is that all tickets have a number."
   ]
  },
  {
   "cell_type": "code",
   "execution_count": 37,
   "metadata": {
    "scrolled": true
   },
   "outputs": [
    {
     "data": {
      "text/html": [
       "<div>\n",
       "<table border=\"1\" class=\"dataframe\">\n",
       "  <thead>\n",
       "    <tr style=\"text-align: right;\">\n",
       "      <th></th>\n",
       "      <th>PassengerId</th>\n",
       "      <th>Survived</th>\n",
       "      <th>Pclass</th>\n",
       "      <th>Name</th>\n",
       "      <th>Sex</th>\n",
       "      <th>Age</th>\n",
       "      <th>SibSp</th>\n",
       "      <th>Parch</th>\n",
       "      <th>Ticket</th>\n",
       "      <th>Fare</th>\n",
       "      <th>Cabin</th>\n",
       "      <th>Embarked</th>\n",
       "      <th>title</th>\n",
       "      <th>title_grouped</th>\n",
       "      <th>age_qt</th>\n",
       "      <th>age_qt2</th>\n",
       "      <th>sib_grouped</th>\n",
       "      <th>parch_grouped</th>\n",
       "    </tr>\n",
       "  </thead>\n",
       "  <tbody>\n",
       "    <tr>\n",
       "      <th>0</th>\n",
       "      <td>1</td>\n",
       "      <td>0</td>\n",
       "      <td>3</td>\n",
       "      <td>Braund, Mr. Owen Harris</td>\n",
       "      <td>male</td>\n",
       "      <td>22.000000</td>\n",
       "      <td>1</td>\n",
       "      <td>0</td>\n",
       "      <td>A/5 21171</td>\n",
       "      <td>7.2500</td>\n",
       "      <td>NaN</td>\n",
       "      <td>S</td>\n",
       "      <td>Mr.</td>\n",
       "      <td>Mr.</td>\n",
       "      <td>(19, 22]</td>\n",
       "      <td>A3</td>\n",
       "      <td>One</td>\n",
       "      <td>None</td>\n",
       "    </tr>\n",
       "    <tr>\n",
       "      <th>1</th>\n",
       "      <td>2</td>\n",
       "      <td>1</td>\n",
       "      <td>1</td>\n",
       "      <td>Cumings, Mrs. John Bradley (Florence Briggs Th...</td>\n",
       "      <td>female</td>\n",
       "      <td>38.000000</td>\n",
       "      <td>1</td>\n",
       "      <td>0</td>\n",
       "      <td>PC 17599</td>\n",
       "      <td>71.2833</td>\n",
       "      <td>C85</td>\n",
       "      <td>C</td>\n",
       "      <td>Mrs.</td>\n",
       "      <td>Mrs.</td>\n",
       "      <td>(35, 39.504]</td>\n",
       "      <td>A2</td>\n",
       "      <td>One</td>\n",
       "      <td>None</td>\n",
       "    </tr>\n",
       "    <tr>\n",
       "      <th>2</th>\n",
       "      <td>3</td>\n",
       "      <td>1</td>\n",
       "      <td>3</td>\n",
       "      <td>Heikkinen, Miss. Laina</td>\n",
       "      <td>female</td>\n",
       "      <td>26.000000</td>\n",
       "      <td>0</td>\n",
       "      <td>0</td>\n",
       "      <td>STON/O2. 3101282</td>\n",
       "      <td>7.9250</td>\n",
       "      <td>NaN</td>\n",
       "      <td>S</td>\n",
       "      <td>Miss.</td>\n",
       "      <td>Miss.</td>\n",
       "      <td>(25, 28.519]</td>\n",
       "      <td>A3</td>\n",
       "      <td>None</td>\n",
       "      <td>None</td>\n",
       "    </tr>\n",
       "    <tr>\n",
       "      <th>3</th>\n",
       "      <td>4</td>\n",
       "      <td>1</td>\n",
       "      <td>1</td>\n",
       "      <td>Futrelle, Mrs. Jacques Heath (Lily May Peel)</td>\n",
       "      <td>female</td>\n",
       "      <td>35.000000</td>\n",
       "      <td>1</td>\n",
       "      <td>0</td>\n",
       "      <td>113803</td>\n",
       "      <td>53.1000</td>\n",
       "      <td>C123</td>\n",
       "      <td>S</td>\n",
       "      <td>Mrs.</td>\n",
       "      <td>Mrs.</td>\n",
       "      <td>(31.726, 35]</td>\n",
       "      <td>A2</td>\n",
       "      <td>One</td>\n",
       "      <td>None</td>\n",
       "    </tr>\n",
       "    <tr>\n",
       "      <th>4</th>\n",
       "      <td>5</td>\n",
       "      <td>0</td>\n",
       "      <td>3</td>\n",
       "      <td>Allen, Mr. William Henry</td>\n",
       "      <td>male</td>\n",
       "      <td>35.000000</td>\n",
       "      <td>0</td>\n",
       "      <td>0</td>\n",
       "      <td>373450</td>\n",
       "      <td>8.0500</td>\n",
       "      <td>NaN</td>\n",
       "      <td>S</td>\n",
       "      <td>Mr.</td>\n",
       "      <td>Mr.</td>\n",
       "      <td>(31.726, 35]</td>\n",
       "      <td>A2</td>\n",
       "      <td>None</td>\n",
       "      <td>None</td>\n",
       "    </tr>\n",
       "    <tr>\n",
       "      <th>5</th>\n",
       "      <td>6</td>\n",
       "      <td>0</td>\n",
       "      <td>3</td>\n",
       "      <td>Moran, Mr. James</td>\n",
       "      <td>male</td>\n",
       "      <td>24.882382</td>\n",
       "      <td>0</td>\n",
       "      <td>0</td>\n",
       "      <td>330877</td>\n",
       "      <td>8.4583</td>\n",
       "      <td>NaN</td>\n",
       "      <td>Q</td>\n",
       "      <td>Mr.</td>\n",
       "      <td>Mr.</td>\n",
       "      <td>(22, 25]</td>\n",
       "      <td>A3</td>\n",
       "      <td>None</td>\n",
       "      <td>None</td>\n",
       "    </tr>\n",
       "    <tr>\n",
       "      <th>6</th>\n",
       "      <td>7</td>\n",
       "      <td>0</td>\n",
       "      <td>1</td>\n",
       "      <td>McCarthy, Mr. Timothy J</td>\n",
       "      <td>male</td>\n",
       "      <td>54.000000</td>\n",
       "      <td>0</td>\n",
       "      <td>0</td>\n",
       "      <td>17463</td>\n",
       "      <td>51.8625</td>\n",
       "      <td>E46</td>\n",
       "      <td>S</td>\n",
       "      <td>Mr.</td>\n",
       "      <td>Mr.</td>\n",
       "      <td>(47, 80]</td>\n",
       "      <td>A2</td>\n",
       "      <td>None</td>\n",
       "      <td>None</td>\n",
       "    </tr>\n",
       "    <tr>\n",
       "      <th>7</th>\n",
       "      <td>8</td>\n",
       "      <td>0</td>\n",
       "      <td>3</td>\n",
       "      <td>Palsson, Master. Gosta Leonard</td>\n",
       "      <td>male</td>\n",
       "      <td>2.000000</td>\n",
       "      <td>3</td>\n",
       "      <td>1</td>\n",
       "      <td>349909</td>\n",
       "      <td>21.0750</td>\n",
       "      <td>NaN</td>\n",
       "      <td>S</td>\n",
       "      <td>Master.</td>\n",
       "      <td>Master.</td>\n",
       "      <td>[0.42, 15]</td>\n",
       "      <td>A1</td>\n",
       "      <td>Two or More</td>\n",
       "      <td>One</td>\n",
       "    </tr>\n",
       "    <tr>\n",
       "      <th>8</th>\n",
       "      <td>9</td>\n",
       "      <td>1</td>\n",
       "      <td>3</td>\n",
       "      <td>Johnson, Mrs. Oscar W (Elisabeth Vilhelmina Berg)</td>\n",
       "      <td>female</td>\n",
       "      <td>27.000000</td>\n",
       "      <td>0</td>\n",
       "      <td>2</td>\n",
       "      <td>347742</td>\n",
       "      <td>11.1333</td>\n",
       "      <td>NaN</td>\n",
       "      <td>S</td>\n",
       "      <td>Mrs.</td>\n",
       "      <td>Mrs.</td>\n",
       "      <td>(25, 28.519]</td>\n",
       "      <td>A3</td>\n",
       "      <td>None</td>\n",
       "      <td>Two or More</td>\n",
       "    </tr>\n",
       "    <tr>\n",
       "      <th>9</th>\n",
       "      <td>10</td>\n",
       "      <td>1</td>\n",
       "      <td>2</td>\n",
       "      <td>Nasser, Mrs. Nicholas (Adele Achem)</td>\n",
       "      <td>female</td>\n",
       "      <td>14.000000</td>\n",
       "      <td>1</td>\n",
       "      <td>0</td>\n",
       "      <td>237736</td>\n",
       "      <td>30.0708</td>\n",
       "      <td>NaN</td>\n",
       "      <td>C</td>\n",
       "      <td>Mrs.</td>\n",
       "      <td>Mrs.</td>\n",
       "      <td>[0.42, 15]</td>\n",
       "      <td>A1</td>\n",
       "      <td>One</td>\n",
       "      <td>None</td>\n",
       "    </tr>\n",
       "    <tr>\n",
       "      <th>10</th>\n",
       "      <td>11</td>\n",
       "      <td>1</td>\n",
       "      <td>3</td>\n",
       "      <td>Sandstrom, Miss. Marguerite Rut</td>\n",
       "      <td>female</td>\n",
       "      <td>4.000000</td>\n",
       "      <td>1</td>\n",
       "      <td>1</td>\n",
       "      <td>PP 9549</td>\n",
       "      <td>16.7000</td>\n",
       "      <td>G6</td>\n",
       "      <td>S</td>\n",
       "      <td>Miss.</td>\n",
       "      <td>Miss.</td>\n",
       "      <td>[0.42, 15]</td>\n",
       "      <td>A1</td>\n",
       "      <td>One</td>\n",
       "      <td>One</td>\n",
       "    </tr>\n",
       "    <tr>\n",
       "      <th>11</th>\n",
       "      <td>12</td>\n",
       "      <td>1</td>\n",
       "      <td>1</td>\n",
       "      <td>Bonnell, Miss. Elizabeth</td>\n",
       "      <td>female</td>\n",
       "      <td>58.000000</td>\n",
       "      <td>0</td>\n",
       "      <td>0</td>\n",
       "      <td>113783</td>\n",
       "      <td>26.5500</td>\n",
       "      <td>C103</td>\n",
       "      <td>S</td>\n",
       "      <td>Miss.</td>\n",
       "      <td>Miss.</td>\n",
       "      <td>(47, 80]</td>\n",
       "      <td>A2</td>\n",
       "      <td>None</td>\n",
       "      <td>None</td>\n",
       "    </tr>\n",
       "    <tr>\n",
       "      <th>12</th>\n",
       "      <td>13</td>\n",
       "      <td>0</td>\n",
       "      <td>3</td>\n",
       "      <td>Saundercock, Mr. William Henry</td>\n",
       "      <td>male</td>\n",
       "      <td>20.000000</td>\n",
       "      <td>0</td>\n",
       "      <td>0</td>\n",
       "      <td>A/5. 2151</td>\n",
       "      <td>8.0500</td>\n",
       "      <td>NaN</td>\n",
       "      <td>S</td>\n",
       "      <td>Mr.</td>\n",
       "      <td>Mr.</td>\n",
       "      <td>(19, 22]</td>\n",
       "      <td>A3</td>\n",
       "      <td>None</td>\n",
       "      <td>None</td>\n",
       "    </tr>\n",
       "    <tr>\n",
       "      <th>13</th>\n",
       "      <td>14</td>\n",
       "      <td>0</td>\n",
       "      <td>3</td>\n",
       "      <td>Andersson, Mr. Anders Johan</td>\n",
       "      <td>male</td>\n",
       "      <td>39.000000</td>\n",
       "      <td>1</td>\n",
       "      <td>5</td>\n",
       "      <td>347082</td>\n",
       "      <td>31.2750</td>\n",
       "      <td>NaN</td>\n",
       "      <td>S</td>\n",
       "      <td>Mr.</td>\n",
       "      <td>Mr.</td>\n",
       "      <td>(35, 39.504]</td>\n",
       "      <td>A2</td>\n",
       "      <td>One</td>\n",
       "      <td>Two or More</td>\n",
       "    </tr>\n",
       "    <tr>\n",
       "      <th>14</th>\n",
       "      <td>15</td>\n",
       "      <td>0</td>\n",
       "      <td>3</td>\n",
       "      <td>Vestrom, Miss. Hulda Amanda Adolfina</td>\n",
       "      <td>female</td>\n",
       "      <td>14.000000</td>\n",
       "      <td>0</td>\n",
       "      <td>0</td>\n",
       "      <td>350406</td>\n",
       "      <td>7.8542</td>\n",
       "      <td>NaN</td>\n",
       "      <td>S</td>\n",
       "      <td>Miss.</td>\n",
       "      <td>Miss.</td>\n",
       "      <td>[0.42, 15]</td>\n",
       "      <td>A1</td>\n",
       "      <td>None</td>\n",
       "      <td>None</td>\n",
       "    </tr>\n",
       "    <tr>\n",
       "      <th>15</th>\n",
       "      <td>16</td>\n",
       "      <td>1</td>\n",
       "      <td>2</td>\n",
       "      <td>Hewlett, Mrs. (Mary D Kingcome)</td>\n",
       "      <td>female</td>\n",
       "      <td>55.000000</td>\n",
       "      <td>0</td>\n",
       "      <td>0</td>\n",
       "      <td>248706</td>\n",
       "      <td>16.0000</td>\n",
       "      <td>NaN</td>\n",
       "      <td>S</td>\n",
       "      <td>Mrs.</td>\n",
       "      <td>Mrs.</td>\n",
       "      <td>(47, 80]</td>\n",
       "      <td>A2</td>\n",
       "      <td>None</td>\n",
       "      <td>None</td>\n",
       "    </tr>\n",
       "    <tr>\n",
       "      <th>16</th>\n",
       "      <td>17</td>\n",
       "      <td>0</td>\n",
       "      <td>3</td>\n",
       "      <td>Rice, Master. Eugene</td>\n",
       "      <td>male</td>\n",
       "      <td>2.000000</td>\n",
       "      <td>4</td>\n",
       "      <td>1</td>\n",
       "      <td>382652</td>\n",
       "      <td>29.1250</td>\n",
       "      <td>NaN</td>\n",
       "      <td>Q</td>\n",
       "      <td>Master.</td>\n",
       "      <td>Master.</td>\n",
       "      <td>[0.42, 15]</td>\n",
       "      <td>A1</td>\n",
       "      <td>Two or More</td>\n",
       "      <td>One</td>\n",
       "    </tr>\n",
       "    <tr>\n",
       "      <th>17</th>\n",
       "      <td>18</td>\n",
       "      <td>1</td>\n",
       "      <td>2</td>\n",
       "      <td>Williams, Mr. Charles Eugene</td>\n",
       "      <td>male</td>\n",
       "      <td>19.021703</td>\n",
       "      <td>0</td>\n",
       "      <td>0</td>\n",
       "      <td>244373</td>\n",
       "      <td>13.0000</td>\n",
       "      <td>NaN</td>\n",
       "      <td>S</td>\n",
       "      <td>Mr.</td>\n",
       "      <td>Mr.</td>\n",
       "      <td>(19, 22]</td>\n",
       "      <td>A3</td>\n",
       "      <td>None</td>\n",
       "      <td>None</td>\n",
       "    </tr>\n",
       "    <tr>\n",
       "      <th>18</th>\n",
       "      <td>19</td>\n",
       "      <td>0</td>\n",
       "      <td>3</td>\n",
       "      <td>Vander Planke, Mrs. Julius (Emelia Maria Vande...</td>\n",
       "      <td>female</td>\n",
       "      <td>31.000000</td>\n",
       "      <td>1</td>\n",
       "      <td>0</td>\n",
       "      <td>345763</td>\n",
       "      <td>18.0000</td>\n",
       "      <td>NaN</td>\n",
       "      <td>S</td>\n",
       "      <td>Mrs.</td>\n",
       "      <td>Mrs.</td>\n",
       "      <td>(28.519, 31.726]</td>\n",
       "      <td>A2</td>\n",
       "      <td>One</td>\n",
       "      <td>None</td>\n",
       "    </tr>\n",
       "    <tr>\n",
       "      <th>19</th>\n",
       "      <td>20</td>\n",
       "      <td>1</td>\n",
       "      <td>3</td>\n",
       "      <td>Masselmani, Mrs. Fatima</td>\n",
       "      <td>female</td>\n",
       "      <td>34.181490</td>\n",
       "      <td>0</td>\n",
       "      <td>0</td>\n",
       "      <td>2649</td>\n",
       "      <td>7.2250</td>\n",
       "      <td>NaN</td>\n",
       "      <td>C</td>\n",
       "      <td>Mrs.</td>\n",
       "      <td>Mrs.</td>\n",
       "      <td>(31.726, 35]</td>\n",
       "      <td>A2</td>\n",
       "      <td>None</td>\n",
       "      <td>None</td>\n",
       "    </tr>\n",
       "    <tr>\n",
       "      <th>20</th>\n",
       "      <td>21</td>\n",
       "      <td>0</td>\n",
       "      <td>2</td>\n",
       "      <td>Fynney, Mr. Joseph J</td>\n",
       "      <td>male</td>\n",
       "      <td>35.000000</td>\n",
       "      <td>0</td>\n",
       "      <td>0</td>\n",
       "      <td>239865</td>\n",
       "      <td>26.0000</td>\n",
       "      <td>NaN</td>\n",
       "      <td>S</td>\n",
       "      <td>Mr.</td>\n",
       "      <td>Mr.</td>\n",
       "      <td>(31.726, 35]</td>\n",
       "      <td>A2</td>\n",
       "      <td>None</td>\n",
       "      <td>None</td>\n",
       "    </tr>\n",
       "    <tr>\n",
       "      <th>21</th>\n",
       "      <td>22</td>\n",
       "      <td>1</td>\n",
       "      <td>2</td>\n",
       "      <td>Beesley, Mr. Lawrence</td>\n",
       "      <td>male</td>\n",
       "      <td>34.000000</td>\n",
       "      <td>0</td>\n",
       "      <td>0</td>\n",
       "      <td>248698</td>\n",
       "      <td>13.0000</td>\n",
       "      <td>D56</td>\n",
       "      <td>S</td>\n",
       "      <td>Mr.</td>\n",
       "      <td>Mr.</td>\n",
       "      <td>(31.726, 35]</td>\n",
       "      <td>A2</td>\n",
       "      <td>None</td>\n",
       "      <td>None</td>\n",
       "    </tr>\n",
       "    <tr>\n",
       "      <th>22</th>\n",
       "      <td>23</td>\n",
       "      <td>1</td>\n",
       "      <td>3</td>\n",
       "      <td>McGowan, Miss. Anna \"Annie\"</td>\n",
       "      <td>female</td>\n",
       "      <td>15.000000</td>\n",
       "      <td>0</td>\n",
       "      <td>0</td>\n",
       "      <td>330923</td>\n",
       "      <td>8.0292</td>\n",
       "      <td>NaN</td>\n",
       "      <td>Q</td>\n",
       "      <td>Miss.</td>\n",
       "      <td>Miss.</td>\n",
       "      <td>[0.42, 15]</td>\n",
       "      <td>A1</td>\n",
       "      <td>None</td>\n",
       "      <td>None</td>\n",
       "    </tr>\n",
       "    <tr>\n",
       "      <th>23</th>\n",
       "      <td>24</td>\n",
       "      <td>1</td>\n",
       "      <td>1</td>\n",
       "      <td>Sloper, Mr. William Thompson</td>\n",
       "      <td>male</td>\n",
       "      <td>28.000000</td>\n",
       "      <td>0</td>\n",
       "      <td>0</td>\n",
       "      <td>113788</td>\n",
       "      <td>35.5000</td>\n",
       "      <td>A6</td>\n",
       "      <td>S</td>\n",
       "      <td>Mr.</td>\n",
       "      <td>Mr.</td>\n",
       "      <td>(25, 28.519]</td>\n",
       "      <td>A3</td>\n",
       "      <td>None</td>\n",
       "      <td>None</td>\n",
       "    </tr>\n",
       "    <tr>\n",
       "      <th>24</th>\n",
       "      <td>25</td>\n",
       "      <td>0</td>\n",
       "      <td>3</td>\n",
       "      <td>Palsson, Miss. Torborg Danira</td>\n",
       "      <td>female</td>\n",
       "      <td>8.000000</td>\n",
       "      <td>3</td>\n",
       "      <td>1</td>\n",
       "      <td>349909</td>\n",
       "      <td>21.0750</td>\n",
       "      <td>NaN</td>\n",
       "      <td>S</td>\n",
       "      <td>Miss.</td>\n",
       "      <td>Miss.</td>\n",
       "      <td>[0.42, 15]</td>\n",
       "      <td>A1</td>\n",
       "      <td>Two or More</td>\n",
       "      <td>One</td>\n",
       "    </tr>\n",
       "    <tr>\n",
       "      <th>25</th>\n",
       "      <td>26</td>\n",
       "      <td>1</td>\n",
       "      <td>3</td>\n",
       "      <td>Asplund, Mrs. Carl Oscar (Selma Augusta Emilia...</td>\n",
       "      <td>female</td>\n",
       "      <td>38.000000</td>\n",
       "      <td>1</td>\n",
       "      <td>5</td>\n",
       "      <td>347077</td>\n",
       "      <td>31.3875</td>\n",
       "      <td>NaN</td>\n",
       "      <td>S</td>\n",
       "      <td>Mrs.</td>\n",
       "      <td>Mrs.</td>\n",
       "      <td>(35, 39.504]</td>\n",
       "      <td>A2</td>\n",
       "      <td>One</td>\n",
       "      <td>Two or More</td>\n",
       "    </tr>\n",
       "    <tr>\n",
       "      <th>26</th>\n",
       "      <td>27</td>\n",
       "      <td>0</td>\n",
       "      <td>3</td>\n",
       "      <td>Emir, Mr. Farred Chehab</td>\n",
       "      <td>male</td>\n",
       "      <td>27.516068</td>\n",
       "      <td>0</td>\n",
       "      <td>0</td>\n",
       "      <td>2631</td>\n",
       "      <td>7.2250</td>\n",
       "      <td>NaN</td>\n",
       "      <td>C</td>\n",
       "      <td>Mr.</td>\n",
       "      <td>Mr.</td>\n",
       "      <td>(25, 28.519]</td>\n",
       "      <td>A3</td>\n",
       "      <td>None</td>\n",
       "      <td>None</td>\n",
       "    </tr>\n",
       "    <tr>\n",
       "      <th>27</th>\n",
       "      <td>28</td>\n",
       "      <td>0</td>\n",
       "      <td>1</td>\n",
       "      <td>Fortune, Mr. Charles Alexander</td>\n",
       "      <td>male</td>\n",
       "      <td>19.000000</td>\n",
       "      <td>3</td>\n",
       "      <td>2</td>\n",
       "      <td>19950</td>\n",
       "      <td>263.0000</td>\n",
       "      <td>C23 C25 C27</td>\n",
       "      <td>S</td>\n",
       "      <td>Mr.</td>\n",
       "      <td>Mr.</td>\n",
       "      <td>(15, 19]</td>\n",
       "      <td>A2</td>\n",
       "      <td>Two or More</td>\n",
       "      <td>Two or More</td>\n",
       "    </tr>\n",
       "    <tr>\n",
       "      <th>28</th>\n",
       "      <td>29</td>\n",
       "      <td>1</td>\n",
       "      <td>3</td>\n",
       "      <td>O'Dwyer, Miss. Ellen \"Nellie\"</td>\n",
       "      <td>female</td>\n",
       "      <td>17.241907</td>\n",
       "      <td>0</td>\n",
       "      <td>0</td>\n",
       "      <td>330959</td>\n",
       "      <td>7.8792</td>\n",
       "      <td>NaN</td>\n",
       "      <td>Q</td>\n",
       "      <td>Miss.</td>\n",
       "      <td>Miss.</td>\n",
       "      <td>(15, 19]</td>\n",
       "      <td>A2</td>\n",
       "      <td>None</td>\n",
       "      <td>None</td>\n",
       "    </tr>\n",
       "    <tr>\n",
       "      <th>29</th>\n",
       "      <td>30</td>\n",
       "      <td>0</td>\n",
       "      <td>3</td>\n",
       "      <td>Todoroff, Mr. Lalio</td>\n",
       "      <td>male</td>\n",
       "      <td>33.646190</td>\n",
       "      <td>0</td>\n",
       "      <td>0</td>\n",
       "      <td>349216</td>\n",
       "      <td>7.8958</td>\n",
       "      <td>NaN</td>\n",
       "      <td>S</td>\n",
       "      <td>Mr.</td>\n",
       "      <td>Mr.</td>\n",
       "      <td>(31.726, 35]</td>\n",
       "      <td>A2</td>\n",
       "      <td>None</td>\n",
       "      <td>None</td>\n",
       "    </tr>\n",
       "    <tr>\n",
       "      <th>...</th>\n",
       "      <td>...</td>\n",
       "      <td>...</td>\n",
       "      <td>...</td>\n",
       "      <td>...</td>\n",
       "      <td>...</td>\n",
       "      <td>...</td>\n",
       "      <td>...</td>\n",
       "      <td>...</td>\n",
       "      <td>...</td>\n",
       "      <td>...</td>\n",
       "      <td>...</td>\n",
       "      <td>...</td>\n",
       "      <td>...</td>\n",
       "      <td>...</td>\n",
       "      <td>...</td>\n",
       "      <td>...</td>\n",
       "      <td>...</td>\n",
       "      <td>...</td>\n",
       "    </tr>\n",
       "    <tr>\n",
       "      <th>70</th>\n",
       "      <td>71</td>\n",
       "      <td>0</td>\n",
       "      <td>2</td>\n",
       "      <td>Jenkin, Mr. Stephen Curnow</td>\n",
       "      <td>male</td>\n",
       "      <td>32.000000</td>\n",
       "      <td>0</td>\n",
       "      <td>0</td>\n",
       "      <td>C.A. 33111</td>\n",
       "      <td>10.5000</td>\n",
       "      <td>NaN</td>\n",
       "      <td>S</td>\n",
       "      <td>Mr.</td>\n",
       "      <td>Mr.</td>\n",
       "      <td>(31.726, 35]</td>\n",
       "      <td>A2</td>\n",
       "      <td>None</td>\n",
       "      <td>None</td>\n",
       "    </tr>\n",
       "    <tr>\n",
       "      <th>71</th>\n",
       "      <td>72</td>\n",
       "      <td>0</td>\n",
       "      <td>3</td>\n",
       "      <td>Goodwin, Miss. Lillian Amy</td>\n",
       "      <td>female</td>\n",
       "      <td>16.000000</td>\n",
       "      <td>5</td>\n",
       "      <td>2</td>\n",
       "      <td>CA 2144</td>\n",
       "      <td>46.9000</td>\n",
       "      <td>NaN</td>\n",
       "      <td>S</td>\n",
       "      <td>Miss.</td>\n",
       "      <td>Miss.</td>\n",
       "      <td>(15, 19]</td>\n",
       "      <td>A2</td>\n",
       "      <td>Two or More</td>\n",
       "      <td>Two or More</td>\n",
       "    </tr>\n",
       "    <tr>\n",
       "      <th>72</th>\n",
       "      <td>73</td>\n",
       "      <td>0</td>\n",
       "      <td>2</td>\n",
       "      <td>Hood, Mr. Ambrose Jr</td>\n",
       "      <td>male</td>\n",
       "      <td>21.000000</td>\n",
       "      <td>0</td>\n",
       "      <td>0</td>\n",
       "      <td>S.O.C. 14879</td>\n",
       "      <td>73.5000</td>\n",
       "      <td>NaN</td>\n",
       "      <td>S</td>\n",
       "      <td>Mr.</td>\n",
       "      <td>Mr.</td>\n",
       "      <td>(19, 22]</td>\n",
       "      <td>A3</td>\n",
       "      <td>None</td>\n",
       "      <td>None</td>\n",
       "    </tr>\n",
       "    <tr>\n",
       "      <th>73</th>\n",
       "      <td>74</td>\n",
       "      <td>0</td>\n",
       "      <td>3</td>\n",
       "      <td>Chronopoulos, Mr. Apostolos</td>\n",
       "      <td>male</td>\n",
       "      <td>26.000000</td>\n",
       "      <td>1</td>\n",
       "      <td>0</td>\n",
       "      <td>2680</td>\n",
       "      <td>14.4542</td>\n",
       "      <td>NaN</td>\n",
       "      <td>C</td>\n",
       "      <td>Mr.</td>\n",
       "      <td>Mr.</td>\n",
       "      <td>(25, 28.519]</td>\n",
       "      <td>A3</td>\n",
       "      <td>One</td>\n",
       "      <td>None</td>\n",
       "    </tr>\n",
       "    <tr>\n",
       "      <th>74</th>\n",
       "      <td>75</td>\n",
       "      <td>1</td>\n",
       "      <td>3</td>\n",
       "      <td>Bing, Mr. Lee</td>\n",
       "      <td>male</td>\n",
       "      <td>32.000000</td>\n",
       "      <td>0</td>\n",
       "      <td>0</td>\n",
       "      <td>1601</td>\n",
       "      <td>56.4958</td>\n",
       "      <td>NaN</td>\n",
       "      <td>S</td>\n",
       "      <td>Mr.</td>\n",
       "      <td>Mr.</td>\n",
       "      <td>(31.726, 35]</td>\n",
       "      <td>A2</td>\n",
       "      <td>None</td>\n",
       "      <td>None</td>\n",
       "    </tr>\n",
       "    <tr>\n",
       "      <th>75</th>\n",
       "      <td>76</td>\n",
       "      <td>0</td>\n",
       "      <td>3</td>\n",
       "      <td>Moen, Mr. Sigurd Hansen</td>\n",
       "      <td>male</td>\n",
       "      <td>25.000000</td>\n",
       "      <td>0</td>\n",
       "      <td>0</td>\n",
       "      <td>348123</td>\n",
       "      <td>7.6500</td>\n",
       "      <td>F G73</td>\n",
       "      <td>S</td>\n",
       "      <td>Mr.</td>\n",
       "      <td>Mr.</td>\n",
       "      <td>(22, 25]</td>\n",
       "      <td>A3</td>\n",
       "      <td>None</td>\n",
       "      <td>None</td>\n",
       "    </tr>\n",
       "    <tr>\n",
       "      <th>76</th>\n",
       "      <td>77</td>\n",
       "      <td>0</td>\n",
       "      <td>3</td>\n",
       "      <td>Staneff, Mr. Ivan</td>\n",
       "      <td>male</td>\n",
       "      <td>23.399128</td>\n",
       "      <td>0</td>\n",
       "      <td>0</td>\n",
       "      <td>349208</td>\n",
       "      <td>7.8958</td>\n",
       "      <td>NaN</td>\n",
       "      <td>S</td>\n",
       "      <td>Mr.</td>\n",
       "      <td>Mr.</td>\n",
       "      <td>(22, 25]</td>\n",
       "      <td>A3</td>\n",
       "      <td>None</td>\n",
       "      <td>None</td>\n",
       "    </tr>\n",
       "    <tr>\n",
       "      <th>77</th>\n",
       "      <td>78</td>\n",
       "      <td>0</td>\n",
       "      <td>3</td>\n",
       "      <td>Moutal, Mr. Rahamin Haim</td>\n",
       "      <td>male</td>\n",
       "      <td>41.080239</td>\n",
       "      <td>0</td>\n",
       "      <td>0</td>\n",
       "      <td>374746</td>\n",
       "      <td>8.0500</td>\n",
       "      <td>NaN</td>\n",
       "      <td>S</td>\n",
       "      <td>Mr.</td>\n",
       "      <td>Mr.</td>\n",
       "      <td>(39.504, 47]</td>\n",
       "      <td>A3</td>\n",
       "      <td>None</td>\n",
       "      <td>None</td>\n",
       "    </tr>\n",
       "    <tr>\n",
       "      <th>78</th>\n",
       "      <td>79</td>\n",
       "      <td>1</td>\n",
       "      <td>2</td>\n",
       "      <td>Caldwell, Master. Alden Gates</td>\n",
       "      <td>male</td>\n",
       "      <td>0.830000</td>\n",
       "      <td>0</td>\n",
       "      <td>2</td>\n",
       "      <td>248738</td>\n",
       "      <td>29.0000</td>\n",
       "      <td>NaN</td>\n",
       "      <td>S</td>\n",
       "      <td>Master.</td>\n",
       "      <td>Master.</td>\n",
       "      <td>[0.42, 15]</td>\n",
       "      <td>A1</td>\n",
       "      <td>None</td>\n",
       "      <td>Two or More</td>\n",
       "    </tr>\n",
       "    <tr>\n",
       "      <th>79</th>\n",
       "      <td>80</td>\n",
       "      <td>1</td>\n",
       "      <td>3</td>\n",
       "      <td>Dowdell, Miss. Elizabeth</td>\n",
       "      <td>female</td>\n",
       "      <td>30.000000</td>\n",
       "      <td>0</td>\n",
       "      <td>0</td>\n",
       "      <td>364516</td>\n",
       "      <td>12.4750</td>\n",
       "      <td>NaN</td>\n",
       "      <td>S</td>\n",
       "      <td>Miss.</td>\n",
       "      <td>Miss.</td>\n",
       "      <td>(28.519, 31.726]</td>\n",
       "      <td>A2</td>\n",
       "      <td>None</td>\n",
       "      <td>None</td>\n",
       "    </tr>\n",
       "    <tr>\n",
       "      <th>80</th>\n",
       "      <td>81</td>\n",
       "      <td>0</td>\n",
       "      <td>3</td>\n",
       "      <td>Waelens, Mr. Achille</td>\n",
       "      <td>male</td>\n",
       "      <td>22.000000</td>\n",
       "      <td>0</td>\n",
       "      <td>0</td>\n",
       "      <td>345767</td>\n",
       "      <td>9.0000</td>\n",
       "      <td>NaN</td>\n",
       "      <td>S</td>\n",
       "      <td>Mr.</td>\n",
       "      <td>Mr.</td>\n",
       "      <td>(19, 22]</td>\n",
       "      <td>A3</td>\n",
       "      <td>None</td>\n",
       "      <td>None</td>\n",
       "    </tr>\n",
       "    <tr>\n",
       "      <th>81</th>\n",
       "      <td>82</td>\n",
       "      <td>1</td>\n",
       "      <td>3</td>\n",
       "      <td>Sheerlinck, Mr. Jan Baptist</td>\n",
       "      <td>male</td>\n",
       "      <td>29.000000</td>\n",
       "      <td>0</td>\n",
       "      <td>0</td>\n",
       "      <td>345779</td>\n",
       "      <td>9.5000</td>\n",
       "      <td>NaN</td>\n",
       "      <td>S</td>\n",
       "      <td>Mr.</td>\n",
       "      <td>Mr.</td>\n",
       "      <td>(28.519, 31.726]</td>\n",
       "      <td>A2</td>\n",
       "      <td>None</td>\n",
       "      <td>None</td>\n",
       "    </tr>\n",
       "    <tr>\n",
       "      <th>82</th>\n",
       "      <td>83</td>\n",
       "      <td>1</td>\n",
       "      <td>3</td>\n",
       "      <td>McDermott, Miss. Brigdet Delia</td>\n",
       "      <td>female</td>\n",
       "      <td>18.214150</td>\n",
       "      <td>0</td>\n",
       "      <td>0</td>\n",
       "      <td>330932</td>\n",
       "      <td>7.7875</td>\n",
       "      <td>NaN</td>\n",
       "      <td>Q</td>\n",
       "      <td>Miss.</td>\n",
       "      <td>Miss.</td>\n",
       "      <td>(15, 19]</td>\n",
       "      <td>A2</td>\n",
       "      <td>None</td>\n",
       "      <td>None</td>\n",
       "    </tr>\n",
       "    <tr>\n",
       "      <th>83</th>\n",
       "      <td>84</td>\n",
       "      <td>0</td>\n",
       "      <td>1</td>\n",
       "      <td>Carrau, Mr. Francisco M</td>\n",
       "      <td>male</td>\n",
       "      <td>28.000000</td>\n",
       "      <td>0</td>\n",
       "      <td>0</td>\n",
       "      <td>113059</td>\n",
       "      <td>47.1000</td>\n",
       "      <td>NaN</td>\n",
       "      <td>S</td>\n",
       "      <td>Mr.</td>\n",
       "      <td>Mr.</td>\n",
       "      <td>(25, 28.519]</td>\n",
       "      <td>A3</td>\n",
       "      <td>None</td>\n",
       "      <td>None</td>\n",
       "    </tr>\n",
       "    <tr>\n",
       "      <th>84</th>\n",
       "      <td>85</td>\n",
       "      <td>1</td>\n",
       "      <td>2</td>\n",
       "      <td>Ilett, Miss. Bertha</td>\n",
       "      <td>female</td>\n",
       "      <td>17.000000</td>\n",
       "      <td>0</td>\n",
       "      <td>0</td>\n",
       "      <td>SO/C 14885</td>\n",
       "      <td>10.5000</td>\n",
       "      <td>NaN</td>\n",
       "      <td>S</td>\n",
       "      <td>Miss.</td>\n",
       "      <td>Miss.</td>\n",
       "      <td>(15, 19]</td>\n",
       "      <td>A2</td>\n",
       "      <td>None</td>\n",
       "      <td>None</td>\n",
       "    </tr>\n",
       "    <tr>\n",
       "      <th>85</th>\n",
       "      <td>86</td>\n",
       "      <td>1</td>\n",
       "      <td>3</td>\n",
       "      <td>Backstrom, Mrs. Karl Alfred (Maria Mathilda Gu...</td>\n",
       "      <td>female</td>\n",
       "      <td>33.000000</td>\n",
       "      <td>3</td>\n",
       "      <td>0</td>\n",
       "      <td>3101278</td>\n",
       "      <td>15.8500</td>\n",
       "      <td>NaN</td>\n",
       "      <td>S</td>\n",
       "      <td>Mrs.</td>\n",
       "      <td>Mrs.</td>\n",
       "      <td>(31.726, 35]</td>\n",
       "      <td>A2</td>\n",
       "      <td>Two or More</td>\n",
       "      <td>None</td>\n",
       "    </tr>\n",
       "    <tr>\n",
       "      <th>86</th>\n",
       "      <td>87</td>\n",
       "      <td>0</td>\n",
       "      <td>3</td>\n",
       "      <td>Ford, Mr. William Neal</td>\n",
       "      <td>male</td>\n",
       "      <td>16.000000</td>\n",
       "      <td>1</td>\n",
       "      <td>3</td>\n",
       "      <td>W./C. 6608</td>\n",
       "      <td>34.3750</td>\n",
       "      <td>NaN</td>\n",
       "      <td>S</td>\n",
       "      <td>Mr.</td>\n",
       "      <td>Mr.</td>\n",
       "      <td>(15, 19]</td>\n",
       "      <td>A2</td>\n",
       "      <td>One</td>\n",
       "      <td>Two or More</td>\n",
       "    </tr>\n",
       "    <tr>\n",
       "      <th>87</th>\n",
       "      <td>88</td>\n",
       "      <td>0</td>\n",
       "      <td>3</td>\n",
       "      <td>Slocovski, Mr. Selman Francis</td>\n",
       "      <td>male</td>\n",
       "      <td>24.928793</td>\n",
       "      <td>0</td>\n",
       "      <td>0</td>\n",
       "      <td>SOTON/OQ 392086</td>\n",
       "      <td>8.0500</td>\n",
       "      <td>NaN</td>\n",
       "      <td>S</td>\n",
       "      <td>Mr.</td>\n",
       "      <td>Mr.</td>\n",
       "      <td>(22, 25]</td>\n",
       "      <td>A3</td>\n",
       "      <td>None</td>\n",
       "      <td>None</td>\n",
       "    </tr>\n",
       "    <tr>\n",
       "      <th>88</th>\n",
       "      <td>89</td>\n",
       "      <td>1</td>\n",
       "      <td>1</td>\n",
       "      <td>Fortune, Miss. Mabel Helen</td>\n",
       "      <td>female</td>\n",
       "      <td>23.000000</td>\n",
       "      <td>3</td>\n",
       "      <td>2</td>\n",
       "      <td>19950</td>\n",
       "      <td>263.0000</td>\n",
       "      <td>C23 C25 C27</td>\n",
       "      <td>S</td>\n",
       "      <td>Miss.</td>\n",
       "      <td>Miss.</td>\n",
       "      <td>(22, 25]</td>\n",
       "      <td>A3</td>\n",
       "      <td>Two or More</td>\n",
       "      <td>Two or More</td>\n",
       "    </tr>\n",
       "    <tr>\n",
       "      <th>89</th>\n",
       "      <td>90</td>\n",
       "      <td>0</td>\n",
       "      <td>3</td>\n",
       "      <td>Celotti, Mr. Francesco</td>\n",
       "      <td>male</td>\n",
       "      <td>24.000000</td>\n",
       "      <td>0</td>\n",
       "      <td>0</td>\n",
       "      <td>343275</td>\n",
       "      <td>8.0500</td>\n",
       "      <td>NaN</td>\n",
       "      <td>S</td>\n",
       "      <td>Mr.</td>\n",
       "      <td>Mr.</td>\n",
       "      <td>(22, 25]</td>\n",
       "      <td>A3</td>\n",
       "      <td>None</td>\n",
       "      <td>None</td>\n",
       "    </tr>\n",
       "    <tr>\n",
       "      <th>90</th>\n",
       "      <td>91</td>\n",
       "      <td>0</td>\n",
       "      <td>3</td>\n",
       "      <td>Christmann, Mr. Emil</td>\n",
       "      <td>male</td>\n",
       "      <td>29.000000</td>\n",
       "      <td>0</td>\n",
       "      <td>0</td>\n",
       "      <td>343276</td>\n",
       "      <td>8.0500</td>\n",
       "      <td>NaN</td>\n",
       "      <td>S</td>\n",
       "      <td>Mr.</td>\n",
       "      <td>Mr.</td>\n",
       "      <td>(28.519, 31.726]</td>\n",
       "      <td>A2</td>\n",
       "      <td>None</td>\n",
       "      <td>None</td>\n",
       "    </tr>\n",
       "    <tr>\n",
       "      <th>91</th>\n",
       "      <td>92</td>\n",
       "      <td>0</td>\n",
       "      <td>3</td>\n",
       "      <td>Andreasson, Mr. Paul Edvin</td>\n",
       "      <td>male</td>\n",
       "      <td>20.000000</td>\n",
       "      <td>0</td>\n",
       "      <td>0</td>\n",
       "      <td>347466</td>\n",
       "      <td>7.8542</td>\n",
       "      <td>NaN</td>\n",
       "      <td>S</td>\n",
       "      <td>Mr.</td>\n",
       "      <td>Mr.</td>\n",
       "      <td>(19, 22]</td>\n",
       "      <td>A3</td>\n",
       "      <td>None</td>\n",
       "      <td>None</td>\n",
       "    </tr>\n",
       "    <tr>\n",
       "      <th>92</th>\n",
       "      <td>93</td>\n",
       "      <td>0</td>\n",
       "      <td>1</td>\n",
       "      <td>Chaffee, Mr. Herbert Fuller</td>\n",
       "      <td>male</td>\n",
       "      <td>46.000000</td>\n",
       "      <td>1</td>\n",
       "      <td>0</td>\n",
       "      <td>W.E.P. 5734</td>\n",
       "      <td>61.1750</td>\n",
       "      <td>E31</td>\n",
       "      <td>S</td>\n",
       "      <td>Mr.</td>\n",
       "      <td>Mr.</td>\n",
       "      <td>(39.504, 47]</td>\n",
       "      <td>A3</td>\n",
       "      <td>One</td>\n",
       "      <td>None</td>\n",
       "    </tr>\n",
       "    <tr>\n",
       "      <th>93</th>\n",
       "      <td>94</td>\n",
       "      <td>0</td>\n",
       "      <td>3</td>\n",
       "      <td>Dean, Mr. Bertram Frank</td>\n",
       "      <td>male</td>\n",
       "      <td>26.000000</td>\n",
       "      <td>1</td>\n",
       "      <td>2</td>\n",
       "      <td>C.A. 2315</td>\n",
       "      <td>20.5750</td>\n",
       "      <td>NaN</td>\n",
       "      <td>S</td>\n",
       "      <td>Mr.</td>\n",
       "      <td>Mr.</td>\n",
       "      <td>(25, 28.519]</td>\n",
       "      <td>A3</td>\n",
       "      <td>One</td>\n",
       "      <td>Two or More</td>\n",
       "    </tr>\n",
       "    <tr>\n",
       "      <th>94</th>\n",
       "      <td>95</td>\n",
       "      <td>0</td>\n",
       "      <td>3</td>\n",
       "      <td>Coxon, Mr. Daniel</td>\n",
       "      <td>male</td>\n",
       "      <td>59.000000</td>\n",
       "      <td>0</td>\n",
       "      <td>0</td>\n",
       "      <td>364500</td>\n",
       "      <td>7.2500</td>\n",
       "      <td>NaN</td>\n",
       "      <td>S</td>\n",
       "      <td>Mr.</td>\n",
       "      <td>Mr.</td>\n",
       "      <td>(47, 80]</td>\n",
       "      <td>A2</td>\n",
       "      <td>None</td>\n",
       "      <td>None</td>\n",
       "    </tr>\n",
       "    <tr>\n",
       "      <th>95</th>\n",
       "      <td>96</td>\n",
       "      <td>0</td>\n",
       "      <td>3</td>\n",
       "      <td>Shorney, Mr. Charles Joseph</td>\n",
       "      <td>male</td>\n",
       "      <td>30.188619</td>\n",
       "      <td>0</td>\n",
       "      <td>0</td>\n",
       "      <td>374910</td>\n",
       "      <td>8.0500</td>\n",
       "      <td>NaN</td>\n",
       "      <td>S</td>\n",
       "      <td>Mr.</td>\n",
       "      <td>Mr.</td>\n",
       "      <td>(28.519, 31.726]</td>\n",
       "      <td>A2</td>\n",
       "      <td>None</td>\n",
       "      <td>None</td>\n",
       "    </tr>\n",
       "    <tr>\n",
       "      <th>96</th>\n",
       "      <td>97</td>\n",
       "      <td>0</td>\n",
       "      <td>1</td>\n",
       "      <td>Goldschmidt, Mr. George B</td>\n",
       "      <td>male</td>\n",
       "      <td>71.000000</td>\n",
       "      <td>0</td>\n",
       "      <td>0</td>\n",
       "      <td>PC 17754</td>\n",
       "      <td>34.6542</td>\n",
       "      <td>A5</td>\n",
       "      <td>C</td>\n",
       "      <td>Mr.</td>\n",
       "      <td>Mr.</td>\n",
       "      <td>(47, 80]</td>\n",
       "      <td>A2</td>\n",
       "      <td>None</td>\n",
       "      <td>None</td>\n",
       "    </tr>\n",
       "    <tr>\n",
       "      <th>97</th>\n",
       "      <td>98</td>\n",
       "      <td>1</td>\n",
       "      <td>1</td>\n",
       "      <td>Greenfield, Mr. William Bertram</td>\n",
       "      <td>male</td>\n",
       "      <td>23.000000</td>\n",
       "      <td>0</td>\n",
       "      <td>1</td>\n",
       "      <td>PC 17759</td>\n",
       "      <td>63.3583</td>\n",
       "      <td>D10 D12</td>\n",
       "      <td>C</td>\n",
       "      <td>Mr.</td>\n",
       "      <td>Mr.</td>\n",
       "      <td>(22, 25]</td>\n",
       "      <td>A3</td>\n",
       "      <td>None</td>\n",
       "      <td>One</td>\n",
       "    </tr>\n",
       "    <tr>\n",
       "      <th>98</th>\n",
       "      <td>99</td>\n",
       "      <td>1</td>\n",
       "      <td>2</td>\n",
       "      <td>Doling, Mrs. John T (Ada Julia Bone)</td>\n",
       "      <td>female</td>\n",
       "      <td>34.000000</td>\n",
       "      <td>0</td>\n",
       "      <td>1</td>\n",
       "      <td>231919</td>\n",
       "      <td>23.0000</td>\n",
       "      <td>NaN</td>\n",
       "      <td>S</td>\n",
       "      <td>Mrs.</td>\n",
       "      <td>Mrs.</td>\n",
       "      <td>(31.726, 35]</td>\n",
       "      <td>A2</td>\n",
       "      <td>None</td>\n",
       "      <td>One</td>\n",
       "    </tr>\n",
       "    <tr>\n",
       "      <th>99</th>\n",
       "      <td>100</td>\n",
       "      <td>0</td>\n",
       "      <td>2</td>\n",
       "      <td>Kantor, Mr. Sinai</td>\n",
       "      <td>male</td>\n",
       "      <td>34.000000</td>\n",
       "      <td>1</td>\n",
       "      <td>0</td>\n",
       "      <td>244367</td>\n",
       "      <td>26.0000</td>\n",
       "      <td>NaN</td>\n",
       "      <td>S</td>\n",
       "      <td>Mr.</td>\n",
       "      <td>Mr.</td>\n",
       "      <td>(31.726, 35]</td>\n",
       "      <td>A2</td>\n",
       "      <td>One</td>\n",
       "      <td>None</td>\n",
       "    </tr>\n",
       "  </tbody>\n",
       "</table>\n",
       "<p>100 rows × 18 columns</p>\n",
       "</div>"
      ],
      "text/plain": [
       "    PassengerId  Survived  Pclass  \\\n",
       "0             1         0       3   \n",
       "1             2         1       1   \n",
       "2             3         1       3   \n",
       "3             4         1       1   \n",
       "4             5         0       3   \n",
       "5             6         0       3   \n",
       "6             7         0       1   \n",
       "7             8         0       3   \n",
       "8             9         1       3   \n",
       "9            10         1       2   \n",
       "10           11         1       3   \n",
       "11           12         1       1   \n",
       "12           13         0       3   \n",
       "13           14         0       3   \n",
       "14           15         0       3   \n",
       "15           16         1       2   \n",
       "16           17         0       3   \n",
       "17           18         1       2   \n",
       "18           19         0       3   \n",
       "19           20         1       3   \n",
       "20           21         0       2   \n",
       "21           22         1       2   \n",
       "22           23         1       3   \n",
       "23           24         1       1   \n",
       "24           25         0       3   \n",
       "25           26         1       3   \n",
       "26           27         0       3   \n",
       "27           28         0       1   \n",
       "28           29         1       3   \n",
       "29           30         0       3   \n",
       "..          ...       ...     ...   \n",
       "70           71         0       2   \n",
       "71           72         0       3   \n",
       "72           73         0       2   \n",
       "73           74         0       3   \n",
       "74           75         1       3   \n",
       "75           76         0       3   \n",
       "76           77         0       3   \n",
       "77           78         0       3   \n",
       "78           79         1       2   \n",
       "79           80         1       3   \n",
       "80           81         0       3   \n",
       "81           82         1       3   \n",
       "82           83         1       3   \n",
       "83           84         0       1   \n",
       "84           85         1       2   \n",
       "85           86         1       3   \n",
       "86           87         0       3   \n",
       "87           88         0       3   \n",
       "88           89         1       1   \n",
       "89           90         0       3   \n",
       "90           91         0       3   \n",
       "91           92         0       3   \n",
       "92           93         0       1   \n",
       "93           94         0       3   \n",
       "94           95         0       3   \n",
       "95           96         0       3   \n",
       "96           97         0       1   \n",
       "97           98         1       1   \n",
       "98           99         1       2   \n",
       "99          100         0       2   \n",
       "\n",
       "                                                 Name     Sex        Age  \\\n",
       "0                             Braund, Mr. Owen Harris    male  22.000000   \n",
       "1   Cumings, Mrs. John Bradley (Florence Briggs Th...  female  38.000000   \n",
       "2                              Heikkinen, Miss. Laina  female  26.000000   \n",
       "3        Futrelle, Mrs. Jacques Heath (Lily May Peel)  female  35.000000   \n",
       "4                            Allen, Mr. William Henry    male  35.000000   \n",
       "5                                    Moran, Mr. James    male  24.882382   \n",
       "6                             McCarthy, Mr. Timothy J    male  54.000000   \n",
       "7                      Palsson, Master. Gosta Leonard    male   2.000000   \n",
       "8   Johnson, Mrs. Oscar W (Elisabeth Vilhelmina Berg)  female  27.000000   \n",
       "9                 Nasser, Mrs. Nicholas (Adele Achem)  female  14.000000   \n",
       "10                    Sandstrom, Miss. Marguerite Rut  female   4.000000   \n",
       "11                           Bonnell, Miss. Elizabeth  female  58.000000   \n",
       "12                     Saundercock, Mr. William Henry    male  20.000000   \n",
       "13                        Andersson, Mr. Anders Johan    male  39.000000   \n",
       "14               Vestrom, Miss. Hulda Amanda Adolfina  female  14.000000   \n",
       "15                   Hewlett, Mrs. (Mary D Kingcome)   female  55.000000   \n",
       "16                               Rice, Master. Eugene    male   2.000000   \n",
       "17                       Williams, Mr. Charles Eugene    male  19.021703   \n",
       "18  Vander Planke, Mrs. Julius (Emelia Maria Vande...  female  31.000000   \n",
       "19                            Masselmani, Mrs. Fatima  female  34.181490   \n",
       "20                               Fynney, Mr. Joseph J    male  35.000000   \n",
       "21                              Beesley, Mr. Lawrence    male  34.000000   \n",
       "22                        McGowan, Miss. Anna \"Annie\"  female  15.000000   \n",
       "23                       Sloper, Mr. William Thompson    male  28.000000   \n",
       "24                      Palsson, Miss. Torborg Danira  female   8.000000   \n",
       "25  Asplund, Mrs. Carl Oscar (Selma Augusta Emilia...  female  38.000000   \n",
       "26                            Emir, Mr. Farred Chehab    male  27.516068   \n",
       "27                     Fortune, Mr. Charles Alexander    male  19.000000   \n",
       "28                      O'Dwyer, Miss. Ellen \"Nellie\"  female  17.241907   \n",
       "29                                Todoroff, Mr. Lalio    male  33.646190   \n",
       "..                                                ...     ...        ...   \n",
       "70                         Jenkin, Mr. Stephen Curnow    male  32.000000   \n",
       "71                         Goodwin, Miss. Lillian Amy  female  16.000000   \n",
       "72                               Hood, Mr. Ambrose Jr    male  21.000000   \n",
       "73                        Chronopoulos, Mr. Apostolos    male  26.000000   \n",
       "74                                      Bing, Mr. Lee    male  32.000000   \n",
       "75                            Moen, Mr. Sigurd Hansen    male  25.000000   \n",
       "76                                  Staneff, Mr. Ivan    male  23.399128   \n",
       "77                           Moutal, Mr. Rahamin Haim    male  41.080239   \n",
       "78                      Caldwell, Master. Alden Gates    male   0.830000   \n",
       "79                           Dowdell, Miss. Elizabeth  female  30.000000   \n",
       "80                               Waelens, Mr. Achille    male  22.000000   \n",
       "81                        Sheerlinck, Mr. Jan Baptist    male  29.000000   \n",
       "82                     McDermott, Miss. Brigdet Delia  female  18.214150   \n",
       "83                            Carrau, Mr. Francisco M    male  28.000000   \n",
       "84                                Ilett, Miss. Bertha  female  17.000000   \n",
       "85  Backstrom, Mrs. Karl Alfred (Maria Mathilda Gu...  female  33.000000   \n",
       "86                             Ford, Mr. William Neal    male  16.000000   \n",
       "87                      Slocovski, Mr. Selman Francis    male  24.928793   \n",
       "88                         Fortune, Miss. Mabel Helen  female  23.000000   \n",
       "89                             Celotti, Mr. Francesco    male  24.000000   \n",
       "90                               Christmann, Mr. Emil    male  29.000000   \n",
       "91                         Andreasson, Mr. Paul Edvin    male  20.000000   \n",
       "92                        Chaffee, Mr. Herbert Fuller    male  46.000000   \n",
       "93                            Dean, Mr. Bertram Frank    male  26.000000   \n",
       "94                                  Coxon, Mr. Daniel    male  59.000000   \n",
       "95                        Shorney, Mr. Charles Joseph    male  30.188619   \n",
       "96                          Goldschmidt, Mr. George B    male  71.000000   \n",
       "97                    Greenfield, Mr. William Bertram    male  23.000000   \n",
       "98               Doling, Mrs. John T (Ada Julia Bone)  female  34.000000   \n",
       "99                                  Kantor, Mr. Sinai    male  34.000000   \n",
       "\n",
       "    SibSp  Parch            Ticket      Fare        Cabin Embarked    title  \\\n",
       "0       1      0         A/5 21171    7.2500          NaN        S      Mr.   \n",
       "1       1      0          PC 17599   71.2833          C85        C     Mrs.   \n",
       "2       0      0  STON/O2. 3101282    7.9250          NaN        S    Miss.   \n",
       "3       1      0            113803   53.1000         C123        S     Mrs.   \n",
       "4       0      0            373450    8.0500          NaN        S      Mr.   \n",
       "5       0      0            330877    8.4583          NaN        Q      Mr.   \n",
       "6       0      0             17463   51.8625          E46        S      Mr.   \n",
       "7       3      1            349909   21.0750          NaN        S  Master.   \n",
       "8       0      2            347742   11.1333          NaN        S     Mrs.   \n",
       "9       1      0            237736   30.0708          NaN        C     Mrs.   \n",
       "10      1      1           PP 9549   16.7000           G6        S    Miss.   \n",
       "11      0      0            113783   26.5500         C103        S    Miss.   \n",
       "12      0      0         A/5. 2151    8.0500          NaN        S      Mr.   \n",
       "13      1      5            347082   31.2750          NaN        S      Mr.   \n",
       "14      0      0            350406    7.8542          NaN        S    Miss.   \n",
       "15      0      0            248706   16.0000          NaN        S     Mrs.   \n",
       "16      4      1            382652   29.1250          NaN        Q  Master.   \n",
       "17      0      0            244373   13.0000          NaN        S      Mr.   \n",
       "18      1      0            345763   18.0000          NaN        S     Mrs.   \n",
       "19      0      0              2649    7.2250          NaN        C     Mrs.   \n",
       "20      0      0            239865   26.0000          NaN        S      Mr.   \n",
       "21      0      0            248698   13.0000          D56        S      Mr.   \n",
       "22      0      0            330923    8.0292          NaN        Q    Miss.   \n",
       "23      0      0            113788   35.5000           A6        S      Mr.   \n",
       "24      3      1            349909   21.0750          NaN        S    Miss.   \n",
       "25      1      5            347077   31.3875          NaN        S     Mrs.   \n",
       "26      0      0              2631    7.2250          NaN        C      Mr.   \n",
       "27      3      2             19950  263.0000  C23 C25 C27        S      Mr.   \n",
       "28      0      0            330959    7.8792          NaN        Q    Miss.   \n",
       "29      0      0            349216    7.8958          NaN        S      Mr.   \n",
       "..    ...    ...               ...       ...          ...      ...      ...   \n",
       "70      0      0        C.A. 33111   10.5000          NaN        S      Mr.   \n",
       "71      5      2           CA 2144   46.9000          NaN        S    Miss.   \n",
       "72      0      0      S.O.C. 14879   73.5000          NaN        S      Mr.   \n",
       "73      1      0              2680   14.4542          NaN        C      Mr.   \n",
       "74      0      0              1601   56.4958          NaN        S      Mr.   \n",
       "75      0      0            348123    7.6500        F G73        S      Mr.   \n",
       "76      0      0            349208    7.8958          NaN        S      Mr.   \n",
       "77      0      0            374746    8.0500          NaN        S      Mr.   \n",
       "78      0      2            248738   29.0000          NaN        S  Master.   \n",
       "79      0      0            364516   12.4750          NaN        S    Miss.   \n",
       "80      0      0            345767    9.0000          NaN        S      Mr.   \n",
       "81      0      0            345779    9.5000          NaN        S      Mr.   \n",
       "82      0      0            330932    7.7875          NaN        Q    Miss.   \n",
       "83      0      0            113059   47.1000          NaN        S      Mr.   \n",
       "84      0      0        SO/C 14885   10.5000          NaN        S    Miss.   \n",
       "85      3      0           3101278   15.8500          NaN        S     Mrs.   \n",
       "86      1      3        W./C. 6608   34.3750          NaN        S      Mr.   \n",
       "87      0      0   SOTON/OQ 392086    8.0500          NaN        S      Mr.   \n",
       "88      3      2             19950  263.0000  C23 C25 C27        S    Miss.   \n",
       "89      0      0            343275    8.0500          NaN        S      Mr.   \n",
       "90      0      0            343276    8.0500          NaN        S      Mr.   \n",
       "91      0      0            347466    7.8542          NaN        S      Mr.   \n",
       "92      1      0       W.E.P. 5734   61.1750          E31        S      Mr.   \n",
       "93      1      2         C.A. 2315   20.5750          NaN        S      Mr.   \n",
       "94      0      0            364500    7.2500          NaN        S      Mr.   \n",
       "95      0      0            374910    8.0500          NaN        S      Mr.   \n",
       "96      0      0          PC 17754   34.6542           A5        C      Mr.   \n",
       "97      0      1          PC 17759   63.3583      D10 D12        C      Mr.   \n",
       "98      0      1            231919   23.0000          NaN        S     Mrs.   \n",
       "99      1      0            244367   26.0000          NaN        S      Mr.   \n",
       "\n",
       "   title_grouped            age_qt age_qt2  sib_grouped parch_grouped  \n",
       "0            Mr.          (19, 22]      A3          One          None  \n",
       "1           Mrs.      (35, 39.504]      A2          One          None  \n",
       "2          Miss.      (25, 28.519]      A3         None          None  \n",
       "3           Mrs.      (31.726, 35]      A2          One          None  \n",
       "4            Mr.      (31.726, 35]      A2         None          None  \n",
       "5            Mr.          (22, 25]      A3         None          None  \n",
       "6            Mr.          (47, 80]      A2         None          None  \n",
       "7        Master.        [0.42, 15]      A1  Two or More           One  \n",
       "8           Mrs.      (25, 28.519]      A3         None   Two or More  \n",
       "9           Mrs.        [0.42, 15]      A1          One          None  \n",
       "10         Miss.        [0.42, 15]      A1          One           One  \n",
       "11         Miss.          (47, 80]      A2         None          None  \n",
       "12           Mr.          (19, 22]      A3         None          None  \n",
       "13           Mr.      (35, 39.504]      A2          One   Two or More  \n",
       "14         Miss.        [0.42, 15]      A1         None          None  \n",
       "15          Mrs.          (47, 80]      A2         None          None  \n",
       "16       Master.        [0.42, 15]      A1  Two or More           One  \n",
       "17           Mr.          (19, 22]      A3         None          None  \n",
       "18          Mrs.  (28.519, 31.726]      A2          One          None  \n",
       "19          Mrs.      (31.726, 35]      A2         None          None  \n",
       "20           Mr.      (31.726, 35]      A2         None          None  \n",
       "21           Mr.      (31.726, 35]      A2         None          None  \n",
       "22         Miss.        [0.42, 15]      A1         None          None  \n",
       "23           Mr.      (25, 28.519]      A3         None          None  \n",
       "24         Miss.        [0.42, 15]      A1  Two or More           One  \n",
       "25          Mrs.      (35, 39.504]      A2          One   Two or More  \n",
       "26           Mr.      (25, 28.519]      A3         None          None  \n",
       "27           Mr.          (15, 19]      A2  Two or More   Two or More  \n",
       "28         Miss.          (15, 19]      A2         None          None  \n",
       "29           Mr.      (31.726, 35]      A2         None          None  \n",
       "..           ...               ...     ...          ...           ...  \n",
       "70           Mr.      (31.726, 35]      A2         None          None  \n",
       "71         Miss.          (15, 19]      A2  Two or More   Two or More  \n",
       "72           Mr.          (19, 22]      A3         None          None  \n",
       "73           Mr.      (25, 28.519]      A3          One          None  \n",
       "74           Mr.      (31.726, 35]      A2         None          None  \n",
       "75           Mr.          (22, 25]      A3         None          None  \n",
       "76           Mr.          (22, 25]      A3         None          None  \n",
       "77           Mr.      (39.504, 47]      A3         None          None  \n",
       "78       Master.        [0.42, 15]      A1         None   Two or More  \n",
       "79         Miss.  (28.519, 31.726]      A2         None          None  \n",
       "80           Mr.          (19, 22]      A3         None          None  \n",
       "81           Mr.  (28.519, 31.726]      A2         None          None  \n",
       "82         Miss.          (15, 19]      A2         None          None  \n",
       "83           Mr.      (25, 28.519]      A3         None          None  \n",
       "84         Miss.          (15, 19]      A2         None          None  \n",
       "85          Mrs.      (31.726, 35]      A2  Two or More          None  \n",
       "86           Mr.          (15, 19]      A2          One   Two or More  \n",
       "87           Mr.          (22, 25]      A3         None          None  \n",
       "88         Miss.          (22, 25]      A3  Two or More   Two or More  \n",
       "89           Mr.          (22, 25]      A3         None          None  \n",
       "90           Mr.  (28.519, 31.726]      A2         None          None  \n",
       "91           Mr.          (19, 22]      A3         None          None  \n",
       "92           Mr.      (39.504, 47]      A3          One          None  \n",
       "93           Mr.      (25, 28.519]      A3          One   Two or More  \n",
       "94           Mr.          (47, 80]      A2         None          None  \n",
       "95           Mr.  (28.519, 31.726]      A2         None          None  \n",
       "96           Mr.          (47, 80]      A2         None          None  \n",
       "97           Mr.          (22, 25]      A3         None           One  \n",
       "98          Mrs.      (31.726, 35]      A2         None           One  \n",
       "99           Mr.      (31.726, 35]      A2          One          None  \n",
       "\n",
       "[100 rows x 18 columns]"
      ]
     },
     "execution_count": 37,
     "metadata": {},
     "output_type": "execute_result"
    }
   ],
   "source": [
    "df.head(100)"
   ]
  },
  {
   "cell_type": "markdown",
   "metadata": {},
   "source": [
    "We create groups of tickets by the length of the ticket number. We consolidate the groups with ticket number length 0 (the word \"Line\" only), 1, 3, 7, and 8 due to the sizes of these groups."
   ]
  },
  {
   "cell_type": "code",
   "execution_count": 38,
   "metadata": {
    "collapsed": true
   },
   "outputs": [],
   "source": [
    "# Extract number\n",
    "df['tic_no'] = df.Ticket.str.replace('[a-zA-z\\\\.]', '')\n",
    "df['tic_no'] = df.tic_no.str.replace('[\\\\/.* ]', '')"
   ]
  },
  {
   "cell_type": "code",
   "execution_count": 39,
   "metadata": {
    "scrolled": false
   },
   "outputs": [
    {
     "data": {
      "text/plain": [
       "6    439\n",
       "5    242\n",
       "4    154\n",
       "7     24\n",
       "8     20\n",
       "3      6\n",
       "0      4\n",
       "1      2\n",
       "Name: tic_no, dtype: int64"
      ]
     },
     "execution_count": 39,
     "metadata": {},
     "output_type": "execute_result"
    }
   ],
   "source": [
    "df['tic_no'].str.len().value_counts()"
   ]
  },
  {
   "cell_type": "code",
   "execution_count": 40,
   "metadata": {},
   "outputs": [],
   "source": [
    "# Create new feature\n",
    "df['tic_len'] = 'L' + df['tic_no'].str.len().astype(str)\n",
    "\n",
    "# Group 0, 1, 3, 7, 8\n",
    "df['tic_len'][df['tic_no'].str.len().isin([0,1,3,7,8])] = 'LO'"
   ]
  },
  {
   "cell_type": "markdown",
   "metadata": {},
   "source": [
    "We find that individuals with ticket L5 had a rather high survival rate. Specifically, individuals who had ticket L5 **and** were from the 1st class had a higher survival rate."
   ]
  },
  {
   "cell_type": "code",
   "execution_count": 41,
   "metadata": {},
   "outputs": [
    {
     "data": {
      "text/plain": [
       "<matplotlib.axes._subplots.AxesSubplot at 0x23adf5672e8>"
      ]
     },
     "execution_count": 41,
     "metadata": {},
     "output_type": "execute_result"
    },
    {
     "data": {
      "image/png": "[encoded data removed]",
      "text/plain": [
       "<matplotlib.figure.Figure at 0x23adde29c88>"
      ]
     },
     "metadata": {},
     "output_type": "display_data"
    }
   ],
   "source": [
    "# Plot\n",
    "df.groupby('tic_len').Survived.mean().plot.bar()"
   ]
  },
  {
   "cell_type": "code",
   "execution_count": 42,
   "metadata": {},
   "outputs": [
    {
     "data": {
      "text/html": [
       "<div>\n",
       "<table border=\"1\" class=\"dataframe\">\n",
       "  <thead>\n",
       "    <tr>\n",
       "      <th>Pclass</th>\n",
       "      <th colspan=\"2\" halign=\"left\">1</th>\n",
       "      <th colspan=\"2\" halign=\"left\">2</th>\n",
       "      <th colspan=\"2\" halign=\"left\">3</th>\n",
       "    </tr>\n",
       "    <tr>\n",
       "      <th>Survived</th>\n",
       "      <th>0</th>\n",
       "      <th>1</th>\n",
       "      <th>0</th>\n",
       "      <th>1</th>\n",
       "      <th>0</th>\n",
       "      <th>1</th>\n",
       "    </tr>\n",
       "    <tr>\n",
       "      <th>tic_len</th>\n",
       "      <th></th>\n",
       "      <th></th>\n",
       "      <th></th>\n",
       "      <th></th>\n",
       "      <th></th>\n",
       "      <th></th>\n",
       "    </tr>\n",
       "  </thead>\n",
       "  <tbody>\n",
       "    <tr>\n",
       "      <th>L4</th>\n",
       "      <td>3</td>\n",
       "      <td>1</td>\n",
       "      <td>9</td>\n",
       "      <td>12</td>\n",
       "      <td>91</td>\n",
       "      <td>38</td>\n",
       "    </tr>\n",
       "    <tr>\n",
       "      <th>L5</th>\n",
       "      <td>40</td>\n",
       "      <td>98</td>\n",
       "      <td>41</td>\n",
       "      <td>30</td>\n",
       "      <td>22</td>\n",
       "      <td>11</td>\n",
       "    </tr>\n",
       "    <tr>\n",
       "      <th>L6</th>\n",
       "      <td>35</td>\n",
       "      <td>37</td>\n",
       "      <td>45</td>\n",
       "      <td>42</td>\n",
       "      <td>223</td>\n",
       "      <td>57</td>\n",
       "    </tr>\n",
       "    <tr>\n",
       "      <th>LO</th>\n",
       "      <td>2</td>\n",
       "      <td>0</td>\n",
       "      <td>2</td>\n",
       "      <td>3</td>\n",
       "      <td>36</td>\n",
       "      <td>13</td>\n",
       "    </tr>\n",
       "  </tbody>\n",
       "</table>\n",
       "</div>"
      ],
      "text/plain": [
       "Pclass     1       2        3    \n",
       "Survived   0   1   0   1    0   1\n",
       "tic_len                          \n",
       "L4         3   1   9  12   91  38\n",
       "L5        40  98  41  30   22  11\n",
       "L6        35  37  45  42  223  57\n",
       "LO         2   0   2   3   36  13"
      ]
     },
     "execution_count": 42,
     "metadata": {},
     "output_type": "execute_result"
    }
   ],
   "source": [
    "pd.crosstab(df.tic_len, [df.Pclass, df.Survived])"
   ]
  },
  {
   "cell_type": "markdown",
   "metadata": {},
   "source": [
    "### Verdict\n",
    "We should include ticket length as a one-hot-encoded or mean-encoded variable."
   ]
  },
  {
   "cell_type": "code",
   "execution_count": 43,
   "metadata": {},
   "outputs": [
    {
     "data": {
      "text/plain": [
       "{'Age': ['Numeric', 'Ordinal', 'One-hot', 'Mean'],\n",
       " 'Parch': ['Numeric', 'Ordinal', 'One-hot', 'Mean'],\n",
       " 'Pclass': ['Ordinal', 'One-hot', 'Mean'],\n",
       " 'Sex': ['Dummy: Male=1', 'Dummy: Female = 1'],\n",
       " 'SibSp': ['Numeric', 'Ordinal', 'One-hot', 'Mean'],\n",
       " 'Ticket': ['One-hot', 'Mean'],\n",
       " 'title': ['One-hot', 'Mean']}"
      ]
     },
     "execution_count": 43,
     "metadata": {},
     "output_type": "execute_result"
    }
   ],
   "source": [
    "# Add transformation options\n",
    "var_dict['Ticket'] = ['One-hot', 'Mean']\n",
    "var_dict"
   ]
  },
  {
   "cell_type": "markdown",
   "metadata": {},
   "source": [
    "## Fare\n",
    "Fare is a numeric variable with a massive outlier at $502 and a few values at zero."
   ]
  },
  {
   "cell_type": "code",
   "execution_count": 44,
   "metadata": {
    "scrolled": true
   },
   "outputs": [
    {
     "data": {
      "image/png": "[encoded data removed]",
      "text/plain": [
       "<matplotlib.figure.Figure at 0x23adf63ab38>"
      ]
     },
     "metadata": {},
     "output_type": "display_data"
    }
   ],
   "source": [
    "# Plot\n",
    "plt.hist(df.Fare[df.Survived == 1], bins = 100, alpha = 0.3, color='green')\n",
    "plt.hist(df.Fare[df.Survived == 0], bins = 100, alpha = 0.3, color='red')\n",
    "plt.show()"
   ]
  },
  {
   "cell_type": "markdown",
   "metadata": {},
   "source": [
    "Before removing outliers, we examine the correlation between Survived and Fare:"
   ]
  },
  {
   "cell_type": "code",
   "execution_count": 45,
   "metadata": {},
   "outputs": [
    {
     "data": {
      "text/plain": [
       "<matplotlib.axes._subplots.AxesSubplot at 0x23adf4d8d68>"
      ]
     },
     "execution_count": 45,
     "metadata": {},
     "output_type": "execute_result"
    },
    {
     "data": {
      "image/png": "[encoded data removed]",
      "text/plain": [
       "<matplotlib.figure.Figure at 0x23adf63e0b8>"
      ]
     },
     "metadata": {},
     "output_type": "display_data"
    }
   ],
   "source": [
    "# Plot correlation\n",
    "sns.heatmap(df[['Survived', 'Fare']].corr(), annot = True)"
   ]
  },
  {
   "cell_type": "markdown",
   "metadata": {},
   "source": [
    "To remove outliers, we convert the extreme values into the next-most-extreme values."
   ]
  },
  {
   "cell_type": "code",
   "execution_count": 46,
   "metadata": {},
   "outputs": [],
   "source": [
    "# Ranked fares\n",
    "fare_asc = sorted(np.unique(df.Fare))\n",
    "fare_des = sorted(np.unique(df.Fare), reverse=True)\n",
    "\n",
    "# Convert smallest and largest\n",
    "df['fare_comp'] = df.Fare.copy()\n",
    "df.fare_comp[df.fare_comp == df.fare_comp.min()] = fare_asc[1]\n",
    "df.fare_comp[df.fare_comp == df.fare_comp.max()] = fare_des[1]"
   ]
  },
  {
   "cell_type": "code",
   "execution_count": 47,
   "metadata": {},
   "outputs": [
    {
     "data": {
      "image/png": "[encoded data removed]",
      "text/plain": [
       "<matplotlib.figure.Figure at 0x23adf3b2a90>"
      ]
     },
     "metadata": {},
     "output_type": "display_data"
    }
   ],
   "source": [
    "# Re-plot\n",
    "plt.hist(df.fare_comp[df.Survived == 1], bins = 100, alpha = 0.3, color='green')\n",
    "plt.hist(df.fare_comp[df.Survived == 0], bins = 100, alpha = 0.3, color='red')\n",
    "plt.show()"
   ]
  },
  {
   "cell_type": "code",
   "execution_count": 48,
   "metadata": {
    "scrolled": true
   },
   "outputs": [
    {
     "data": {
      "text/plain": [
       "<matplotlib.axes._subplots.AxesSubplot at 0x23adf63b160>"
      ]
     },
     "execution_count": 48,
     "metadata": {},
     "output_type": "execute_result"
    },
    {
     "data": {
      "image/png": "[encoded data removed]",
      "text/plain": [
       "<matplotlib.figure.Figure at 0x23adf704e48>"
      ]
     },
     "metadata": {},
     "output_type": "display_data"
    }
   ],
   "source": [
    "# Plot correlation\n",
    "sns.heatmap(df[['Survived', 'fare_comp']].corr(), annot = True)"
   ]
  },
  {
   "cell_type": "code",
   "execution_count": 49,
   "metadata": {
    "scrolled": false
   },
   "outputs": [
    {
     "data": {
      "image/png": "[encoded data removed]",
      "text/plain": [
       "<matplotlib.figure.Figure at 0x23addd68dd8>"
      ]
     },
     "metadata": {},
     "output_type": "display_data"
    },
    {
     "data": {
      "image/png": "[encoded data removed]",
      "text/plain": [
       "<matplotlib.figure.Figure at 0x23adf843518>"
      ]
     },
     "metadata": {},
     "output_type": "display_data"
    }
   ],
   "source": [
    "# Compress to 100\n",
    "df.fare_comp[df.fare_comp > 150] = 150\n",
    "\n",
    "# Re-plot\n",
    "plt.hist(df.fare_comp[df.Survived == 1], bins = 100, alpha = 0.3, color='green')\n",
    "plt.hist(df.fare_comp[df.Survived == 0], bins = 100, alpha = 0.3, color='red')\n",
    "plt.show()\n",
    "\n",
    "# Plot correlation\n",
    "sns.heatmap(df[['Survived', 'fare_comp']].corr(), annot = True)\n",
    "plt.show()"
   ]
  },
  {
   "cell_type": "markdown",
   "metadata": {},
   "source": [
    "We find that the correlation improves as we compress the fares downward. Exploring the possible groups of fares,"
   ]
  },
  {
   "cell_type": "code",
   "execution_count": 50,
   "metadata": {
    "scrolled": true
   },
   "outputs": [
    {
     "data": {
      "image/png": "[encoded data removed]",
      "text/plain": [
       "<matplotlib.figure.Figure at 0x23adde294e0>"
      ]
     },
     "metadata": {},
     "output_type": "display_data"
    }
   ],
   "source": [
    "# Split into many quantiles\n",
    "qt = np.arange(3, 22, 1)\n",
    "\n",
    "# Initialise results\n",
    "qt_results = []\n",
    "\n",
    "for q in qt:\n",
    "    \n",
    "    # Copy df\n",
    "    temp_df = df.copy()\n",
    "    \n",
    "    # Cut by quantiles\n",
    "    temp_df['qt'] = pd.qcut(df.fare_comp, q)\n",
    "    fare_df = temp_df[['qt', 'Survived']].groupby('qt').count()\n",
    "    fare_df['mean'] = temp_df.groupby('qt').Survived.mean()\n",
    "    qt_results.append([q, fare_df['mean'].std(), df.shape[0]/q])\n",
    "\n",
    "# Print results\n",
    "qt_results = pd.DataFrame(qt_results, columns = ['Q', 'Std', 'N'])\n",
    "qt_results.plot(x = 'Q', y = 'Std')\n",
    "plt.title('Standard Deviation in %Survived vs. Fare Quantiles')\n",
    "plt.show()"
   ]
  },
  {
   "cell_type": "markdown",
   "metadata": {},
   "source": [
    "From examining the splits on 6 and 11 quantiles, we find that 6 quantiles works better than 11 quantiles, because it is not as granular and can be used to divide the passengers into three groups."
   ]
  },
  {
   "cell_type": "code",
   "execution_count": 51,
   "metadata": {},
   "outputs": [
    {
     "data": {
      "image/png": "[encoded data removed]",
      "text/plain": [
       "<matplotlib.figure.Figure at 0x23adf5736d8>"
      ]
     },
     "metadata": {},
     "output_type": "display_data"
    }
   ],
   "source": [
    "# Split into 6 quantiles\n",
    "df['fare_qt6'] = pd.qcut(df.fare_comp, 6).astype('category')\n",
    "\n",
    "# Plot\n",
    "df.groupby('fare_qt6').Survived.mean().plot.bar()\n",
    "plt.title('%Survived by Fare Quantiles (6)')\n",
    "plt.show()"
   ]
  },
  {
   "cell_type": "code",
   "execution_count": 52,
   "metadata": {
    "scrolled": true
   },
   "outputs": [
    {
     "data": {
      "text/html": [
       "<div>\n",
       "<table border=\"1\" class=\"dataframe\">\n",
       "  <thead>\n",
       "    <tr style=\"text-align: right;\">\n",
       "      <th>Survived</th>\n",
       "      <th>0</th>\n",
       "      <th>1</th>\n",
       "    </tr>\n",
       "    <tr>\n",
       "      <th>fare_qt6</th>\n",
       "      <th></th>\n",
       "      <th></th>\n",
       "    </tr>\n",
       "  </thead>\n",
       "  <tbody>\n",
       "    <tr>\n",
       "      <th>[4.0125, 7.775]</th>\n",
       "      <td>124</td>\n",
       "      <td>32</td>\n",
       "    </tr>\n",
       "    <tr>\n",
       "      <th>(7.775, 8.662]</th>\n",
       "      <td>123</td>\n",
       "      <td>29</td>\n",
       "    </tr>\n",
       "    <tr>\n",
       "      <th>(8.662, 14.454]</th>\n",
       "      <td>88</td>\n",
       "      <td>51</td>\n",
       "    </tr>\n",
       "    <tr>\n",
       "      <th>(14.454, 26]</th>\n",
       "      <td>84</td>\n",
       "      <td>65</td>\n",
       "    </tr>\n",
       "    <tr>\n",
       "      <th>(26, 52.369]</th>\n",
       "      <td>85</td>\n",
       "      <td>61</td>\n",
       "    </tr>\n",
       "    <tr>\n",
       "      <th>(52.369, 150]</th>\n",
       "      <td>45</td>\n",
       "      <td>104</td>\n",
       "    </tr>\n",
       "  </tbody>\n",
       "</table>\n",
       "</div>"
      ],
      "text/plain": [
       "Survived           0    1\n",
       "fare_qt6                 \n",
       "[4.0125, 7.775]  124   32\n",
       "(7.775, 8.662]   123   29\n",
       "(8.662, 14.454]   88   51\n",
       "(14.454, 26]      84   65\n",
       "(26, 52.369]      85   61\n",
       "(52.369, 150]     45  104"
      ]
     },
     "execution_count": 52,
     "metadata": {},
     "output_type": "execute_result"
    }
   ],
   "source": [
    "# Cross tab\n",
    "pd.crosstab(df.fare_qt6, df.Survived)"
   ]
  },
  {
   "cell_type": "markdown",
   "metadata": {},
   "source": [
    "Re-grouping the quantiles, we obtain good variation in survivability. G1 corresponds mostly to the 3rd class passengers and G3 to 1st class passengers, but the interesting thing is that G2 corresponds to a mix of passengers from **all three classes**. This will help to segregate the survivors from the perishers."
   ]
  },
  {
   "cell_type": "code",
   "execution_count": 53,
   "metadata": {},
   "outputs": [
    {
     "data": {
      "image/png": "[encoded data removed]",
      "text/plain": [
       "<matplotlib.figure.Figure at 0x23adfae2fd0>"
      ]
     },
     "metadata": {},
     "output_type": "display_data"
    }
   ],
   "source": [
    "# Re-group quantiles\n",
    "df['fare_qt'] = 'G1'\n",
    "df['fare_qt'][(df['fare_comp'] > 8.662) & (df['fare_comp'] <= 52.369)] = 'G2'\n",
    "df['fare_qt'][(df['fare_comp'] > 52.369)] = 'G3'\n",
    "\n",
    "# Plot\n",
    "df.groupby('fare_qt').Survived.mean().plot.bar()\n",
    "plt.title('%Survived by Fare Quantiles (2/3/1)')\n",
    "plt.show()"
   ]
  },
  {
   "cell_type": "code",
   "execution_count": 54,
   "metadata": {},
   "outputs": [
    {
     "data": {
      "text/html": [
       "<div>\n",
       "<table border=\"1\" class=\"dataframe\">\n",
       "  <thead>\n",
       "    <tr style=\"text-align: right;\">\n",
       "      <th>Pclass</th>\n",
       "      <th>1</th>\n",
       "      <th>2</th>\n",
       "      <th>3</th>\n",
       "    </tr>\n",
       "    <tr>\n",
       "      <th>fare_qt</th>\n",
       "      <th></th>\n",
       "      <th></th>\n",
       "      <th></th>\n",
       "    </tr>\n",
       "  </thead>\n",
       "  <tbody>\n",
       "    <tr>\n",
       "      <th>G1</th>\n",
       "      <td>6</td>\n",
       "      <td>6</td>\n",
       "      <td>283</td>\n",
       "    </tr>\n",
       "    <tr>\n",
       "      <th>G2</th>\n",
       "      <td>82</td>\n",
       "      <td>171</td>\n",
       "      <td>194</td>\n",
       "    </tr>\n",
       "    <tr>\n",
       "      <th>G3</th>\n",
       "      <td>128</td>\n",
       "      <td>7</td>\n",
       "      <td>14</td>\n",
       "    </tr>\n",
       "  </tbody>\n",
       "</table>\n",
       "</div>"
      ],
      "text/plain": [
       "Pclass     1    2    3\n",
       "fare_qt               \n",
       "G1         6    6  283\n",
       "G2        82  171  194\n",
       "G3       128    7   14"
      ]
     },
     "execution_count": 54,
     "metadata": {},
     "output_type": "execute_result"
    }
   ],
   "source": [
    "# Cross tab\n",
    "pd.crosstab(df.fare_qt, df.Pclass)"
   ]
  },
  {
   "cell_type": "markdown",
   "metadata": {},
   "source": [
    "### Verdict\n",
    "Thus, it is recommended that fare be included as numeric, ordinal, one-hot-encoded, and mean-encoded features."
   ]
  },
  {
   "cell_type": "code",
   "execution_count": 55,
   "metadata": {},
   "outputs": [
    {
     "data": {
      "text/plain": [
       "{'Age': ['Numeric', 'Ordinal', 'One-hot', 'Mean'],\n",
       " 'Fare': ['Numeric', 'Ordinal', 'One-hot', 'Mean'],\n",
       " 'Parch': ['Numeric', 'Ordinal', 'One-hot', 'Mean'],\n",
       " 'Pclass': ['Ordinal', 'One-hot', 'Mean'],\n",
       " 'Sex': ['Dummy: Male=1', 'Dummy: Female = 1'],\n",
       " 'SibSp': ['Numeric', 'Ordinal', 'One-hot', 'Mean'],\n",
       " 'Ticket': ['One-hot', 'Mean'],\n",
       " 'title': ['One-hot', 'Mean']}"
      ]
     },
     "execution_count": 55,
     "metadata": {},
     "output_type": "execute_result"
    }
   ],
   "source": [
    "# Add transformation options\n",
    "var_dict['Fare'] = ['Numeric', 'Ordinal', 'One-hot', 'Mean']\n",
    "var_dict"
   ]
  },
  {
   "cell_type": "markdown",
   "metadata": {},
   "source": [
    "## Cabin"
   ]
  },
  {
   "cell_type": "markdown",
   "metadata": {},
   "source": [
    "The most striking thing about Cabin is that there are a huge number of missing values - a total of 687."
   ]
  },
  {
   "cell_type": "code",
   "execution_count": 56,
   "metadata": {},
   "outputs": [
    {
     "name": "stdout",
     "output_type": "stream",
     "text": [
      "Missing values: 687\n"
     ]
    }
   ],
   "source": [
    "# Missing values\n",
    "print('Missing values: ' + str(df.Cabin.isnull().sum()))"
   ]
  },
  {
   "cell_type": "markdown",
   "metadata": {},
   "source": [
    "Next, we examine the types of entries. We note that cabins typically have a letter and a number. In some cases, there are no numbers. Let's separate the cabin number into letter and number, while attaching a \"NIL\" entry to null entries."
   ]
  },
  {
   "cell_type": "markdown",
   "metadata": {},
   "source": [
    "### Cabin Letters"
   ]
  },
  {
   "cell_type": "code",
   "execution_count": 57,
   "metadata": {
    "scrolled": true
   },
   "outputs": [
    {
     "data": {
      "image/png": "[encoded data removed]",
      "text/plain": [
       "<matplotlib.figure.Figure at 0x23adfa91c18>"
      ]
     },
     "metadata": {},
     "output_type": "display_data"
    }
   ],
   "source": [
    "# Create feature for cabin letter\n",
    "df['cab_letter'] = df.Cabin.str[0]\n",
    "df['cab_letter'][df.Cabin.isnull()] = 'NIL'\n",
    "\n",
    "# Plot\n",
    "pd.DataFrame(df.cab_letter.value_counts()).plot.bar()\n",
    "plt.title('Cabin Letter')\n",
    "plt.show()"
   ]
  },
  {
   "cell_type": "code",
   "execution_count": 58,
   "metadata": {
    "scrolled": true
   },
   "outputs": [
    {
     "data": {
      "image/png": "[encoded data removed]",
      "text/plain": [
       "<matplotlib.figure.Figure at 0x23adfa3ecf8>"
      ]
     },
     "metadata": {},
     "output_type": "display_data"
    }
   ],
   "source": [
    "# Survival rate\n",
    "df.groupby('cab_letter').Survived.mean().plot.bar()\n",
    "plt.title('%Survived by Cabin Letter')\n",
    "plt.show()"
   ]
  },
  {
   "cell_type": "markdown",
   "metadata": {},
   "source": [
    "Grouping the cabins by their survival rate, (1) B/D/E and (2) Others:"
   ]
  },
  {
   "cell_type": "code",
   "execution_count": 59,
   "metadata": {},
   "outputs": [
    {
     "data": {
      "image/png": "[encoded data removed]",
      "text/plain": [
       "<matplotlib.figure.Figure at 0x23adf07ef98>"
      ]
     },
     "metadata": {},
     "output_type": "display_data"
    }
   ],
   "source": [
    "# Re-group cabin letters\n",
    "df['cabin_grouped'] = 'B/D/E'\n",
    "df['cabin_grouped'][df.cab_letter.isin(['A', 'G', 'T', 'C', 'F'])] = 'Others'\n",
    "df['cabin_grouped'][df.cab_letter.isin(['NIL'])] = 'NIL'\n",
    "\n",
    "# Survival rate\n",
    "df.groupby('cabin_grouped').Survived.mean().plot.bar()\n",
    "plt.title('%Survived by Cabin Letter (Grouped)')\n",
    "plt.show()"
   ]
  },
  {
   "cell_type": "code",
   "execution_count": 60,
   "metadata": {
    "scrolled": true
   },
   "outputs": [
    {
     "data": {
      "text/html": [
       "<div>\n",
       "<table border=\"1\" class=\"dataframe\">\n",
       "  <thead>\n",
       "    <tr style=\"text-align: right;\">\n",
       "      <th>Pclass</th>\n",
       "      <th>1</th>\n",
       "      <th>2</th>\n",
       "      <th>3</th>\n",
       "    </tr>\n",
       "    <tr>\n",
       "      <th>cabin_grouped</th>\n",
       "      <th></th>\n",
       "      <th></th>\n",
       "      <th></th>\n",
       "    </tr>\n",
       "  </thead>\n",
       "  <tbody>\n",
       "    <tr>\n",
       "      <th>B/D/E</th>\n",
       "      <td>101</td>\n",
       "      <td>8</td>\n",
       "      <td>3</td>\n",
       "    </tr>\n",
       "    <tr>\n",
       "      <th>NIL</th>\n",
       "      <td>40</td>\n",
       "      <td>168</td>\n",
       "      <td>479</td>\n",
       "    </tr>\n",
       "    <tr>\n",
       "      <th>Others</th>\n",
       "      <td>75</td>\n",
       "      <td>8</td>\n",
       "      <td>9</td>\n",
       "    </tr>\n",
       "  </tbody>\n",
       "</table>\n",
       "</div>"
      ],
      "text/plain": [
       "Pclass           1    2    3\n",
       "cabin_grouped               \n",
       "B/D/E          101    8    3\n",
       "NIL             40  168  479\n",
       "Others          75    8    9"
      ]
     },
     "execution_count": 60,
     "metadata": {},
     "output_type": "execute_result"
    }
   ],
   "source": [
    "# Relation to pclass\n",
    "pd.crosstab(df.cabin_grouped, df.Pclass)"
   ]
  },
  {
   "cell_type": "markdown",
   "metadata": {},
   "source": [
    "### Cabin Numbers\n",
    "Next, we extract the cabin numbers and try to identify any patterns for the **non-missing** entries."
   ]
  },
  {
   "cell_type": "code",
   "execution_count": 61,
   "metadata": {},
   "outputs": [],
   "source": [
    "temp_df = df.Cabin.str.replace('[a-zA-z]', '').str.split(' ', expand = True)\n",
    "temp_df.columns = ['a','b','c','d']\n",
    "temp_df.a = pd.to_numeric(temp_df.a, errors = 'coerce')\n",
    "temp_df.b = pd.to_numeric(temp_df.b, errors = 'coerce')\n",
    "temp_df.c = pd.to_numeric(temp_df.c, errors = 'coerce')\n",
    "temp_df.d = pd.to_numeric(temp_df.d, errors = 'coerce')\n",
    "df['cab_no'] = temp_df.mean(axis = 1)"
   ]
  },
  {
   "cell_type": "code",
   "execution_count": 62,
   "metadata": {
    "scrolled": true
   },
   "outputs": [
    {
     "data": {
      "image/png": "[encoded data removed]",
      "text/plain": [
       "<matplotlib.figure.Figure at 0x23adf5e6908>"
      ]
     },
     "metadata": {},
     "output_type": "display_data"
    }
   ],
   "source": [
    "# Plot\n",
    "df.cab_no.plot.hist()\n",
    "plt.title('Distribution of Cabin Numbers')\n",
    "plt.show()"
   ]
  },
  {
   "cell_type": "markdown",
   "metadata": {},
   "source": [
    "It appears there there is no correlation between the cabin number and survival rate."
   ]
  },
  {
   "cell_type": "code",
   "execution_count": 63,
   "metadata": {
    "scrolled": true
   },
   "outputs": [
    {
     "data": {
      "text/html": [
       "<div>\n",
       "<table border=\"1\" class=\"dataframe\">\n",
       "  <thead>\n",
       "    <tr style=\"text-align: right;\">\n",
       "      <th></th>\n",
       "      <th>cab_no</th>\n",
       "      <th>Survived</th>\n",
       "    </tr>\n",
       "  </thead>\n",
       "  <tbody>\n",
       "    <tr>\n",
       "      <th>cab_no</th>\n",
       "      <td>1.000000</td>\n",
       "      <td>-0.063858</td>\n",
       "    </tr>\n",
       "    <tr>\n",
       "      <th>Survived</th>\n",
       "      <td>-0.063858</td>\n",
       "      <td>1.000000</td>\n",
       "    </tr>\n",
       "  </tbody>\n",
       "</table>\n",
       "</div>"
      ],
      "text/plain": [
       "            cab_no  Survived\n",
       "cab_no    1.000000 -0.063858\n",
       "Survived -0.063858  1.000000"
      ]
     },
     "execution_count": 63,
     "metadata": {},
     "output_type": "execute_result"
    }
   ],
   "source": [
    "df[['cab_no', 'Survived']].corr()"
   ]
  },
  {
   "cell_type": "markdown",
   "metadata": {},
   "source": [
    "However, let's group them by quantile"
   ]
  },
  {
   "cell_type": "code",
   "execution_count": 64,
   "metadata": {
    "scrolled": false
   },
   "outputs": [
    {
     "data": {
      "image/png": "[encoded data removed]",
      "text/plain": [
       "<matplotlib.figure.Figure at 0x23adfa39198>"
      ]
     },
     "metadata": {},
     "output_type": "display_data"
    }
   ],
   "source": [
    "# Split into many quantiles\n",
    "qt = np.arange(3, 20, 1)\n",
    "\n",
    "# Check number of non-missing entries\n",
    "nonmiss = df.shape[0] - df.cab_no.isnull().sum()\n",
    "\n",
    "# Initialise results\n",
    "qt_results = []\n",
    "\n",
    "for q in qt:\n",
    "    \n",
    "    # Copy df\n",
    "    temp_df = df.copy()\n",
    "    \n",
    "    # Cut by quantiles\n",
    "    temp_df['qt'] = pd.qcut(df.cab_no, q)\n",
    "    cabno_df = temp_df[['qt', 'Survived']].groupby('qt').count()\n",
    "    cabno_df['mean'] = temp_df.groupby('qt').Survived.mean()\n",
    "    qt_results.append([q, cabno_df['mean'].std(), nonmiss/q])\n",
    "\n",
    "# Print results\n",
    "qt_results = pd.DataFrame(qt_results, columns = ['Q', 'Std', 'N'])\n",
    "qt_results.plot(x = 'Q', y = 'Std')\n",
    "plt.title('Standard Deviation in %Survived vs. Fare Quantiles')\n",
    "plt.show()"
   ]
  },
  {
   "cell_type": "code",
   "execution_count": 65,
   "metadata": {},
   "outputs": [
    {
     "data": {
      "text/html": [
       "<div>\n",
       "<table border=\"1\" class=\"dataframe\">\n",
       "  <thead>\n",
       "    <tr style=\"text-align: right;\">\n",
       "      <th></th>\n",
       "      <th>Q</th>\n",
       "      <th>Std</th>\n",
       "      <th>N</th>\n",
       "    </tr>\n",
       "  </thead>\n",
       "  <tbody>\n",
       "    <tr>\n",
       "      <th>4</th>\n",
       "      <td>7</td>\n",
       "      <td>0.086458</td>\n",
       "      <td>28.571429</td>\n",
       "    </tr>\n",
       "  </tbody>\n",
       "</table>\n",
       "</div>"
      ],
      "text/plain": [
       "   Q       Std          N\n",
       "4  7  0.086458  28.571429"
      ]
     },
     "execution_count": 65,
     "metadata": {},
     "output_type": "execute_result"
    }
   ],
   "source": [
    "# Results\n",
    "qt_results[qt_results.Q == 7]"
   ]
  },
  {
   "cell_type": "code",
   "execution_count": 66,
   "metadata": {},
   "outputs": [
    {
     "data": {
      "image/png": "[encoded data removed]",
      "text/plain": [
       "<matplotlib.figure.Figure at 0x23adf3139e8>"
      ]
     },
     "metadata": {},
     "output_type": "display_data"
    }
   ],
   "source": [
    "# Split into 7 quantiles\n",
    "df['cab_qt'] = pd.qcut(df.cab_no, 7).astype('str')\n",
    "\n",
    "# Add another quantile for NaNs\n",
    "df['cab_qt'][df.cab_no.isnull()] = 'NIL'\n",
    "\n",
    "# Convert to category\n",
    "df['cab_qt'] = df.cab_qt.astype('category')\n",
    "\n",
    "# Plot\n",
    "df.groupby('cab_qt').Survived.mean().plot.bar()\n",
    "plt.title('%Survived by Cabin Number Quantiles (7)')\n",
    "plt.show()"
   ]
  },
  {
   "cell_type": "markdown",
   "metadata": {},
   "source": [
    "We find that the grouping suffers from small samples. Thus, we re-configure the current groups based on survivability rate."
   ]
  },
  {
   "cell_type": "code",
   "execution_count": 67,
   "metadata": {},
   "outputs": [
    {
     "data": {
      "image/png": "[encoded data removed]",
      "text/plain": [
       "<matplotlib.figure.Figure at 0x23adfa32828>"
      ]
     },
     "metadata": {},
     "output_type": "display_data"
    }
   ],
   "source": [
    "# Group cabin number quantiles\n",
    "df['cab_qt_grp'] = 'C1'\n",
    "df['cab_qt_grp'][(df.cab_no > 35) & (df.cab_no <= 49)] = 'C2'\n",
    "df['cab_qt_grp'][(df.cab_no > 70.143) & (df.cab_no <= 96.143)] = 'C2'\n",
    "df['cab_qt_grp'][df.cab_no.isnull()] = 'NIL'\n",
    "\n",
    "# Plot\n",
    "df.groupby('cab_qt_grp').Survived.mean().plot.bar()\n",
    "plt.title('%Survived by Cabin Number Quantiles (7) [Grouped]')\n",
    "plt.show()"
   ]
  },
  {
   "cell_type": "code",
   "execution_count": 68,
   "metadata": {},
   "outputs": [
    {
     "data": {
      "text/html": [
       "<div>\n",
       "<table border=\"1\" class=\"dataframe\">\n",
       "  <thead>\n",
       "    <tr style=\"text-align: right;\">\n",
       "      <th>fare_qt</th>\n",
       "      <th>G1</th>\n",
       "      <th>G2</th>\n",
       "      <th>G3</th>\n",
       "    </tr>\n",
       "    <tr>\n",
       "      <th>cab_qt_grp</th>\n",
       "      <th></th>\n",
       "      <th></th>\n",
       "      <th></th>\n",
       "    </tr>\n",
       "  </thead>\n",
       "  <tbody>\n",
       "    <tr>\n",
       "      <th>C1</th>\n",
       "      <td>4</td>\n",
       "      <td>64</td>\n",
       "      <td>76</td>\n",
       "    </tr>\n",
       "    <tr>\n",
       "      <th>C2</th>\n",
       "      <td>5</td>\n",
       "      <td>15</td>\n",
       "      <td>36</td>\n",
       "    </tr>\n",
       "    <tr>\n",
       "      <th>NIL</th>\n",
       "      <td>286</td>\n",
       "      <td>368</td>\n",
       "      <td>37</td>\n",
       "    </tr>\n",
       "  </tbody>\n",
       "</table>\n",
       "</div>"
      ],
      "text/plain": [
       "fare_qt      G1   G2  G3\n",
       "cab_qt_grp              \n",
       "C1            4   64  76\n",
       "C2            5   15  36\n",
       "NIL         286  368  37"
      ]
     },
     "execution_count": 68,
     "metadata": {},
     "output_type": "execute_result"
    }
   ],
   "source": [
    "pd.crosstab(df.cab_qt_grp, df.fare_qt)"
   ]
  },
  {
   "cell_type": "markdown",
   "metadata": {},
   "source": [
    "### Verdict\n",
    "Thus, it is recommended that Cabin letters and numbers both be included as one-hot-encoded, and mean-encoded features."
   ]
  },
  {
   "cell_type": "code",
   "execution_count": 69,
   "metadata": {},
   "outputs": [
    {
     "data": {
      "text/plain": [
       "{'Age': ['Numeric', 'Ordinal', 'One-hot', 'Mean'],\n",
       " 'Cabin Letters': ['One-hot', 'Mean'],\n",
       " 'Cabin Numbers': ['One-hot', 'Mean'],\n",
       " 'Fare': ['Numeric', 'Ordinal', 'One-hot', 'Mean'],\n",
       " 'Parch': ['Numeric', 'Ordinal', 'One-hot', 'Mean'],\n",
       " 'Pclass': ['Ordinal', 'One-hot', 'Mean'],\n",
       " 'Sex': ['Dummy: Male=1', 'Dummy: Female = 1'],\n",
       " 'SibSp': ['Numeric', 'Ordinal', 'One-hot', 'Mean'],\n",
       " 'Ticket': ['One-hot', 'Mean'],\n",
       " 'title': ['One-hot', 'Mean']}"
      ]
     },
     "execution_count": 69,
     "metadata": {},
     "output_type": "execute_result"
    }
   ],
   "source": [
    "# Add transformation options\n",
    "var_dict['Cabin Letters'] = ['One-hot', 'Mean']\n",
    "var_dict['Cabin Numbers'] = ['One-hot', 'Mean']\n",
    "var_dict"
   ]
  },
  {
   "cell_type": "markdown",
   "metadata": {},
   "source": [
    "## Embarked\n",
    "Finally, we examine the Embarked feature. It looks good on its own."
   ]
  },
  {
   "cell_type": "code",
   "execution_count": 70,
   "metadata": {
    "scrolled": true
   },
   "outputs": [
    {
     "data": {
      "image/png": "[encoded data removed]",
      "text/plain": [
       "<matplotlib.figure.Figure at 0x23adfa8aa90>"
      ]
     },
     "metadata": {},
     "output_type": "display_data"
    }
   ],
   "source": [
    "# Plot counts\n",
    "pd.DataFrame(df.Embarked.value_counts()).plot.bar()\n",
    "plt.title('Embarked')\n",
    "plt.show()"
   ]
  },
  {
   "cell_type": "code",
   "execution_count": 71,
   "metadata": {},
   "outputs": [
    {
     "data": {
      "image/png": "[encoded data removed]",
      "text/plain": [
       "<matplotlib.figure.Figure at 0x23adf9a3160>"
      ]
     },
     "metadata": {},
     "output_type": "display_data"
    }
   ],
   "source": [
    "# Survival rates\n",
    "df.groupby('Embarked').Survived.mean().plot.bar()\n",
    "plt.title('%Survived by Embarked')\n",
    "plt.show()"
   ]
  },
  {
   "cell_type": "markdown",
   "metadata": {
    "collapsed": true
   },
   "source": [
    "### Verdict\n",
    "Thus, we should include Embarked as one-hot-encoded and mean-encoded features."
   ]
  },
  {
   "cell_type": "code",
   "execution_count": 72,
   "metadata": {},
   "outputs": [
    {
     "data": {
      "text/plain": [
       "{'Age': ['Numeric', 'Ordinal', 'One-hot', 'Mean'],\n",
       " 'Cabin Letters': ['One-hot', 'Mean'],\n",
       " 'Cabin Numbers': ['One-hot', 'Mean'],\n",
       " 'Embarked': ['One-hot', 'Mean'],\n",
       " 'Fare': ['Numeric', 'Ordinal', 'One-hot', 'Mean'],\n",
       " 'Parch': ['Numeric', 'Ordinal', 'One-hot', 'Mean'],\n",
       " 'Pclass': ['Ordinal', 'One-hot', 'Mean'],\n",
       " 'Sex': ['Dummy: Male=1', 'Dummy: Female = 1'],\n",
       " 'SibSp': ['Numeric', 'Ordinal', 'One-hot', 'Mean'],\n",
       " 'Ticket': ['One-hot', 'Mean'],\n",
       " 'title': ['One-hot', 'Mean']}"
      ]
     },
     "execution_count": 72,
     "metadata": {},
     "output_type": "execute_result"
    }
   ],
   "source": [
    "# Add transformation options\n",
    "var_dict['Embarked'] = ['One-hot', 'Mean']\n",
    "var_dict"
   ]
  },
  {
   "cell_type": "markdown",
   "metadata": {
    "collapsed": true
   },
   "source": [
    "# Generate Features\n",
    "Using the results of EDA, we generate the new features using the code segments above."
   ]
  },
  {
   "cell_type": "code",
   "execution_count": 73,
   "metadata": {},
   "outputs": [],
   "source": [
    "# Read data\n",
    "df = pd.read_csv('train.csv')\n",
    "\n",
    "# ---- PCLASS ---- #\n",
    "df['pclass_OH'] = 'CLASS' + df.Pclass.astype('str')\n",
    "df['pclass_OC'] = df.pclass_OH.astype('category', ordered = True, categories = ['CLASS3', 'CLASS2', 'CLASS1']).cat.codes\n",
    "df['pclass_ME'] = df.pclass_OH.map(df.groupby('pclass_OH').Survived.mean())\n",
    "\n",
    "# ---- TITLE ---- #\n",
    "df['title_OH'] = df.Name.str.replace('.*, ', '').str.replace(' .*', '')\n",
    "df.title_OH[(df.title_OH != 'Mr.') & (df.title_OH != 'Miss.') & (df.title_OH != 'Mrs.') & (df.title_OH != 'Master.')] = 'Other'\n",
    "df['title_ME'] = df.title_OH.map(df.groupby('title_OH').Survived.mean())\n",
    "\n",
    "# ---- SEX ---- #\n",
    "df['sex_BN'] = df.Sex.astype('category').cat.codes\n",
    "df['sex_OH'] = df.Sex.copy()\n",
    "\n",
    "# ---- AGE ---- #\n",
    "# Set seed\n",
    "seed = 123\n",
    "\n",
    "# Mask for missing ages\n",
    "miss_age = df.Age.isnull()\n",
    "\n",
    "# Masks for each title\n",
    "miss_master = df.title_OH == 'Master.'\n",
    "miss_ms = df.title_OH == 'Miss.'\n",
    "miss_mr = df.title_OH == 'Mr.'\n",
    "miss_mrs = df.title_OH == 'Mrs.'\n",
    "miss_other = df.title_OH == 'Other'\n",
    "\n",
    "# Impute ages\n",
    "np.random.seed(seed)\n",
    "df['Age'][miss_age & miss_master] = np.random.normal(\n",
    "    df.groupby('title_OH').Age.median()[0],\n",
    "    df.groupby('title_OH').Age.std()[0] * 0.5,\n",
    "    df['Age'][miss_age & miss_master].shape[0]\n",
    ")\n",
    "\n",
    "df['Age'][miss_age & miss_ms] = np.random.normal(\n",
    "    df.groupby('title_OH').Age.median()[1],\n",
    "    df.groupby('title_OH').Age.std()[1] * 0.5,\n",
    "    df['Age'][miss_age & miss_ms].shape[0]\n",
    ")\n",
    "\n",
    "df['Age'][miss_age & miss_mr] = np.random.normal(\n",
    "    df.groupby('title_OH').Age.median()[2],\n",
    "    df.groupby('title_OH').Age.std()[2] * 0.5,\n",
    "    df['Age'][miss_age & miss_mr].shape[0]\n",
    ")\n",
    "\n",
    "df['Age'][miss_age & miss_mrs] = np.random.normal(\n",
    "    df.groupby('title_OH').Age.median()[3],\n",
    "    df.groupby('title_OH').Age.std()[3] * 0.5,\n",
    "    df['Age'][miss_age & miss_mrs].shape[0]\n",
    ")\n",
    "\n",
    "df['Age'][miss_age & miss_other] = np.random.normal(\n",
    "    df.groupby('title_OH').Age.median()[4],\n",
    "    df.groupby('title_OH').Age.std()[4] * 0.5,\n",
    "    df['Age'][miss_age & miss_other].shape[0]\n",
    ")\n",
    "\n",
    "# Split into 10 quantiles\n",
    "df['age_OC'] = pd.qcut(df.Age, 10).astype('category').cat.codes\n",
    "\n",
    "# Age features\n",
    "df['age_NM'] = df.Age\n",
    "df['age_OH'] = 'A2'\n",
    "df['age_OH'][(df.Age > 19) & (df.Age <= 28.519)] = 'A3'\n",
    "df['age_OH'][(df.Age > 39.504) & (df.Age <= 47)] = 'A3'\n",
    "df['age_OH'][(df.Age <= 15)] = 'A1'\n",
    "df['age_ME'] = df.age_OH.map(df.groupby('age_OH').Survived.mean())\n",
    "\n",
    "# ---- SIBSP ---- #\n",
    "df['sibsp_OH'] = 'None'\n",
    "df['sibsp_OH'][df['SibSp'] == 1] = 'One'\n",
    "df['sibsp_OH'][df['SibSp'] >= 2] = 'Two or More'\n",
    "df['sibsp_NM'] = df['SibSp'].copy()\n",
    "df['sibsp_OC'] = df['sibsp_OH'].astype('category', ordered = True, categories = ['None', 'One', 'Two or More']).cat.codes\n",
    "df['sibsp_ME'] = df.sibsp_OH.map(df.groupby('sibsp_OH').Survived.mean())\n",
    "\n",
    "# ---- PARCH ---- #\n",
    "df['parch_OH'] = 'None'\n",
    "df['parch_OH'][df['Parch'] == 1] = 'One'\n",
    "df['parch_OH'][df['Parch'] >= 2] = 'Two or More'\n",
    "df['parch_NM'] = df['Parch'].copy()\n",
    "df['parch_OC'] = df['parch_OH'].astype('category', ordered = True, categories = ['None', 'One', 'Two or More']).cat.codes\n",
    "df['parch_ME'] = df.parch_OH.map(df.groupby('parch_OH').Survived.mean())\n",
    "\n",
    "# ---- TICKET NUMBER ---- #\n",
    "df['Ticket'] = df.Ticket.str.replace('[a-zA-z\\\\.]', '').str.replace('[\\\\/.* ]', '')\n",
    "df['ticlen_OH'] = 'L' + df['Ticket'].str.len().astype(str)\n",
    "df['ticlen_OH'][df['Ticket'].str.len().isin([0,1,3,7,8])] = 'LO'\n",
    "df['ticlen_ME'] = df['ticlen_OH'].map(df.groupby('ticlen_OH').Survived.mean())\n",
    "\n",
    "# ---- FARE ---- #\n",
    "df['fare_NM'] = df.Fare.copy()\n",
    "df['fare_NM'][df.Fare > 150] = 150\n",
    "df['fare_OC'] = pd.qcut(df.fare_NM, 6).astype('category').cat.codes\n",
    "df['fare_OH'] = 'G1'\n",
    "df['fare_OH'][(df['fare_NM'] > 8.662) & (df['fare_NM'] <= 52.369)] = 'G2'\n",
    "df['fare_OH'][(df['fare_NM'] > 52.369)] = 'G3'\n",
    "df['fare_ME'] = df['fare_OH'].map(df.groupby('fare_OH').Survived.mean())\n",
    "\n",
    "# ---- CABIN LETTERS ---- #\n",
    "df['cab_letter'] = df.Cabin.str[0]\n",
    "df['cab_letter'][df.Cabin.isnull()] = 'NIL'\n",
    "df['cabletter_OH'] = 'B/D/E'\n",
    "df['cabletter_OH'][df.cab_letter.isin(['A', 'G', 'T', 'C', 'F'])] = 'Others'\n",
    "df['cabletter_OH'][df.cab_letter.isin(['NIL'])] = 'NIL'\n",
    "df['cabletter_ME'] = df['cabletter_OH'].map(df.groupby('cabletter_OH').Survived.mean())\n",
    "\n",
    "# ---- CABIN NUMBERS ---- #\n",
    "temp_df = df.Cabin.str.replace('[a-zA-z]', '').str.split(' ', expand = True)\n",
    "temp_df.columns = ['a','b','c','d']\n",
    "temp_df.a = pd.to_numeric(temp_df.a, errors = 'coerce')\n",
    "temp_df.b = pd.to_numeric(temp_df.b, errors = 'coerce')\n",
    "temp_df.c = pd.to_numeric(temp_df.c, errors = 'coerce')\n",
    "temp_df.d = pd.to_numeric(temp_df.d, errors = 'coerce')\n",
    "df['cab_no'] = temp_df.mean(axis = 1)\n",
    "df['cabno_OH'] = 'C1'\n",
    "df['cabno_OH'][(df.cab_no > 35) & (df.cab_no <= 49)] = 'C2'\n",
    "df['cabno_OH'][(df.cab_no > 70.143) & (df.cab_no <= 96.143)] = 'C2'\n",
    "df['cabno_OH'][df.cab_no.isnull()] = 'NIL'\n",
    "df['cabno_ME'] = df['cabno_OH'].map(df.groupby('cabno_OH').Survived.mean())\n",
    "\n",
    "# ---- EMBARKED ---- #\n",
    "df['embarked_OH'] = df.Embarked.copy()\n",
    "df['embarked_OH'][df['embarked_OH'].isnull()] = 'C'\n",
    "df['embarked_ME'] = df['embarked_OH'].map(df.groupby('embarked_OH').Survived.mean())\n",
    "\n",
    "# ---- FINAL CLEANING ---- #\n",
    "# Drop variables\n",
    "df = df.drop(['PassengerId', 'Pclass', 'Name', 'Sex', 'Age', 'SibSp', 'Parch', 'Ticket', 'Fare', 'cab_letter', 'cab_no', 'Cabin', 'Embarked'], axis = 1)\n",
    "\n",
    "# Save\n",
    "df.to_csv('train_clean.csv', index = False)"
   ]
  },
  {
   "cell_type": "markdown",
   "metadata": {},
   "source": [
    "## Function to Generate Features\n",
    "  \n",
    "### Function 1: Cleaning for Entire Dataset\n",
    "Note that the manual grouping of feature quantiles has been removed. The One-hot encoded (OH) features have the natural quantiles. This was to ensure that features do not account for test data during the data transformation phase of cross-fold validation."
   ]
  },
  {
   "cell_type": "code",
   "execution_count": 1,
   "metadata": {},
   "outputs": [],
   "source": [
    "# Clean all data\n",
    "def clean_all(df):\n",
    "    \n",
    "    # ---- PCLASS ---- #\n",
    "    df['pclass_OH'] = 'CLASS' + df.Pclass.astype('str')\n",
    "    df['pclass_OC'] = df.pclass_OH.astype('category', ordered = True, categories = ['CLASS3', 'CLASS2', 'CLASS1']).cat.codes\n",
    "\n",
    "    # ---- TITLE ---- #\n",
    "    df['title_OH'] = df.Name.str.replace('.*, ', '').str.replace(' .*', '')\n",
    "    df.title_OH[(df.title_OH != 'Mr.') & (df.title_OH != 'Miss.') & (df.title_OH != 'Mrs.') & (df.title_OH != 'Master.')] = 'Other'\n",
    "\n",
    "    # ---- SEX ---- #\n",
    "    df['sex_BN'] = df.Sex.astype('category').cat.codes\n",
    "    df['sex_OH'] = df.Sex.copy()\n",
    "\n",
    "    # ---- AGE ---- #\n",
    "    # Set seed\n",
    "    seed = 123\n",
    "\n",
    "    # Mask for missing ages\n",
    "    miss_age = df.Age.isnull()\n",
    "\n",
    "    # Masks for each title\n",
    "    miss_master = df.title_OH == 'Master.'\n",
    "    miss_ms = df.title_OH == 'Miss.'\n",
    "    miss_mr = df.title_OH == 'Mr.'\n",
    "    miss_mrs = df.title_OH == 'Mrs.'\n",
    "    miss_other = df.title_OH == 'Other'\n",
    "\n",
    "    # Impute ages\n",
    "    np.random.seed(seed)\n",
    "    df['Age'][miss_age & miss_master] = np.random.normal(\n",
    "        df.groupby('title_OH').Age.median()[0],\n",
    "        df.groupby('title_OH').Age.std()[0] * 0.5,\n",
    "        df['Age'][miss_age & miss_master].shape[0]\n",
    "    )\n",
    "\n",
    "    df['Age'][miss_age & miss_ms] = np.random.normal(\n",
    "        df.groupby('title_OH').Age.median()[1],\n",
    "        df.groupby('title_OH').Age.std()[1] * 0.5,\n",
    "        df['Age'][miss_age & miss_ms].shape[0]\n",
    "    )\n",
    "\n",
    "    df['Age'][miss_age & miss_mr] = np.random.normal(\n",
    "        df.groupby('title_OH').Age.median()[2],\n",
    "        df.groupby('title_OH').Age.std()[2] * 0.5,\n",
    "        df['Age'][miss_age & miss_mr].shape[0]\n",
    "    )\n",
    "\n",
    "    df['Age'][miss_age & miss_mrs] = np.random.normal(\n",
    "        df.groupby('title_OH').Age.median()[3],\n",
    "        df.groupby('title_OH').Age.std()[3] * 0.5,\n",
    "        df['Age'][miss_age & miss_mrs].shape[0]\n",
    "    )\n",
    "\n",
    "    df['Age'][miss_age & miss_other] = np.random.normal(\n",
    "        df.groupby('title_OH').Age.median()[4],\n",
    "        df.groupby('title_OH').Age.std()[4] * 0.5,\n",
    "        df['Age'][miss_age & miss_other].shape[0]\n",
    "    )\n",
    "\n",
    "    # Split into 10 quantiles\n",
    "    df['age_OC'] = pd.qcut(df.Age, 10).astype('category').cat.codes\n",
    "\n",
    "    # Age features\n",
    "    df['age_NM'] = df.Age\n",
    "    df['age_OH'] = 'A' + df.age_OC.astype(str)\n",
    "\n",
    "    # ---- SIBSP ---- #\n",
    "    df['sibsp_OH'] = 'None'\n",
    "    df['sibsp_OH'][df['SibSp'] == 1] = 'One'\n",
    "    df['sibsp_OH'][df['SibSp'] >= 2] = 'Two or More'\n",
    "    df['sibsp_NM'] = df['SibSp'].copy()\n",
    "    df['sibsp_OC'] = df['sibsp_OH'].astype('category', ordered = True, categories = ['None', 'One', 'Two or More']).cat.codes\n",
    "\n",
    "    # ---- PARCH ---- #\n",
    "    df['parch_OH'] = 'None'\n",
    "    df['parch_OH'][df['Parch'] == 1] = 'One'\n",
    "    df['parch_OH'][df['Parch'] >= 2] = 'Two or More'\n",
    "    df['parch_NM'] = df['Parch'].copy()\n",
    "    df['parch_OC'] = df['parch_OH'].astype('category', ordered = True, categories = ['None', 'One', 'Two or More']).cat.codes\n",
    "\n",
    "    # ---- TICKET NUMBER ---- #\n",
    "    df['Ticket'] = df.Ticket.str.replace('[a-zA-z\\\\.]', '').str.replace('[\\\\/.* ]', '')\n",
    "    df['ticlen_OH'] = 'L' + df['Ticket'].str.len().astype(str)\n",
    "    df['ticlen_OH'][df['Ticket'].str.len().isin([0,1,3,7,8])] = 'LO'\n",
    "\n",
    "    # ---- FARE ---- #\n",
    "    df['fare_NM'] = df.Fare.copy()\n",
    "    df['fare_NM'][df.Fare > 150] = 150\n",
    "    df['fare_OC'] = pd.qcut(df.fare_NM, 6).astype('category').cat.codes\n",
    "    df['fare_OH'] = 'G' + df.fare_OC.astype(str)\n",
    "\n",
    "    # ---- CABIN LETTERS ---- #\n",
    "    df['cab_letter'] = df.Cabin.str[0]\n",
    "    df['cab_letter'][df.Cabin.isnull()] = 'NIL'\n",
    "    df['cabletter_OH'] = 'B/D/E'\n",
    "    df['cabletter_OH'][df.cab_letter.isin(['A', 'G', 'T', 'C', 'F'])] = 'Others'\n",
    "    df['cabletter_OH'][df.cab_letter.isin(['NIL'])] = 'NIL'\n",
    "\n",
    "    # ---- CABIN NUMBERS ---- #\n",
    "    temp_df = df.Cabin.str.replace('[a-zA-z]', '').str.split(' ', expand = True)\n",
    "    temp_df.columns = ['a','b','c','d']\n",
    "    temp_df.a = pd.to_numeric(temp_df.a, errors = 'coerce')\n",
    "    temp_df.b = pd.to_numeric(temp_df.b, errors = 'coerce')\n",
    "    temp_df.c = pd.to_numeric(temp_df.c, errors = 'coerce')\n",
    "    temp_df.d = pd.to_numeric(temp_df.d, errors = 'coerce')\n",
    "    df['cab_no'] = temp_df.mean(axis = 1)\n",
    "    df['cabno_OH'] = 'C1'\n",
    "    df['cabno_OH'][(df.cab_no > 35) & (df.cab_no <= 49)] = 'C2'\n",
    "    df['cabno_OH'][(df.cab_no > 70.143) & (df.cab_no <= 96.143)] = 'C2'\n",
    "    df['cabno_OH'][df.cab_no.isnull()] = 'NIL'\n",
    "\n",
    "    # ---- EMBARKED ---- #\n",
    "    df['embarked_OH'] = df.Embarked.copy()\n",
    "    df['embarked_OH'][df['embarked_OH'].isnull()] = 'C'\n",
    "\n",
    "    # ---- FINAL CLEANING ---- #\n",
    "    # Drop variables\n",
    "    df = df.drop(['PassengerId', 'Pclass', 'Name', 'Sex', 'Age', 'SibSp', 'Parch', 'Ticket', 'Fare', 'cab_letter', 'cab_no', 'Cabin', 'Embarked'], axis = 1)\n",
    "    \n",
    "    # Output\n",
    "    return df"
   ]
  },
  {
   "cell_type": "markdown",
   "metadata": {},
   "source": [
    "### Function 2: Encoding for Train Set"
   ]
  },
  {
   "cell_type": "code",
   "execution_count": null,
   "metadata": {},
   "outputs": [],
   "source": [
    "def encode_train(df):\n",
    "    \n",
    "    # Initialise mappings\n",
    "    mapping = dict()\n",
    "    \n",
    "    # ---- PCLASS ---- #\n",
    "    map_pclass = df.groupby('pclass_OH').Survived.mean()\n",
    "    mapping['pclass_ME'] = map_pclass\n",
    "    df['pclass_ME'] = df.pclass_OH.map(map_pclass)\n",
    "    \n",
    "    # ---- TITLE ---- #\n",
    "    map_title = df.groupby('title_OH').Survived.mean()\n",
    "    mapping['title_ME'] = map_title\n",
    "    df['title_ME'] = df.title_OH.map(map_title)\n",
    "    \n",
    "    # ---- AGE ---- #\n",
    "    map_age = df.groupby('age_OH').Survived.mean()\n",
    "    mapping['age_ME'] = map_age\n",
    "    df['age_ME'] = df.age_OH.map(map_age)\n",
    "    \n",
    "    # ---- SIBSP ---- #\n",
    "    map_sibsp = df.groupby('sibsp_OH').Survived.mean()\n",
    "    mapping['sibsp_ME'] = map_sibsp\n",
    "    df['sibsp_ME'] = df.sibsp_OH.map(map_sibsp)\n",
    "    \n",
    "    # ---- PARCH ---- #\n",
    "    map_parch = df.groupby('parch_OH').Survived.mean()\n",
    "    mapping['parch_ME'] = map_parch\n",
    "    df['parch_ME'] = df.parch_OH.map(map_parch)\n",
    "    \n",
    "    # ---- TICKET ---- #\n",
    "    map_ticlen = df.groupby('ticlen_OH').Survived.mean()\n",
    "    mapping['ticlen_ME'] = map_ticlen\n",
    "    df['ticlen_ME'] = df['ticlen_OH'].map(map_ticlen)\n",
    "    \n",
    "    # ---- FARE ---- #\n",
    "    map_fare = df.groupby('fare_OH').Survived.mean()\n",
    "    mapping['fare_ME'] = map_fare\n",
    "    df['fare_ME'] = df['fare_OH'].map(map_fare)\n",
    "    \n",
    "    # ---- CAB LETTER ---- #\n",
    "    map_cabletter = df.groupby('cabletter_OH').Survived.mean()\n",
    "    mapping['cabletter_ME'] = map_cabletter\n",
    "    df['cabletter_ME'] = df['cabletter_OH'].map(map_cabletter)\n",
    "    \n",
    "    # ---- CAB NUMBER ---- #\n",
    "    map_cabno = df.groupby('cabno_OH').Survived.mean()\n",
    "    mapping['cabno_ME'] = map_cabno\n",
    "    df['cabno_ME'] = df['cabno_OH'].map(map_cabno)\n",
    "    \n",
    "    # ---- EMBARKED ---- #\n",
    "    map_embarked = df.groupby('embarked_OH').Survived.mean()\n",
    "    mapping['embarked_ME'] = map_embarked\n",
    "    df['embarked_ME'] = df['embarked_OH'].map(map_embarked)\n",
    "    \n",
    "    # Output\n",
    "    output = {\n",
    "        'data': df,\n",
    "        'mapping': mapping\n",
    "    }\n",
    "    \n",
    "    return output"
   ]
  },
  {
   "cell_type": "markdown",
   "metadata": {},
   "source": [
    "### Function 3: Mapping to Test Set"
   ]
  },
  {
   "cell_type": "code",
   "execution_count": null,
   "metadata": {},
   "outputs": [],
   "source": [
    "def map_test(df, mapping):\n",
    "    \n",
    "    # All mapping\n",
    "    # ---- PCLASS ---- #\n",
    "    df['pclass_ME'] = df.pclass_OH.map(mapping['pclass_ME'])\n",
    "    \n",
    "    # ---- TITLE ---- #\n",
    "    df['title_ME'] = df.title_OH.map(mapping['title_ME'])\n",
    "    \n",
    "    # ---- AGE ---- #\n",
    "    df['age_ME'] = df.age_OH.map(mapping['age_ME'])\n",
    "    \n",
    "    # ---- SIBSP ---- #\n",
    "    df['sibsp_ME'] = df.sibsp_OH.map(mapping['sibsp_ME'])\n",
    "    \n",
    "    # ---- PARCH ---- #\n",
    "    df['parch_ME'] = df.parch_OH.map(mapping['parch_ME'])\n",
    "    \n",
    "    # ---- TICKET ---- #\n",
    "    df['ticlen_ME'] = df['ticlen_OH'].map(mapping['ticlen_ME'])\n",
    "    \n",
    "    # ---- FARE ---- #\n",
    "    df['fare_ME'] = df['fare_OH'].map(mapping['fare_ME'])\n",
    "    \n",
    "    # ---- CAB LETTER ---- #\n",
    "    df['cabletter_ME'] = df['cabletter_OH'].map(mapping['cabletter_ME'])\n",
    "    \n",
    "    # ---- CAB NUMBER ---- #\n",
    "    df['cabno_ME'] = df['cabno_OH'].map(mapping['cabno_ME'])\n",
    "    \n",
    "    # ---- EMBARKED ---- #\n",
    "    df['embarked_ME'] = df['embarked_OH'].map(mapping['embarked_ME'])\n",
    "    \n",
    "    # Output\n",
    "    return df"
   ]
  },
  {
   "cell_type": "code",
   "execution_count": 3,
   "metadata": {},
   "outputs": [],
   "source": [
    "import kaggle_titanic as kt"
   ]
  },
  {
   "cell_type": "code",
   "execution_count": null,
   "metadata": {},
   "outputs": [],
   "source": []
  }
 ],
 "metadata": {
  "kernelspec": {
   "display_name": "Python 3",
   "language": "python",
   "name": "python3"
  },
  "language_info": {
   "codemirror_mode": {
    "name": "ipython",
    "version": 3
   },
   "file_extension": ".py",
   "mimetype": "text/x-python",
   "name": "python",
   "nbconvert_exporter": "python",
   "pygments_lexer": "ipython3",
   "version": "3.6.6"
  }
 },
 "nbformat": 4,
 "nbformat_minor": 2
}
