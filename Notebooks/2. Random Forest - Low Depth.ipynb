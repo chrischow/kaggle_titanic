{
 "cells": [
  {
   "cell_type": "markdown",
   "metadata": {},
   "source": [
    "# Random Forest - Low Depth\n",
    "As part of the overall stacking model, I will develop two Random Forest (RF) models: one with a relative low depth, and one with a high depth. I define low depth as `max_depth = 5` and high depth as `max_depth = 15`. With the depth defined, I tune the remaining parameters sequentially.  \n",
    "  \n",
    "In this notebook, I set out to optimise a **low depth RF model**."
   ]
  },
  {
   "cell_type": "code",
   "execution_count": 1,
   "metadata": {},
   "outputs": [
    {
     "name": "stderr",
     "output_type": "stream",
     "text": [
      "C:\\Users\\user\\Anaconda3\\lib\\site-packages\\sklearn\\ensemble\\weight_boosting.py:29: DeprecationWarning: numpy.core.umath_tests is an internal NumPy module and should not be imported. It will be removed in a future NumPy release.\n",
      "  from numpy.core.umath_tests import inner1d\n"
     ]
    }
   ],
   "source": [
    "# Import modules\n",
    "import datetime\n",
    "import pandas as pd\n",
    "import numpy as np\n",
    "import matplotlib.pyplot as plt\n",
    "import matplotlib\n",
    "import seaborn as sns\n",
    "from sklearn.decomposition import PCA\n",
    "from sklearn.ensemble import RandomForestClassifier\n",
    "from sklearn.feature_selection import RFECV\n",
    "from sklearn.manifold import Isomap\n",
    "from sklearn.metrics import accuracy_score, auc, make_scorer, mean_squared_error, r2_score\n",
    "from sklearn.model_selection import cross_val_score, train_test_split, GridSearchCV, RepeatedKFold, KFold, RepeatedStratifiedKFold\n",
    "from sklearn.preprocessing import StandardScaler, MinMaxScaler, MaxAbsScaler, Normalizer, RobustScaler\n",
    "import warnings\n",
    "\n",
    "# Settings\n",
    "%matplotlib inline\n",
    "matplotlib.style.use('ggplot')\n",
    "warnings.filterwarnings('ignore')"
   ]
  },
  {
   "cell_type": "markdown",
   "metadata": {},
   "source": [
    "## Prepare Data"
   ]
  },
  {
   "cell_type": "code",
   "execution_count": 2,
   "metadata": {},
   "outputs": [],
   "source": [
    "# Import data\n",
    "df = pd.read_csv('train_clean.csv')\n",
    "\n",
    "# Data and labels\n",
    "X = df.drop('Survived', axis = 1)\n",
    "X = pd.get_dummies(X)\n",
    "y = df['Survived']"
   ]
  },
  {
   "cell_type": "markdown",
   "metadata": {},
   "source": [
    "## Global Settings and Functions"
   ]
  },
  {
   "cell_type": "code",
   "execution_count": 3,
   "metadata": {},
   "outputs": [],
   "source": [
    "# Repeated 5-fold validation\n",
    "rkf = RepeatedStratifiedKFold(n_repeats=5, n_splits=5, random_state=123)\n",
    "\n",
    "# Function to extract CV test results\n",
    "def gaia_get_test(cv_object, params, title = 'Test Scores vs. Parameter'):\n",
    "    \n",
    "    # Extract test scores\n",
    "    temp_test = cv_object.cv_results_['mean_test_score']\n",
    "    \n",
    "    # Plot\n",
    "    plt.plot(params, temp_test)\n",
    "    plt.title(title)\n",
    "    plt.show()"
   ]
  },
  {
   "cell_type": "markdown",
   "metadata": {},
   "source": [
    "## Low Depth"
   ]
  },
  {
   "cell_type": "markdown",
   "metadata": {},
   "source": [
    "### Iteration 1: Optimise No. of Trees\n",
    "With `max_depth = 5`, the optimal number of trees was 1,000. Although accuracy was increasing from 2500 to 3000, this would be computationally too intensive."
   ]
  },
  {
   "cell_type": "code",
   "execution_count": 4,
   "metadata": {},
   "outputs": [],
   "source": [
    "# Define parameters\n",
    "param_n_estimators = [100, 250, 500, 1000, 1500, 2000, 2500, 3000, 4000, 5000]\n",
    "params = {\n",
    "    'n_estimators': param_n_estimators\n",
    "}"
   ]
  },
  {
   "cell_type": "code",
   "execution_count": 5,
   "metadata": {
    "scrolled": true
   },
   "outputs": [
    {
     "name": "stdout",
     "output_type": "stream",
     "text": [
      "Fitting 25 folds for each of 8 candidates, totalling 200 fits\n"
     ]
    },
    {
     "name": "stderr",
     "output_type": "stream",
     "text": [
      "[Parallel(n_jobs=3)]: Done  26 tasks      | elapsed:   13.6s\n",
      "[Parallel(n_jobs=3)]: Done 122 tasks      | elapsed:  1.8min\n",
      "[Parallel(n_jobs=3)]: Done 200 out of 200 | elapsed:  5.5min finished\n"
     ]
    },
    {
     "data": {
      "text/plain": [
       "GridSearchCV(cv=<sklearn.model_selection._split.RepeatedStratifiedKFold object at 0x00000241CCD50F98>,\n",
       "       error_score='raise',\n",
       "       estimator=RandomForestClassifier(bootstrap=True, class_weight=None, criterion='gini',\n",
       "            max_depth=5, max_features='auto', max_leaf_nodes=None,\n",
       "            min_impurity_decrease=0.0, min_impurity_split=None,\n",
       "            min_samples_leaf=1, min_samples_split=2,\n",
       "            min_weight_fraction_leaf=0.0, n_estimators=10, n_jobs=3,\n",
       "            oob_score=True, random_state=123, verbose=0, warm_start=False),\n",
       "       fit_params=None, iid=True, n_jobs=3,\n",
       "       param_grid={'n_estimators': [100, 250, 500, 1000, 1500, 2000, 2500, 3000]},\n",
       "       pre_dispatch='2*n_jobs', refit=True, return_train_score='warn',\n",
       "       scoring=None, verbose=3)"
      ]
     },
     "execution_count": 5,
     "metadata": {},
     "output_type": "execute_result"
    }
   ],
   "source": [
    "# Create RF model\n",
    "rf_low = GridSearchCV(\n",
    "    estimator = RandomForestClassifier(\n",
    "        max_depth = 5,\n",
    "        oob_score = True,\n",
    "        random_state = 123,\n",
    "        n_jobs = 3\n",
    "    ),\n",
    "    param_grid = params,\n",
    "    n_jobs = 3,\n",
    "    cv = rkf,\n",
    "    verbose = 3\n",
    ")\n",
    "\n",
    "# Train model\n",
    "rf_low.fit(X, y)"
   ]
  },
  {
   "cell_type": "code",
   "execution_count": 6,
   "metadata": {},
   "outputs": [
    {
     "name": "stdout",
     "output_type": "stream",
     "text": [
      "Best Score: 0.8336700336700337\n",
      "Best Params: {'n_estimators': 3000}\n"
     ]
    }
   ],
   "source": [
    "# Print results\n",
    "print('Best Score: ' + str(rf_low.best_score_))\n",
    "print('Best Params: ' + str(rf_low.best_params_))"
   ]
  },
  {
   "cell_type": "code",
   "execution_count": 7,
   "metadata": {},
   "outputs": [
    {
     "data": {
      "image/png": "[encoded data removed]",
      "text/plain": [
       "<Figure size 432x288 with 1 Axes>"
      ]
     },
     "metadata": {},
     "output_type": "display_data"
    }
   ],
   "source": [
    "# Plot results\n",
    "gaia_get_test(rf_low, param_n_estimators, 'No. of Trees')"
   ]
  },
  {
   "cell_type": "markdown",
   "metadata": {},
   "source": [
    "### Iteration 2: Run RFECV\n",
    "The optimal number of features to be selected was 34. We use these 34 features in subsequent models."
   ]
  },
  {
   "cell_type": "code",
   "execution_count": 8,
   "metadata": {},
   "outputs": [
    {
     "data": {
      "text/plain": [
       "RFECV(cv=<sklearn.model_selection._split.RepeatedStratifiedKFold object at 0x00000241CCD50F98>,\n",
       "   estimator=RandomForestClassifier(bootstrap=True, class_weight=None, criterion='gini',\n",
       "            max_depth=5, max_features='auto', max_leaf_nodes=None,\n",
       "            min_impurity_decrease=0.0, min_impurity_split=None,\n",
       "            min_samples_leaf=1, min_samples_split=2,\n",
       "            min_weight_fraction_leaf=0.0, n_estimators=1000, n_jobs=3,\n",
       "            oob_score=False, random_state=123, verbose=0, warm_start=False),\n",
       "   n_jobs=3, scoring=None, step=1, verbose=2)"
      ]
     },
     "execution_count": 8,
     "metadata": {},
     "output_type": "execute_result"
    }
   ],
   "source": [
    "# Create model\n",
    "rf_low = RFECV(\n",
    "    estimator = RandomForestClassifier(random_state=123, max_depth=5, n_estimators=1000, n_jobs = 3),\n",
    "    cv = rkf,\n",
    "    verbose = 2,\n",
    "    n_jobs = 3\n",
    ")\n",
    "\n",
    "# Fit model\n",
    "rf_low.fit(X, y)"
   ]
  },
  {
   "cell_type": "code",
   "execution_count": 9,
   "metadata": {},
   "outputs": [
    {
     "name": "stdout",
     "output_type": "stream",
     "text": [
      "No. of Features: 34\n",
      "Feature Ranking:\n"
     ]
    },
    {
     "data": {
      "text/html": [
       "<div>\n",
       "<style scoped>\n",
       "    .dataframe tbody tr th:only-of-type {\n",
       "        vertical-align: middle;\n",
       "    }\n",
       "\n",
       "    .dataframe tbody tr th {\n",
       "        vertical-align: top;\n",
       "    }\n",
       "\n",
       "    .dataframe thead th {\n",
       "        text-align: right;\n",
       "    }\n",
       "</style>\n",
       "<table border=\"1\" class=\"dataframe\">\n",
       "  <thead>\n",
       "    <tr style=\"text-align: right;\">\n",
       "      <th></th>\n",
       "      <th>rank</th>\n",
       "      <th>feature</th>\n",
       "    </tr>\n",
       "  </thead>\n",
       "  <tbody>\n",
       "    <tr>\n",
       "      <th>0</th>\n",
       "      <td>1</td>\n",
       "      <td>pclass_OC</td>\n",
       "    </tr>\n",
       "    <tr>\n",
       "      <th>46</th>\n",
       "      <td>1</td>\n",
       "      <td>cabletter_OH_B/D/E</td>\n",
       "    </tr>\n",
       "    <tr>\n",
       "      <th>30</th>\n",
       "      <td>1</td>\n",
       "      <td>age_OH_A1</td>\n",
       "    </tr>\n",
       "    <tr>\n",
       "      <th>29</th>\n",
       "      <td>1</td>\n",
       "      <td>sex_OH_male</td>\n",
       "    </tr>\n",
       "    <tr>\n",
       "      <th>28</th>\n",
       "      <td>1</td>\n",
       "      <td>sex_OH_female</td>\n",
       "    </tr>\n",
       "    <tr>\n",
       "      <th>47</th>\n",
       "      <td>1</td>\n",
       "      <td>cabletter_OH_NIL</td>\n",
       "    </tr>\n",
       "    <tr>\n",
       "      <th>26</th>\n",
       "      <td>1</td>\n",
       "      <td>title_OH_Mrs.</td>\n",
       "    </tr>\n",
       "    <tr>\n",
       "      <th>25</th>\n",
       "      <td>1</td>\n",
       "      <td>title_OH_Mr.</td>\n",
       "    </tr>\n",
       "    <tr>\n",
       "      <th>24</th>\n",
       "      <td>1</td>\n",
       "      <td>title_OH_Miss.</td>\n",
       "    </tr>\n",
       "    <tr>\n",
       "      <th>23</th>\n",
       "      <td>1</td>\n",
       "      <td>title_OH_Master.</td>\n",
       "    </tr>\n",
       "    <tr>\n",
       "      <th>22</th>\n",
       "      <td>1</td>\n",
       "      <td>pclass_OH_CLASS3</td>\n",
       "    </tr>\n",
       "    <tr>\n",
       "      <th>21</th>\n",
       "      <td>1</td>\n",
       "      <td>pclass_OH_CLASS2</td>\n",
       "    </tr>\n",
       "    <tr>\n",
       "      <th>20</th>\n",
       "      <td>1</td>\n",
       "      <td>pclass_OH_CLASS1</td>\n",
       "    </tr>\n",
       "    <tr>\n",
       "      <th>19</th>\n",
       "      <td>1</td>\n",
       "      <td>embarked_ME</td>\n",
       "    </tr>\n",
       "    <tr>\n",
       "      <th>18</th>\n",
       "      <td>1</td>\n",
       "      <td>cabno_ME</td>\n",
       "    </tr>\n",
       "    <tr>\n",
       "      <th>17</th>\n",
       "      <td>1</td>\n",
       "      <td>cabletter_ME</td>\n",
       "    </tr>\n",
       "    <tr>\n",
       "      <th>16</th>\n",
       "      <td>1</td>\n",
       "      <td>fare_ME</td>\n",
       "    </tr>\n",
       "    <tr>\n",
       "      <th>15</th>\n",
       "      <td>1</td>\n",
       "      <td>fare_OC</td>\n",
       "    </tr>\n",
       "    <tr>\n",
       "      <th>1</th>\n",
       "      <td>1</td>\n",
       "      <td>pclass_ME</td>\n",
       "    </tr>\n",
       "    <tr>\n",
       "      <th>2</th>\n",
       "      <td>1</td>\n",
       "      <td>title_ME</td>\n",
       "    </tr>\n",
       "    <tr>\n",
       "      <th>3</th>\n",
       "      <td>1</td>\n",
       "      <td>sex_BN</td>\n",
       "    </tr>\n",
       "    <tr>\n",
       "      <th>4</th>\n",
       "      <td>1</td>\n",
       "      <td>age_OC</td>\n",
       "    </tr>\n",
       "    <tr>\n",
       "      <th>5</th>\n",
       "      <td>1</td>\n",
       "      <td>age_NM</td>\n",
       "    </tr>\n",
       "    <tr>\n",
       "      <th>6</th>\n",
       "      <td>1</td>\n",
       "      <td>age_ME</td>\n",
       "    </tr>\n",
       "    <tr>\n",
       "      <th>40</th>\n",
       "      <td>1</td>\n",
       "      <td>ticlen_OH_L5</td>\n",
       "    </tr>\n",
       "    <tr>\n",
       "      <th>7</th>\n",
       "      <td>1</td>\n",
       "      <td>sibsp_NM</td>\n",
       "    </tr>\n",
       "    <tr>\n",
       "      <th>9</th>\n",
       "      <td>1</td>\n",
       "      <td>sibsp_ME</td>\n",
       "    </tr>\n",
       "    <tr>\n",
       "      <th>10</th>\n",
       "      <td>1</td>\n",
       "      <td>parch_NM</td>\n",
       "    </tr>\n",
       "    <tr>\n",
       "      <th>51</th>\n",
       "      <td>1</td>\n",
       "      <td>cabno_OH_NIL</td>\n",
       "    </tr>\n",
       "    <tr>\n",
       "      <th>49</th>\n",
       "      <td>1</td>\n",
       "      <td>cabno_OH_C1</td>\n",
       "    </tr>\n",
       "    <tr>\n",
       "      <th>13</th>\n",
       "      <td>1</td>\n",
       "      <td>ticlen_ME</td>\n",
       "    </tr>\n",
       "    <tr>\n",
       "      <th>14</th>\n",
       "      <td>1</td>\n",
       "      <td>fare_NM</td>\n",
       "    </tr>\n",
       "    <tr>\n",
       "      <th>8</th>\n",
       "      <td>1</td>\n",
       "      <td>sibsp_OC</td>\n",
       "    </tr>\n",
       "    <tr>\n",
       "      <th>35</th>\n",
       "      <td>1</td>\n",
       "      <td>sibsp_OH_Two or More</td>\n",
       "    </tr>\n",
       "    <tr>\n",
       "      <th>54</th>\n",
       "      <td>2</td>\n",
       "      <td>embarked_OH_S</td>\n",
       "    </tr>\n",
       "    <tr>\n",
       "      <th>11</th>\n",
       "      <td>3</td>\n",
       "      <td>parch_OC</td>\n",
       "    </tr>\n",
       "    <tr>\n",
       "      <th>45</th>\n",
       "      <td>4</td>\n",
       "      <td>fare_OH_G3</td>\n",
       "    </tr>\n",
       "    <tr>\n",
       "      <th>12</th>\n",
       "      <td>5</td>\n",
       "      <td>parch_ME</td>\n",
       "    </tr>\n",
       "    <tr>\n",
       "      <th>34</th>\n",
       "      <td>6</td>\n",
       "      <td>sibsp_OH_One</td>\n",
       "    </tr>\n",
       "    <tr>\n",
       "      <th>52</th>\n",
       "      <td>7</td>\n",
       "      <td>embarked_OH_C</td>\n",
       "    </tr>\n",
       "    <tr>\n",
       "      <th>43</th>\n",
       "      <td>8</td>\n",
       "      <td>fare_OH_G1</td>\n",
       "    </tr>\n",
       "    <tr>\n",
       "      <th>41</th>\n",
       "      <td>9</td>\n",
       "      <td>ticlen_OH_L6</td>\n",
       "    </tr>\n",
       "    <tr>\n",
       "      <th>36</th>\n",
       "      <td>10</td>\n",
       "      <td>parch_OH_None</td>\n",
       "    </tr>\n",
       "    <tr>\n",
       "      <th>39</th>\n",
       "      <td>11</td>\n",
       "      <td>ticlen_OH_L4</td>\n",
       "    </tr>\n",
       "    <tr>\n",
       "      <th>33</th>\n",
       "      <td>12</td>\n",
       "      <td>sibsp_OH_None</td>\n",
       "    </tr>\n",
       "    <tr>\n",
       "      <th>32</th>\n",
       "      <td>13</td>\n",
       "      <td>age_OH_A3</td>\n",
       "    </tr>\n",
       "    <tr>\n",
       "      <th>27</th>\n",
       "      <td>14</td>\n",
       "      <td>title_OH_Other</td>\n",
       "    </tr>\n",
       "    <tr>\n",
       "      <th>42</th>\n",
       "      <td>15</td>\n",
       "      <td>ticlen_OH_LO</td>\n",
       "    </tr>\n",
       "    <tr>\n",
       "      <th>38</th>\n",
       "      <td>16</td>\n",
       "      <td>parch_OH_Two or More</td>\n",
       "    </tr>\n",
       "    <tr>\n",
       "      <th>48</th>\n",
       "      <td>17</td>\n",
       "      <td>cabletter_OH_Others</td>\n",
       "    </tr>\n",
       "    <tr>\n",
       "      <th>44</th>\n",
       "      <td>18</td>\n",
       "      <td>fare_OH_G2</td>\n",
       "    </tr>\n",
       "    <tr>\n",
       "      <th>31</th>\n",
       "      <td>19</td>\n",
       "      <td>age_OH_A2</td>\n",
       "    </tr>\n",
       "    <tr>\n",
       "      <th>50</th>\n",
       "      <td>20</td>\n",
       "      <td>cabno_OH_C2</td>\n",
       "    </tr>\n",
       "    <tr>\n",
       "      <th>53</th>\n",
       "      <td>21</td>\n",
       "      <td>embarked_OH_Q</td>\n",
       "    </tr>\n",
       "    <tr>\n",
       "      <th>37</th>\n",
       "      <td>22</td>\n",
       "      <td>parch_OH_One</td>\n",
       "    </tr>\n",
       "  </tbody>\n",
       "</table>\n",
       "</div>"
      ],
      "text/plain": [
       "    rank               feature\n",
       "0      1             pclass_OC\n",
       "46     1    cabletter_OH_B/D/E\n",
       "30     1             age_OH_A1\n",
       "29     1           sex_OH_male\n",
       "28     1         sex_OH_female\n",
       "47     1      cabletter_OH_NIL\n",
       "26     1         title_OH_Mrs.\n",
       "25     1          title_OH_Mr.\n",
       "24     1        title_OH_Miss.\n",
       "23     1      title_OH_Master.\n",
       "22     1      pclass_OH_CLASS3\n",
       "21     1      pclass_OH_CLASS2\n",
       "20     1      pclass_OH_CLASS1\n",
       "19     1           embarked_ME\n",
       "18     1              cabno_ME\n",
       "17     1          cabletter_ME\n",
       "16     1               fare_ME\n",
       "15     1               fare_OC\n",
       "1      1             pclass_ME\n",
       "2      1              title_ME\n",
       "3      1                sex_BN\n",
       "4      1                age_OC\n",
       "5      1                age_NM\n",
       "6      1                age_ME\n",
       "40     1          ticlen_OH_L5\n",
       "7      1              sibsp_NM\n",
       "9      1              sibsp_ME\n",
       "10     1              parch_NM\n",
       "51     1          cabno_OH_NIL\n",
       "49     1           cabno_OH_C1\n",
       "13     1             ticlen_ME\n",
       "14     1               fare_NM\n",
       "8      1              sibsp_OC\n",
       "35     1  sibsp_OH_Two or More\n",
       "54     2         embarked_OH_S\n",
       "11     3              parch_OC\n",
       "45     4            fare_OH_G3\n",
       "12     5              parch_ME\n",
       "34     6          sibsp_OH_One\n",
       "52     7         embarked_OH_C\n",
       "43     8            fare_OH_G1\n",
       "41     9          ticlen_OH_L6\n",
       "36    10         parch_OH_None\n",
       "39    11          ticlen_OH_L4\n",
       "33    12         sibsp_OH_None\n",
       "32    13             age_OH_A3\n",
       "27    14        title_OH_Other\n",
       "42    15          ticlen_OH_LO\n",
       "38    16  parch_OH_Two or More\n",
       "48    17   cabletter_OH_Others\n",
       "44    18            fare_OH_G2\n",
       "31    19             age_OH_A2\n",
       "50    20           cabno_OH_C2\n",
       "53    21         embarked_OH_Q\n",
       "37    22          parch_OH_One"
      ]
     },
     "execution_count": 9,
     "metadata": {},
     "output_type": "execute_result"
    }
   ],
   "source": [
    "# Results of RFE\n",
    "print('No. of Features: ' + str(rf_low.n_features_))\n",
    "print('Feature Ranking:')\n",
    "rfe_feats = pd.DataFrame(rf_low.ranking_, columns = ['rank'])\n",
    "rfe_feats['feature'] = X.columns\n",
    "rfe_feats.sort_values(by = 'rank')"
   ]
  },
  {
   "cell_type": "code",
   "execution_count": 10,
   "metadata": {
    "scrolled": true
   },
   "outputs": [
    {
     "data": {
      "image/png": "[encoded data removed]",
      "text/plain": [
       "<Figure size 432x288 with 1 Axes>"
      ]
     },
     "metadata": {},
     "output_type": "display_data"
    }
   ],
   "source": [
    "# Plots\n",
    "plt.figure()\n",
    "plt.title('CV Scores vs. No. of Features')\n",
    "plt.xlabel(\"No. of Features Selected\")\n",
    "plt.ylabel(\"CV Score\")\n",
    "plt.plot(range(1, len(rf_low.grid_scores_) + 1), rf_low.grid_scores_)\n",
    "plt.show()"
   ]
  },
  {
   "cell_type": "markdown",
   "metadata": {},
   "source": [
    "### Subset Features\n",
    "The line below determines how strictly we adhere to the results of RFECV. Rank 1 features are arguably the top-notch ones. However, it is worth experimenting with features in the lower ranks."
   ]
  },
  {
   "cell_type": "code",
   "execution_count": 11,
   "metadata": {},
   "outputs": [],
   "source": [
    "# Subset features\n",
    "X_sub = X.iloc[:, (rf_low.ranking_ == 1)]"
   ]
  },
  {
   "cell_type": "markdown",
   "metadata": {},
   "source": [
    "### Iteration 3: Optimise Max Features"
   ]
  },
  {
   "cell_type": "code",
   "execution_count": 12,
   "metadata": {},
   "outputs": [],
   "source": [
    "# Define parameters\n",
    "param_max_feat = np.arange(2, X_sub.shape[1], 1)\n",
    "params = {\n",
    "    'max_features': param_max_feat\n",
    "}"
   ]
  },
  {
   "cell_type": "code",
   "execution_count": null,
   "metadata": {},
   "outputs": [
    {
     "name": "stdout",
     "output_type": "stream",
     "text": [
      "Fitting 25 folds for each of 32 candidates, totalling 800 fits\n"
     ]
    },
    {
     "name": "stderr",
     "output_type": "stream",
     "text": [
      "[Parallel(n_jobs=3)]: Done  26 tasks      | elapsed:   41.6s\n",
      "[Parallel(n_jobs=3)]: Done 122 tasks      | elapsed:  3.0min\n",
      "[Parallel(n_jobs=3)]: Done 282 tasks      | elapsed:  7.3min\n",
      "[Parallel(n_jobs=3)]: Done 506 tasks      | elapsed: 12.7min\n"
     ]
    }
   ],
   "source": [
    "# Create RF model\n",
    "rf_low = GridSearchCV(\n",
    "    estimator = RandomForestClassifier(\n",
    "        max_depth = 5,\n",
    "        n_estimators = 1000,\n",
    "        oob_score = True,\n",
    "        random_state = 123,\n",
    "        n_jobs = 3\n",
    "    ),\n",
    "    param_grid = params,\n",
    "    n_jobs = 3,\n",
    "    cv = rkf,\n",
    "    verbose = 3\n",
    ")\n",
    "\n",
    "# Train model\n",
    "rf_low.fit(X_sub, y)"
   ]
  },
  {
   "cell_type": "code",
   "execution_count": 15,
   "metadata": {},
   "outputs": [
    {
     "name": "stdout",
     "output_type": "stream",
     "text": [
      "Best Score: 0.837037037037037\n",
      "Best Params: {'max_features': 14}\n"
     ]
    }
   ],
   "source": [
    "# Print results\n",
    "print('Best Score: ' + str(rf_low.best_score_))\n",
    "print('Best Params: ' + str(rf_low.best_params_))"
   ]
  },
  {
   "cell_type": "code",
   "execution_count": 16,
   "metadata": {},
   "outputs": [
    {
     "data": {
      "image/png": "[encoded data removed]",
      "text/plain": [
       "<matplotlib.figure.Figure at 0x207a60d8dd8>"
      ]
     },
     "metadata": {},
     "output_type": "display_data"
    }
   ],
   "source": [
    "# Plot results\n",
    "gaia_get_test(rf_low, param_max_feat, 'Max Features')"
   ]
  },
  {
   "cell_type": "markdown",
   "metadata": {},
   "source": [
    "### Iteration 4: Optimise Minimum Samples in Terminal Nodes"
   ]
  },
  {
   "cell_type": "code",
   "execution_count": 18,
   "metadata": {
    "collapsed": true
   },
   "outputs": [],
   "source": [
    "# Define parameters\n",
    "param_min_leaf = [1,5,10,20,30,40,50]\n",
    "params = {\n",
    "    'min_samples_leaf': param_min_leaf\n",
    "}"
   ]
  },
  {
   "cell_type": "code",
   "execution_count": 19,
   "metadata": {},
   "outputs": [
    {
     "name": "stdout",
     "output_type": "stream",
     "text": [
      "Fitting 25 folds for each of 7 candidates, totalling 175 fits\n"
     ]
    },
    {
     "name": "stderr",
     "output_type": "stream",
     "text": [
      "[Parallel(n_jobs=3)]: Done  26 tasks      | elapsed:   31.0s\n",
      "[Parallel(n_jobs=3)]: Done 122 tasks      | elapsed:  2.4min\n",
      "[Parallel(n_jobs=3)]: Done 175 out of 175 | elapsed:  3.4min finished\n"
     ]
    },
    {
     "data": {
      "text/plain": [
       "GridSearchCV(cv=<sklearn.model_selection._split.RepeatedStratifiedKFold object at 0x00000207A5C04A90>,\n",
       "       error_score='raise',\n",
       "       estimator=RandomForestClassifier(bootstrap=True, class_weight=None, criterion='gini',\n",
       "            max_depth=5, max_features=6, max_leaf_nodes=None,\n",
       "            min_impurity_decrease=0.0, min_impurity_split=None,\n",
       "            min_samples_leaf=1, min_samples_split=2,\n",
       "            min_weight_fraction_leaf=0.0, n_estimators=1000, n_jobs=3,\n",
       "            oob_score=True, random_state=123, verbose=0, warm_start=False),\n",
       "       fit_params=None, iid=True, n_jobs=3,\n",
       "       param_grid={'min_samples_leaf': [1, 5, 10, 20, 30, 40, 50]},\n",
       "       pre_dispatch='2*n_jobs', refit=True, return_train_score='warn',\n",
       "       scoring=None, verbose=3)"
      ]
     },
     "execution_count": 19,
     "metadata": {},
     "output_type": "execute_result"
    }
   ],
   "source": [
    "# Create RF model\n",
    "rf_low = GridSearchCV(\n",
    "    estimator = RandomForestClassifier(\n",
    "        max_depth = 5,\n",
    "        n_estimators = 1000,\n",
    "        max_features = 6,\n",
    "        oob_score = True,\n",
    "        random_state = 123,\n",
    "        n_jobs = 3\n",
    "    ),\n",
    "    param_grid = params,\n",
    "    n_jobs = 3,\n",
    "    cv = rkf,\n",
    "    verbose = 3\n",
    ")\n",
    "\n",
    "# Train model\n",
    "rf_low.fit(X, y)"
   ]
  },
  {
   "cell_type": "code",
   "execution_count": 20,
   "metadata": {},
   "outputs": [
    {
     "name": "stdout",
     "output_type": "stream",
     "text": [
      "Best Score: 0.8318742985409652\n",
      "Best Params: {'min_samples_leaf': 1}\n"
     ]
    }
   ],
   "source": [
    "# Print results\n",
    "print('Best Score: ' + str(rf_low.best_score_))\n",
    "print('Best Params: ' + str(rf_low.best_params_))"
   ]
  },
  {
   "cell_type": "code",
   "execution_count": 21,
   "metadata": {},
   "outputs": [
    {
     "data": {
      "image/png": "[encoded data removed]",
      "text/plain": [
       "<matplotlib.figure.Figure at 0x207a71a8940>"
      ]
     },
     "metadata": {},
     "output_type": "display_data"
    }
   ],
   "source": [
    "# Plot results\n",
    "gaia_get_test(rf_low, param_min_leaf, 'Min. Samples in Leaf')"
   ]
  },
  {
   "cell_type": "markdown",
   "metadata": {},
   "source": [
    "### Iteration 5: Optimise Criterion"
   ]
  },
  {
   "cell_type": "code",
   "execution_count": 22,
   "metadata": {
    "collapsed": true
   },
   "outputs": [],
   "source": [
    "# Define parameters\n",
    "param_criterion = ['gini', 'entropy']\n",
    "params = {\n",
    "    'criterion': param_criterion\n",
    "}"
   ]
  },
  {
   "cell_type": "code",
   "execution_count": 23,
   "metadata": {},
   "outputs": [
    {
     "name": "stdout",
     "output_type": "stream",
     "text": [
      "Fitting 25 folds for each of 2 candidates, totalling 50 fits\n"
     ]
    },
    {
     "name": "stderr",
     "output_type": "stream",
     "text": [
      "[Parallel(n_jobs=3)]: Done  26 tasks      | elapsed:   36.7s\n",
      "[Parallel(n_jobs=3)]: Done  50 out of  50 | elapsed:  1.1min finished\n"
     ]
    },
    {
     "data": {
      "text/plain": [
       "GridSearchCV(cv=<sklearn.model_selection._split.RepeatedStratifiedKFold object at 0x00000207A5C04A90>,\n",
       "       error_score='raise',\n",
       "       estimator=RandomForestClassifier(bootstrap=True, class_weight=None, criterion='gini',\n",
       "            max_depth=5, max_features=6, max_leaf_nodes=None,\n",
       "            min_impurity_decrease=0.0, min_impurity_split=None,\n",
       "            min_samples_leaf=10, min_samples_split=2,\n",
       "            min_weight_fraction_leaf=0.0, n_estimators=1000, n_jobs=3,\n",
       "            oob_score=True, random_state=123, verbose=0, warm_start=False),\n",
       "       fit_params=None, iid=True, n_jobs=3,\n",
       "       param_grid={'criterion': ['gini', 'entropy']},\n",
       "       pre_dispatch='2*n_jobs', refit=True, return_train_score='warn',\n",
       "       scoring=None, verbose=3)"
      ]
     },
     "execution_count": 23,
     "metadata": {},
     "output_type": "execute_result"
    }
   ],
   "source": [
    "# Create RF model\n",
    "rf_low = GridSearchCV(\n",
    "    estimator = RandomForestClassifier(\n",
    "        max_depth = 5,\n",
    "        n_estimators = 1000,\n",
    "        max_features = 6,\n",
    "        min_samples_leaf = 10,\n",
    "        oob_score = True,\n",
    "        random_state = 123,\n",
    "        n_jobs = 3\n",
    "    ),\n",
    "    param_grid = params,\n",
    "    n_jobs = 3,\n",
    "    cv = rkf,\n",
    "    verbose = 3\n",
    ")\n",
    "\n",
    "# Train model\n",
    "rf_low.fit(X, y)"
   ]
  },
  {
   "cell_type": "code",
   "execution_count": 24,
   "metadata": {},
   "outputs": [
    {
     "name": "stdout",
     "output_type": "stream",
     "text": [
      "Best Score: 0.8240179573512907\n",
      "Best Params: {'criterion': 'entropy'}\n"
     ]
    }
   ],
   "source": [
    "# Print results\n",
    "print('Best Score: ' + str(rf_low.best_score_))\n",
    "print('Best Params: ' + str(rf_low.best_params_))"
   ]
  },
  {
   "cell_type": "code",
   "execution_count": 25,
   "metadata": {},
   "outputs": [
    {
     "name": "stdout",
     "output_type": "stream",
     "text": [
      "Gini: 0.8219977553310887\n",
      "Entropy: 0.8240179573512907\n"
     ]
    }
   ],
   "source": [
    "# Print\n",
    "print('Gini: ' + str(rf_low.cv_results_['mean_test_score'][0]))\n",
    "print('Entropy: ' + str(rf_low.cv_results_['mean_test_score'][1]))"
   ]
  },
  {
   "cell_type": "markdown",
   "metadata": {},
   "source": [
    "### Iteration 6: Optimise Minimum Samples for Split"
   ]
  },
  {
   "cell_type": "code",
   "execution_count": 26,
   "metadata": {
    "collapsed": true
   },
   "outputs": [],
   "source": [
    "# Define parameters\n",
    "param_min_split = [10,20,30,40,50,75,100]\n",
    "params = {\n",
    "    'min_samples_split': param_min_split\n",
    "}"
   ]
  },
  {
   "cell_type": "code",
   "execution_count": 27,
   "metadata": {},
   "outputs": [
    {
     "name": "stdout",
     "output_type": "stream",
     "text": [
      "Fitting 25 folds for each of 7 candidates, totalling 175 fits\n"
     ]
    },
    {
     "name": "stderr",
     "output_type": "stream",
     "text": [
      "[Parallel(n_jobs=3)]: Done  26 tasks      | elapsed:   32.1s\n",
      "[Parallel(n_jobs=3)]: Done 122 tasks      | elapsed:  2.5min\n",
      "[Parallel(n_jobs=3)]: Done 175 out of 175 | elapsed:  3.6min finished\n"
     ]
    },
    {
     "data": {
      "text/plain": [
       "GridSearchCV(cv=<sklearn.model_selection._split.RepeatedStratifiedKFold object at 0x00000207A5C04A90>,\n",
       "       error_score='raise',\n",
       "       estimator=RandomForestClassifier(bootstrap=True, class_weight=None, criterion='entropy',\n",
       "            max_depth=5, max_features=6, max_leaf_nodes=None,\n",
       "            min_impurity_decrease=0.0, min_impurity_split=None,\n",
       "            min_samples_leaf=10, min_samples_split=2,\n",
       "            min_weight_fraction_leaf=0.0, n_estimators=1000, n_jobs=3,\n",
       "            oob_score=True, random_state=123, verbose=0, warm_start=False),\n",
       "       fit_params=None, iid=True, n_jobs=3,\n",
       "       param_grid={'min_samples_split': [10, 20, 30, 40, 50, 75, 100]},\n",
       "       pre_dispatch='2*n_jobs', refit=True, return_train_score='warn',\n",
       "       scoring=None, verbose=3)"
      ]
     },
     "execution_count": 27,
     "metadata": {},
     "output_type": "execute_result"
    }
   ],
   "source": [
    "# Create RF model\n",
    "rf_low = GridSearchCV(\n",
    "    estimator = RandomForestClassifier(\n",
    "        max_depth = 5,\n",
    "        n_estimators = 1000,\n",
    "        max_features = 6,\n",
    "        min_samples_leaf = 10,\n",
    "        criterion = 'entropy',\n",
    "        oob_score = True,\n",
    "        random_state = 123,\n",
    "        n_jobs = 3\n",
    "    ),\n",
    "    param_grid = params,\n",
    "    n_jobs = 3,\n",
    "    cv = rkf,\n",
    "    verbose = 3\n",
    ")\n",
    "\n",
    "# Train model\n",
    "rf_low.fit(X, y)"
   ]
  },
  {
   "cell_type": "code",
   "execution_count": 28,
   "metadata": {},
   "outputs": [
    {
     "name": "stdout",
     "output_type": "stream",
     "text": [
      "Best Score: 0.8240179573512907\n",
      "Best Params: {'min_samples_split': 10}\n"
     ]
    }
   ],
   "source": [
    "# Print results\n",
    "print('Best Score: ' + str(rf_low.best_score_))\n",
    "print('Best Params: ' + str(rf_low.best_params_))"
   ]
  },
  {
   "cell_type": "code",
   "execution_count": 29,
   "metadata": {},
   "outputs": [
    {
     "data": {
      "image/png": "[encoded data removed]",
      "text/plain": [
       "<matplotlib.figure.Figure at 0x207a72cb4e0>"
      ]
     },
     "metadata": {},
     "output_type": "display_data"
    }
   ],
   "source": [
    "# Plot results\n",
    "gaia_get_test(rf_low, param_min_split, 'Min. Samples for Split')"
   ]
  },
  {
   "cell_type": "markdown",
   "metadata": {},
   "source": [
    "### Iteration 7: Optimise"
   ]
  },
  {
   "cell_type": "code",
   "execution_count": null,
   "metadata": {
    "collapsed": true
   },
   "outputs": [],
   "source": []
  },
  {
   "cell_type": "code",
   "execution_count": null,
   "metadata": {
    "collapsed": true
   },
   "outputs": [],
   "source": []
  }
 ],
 "metadata": {
  "kernelspec": {
   "display_name": "Python 3",
   "language": "python",
   "name": "python3"
  },
  "language_info": {
   "codemirror_mode": {
    "name": "ipython",
    "version": 3
   },
   "file_extension": ".py",
   "mimetype": "text/x-python",
   "name": "python",
   "nbconvert_exporter": "python",
   "pygments_lexer": "ipython3",
   "version": "3.6.6"
  }
 },
 "nbformat": 4,
 "nbformat_minor": 2
}
