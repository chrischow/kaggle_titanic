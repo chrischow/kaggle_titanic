{
 "cells": [
  {
   "cell_type": "markdown",
   "metadata": {},
   "source": [
    "# Light GBM Random Forest - Low Depth with Proper Encoding\n",
    "As part of the overall stacking model, I will develop two Random Forest (RF) models: one with a relative low depth, and one with a high depth. I define low depth as `max_depth = 5` and high depth as `max_depth = 15`. With the depth defined, I tune the remaining parameters sequentially.  \n",
    "  \n",
    "In this notebook, I set out to optimise a **low depth RF model** using the LightGBM package. The optimisation sequence was as follows:  \n",
    "  \n",
    "1. No. of Trees (2,500)\n",
    "2. RFECV (36)\n",
    "3. Max Features (1/3 or 12)\n",
    "4. Subsampling (0.90)\n",
    "5. Min Samples in Leaf (10)\n",
    "6. L1 Regularisation (0.6)\n",
    "7. L2 Regularisation (0.1)\n",
    "  \n",
    "The final CV score was **83.02%**."
   ]
  },
  {
   "cell_type": "code",
   "execution_count": 1,
   "metadata": {},
   "outputs": [
    {
     "name": "stderr",
     "output_type": "stream",
     "text": [
      "C:\\Users\\user\\Anaconda3\\lib\\site-packages\\sklearn\\ensemble\\weight_boosting.py:29: DeprecationWarning: numpy.core.umath_tests is an internal NumPy module and should not be imported. It will be removed in a future NumPy release.\n",
      "  from numpy.core.umath_tests import inner1d\n"
     ]
    }
   ],
   "source": [
    "# Import modules\n",
    "import datetime\n",
    "import pandas as pd\n",
    "import numpy as np\n",
    "import matplotlib.pyplot as plt\n",
    "import matplotlib\n",
    "import seaborn as sns\n",
    "from sklearn.decomposition import PCA\n",
    "from sklearn.ensemble import RandomForestClassifier\n",
    "from sklearn.feature_selection import RFECV, RFE\n",
    "from sklearn.manifold import Isomap\n",
    "from sklearn.metrics import accuracy_score, auc, make_scorer, mean_squared_error, r2_score\n",
    "from sklearn.model_selection import cross_val_score, train_test_split, GridSearchCV, RepeatedKFold, KFold, RepeatedStratifiedKFold, StratifiedKFold\n",
    "from sklearn.preprocessing import StandardScaler, MinMaxScaler, MaxAbsScaler, Normalizer, RobustScaler\n",
    "from lightgbm import LGBMClassifier\n",
    "import kaggle_titanic as kt\n",
    "import warnings\n",
    "\n",
    "# Settings\n",
    "%matplotlib inline\n",
    "matplotlib.style.use('ggplot')\n",
    "warnings.filterwarnings('ignore')"
   ]
  },
  {
   "cell_type": "markdown",
   "metadata": {},
   "source": [
    "## Prepare Data"
   ]
  },
  {
   "cell_type": "code",
   "execution_count": 2,
   "metadata": {},
   "outputs": [],
   "source": [
    "# Import data\n",
    "df = pd.read_csv('train.csv')\n",
    "\n",
    "# Clean data\n",
    "df = kt.clean_all(df)\n",
    "\n",
    "# Encode data (only for RFECV purposes)\n",
    "df_encoded, _ = kt.encode_train(df)"
   ]
  },
  {
   "cell_type": "markdown",
   "metadata": {},
   "source": [
    "## Global Settings"
   ]
  },
  {
   "cell_type": "code",
   "execution_count": 3,
   "metadata": {},
   "outputs": [],
   "source": [
    "# Create fold indices\n",
    "folds = kt.get_folds(df=df, random_state=123)\n",
    "\n",
    "# Get all datasets\n",
    "all_sets = kt.prep_sets(df, folds)"
   ]
  },
  {
   "cell_type": "markdown",
   "metadata": {},
   "source": [
    "## Iteration 1: Optimise No. of Trees"
   ]
  },
  {
   "cell_type": "code",
   "execution_count": 4,
   "metadata": {
    "scrolled": false
   },
   "outputs": [
    {
     "name": "stdout",
     "output_type": "stream",
     "text": [
      "Computing test scores for n_estimators = 100...Done!\n",
      "Computing test scores for n_estimators = 250...Done!\n",
      "Computing test scores for n_estimators = 500...Done!\n",
      "Computing test scores for n_estimators = 1000...Done!\n",
      "Computing test scores for n_estimators = 1500...Done!\n",
      "Computing test scores for n_estimators = 2000...Done!\n",
      "Computing test scores for n_estimators = 2500...Done!\n",
      "Computing test scores for n_estimators = 3000...Done!\n",
      "Computing test scores for n_estimators = 4000...Done!\n",
      "Computing test scores for n_estimators = 5000...Done!\n",
      "Computing test scores for n_estimators = 6000...Done!\n",
      "\n",
      "\n",
      "[ RESULTS ]\n",
      "   Best Score: 0.824904200210867\n",
      "Optimal Value: 250\n"
     ]
    },
    {
     "data": {
      "image/png": "[encoded data removed]",
      "text/plain": [
       "<matplotlib.figure.Figure at 0x24e76d31dd8>"
      ]
     },
     "metadata": {},
     "output_type": "display_data"
    }
   ],
   "source": [
    "# Define parameters\n",
    "param_n_estimators = [100, 250, 500, 1000, 1500, 2000, 2500, 3000, 4000, 5000, 6000]\n",
    "params = {\n",
    "    'n_estimators': param_n_estimators\n",
    "}\n",
    "\n",
    "# Grid Search with CV\n",
    "cv_res, best_n_estimators = kt.score_grid(\n",
    "    estimator = LGBMClassifier(\n",
    "        boosting_type = 'rf',\n",
    "        objective = 'binary',\n",
    "        subsample_freq = 1,\n",
    "        max_depth = 5,\n",
    "        # n_estimators = ,\n",
    "        colsample_bytree = 0.5,\n",
    "        subsample = 0.75,\n",
    "        # min_child_samples = ,\n",
    "        # reg_alpha = ,\n",
    "        # reg_lambda = ,\n",
    "        random_state = 123,\n",
    "        n_jobs = 3\n",
    "    ),\n",
    "    params = params,\n",
    "    all_sets = all_sets,\n",
    "    n_jobs = 3,\n",
    "    verbose = True\n",
    ")"
   ]
  },
  {
   "cell_type": "markdown",
   "metadata": {},
   "source": [
    "## Iteration 2: RFECV for Feature Selection"
   ]
  },
  {
   "cell_type": "code",
   "execution_count": 5,
   "metadata": {},
   "outputs": [
    {
     "name": "stderr",
     "output_type": "stream",
     "text": [
      "[Parallel(n_jobs=3)]: Using backend LokyBackend with 3 concurrent workers.\n",
      "[Parallel(n_jobs=3)]: Done  25 out of  25 | elapsed: 33.0min finished\n"
     ]
    },
    {
     "name": "stdout",
     "output_type": "stream",
     "text": [
      "   Best Score: 0.8244610674494207\n",
      "Optimal Value: 36\n"
     ]
    },
    {
     "data": {
      "image/png": "[encoded data removed]",
      "text/plain": [
       "<matplotlib.figure.Figure at 0x24e7714df28>"
      ]
     },
     "metadata": {},
     "output_type": "display_data"
    }
   ],
   "source": [
    "# Run RFECV\n",
    "cv_res, best_n_features, opt_feats = kt.custom_rfecv(\n",
    "    estimator = LGBMClassifier(\n",
    "        boosting_type = 'rf',\n",
    "        objective = 'binary',\n",
    "        subsample_freq = 1,\n",
    "        max_depth = 5,\n",
    "        n_estimators = 2500,\n",
    "        colsample_bytree = 0.5,\n",
    "        subsample = 0.75,\n",
    "        # min_child_samples = ,\n",
    "        # reg_alpha = ,\n",
    "        # reg_lambda = ,\n",
    "        random_state = 123,\n",
    "        n_jobs = 3\n",
    "    ),\n",
    "    sub_sets = all_sets,\n",
    "    df = df_encoded,\n",
    "    step = 1,\n",
    "    n_jobs = 3,\n",
    "    verbose = True\n",
    ")"
   ]
  },
  {
   "cell_type": "markdown",
   "metadata": {},
   "source": [
    "### Subset Features"
   ]
  },
  {
   "cell_type": "code",
   "execution_count": 4,
   "metadata": {},
   "outputs": [
    {
     "name": "stdout",
     "output_type": "stream",
     "text": [
      "['pclass_OC', 'sex_BN', 'age_OC', 'age_NM', 'sibsp_NM', 'sibsp_OC', 'parch_NM', 'parch_OC', 'fare_NM', 'fare_OC', 'pclass_ME', 'title_ME', 'age_ME', 'sibsp_ME', 'ticlen_ME', 'fare_ME', 'cabletter_ME', 'cabno_ME', 'embarked_ME', 'pclass_OH_CLASS3', 'title_OH_Master.', 'title_OH_Miss.', 'title_OH_Mr.', 'sex_OH_female', 'age_OH_A6', 'sibsp_OH_None', 'ticlen_OH_L4', 'ticlen_OH_L5', 'ticlen_OH_L6', 'ticlen_OH_LO', 'fare_OH_G4', 'cabletter_OH_B/D/E', 'cabletter_OH_Others', 'cabno_OH_C1', 'cabno_OH_NIL', 'embarked_OH_S']\n"
     ]
    }
   ],
   "source": [
    "# Set features\n",
    "final_feats = [\n",
    "    'pclass_OC', 'sex_BN', 'age_OC', 'age_NM', 'sibsp_NM', 'sibsp_OC', 'parch_NM', 'parch_OC',\n",
    "    'fare_NM', 'fare_OC', 'pclass_ME', 'title_ME', 'age_ME', 'sibsp_ME', 'ticlen_ME', 'fare_ME', 'cabletter_ME',\n",
    "    'cabno_ME', 'embarked_ME', 'pclass_OH_CLASS3', 'title_OH_Master.', 'title_OH_Miss.', 'title_OH_Mr.',\n",
    "    'sex_OH_female', 'age_OH_A6', 'sibsp_OH_None', 'ticlen_OH_L4', 'ticlen_OH_L5', 'ticlen_OH_L6', 'ticlen_OH_LO',\n",
    "    'fare_OH_G4', 'cabletter_OH_B/D/E', 'cabletter_OH_Others', 'cabno_OH_C1', 'cabno_OH_NIL', 'embarked_OH_S'\n",
    "]\n",
    "\n",
    "# Separate features\n",
    "# final_feats = list(opt_feats)\n",
    "print(final_feats)"
   ]
  },
  {
   "cell_type": "code",
   "execution_count": 5,
   "metadata": {
    "scrolled": false
   },
   "outputs": [],
   "source": [
    "# Re-generate sets\n",
    "new_sets = kt.prep_sets(df = df, folds = folds, feats = final_feats)"
   ]
  },
  {
   "cell_type": "markdown",
   "metadata": {},
   "source": [
    "## Iteration 3: Tune Maximum Features"
   ]
  },
  {
   "cell_type": "code",
   "execution_count": 8,
   "metadata": {},
   "outputs": [],
   "source": [
    "# Get max features\n",
    "n_feat = np.min([new_sets[i][0].shape[1] for i in range(len(new_sets))])"
   ]
  },
  {
   "cell_type": "code",
   "execution_count": 10,
   "metadata": {
    "scrolled": false
   },
   "outputs": [
    {
     "name": "stdout",
     "output_type": "stream",
     "text": [
      "Computing test scores for colsample_bytree = 0.05555555555555555...Done!\n",
      "Computing test scores for colsample_bytree = 0.08333333333333333...Done!\n",
      "Computing test scores for colsample_bytree = 0.1111111111111111...Done!\n",
      "Computing test scores for colsample_bytree = 0.1388888888888889...Done!\n",
      "Computing test scores for colsample_bytree = 0.16666666666666666...Done!\n",
      "Computing test scores for colsample_bytree = 0.19444444444444445...Done!\n",
      "Computing test scores for colsample_bytree = 0.2222222222222222...Done!\n",
      "Computing test scores for colsample_bytree = 0.24999999999999997...Done!\n",
      "Computing test scores for colsample_bytree = 0.2777777777777778...Done!\n",
      "Computing test scores for colsample_bytree = 0.3055555555555556...Done!\n",
      "Computing test scores for colsample_bytree = 0.33333333333333337...Done!\n",
      "Computing test scores for colsample_bytree = 0.36111111111111105...Done!\n",
      "Computing test scores for colsample_bytree = 0.38888888888888884...Done!\n",
      "Computing test scores for colsample_bytree = 0.41666666666666663...Done!\n",
      "Computing test scores for colsample_bytree = 0.4444444444444444...Done!\n",
      "Computing test scores for colsample_bytree = 0.4722222222222222...Done!\n",
      "Computing test scores for colsample_bytree = 0.5...Done!\n",
      "Computing test scores for colsample_bytree = 0.5277777777777778...Done!\n",
      "Computing test scores for colsample_bytree = 0.5555555555555556...Done!\n",
      "Computing test scores for colsample_bytree = 0.5833333333333334...Done!\n",
      "Computing test scores for colsample_bytree = 0.6111111111111112...Done!\n",
      "Computing test scores for colsample_bytree = 0.6388888888888888...Done!\n",
      "Computing test scores for colsample_bytree = 0.6666666666666666...Done!\n",
      "Computing test scores for colsample_bytree = 0.6944444444444444...Done!\n",
      "Computing test scores for colsample_bytree = 0.7222222222222222...Done!\n",
      "Computing test scores for colsample_bytree = 0.75...Done!\n",
      "Computing test scores for colsample_bytree = 0.7777777777777778...Done!\n",
      "Computing test scores for colsample_bytree = 0.8055555555555556...Done!\n",
      "Computing test scores for colsample_bytree = 0.8333333333333333...Done!\n",
      "Computing test scores for colsample_bytree = 0.861111111111111...Done!\n",
      "Computing test scores for colsample_bytree = 0.8888888888888888...Done!\n",
      "Computing test scores for colsample_bytree = 0.9166666666666666...Done!\n",
      "Computing test scores for colsample_bytree = 0.9444444444444444...Done!\n",
      "Computing test scores for colsample_bytree = 0.9722222222222222...Done!\n",
      "\n",
      "\n",
      "[ RESULTS ]\n",
      "   Best Score: 0.8276033402522956\n",
      "Optimal Value: 0.33333333333333337\n"
     ]
    },
    {
     "data": {
      "image/png": "[encoded data removed]",
      "text/plain": [
       "<matplotlib.figure.Figure at 0x1b586800dd8>"
      ]
     },
     "metadata": {},
     "output_type": "display_data"
    }
   ],
   "source": [
    "# Define parameters\n",
    "param_max_feat = np.arange(2/n_feat, 1, 1/n_feat)\n",
    "params = {\n",
    "    'colsample_bytree': param_max_feat\n",
    "}\n",
    "\n",
    "# Grid Search with CV\n",
    "cv_res, best_colsample_bytree = kt.score_grid(\n",
    "    estimator = LGBMClassifier(\n",
    "        boosting_type = 'rf',\n",
    "        objective = 'binary',\n",
    "        subsample_freq = 1,\n",
    "        max_depth = 5,\n",
    "        n_estimators = 2500,\n",
    "        colsample_bytree = 0.5,\n",
    "        subsample = 0.75,\n",
    "        # min_child_samples = ,\n",
    "        # reg_alpha = ,\n",
    "        # reg_lambda = ,\n",
    "        random_state = 123,\n",
    "        n_jobs = 3\n",
    "    ),\n",
    "    params = params,\n",
    "    all_sets = new_sets,\n",
    "    n_jobs = 3,\n",
    "    verbose = True\n",
    ")"
   ]
  },
  {
   "cell_type": "code",
   "execution_count": 15,
   "metadata": {},
   "outputs": [
    {
     "name": "stdout",
     "output_type": "stream",
     "text": [
      "0.33333333333333337\n"
     ]
    }
   ],
   "source": [
    "print(best_colsample_bytree)"
   ]
  },
  {
   "cell_type": "markdown",
   "metadata": {},
   "source": [
    "## Iteration 4: Tune Subsampling Proportion"
   ]
  },
  {
   "cell_type": "code",
   "execution_count": 16,
   "metadata": {},
   "outputs": [
    {
     "name": "stdout",
     "output_type": "stream",
     "text": [
      "Computing test scores for subsample = 0.3...Done!\n",
      "Computing test scores for subsample = 0.4...Done!\n",
      "Computing test scores for subsample = 0.5...Done!\n",
      "Computing test scores for subsample = 0.6...Done!\n",
      "Computing test scores for subsample = 0.7...Done!\n",
      "Computing test scores for subsample = 0.8...Done!\n",
      "Computing test scores for subsample = 0.9...Done!\n",
      "Computing test scores for subsample = 0.99...Done!\n",
      "\n",
      "\n",
      "[ RESULTS ]\n",
      "   Best Score: 0.8296169533372557\n",
      "Optimal Value: 0.99\n"
     ]
    },
    {
     "data": {
      "image/png": "[encoded data removed]",
      "text/plain": [
       "<matplotlib.figure.Figure at 0x1b586983080>"
      ]
     },
     "metadata": {},
     "output_type": "display_data"
    }
   ],
   "source": [
    "# Define parameters\n",
    "param_subsample = [0.3, 0.4, 0.5, 0.6, 0.7, 0.8, 0.9, 0.99]\n",
    "params = {\n",
    "    'subsample': param_subsample\n",
    "}\n",
    "\n",
    "# Grid Search with CV\n",
    "cv_res, best_subsample = kt.score_grid(\n",
    "    estimator = LGBMClassifier(\n",
    "        boosting_type = 'rf',\n",
    "        objective = 'binary',\n",
    "        subsample_freq = 1,\n",
    "        max_depth = 5,\n",
    "        n_estimators = 2500,\n",
    "        colsample_bytree = 1/3,\n",
    "        # subsample = 0.75,\n",
    "        # min_child_samples = ,\n",
    "        # reg_alpha = ,\n",
    "        # reg_lambda = ,\n",
    "        random_state = 123,\n",
    "        n_jobs = 3\n",
    "    ),\n",
    "    params = params,\n",
    "    all_sets = new_sets,\n",
    "    n_jobs = 3,\n",
    "    verbose = True\n",
    ")"
   ]
  },
  {
   "cell_type": "markdown",
   "metadata": {},
   "source": [
    "## Iteration 5: Tune Min. Samples in Leaf"
   ]
  },
  {
   "cell_type": "code",
   "execution_count": 17,
   "metadata": {},
   "outputs": [
    {
     "name": "stdout",
     "output_type": "stream",
     "text": [
      "Computing test scores for min_child_samples = 1...Done!\n",
      "Computing test scores for min_child_samples = 5...Done!\n",
      "Computing test scores for min_child_samples = 10...Done!\n",
      "Computing test scores for min_child_samples = 20...Done!\n",
      "Computing test scores for min_child_samples = 30...Done!\n",
      "Computing test scores for min_child_samples = 40...Done!\n",
      "Computing test scores for min_child_samples = 50...Done!\n",
      "\n",
      "\n",
      "[ RESULTS ]\n",
      "   Best Score: 0.8311912566445624\n",
      "Optimal Value: 1\n"
     ]
    },
    {
     "data": {
      "image/png": "[encoded data removed]",
      "text/plain": [
       "<matplotlib.figure.Figure at 0x1b586c875c0>"
      ]
     },
     "metadata": {},
     "output_type": "display_data"
    }
   ],
   "source": [
    "# Define parameters\n",
    "param_min_leaf = [1,5,10,20,30,40,50]\n",
    "params = {\n",
    "    'min_child_samples': param_min_leaf\n",
    "}\n",
    "\n",
    "# Grid Search with CV\n",
    "cv_res, best_min_leaf = kt.score_grid(\n",
    "    estimator = LGBMClassifier(\n",
    "        boosting_type = 'rf',\n",
    "        objective = 'binary',\n",
    "        subsample_freq = 1,\n",
    "        max_depth = 5,\n",
    "        n_estimators = 2500,\n",
    "        colsample_bytree = 1/3,\n",
    "        subsample = 0.9,\n",
    "        # min_child_samples = ,\n",
    "        # reg_alpha = ,\n",
    "        # reg_lambda = ,\n",
    "        random_state = 123,\n",
    "        n_jobs = 3\n",
    "    ),\n",
    "    params = params,\n",
    "    all_sets = new_sets,\n",
    "    n_jobs = 3,\n",
    "    verbose = True\n",
    ")"
   ]
  },
  {
   "cell_type": "markdown",
   "metadata": {},
   "source": [
    "## Iteration 6: Tune L1 Regularisation (Alpha)"
   ]
  },
  {
   "cell_type": "code",
   "execution_count": 18,
   "metadata": {},
   "outputs": [
    {
     "name": "stdout",
     "output_type": "stream",
     "text": [
      "Computing test scores for reg_alpha = 0...Done!\n",
      "Computing test scores for reg_alpha = 0.1...Done!\n",
      "Computing test scores for reg_alpha = 0.2...Done!\n",
      "Computing test scores for reg_alpha = 0.3...Done!\n",
      "Computing test scores for reg_alpha = 0.4...Done!\n",
      "Computing test scores for reg_alpha = 0.5...Done!\n",
      "Computing test scores for reg_alpha = 0.6...Done!\n",
      "Computing test scores for reg_alpha = 0.7...Done!\n",
      "Computing test scores for reg_alpha = 0.8...Done!\n",
      "Computing test scores for reg_alpha = 0.9...Done!\n",
      "\n",
      "\n",
      "[ RESULTS ]\n",
      "   Best Score: 0.8302847910143568\n",
      "Optimal Value: 0.6\n"
     ]
    },
    {
     "data": {
      "image/png": "[encoded data removed]",
      "text/plain": [
       "<matplotlib.figure.Figure at 0x1b586d80b00>"
      ]
     },
     "metadata": {},
     "output_type": "display_data"
    }
   ],
   "source": [
    "# Define parameters\n",
    "param_alpha = [0, 0.1, 0.2, 0.3, 0.4, 0.5, 0.6, 0.7, 0.8, 0.9]\n",
    "params = {\n",
    "    'reg_alpha': param_alpha\n",
    "}\n",
    "\n",
    "# Grid Search with CV\n",
    "cv_res, best_alpha = kt.score_grid(\n",
    "    estimator = LGBMClassifier(\n",
    "        boosting_type = 'rf',\n",
    "        objective = 'binary',\n",
    "        subsample_freq = 1,\n",
    "        max_depth = 5,\n",
    "        n_estimators = 2500,\n",
    "        colsample_bytree = 1/3,\n",
    "        subsample = 0.9,\n",
    "        min_child_samples = 10,\n",
    "        # reg_alpha = ,\n",
    "        # reg_lambda = ,\n",
    "        random_state = 123,\n",
    "        n_jobs = 3\n",
    "    ),\n",
    "    params = params,\n",
    "    all_sets = new_sets,\n",
    "    n_jobs = 3,\n",
    "    verbose = True\n",
    ")"
   ]
  },
  {
   "cell_type": "markdown",
   "metadata": {},
   "source": [
    "## Iteration 7: Tune L2 Regularisation (Lambda)"
   ]
  },
  {
   "cell_type": "code",
   "execution_count": 19,
   "metadata": {},
   "outputs": [
    {
     "name": "stdout",
     "output_type": "stream",
     "text": [
      "Computing test scores for reg_lambda = 0...Done!\n",
      "Computing test scores for reg_lambda = 0.1...Done!\n",
      "Computing test scores for reg_lambda = 0.2...Done!\n",
      "Computing test scores for reg_lambda = 0.3...Done!\n",
      "Computing test scores for reg_lambda = 0.4...Done!\n",
      "Computing test scores for reg_lambda = 0.5...Done!\n",
      "Computing test scores for reg_lambda = 0.6...Done!\n",
      "Computing test scores for reg_lambda = 0.7...Done!\n",
      "Computing test scores for reg_lambda = 0.8...Done!\n",
      "Computing test scores for reg_lambda = 0.9...Done!\n",
      "\n",
      "\n",
      "[ RESULTS ]\n",
      "   Best Score: 0.8302860464283296\n",
      "Optimal Value: 0.1\n"
     ]
    },
    {
     "data": {
      "image/png": "[encoded data removed]",
      "text/plain": [
       "<matplotlib.figure.Figure at 0x1b586d80748>"
      ]
     },
     "metadata": {},
     "output_type": "display_data"
    }
   ],
   "source": [
    "# Define parameters\n",
    "param_lambda = [0, 0.1, 0.2, 0.3, 0.4, 0.5, 0.6, 0.7, 0.8, 0.9]\n",
    "params = {\n",
    "    'reg_lambda': param_lambda\n",
    "}\n",
    "\n",
    "# Grid Search with CV\n",
    "cv_res, best_lambda = kt.score_grid(\n",
    "    estimator = LGBMClassifier(\n",
    "        boosting_type = 'rf',\n",
    "        objective = 'binary',\n",
    "        subsample_freq = 1,\n",
    "        max_depth = 5,\n",
    "        n_estimators = 2500,\n",
    "        colsample_bytree = 1/3,\n",
    "        subsample = 0.9,\n",
    "        min_child_samples = 10,\n",
    "        reg_alpha = 0.6,\n",
    "        # reg_lambda = ,\n",
    "        random_state = 123,\n",
    "        n_jobs = 3\n",
    "    ),\n",
    "    params = params,\n",
    "    all_sets = new_sets,\n",
    "    n_jobs = 3,\n",
    "    verbose = True\n",
    ")"
   ]
  }
 ],
 "metadata": {
  "kernelspec": {
   "display_name": "Python 3",
   "language": "python",
   "name": "python3"
  },
  "language_info": {
   "codemirror_mode": {
    "name": "ipython",
    "version": 3
   },
   "file_extension": ".py",
   "mimetype": "text/x-python",
   "name": "python",
   "nbconvert_exporter": "python",
   "pygments_lexer": "ipython3",
   "version": "3.6.6"
  }
 },
 "nbformat": 4,
 "nbformat_minor": 2
}
